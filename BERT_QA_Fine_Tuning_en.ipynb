{
  "nbformat": 4,
  "nbformat_minor": 0,
  "metadata": {
    "colab": {
      "provenance": [],
      "gpuType": "T4"
    },
    "kernelspec": {
      "name": "python3",
      "display_name": "Python 3"
    },
    "language_info": {
      "name": "python"
    },
    "accelerator": "GPU",
    "widgets": {
      "application/vnd.jupyter.widget-state+json": {
        "61e6e45d6e2f46f29f6de48b3579877f": {
          "model_module": "@jupyter-widgets/controls",
          "model_name": "VBoxModel",
          "model_module_version": "1.5.0",
          "state": {
            "_dom_classes": [],
            "_model_module": "@jupyter-widgets/controls",
            "_model_module_version": "1.5.0",
            "_model_name": "VBoxModel",
            "_view_count": null,
            "_view_module": "@jupyter-widgets/controls",
            "_view_module_version": "1.5.0",
            "_view_name": "VBoxView",
            "box_style": "",
            "children": [],
            "layout": "IPY_MODEL_d7b8211ab5354670934d9a5f13919dec"
          }
        },
        "280c13b519de4ac2988524142a9161f2": {
          "model_module": "@jupyter-widgets/controls",
          "model_name": "HTMLModel",
          "model_module_version": "1.5.0",
          "state": {
            "_dom_classes": [],
            "_model_module": "@jupyter-widgets/controls",
            "_model_module_version": "1.5.0",
            "_model_name": "HTMLModel",
            "_view_count": null,
            "_view_module": "@jupyter-widgets/controls",
            "_view_module_version": "1.5.0",
            "_view_name": "HTMLView",
            "description": "",
            "description_tooltip": null,
            "layout": "IPY_MODEL_564b19fbc43244e2a5cf0c089ff57073",
            "placeholder": "​",
            "style": "IPY_MODEL_08aa312c7b4449e4aadc3ca40f57beb4",
            "value": "<center> <img\nsrc=https://huggingface.co/front/assets/huggingface_logo-noborder.svg\nalt='Hugging Face'> <br> Copy a token from <a\nhref=\"https://huggingface.co/settings/tokens\" target=\"_blank\">your Hugging Face\ntokens page</a> and paste it below. <br> Immediately click login after copying\nyour token or it might be stored in plain text in this notebook file. </center>"
          }
        },
        "62c0f3b92d854f1f881bc2d7eecfa6c7": {
          "model_module": "@jupyter-widgets/controls",
          "model_name": "PasswordModel",
          "model_module_version": "1.5.0",
          "state": {
            "_dom_classes": [],
            "_model_module": "@jupyter-widgets/controls",
            "_model_module_version": "1.5.0",
            "_model_name": "PasswordModel",
            "_view_count": null,
            "_view_module": "@jupyter-widgets/controls",
            "_view_module_version": "1.5.0",
            "_view_name": "PasswordView",
            "continuous_update": true,
            "description": "Token:",
            "description_tooltip": null,
            "disabled": false,
            "layout": "IPY_MODEL_66491c8b18d745bcad2681d27faa6536",
            "placeholder": "​",
            "style": "IPY_MODEL_be22bb25ce924130b2ce2954e528d07e",
            "value": ""
          }
        },
        "217be34f27034f1d814726c29558c10e": {
          "model_module": "@jupyter-widgets/controls",
          "model_name": "CheckboxModel",
          "model_module_version": "1.5.0",
          "state": {
            "_dom_classes": [],
            "_model_module": "@jupyter-widgets/controls",
            "_model_module_version": "1.5.0",
            "_model_name": "CheckboxModel",
            "_view_count": null,
            "_view_module": "@jupyter-widgets/controls",
            "_view_module_version": "1.5.0",
            "_view_name": "CheckboxView",
            "description": "Add token as git credential?",
            "description_tooltip": null,
            "disabled": false,
            "indent": true,
            "layout": "IPY_MODEL_69fdc0a711b34ca4a97784aab71a48d9",
            "style": "IPY_MODEL_cdb9fa7880e5481ea5d1b80f0d123f15",
            "value": true
          }
        },
        "273ed610712949a2a55e8dc7cd58eb22": {
          "model_module": "@jupyter-widgets/controls",
          "model_name": "ButtonModel",
          "model_module_version": "1.5.0",
          "state": {
            "_dom_classes": [],
            "_model_module": "@jupyter-widgets/controls",
            "_model_module_version": "1.5.0",
            "_model_name": "ButtonModel",
            "_view_count": null,
            "_view_module": "@jupyter-widgets/controls",
            "_view_module_version": "1.5.0",
            "_view_name": "ButtonView",
            "button_style": "",
            "description": "Login",
            "disabled": false,
            "icon": "",
            "layout": "IPY_MODEL_8b86e2d29caf475099825f8acdb9e51a",
            "style": "IPY_MODEL_73f83cca7f784bb283e40b00c6ec698e",
            "tooltip": ""
          }
        },
        "430b2b595e434b11a539166694de4d16": {
          "model_module": "@jupyter-widgets/controls",
          "model_name": "HTMLModel",
          "model_module_version": "1.5.0",
          "state": {
            "_dom_classes": [],
            "_model_module": "@jupyter-widgets/controls",
            "_model_module_version": "1.5.0",
            "_model_name": "HTMLModel",
            "_view_count": null,
            "_view_module": "@jupyter-widgets/controls",
            "_view_module_version": "1.5.0",
            "_view_name": "HTMLView",
            "description": "",
            "description_tooltip": null,
            "layout": "IPY_MODEL_d2c8eb77c89f4ca79f6fd25e6a2023da",
            "placeholder": "​",
            "style": "IPY_MODEL_ba32a950ff3c49909706f777a9ff08d7",
            "value": "\n<b>Pro Tip:</b> If you don't already have one, you can create a dedicated\n'notebooks' token with 'write' access, that you can then easily reuse for all\nnotebooks. </center>"
          }
        },
        "d7b8211ab5354670934d9a5f13919dec": {
          "model_module": "@jupyter-widgets/base",
          "model_name": "LayoutModel",
          "model_module_version": "1.2.0",
          "state": {
            "_model_module": "@jupyter-widgets/base",
            "_model_module_version": "1.2.0",
            "_model_name": "LayoutModel",
            "_view_count": null,
            "_view_module": "@jupyter-widgets/base",
            "_view_module_version": "1.2.0",
            "_view_name": "LayoutView",
            "align_content": null,
            "align_items": "center",
            "align_self": null,
            "border": null,
            "bottom": null,
            "display": "flex",
            "flex": null,
            "flex_flow": "column",
            "grid_area": null,
            "grid_auto_columns": null,
            "grid_auto_flow": null,
            "grid_auto_rows": null,
            "grid_column": null,
            "grid_gap": null,
            "grid_row": null,
            "grid_template_areas": null,
            "grid_template_columns": null,
            "grid_template_rows": null,
            "height": null,
            "justify_content": null,
            "justify_items": null,
            "left": null,
            "margin": null,
            "max_height": null,
            "max_width": null,
            "min_height": null,
            "min_width": null,
            "object_fit": null,
            "object_position": null,
            "order": null,
            "overflow": null,
            "overflow_x": null,
            "overflow_y": null,
            "padding": null,
            "right": null,
            "top": null,
            "visibility": null,
            "width": "50%"
          }
        },
        "564b19fbc43244e2a5cf0c089ff57073": {
          "model_module": "@jupyter-widgets/base",
          "model_name": "LayoutModel",
          "model_module_version": "1.2.0",
          "state": {
            "_model_module": "@jupyter-widgets/base",
            "_model_module_version": "1.2.0",
            "_model_name": "LayoutModel",
            "_view_count": null,
            "_view_module": "@jupyter-widgets/base",
            "_view_module_version": "1.2.0",
            "_view_name": "LayoutView",
            "align_content": null,
            "align_items": null,
            "align_self": null,
            "border": null,
            "bottom": null,
            "display": null,
            "flex": null,
            "flex_flow": null,
            "grid_area": null,
            "grid_auto_columns": null,
            "grid_auto_flow": null,
            "grid_auto_rows": null,
            "grid_column": null,
            "grid_gap": null,
            "grid_row": null,
            "grid_template_areas": null,
            "grid_template_columns": null,
            "grid_template_rows": null,
            "height": null,
            "justify_content": null,
            "justify_items": null,
            "left": null,
            "margin": null,
            "max_height": null,
            "max_width": null,
            "min_height": null,
            "min_width": null,
            "object_fit": null,
            "object_position": null,
            "order": null,
            "overflow": null,
            "overflow_x": null,
            "overflow_y": null,
            "padding": null,
            "right": null,
            "top": null,
            "visibility": null,
            "width": null
          }
        },
        "08aa312c7b4449e4aadc3ca40f57beb4": {
          "model_module": "@jupyter-widgets/controls",
          "model_name": "DescriptionStyleModel",
          "model_module_version": "1.5.0",
          "state": {
            "_model_module": "@jupyter-widgets/controls",
            "_model_module_version": "1.5.0",
            "_model_name": "DescriptionStyleModel",
            "_view_count": null,
            "_view_module": "@jupyter-widgets/base",
            "_view_module_version": "1.2.0",
            "_view_name": "StyleView",
            "description_width": ""
          }
        },
        "66491c8b18d745bcad2681d27faa6536": {
          "model_module": "@jupyter-widgets/base",
          "model_name": "LayoutModel",
          "model_module_version": "1.2.0",
          "state": {
            "_model_module": "@jupyter-widgets/base",
            "_model_module_version": "1.2.0",
            "_model_name": "LayoutModel",
            "_view_count": null,
            "_view_module": "@jupyter-widgets/base",
            "_view_module_version": "1.2.0",
            "_view_name": "LayoutView",
            "align_content": null,
            "align_items": null,
            "align_self": null,
            "border": null,
            "bottom": null,
            "display": null,
            "flex": null,
            "flex_flow": null,
            "grid_area": null,
            "grid_auto_columns": null,
            "grid_auto_flow": null,
            "grid_auto_rows": null,
            "grid_column": null,
            "grid_gap": null,
            "grid_row": null,
            "grid_template_areas": null,
            "grid_template_columns": null,
            "grid_template_rows": null,
            "height": null,
            "justify_content": null,
            "justify_items": null,
            "left": null,
            "margin": null,
            "max_height": null,
            "max_width": null,
            "min_height": null,
            "min_width": null,
            "object_fit": null,
            "object_position": null,
            "order": null,
            "overflow": null,
            "overflow_x": null,
            "overflow_y": null,
            "padding": null,
            "right": null,
            "top": null,
            "visibility": null,
            "width": null
          }
        },
        "be22bb25ce924130b2ce2954e528d07e": {
          "model_module": "@jupyter-widgets/controls",
          "model_name": "DescriptionStyleModel",
          "model_module_version": "1.5.0",
          "state": {
            "_model_module": "@jupyter-widgets/controls",
            "_model_module_version": "1.5.0",
            "_model_name": "DescriptionStyleModel",
            "_view_count": null,
            "_view_module": "@jupyter-widgets/base",
            "_view_module_version": "1.2.0",
            "_view_name": "StyleView",
            "description_width": ""
          }
        },
        "69fdc0a711b34ca4a97784aab71a48d9": {
          "model_module": "@jupyter-widgets/base",
          "model_name": "LayoutModel",
          "model_module_version": "1.2.0",
          "state": {
            "_model_module": "@jupyter-widgets/base",
            "_model_module_version": "1.2.0",
            "_model_name": "LayoutModel",
            "_view_count": null,
            "_view_module": "@jupyter-widgets/base",
            "_view_module_version": "1.2.0",
            "_view_name": "LayoutView",
            "align_content": null,
            "align_items": null,
            "align_self": null,
            "border": null,
            "bottom": null,
            "display": null,
            "flex": null,
            "flex_flow": null,
            "grid_area": null,
            "grid_auto_columns": null,
            "grid_auto_flow": null,
            "grid_auto_rows": null,
            "grid_column": null,
            "grid_gap": null,
            "grid_row": null,
            "grid_template_areas": null,
            "grid_template_columns": null,
            "grid_template_rows": null,
            "height": null,
            "justify_content": null,
            "justify_items": null,
            "left": null,
            "margin": null,
            "max_height": null,
            "max_width": null,
            "min_height": null,
            "min_width": null,
            "object_fit": null,
            "object_position": null,
            "order": null,
            "overflow": null,
            "overflow_x": null,
            "overflow_y": null,
            "padding": null,
            "right": null,
            "top": null,
            "visibility": null,
            "width": null
          }
        },
        "cdb9fa7880e5481ea5d1b80f0d123f15": {
          "model_module": "@jupyter-widgets/controls",
          "model_name": "DescriptionStyleModel",
          "model_module_version": "1.5.0",
          "state": {
            "_model_module": "@jupyter-widgets/controls",
            "_model_module_version": "1.5.0",
            "_model_name": "DescriptionStyleModel",
            "_view_count": null,
            "_view_module": "@jupyter-widgets/base",
            "_view_module_version": "1.2.0",
            "_view_name": "StyleView",
            "description_width": ""
          }
        },
        "8b86e2d29caf475099825f8acdb9e51a": {
          "model_module": "@jupyter-widgets/base",
          "model_name": "LayoutModel",
          "model_module_version": "1.2.0",
          "state": {
            "_model_module": "@jupyter-widgets/base",
            "_model_module_version": "1.2.0",
            "_model_name": "LayoutModel",
            "_view_count": null,
            "_view_module": "@jupyter-widgets/base",
            "_view_module_version": "1.2.0",
            "_view_name": "LayoutView",
            "align_content": null,
            "align_items": null,
            "align_self": null,
            "border": null,
            "bottom": null,
            "display": null,
            "flex": null,
            "flex_flow": null,
            "grid_area": null,
            "grid_auto_columns": null,
            "grid_auto_flow": null,
            "grid_auto_rows": null,
            "grid_column": null,
            "grid_gap": null,
            "grid_row": null,
            "grid_template_areas": null,
            "grid_template_columns": null,
            "grid_template_rows": null,
            "height": null,
            "justify_content": null,
            "justify_items": null,
            "left": null,
            "margin": null,
            "max_height": null,
            "max_width": null,
            "min_height": null,
            "min_width": null,
            "object_fit": null,
            "object_position": null,
            "order": null,
            "overflow": null,
            "overflow_x": null,
            "overflow_y": null,
            "padding": null,
            "right": null,
            "top": null,
            "visibility": null,
            "width": null
          }
        },
        "73f83cca7f784bb283e40b00c6ec698e": {
          "model_module": "@jupyter-widgets/controls",
          "model_name": "ButtonStyleModel",
          "model_module_version": "1.5.0",
          "state": {
            "_model_module": "@jupyter-widgets/controls",
            "_model_module_version": "1.5.0",
            "_model_name": "ButtonStyleModel",
            "_view_count": null,
            "_view_module": "@jupyter-widgets/base",
            "_view_module_version": "1.2.0",
            "_view_name": "StyleView",
            "button_color": null,
            "font_weight": ""
          }
        },
        "d2c8eb77c89f4ca79f6fd25e6a2023da": {
          "model_module": "@jupyter-widgets/base",
          "model_name": "LayoutModel",
          "model_module_version": "1.2.0",
          "state": {
            "_model_module": "@jupyter-widgets/base",
            "_model_module_version": "1.2.0",
            "_model_name": "LayoutModel",
            "_view_count": null,
            "_view_module": "@jupyter-widgets/base",
            "_view_module_version": "1.2.0",
            "_view_name": "LayoutView",
            "align_content": null,
            "align_items": null,
            "align_self": null,
            "border": null,
            "bottom": null,
            "display": null,
            "flex": null,
            "flex_flow": null,
            "grid_area": null,
            "grid_auto_columns": null,
            "grid_auto_flow": null,
            "grid_auto_rows": null,
            "grid_column": null,
            "grid_gap": null,
            "grid_row": null,
            "grid_template_areas": null,
            "grid_template_columns": null,
            "grid_template_rows": null,
            "height": null,
            "justify_content": null,
            "justify_items": null,
            "left": null,
            "margin": null,
            "max_height": null,
            "max_width": null,
            "min_height": null,
            "min_width": null,
            "object_fit": null,
            "object_position": null,
            "order": null,
            "overflow": null,
            "overflow_x": null,
            "overflow_y": null,
            "padding": null,
            "right": null,
            "top": null,
            "visibility": null,
            "width": null
          }
        },
        "ba32a950ff3c49909706f777a9ff08d7": {
          "model_module": "@jupyter-widgets/controls",
          "model_name": "DescriptionStyleModel",
          "model_module_version": "1.5.0",
          "state": {
            "_model_module": "@jupyter-widgets/controls",
            "_model_module_version": "1.5.0",
            "_model_name": "DescriptionStyleModel",
            "_view_count": null,
            "_view_module": "@jupyter-widgets/base",
            "_view_module_version": "1.2.0",
            "_view_name": "StyleView",
            "description_width": ""
          }
        },
        "3ae015725a224b6bb1f9e69f2970fc17": {
          "model_module": "@jupyter-widgets/controls",
          "model_name": "LabelModel",
          "model_module_version": "1.5.0",
          "state": {
            "_dom_classes": [],
            "_model_module": "@jupyter-widgets/controls",
            "_model_module_version": "1.5.0",
            "_model_name": "LabelModel",
            "_view_count": null,
            "_view_module": "@jupyter-widgets/controls",
            "_view_module_version": "1.5.0",
            "_view_name": "LabelView",
            "description": "",
            "description_tooltip": null,
            "layout": "IPY_MODEL_3796d8e6fcce43999d966eb0e6aeb326",
            "placeholder": "​",
            "style": "IPY_MODEL_20dae179fec3449b9c0a2000e3610d1c",
            "value": "Connecting..."
          }
        },
        "3796d8e6fcce43999d966eb0e6aeb326": {
          "model_module": "@jupyter-widgets/base",
          "model_name": "LayoutModel",
          "model_module_version": "1.2.0",
          "state": {
            "_model_module": "@jupyter-widgets/base",
            "_model_module_version": "1.2.0",
            "_model_name": "LayoutModel",
            "_view_count": null,
            "_view_module": "@jupyter-widgets/base",
            "_view_module_version": "1.2.0",
            "_view_name": "LayoutView",
            "align_content": null,
            "align_items": null,
            "align_self": null,
            "border": null,
            "bottom": null,
            "display": null,
            "flex": null,
            "flex_flow": null,
            "grid_area": null,
            "grid_auto_columns": null,
            "grid_auto_flow": null,
            "grid_auto_rows": null,
            "grid_column": null,
            "grid_gap": null,
            "grid_row": null,
            "grid_template_areas": null,
            "grid_template_columns": null,
            "grid_template_rows": null,
            "height": null,
            "justify_content": null,
            "justify_items": null,
            "left": null,
            "margin": null,
            "max_height": null,
            "max_width": null,
            "min_height": null,
            "min_width": null,
            "object_fit": null,
            "object_position": null,
            "order": null,
            "overflow": null,
            "overflow_x": null,
            "overflow_y": null,
            "padding": null,
            "right": null,
            "top": null,
            "visibility": null,
            "width": null
          }
        },
        "20dae179fec3449b9c0a2000e3610d1c": {
          "model_module": "@jupyter-widgets/controls",
          "model_name": "DescriptionStyleModel",
          "model_module_version": "1.5.0",
          "state": {
            "_model_module": "@jupyter-widgets/controls",
            "_model_module_version": "1.5.0",
            "_model_name": "DescriptionStyleModel",
            "_view_count": null,
            "_view_module": "@jupyter-widgets/base",
            "_view_module_version": "1.2.0",
            "_view_name": "StyleView",
            "description_width": ""
          }
        }
      }
    }
  },
  "cells": [
    {
      "cell_type": "markdown",
      "source": [
        "# Q&A with BERT-Finetuned"
      ],
      "metadata": {
        "id": "fhZy9p42zjDd"
      }
    },
    {
      "cell_type": "markdown",
      "source": [
        "We will pre-train the BERT model on the [SQuAD1.0](https://rajpurkar.github.io/SQuAD-explorer/) dataset, consisting of questions asked by crowdworkers on a set of Wikipedia articles.\n",
        "\n",
        "Encoder-only models such as BERT are generally excellent at extracting answers to factoid questions like “Who invented the Transformer architecture?”, but poorly at open-ended questions like “Why is the sky blue?”. In such complex cases, encoder-decoder models such as T5 and BART are typically used to synthesize information"
      ],
      "metadata": {
        "id": "TPKWDGUVz0B5"
      }
    },
    {
      "cell_type": "markdown",
      "source": [
        "## Installing libraries"
      ],
      "metadata": {
        "id": "sB2EejiG09Dd"
      }
    },
    {
      "cell_type": "code",
      "source": [
        "!pip install --upgrade datasets fsspec"
      ],
      "metadata": {
        "colab": {
          "base_uri": "https://localhost:8080/",
          "height": 1000
        },
        "id": "8ryOeBTk36Qz",
        "outputId": "8ca3dbaa-49b8-4c02-92b2-745f9eccac96"
      },
      "execution_count": null,
      "outputs": [
        {
          "output_type": "stream",
          "name": "stdout",
          "text": [
            "Requirement already satisfied: datasets in /usr/local/lib/python3.11/dist-packages (2.14.4)\n",
            "Collecting datasets\n",
            "  Downloading datasets-3.6.0-py3-none-any.whl.metadata (19 kB)\n",
            "Requirement already satisfied: fsspec in /usr/local/lib/python3.11/dist-packages (2025.3.2)\n",
            "Collecting fsspec\n",
            "  Downloading fsspec-2025.5.1-py3-none-any.whl.metadata (11 kB)\n",
            "Requirement already satisfied: filelock in /usr/local/lib/python3.11/dist-packages (from datasets) (3.18.0)\n",
            "Requirement already satisfied: numpy>=1.17 in /usr/local/lib/python3.11/dist-packages (from datasets) (2.0.2)\n",
            "Requirement already satisfied: pyarrow>=15.0.0 in /usr/local/lib/python3.11/dist-packages (from datasets) (18.1.0)\n",
            "Requirement already satisfied: dill<0.3.9,>=0.3.0 in /usr/local/lib/python3.11/dist-packages (from datasets) (0.3.7)\n",
            "Requirement already satisfied: pandas in /usr/local/lib/python3.11/dist-packages (from datasets) (2.2.2)\n",
            "Requirement already satisfied: requests>=2.32.2 in /usr/local/lib/python3.11/dist-packages (from datasets) (2.32.3)\n",
            "Requirement already satisfied: tqdm>=4.66.3 in /usr/local/lib/python3.11/dist-packages (from datasets) (4.67.1)\n",
            "Requirement already satisfied: xxhash in /usr/local/lib/python3.11/dist-packages (from datasets) (3.5.0)\n",
            "Requirement already satisfied: multiprocess<0.70.17 in /usr/local/lib/python3.11/dist-packages (from datasets) (0.70.15)\n",
            "  Downloading fsspec-2025.3.0-py3-none-any.whl.metadata (11 kB)\n",
            "Requirement already satisfied: huggingface-hub>=0.24.0 in /usr/local/lib/python3.11/dist-packages (from datasets) (0.32.4)\n",
            "Requirement already satisfied: packaging in /usr/local/lib/python3.11/dist-packages (from datasets) (24.2)\n",
            "Requirement already satisfied: pyyaml>=5.1 in /usr/local/lib/python3.11/dist-packages (from datasets) (6.0.2)\n",
            "Requirement already satisfied: aiohttp!=4.0.0a0,!=4.0.0a1 in /usr/local/lib/python3.11/dist-packages (from fsspec[http]<=2025.3.0,>=2023.1.0->datasets) (3.11.15)\n",
            "Requirement already satisfied: typing-extensions>=3.7.4.3 in /usr/local/lib/python3.11/dist-packages (from huggingface-hub>=0.24.0->datasets) (4.14.0)\n",
            "Requirement already satisfied: hf-xet<2.0.0,>=1.1.2 in /usr/local/lib/python3.11/dist-packages (from huggingface-hub>=0.24.0->datasets) (1.1.2)\n",
            "Requirement already satisfied: charset-normalizer<4,>=2 in /usr/local/lib/python3.11/dist-packages (from requests>=2.32.2->datasets) (3.4.2)\n",
            "Requirement already satisfied: idna<4,>=2.5 in /usr/local/lib/python3.11/dist-packages (from requests>=2.32.2->datasets) (3.10)\n",
            "Requirement already satisfied: urllib3<3,>=1.21.1 in /usr/local/lib/python3.11/dist-packages (from requests>=2.32.2->datasets) (2.4.0)\n",
            "Requirement already satisfied: certifi>=2017.4.17 in /usr/local/lib/python3.11/dist-packages (from requests>=2.32.2->datasets) (2025.4.26)\n",
            "Requirement already satisfied: python-dateutil>=2.8.2 in /usr/local/lib/python3.11/dist-packages (from pandas->datasets) (2.9.0.post0)\n",
            "Requirement already satisfied: pytz>=2020.1 in /usr/local/lib/python3.11/dist-packages (from pandas->datasets) (2025.2)\n",
            "Requirement already satisfied: tzdata>=2022.7 in /usr/local/lib/python3.11/dist-packages (from pandas->datasets) (2025.2)\n",
            "Requirement already satisfied: aiohappyeyeballs>=2.3.0 in /usr/local/lib/python3.11/dist-packages (from aiohttp!=4.0.0a0,!=4.0.0a1->fsspec[http]<=2025.3.0,>=2023.1.0->datasets) (2.6.1)\n",
            "Requirement already satisfied: aiosignal>=1.1.2 in /usr/local/lib/python3.11/dist-packages (from aiohttp!=4.0.0a0,!=4.0.0a1->fsspec[http]<=2025.3.0,>=2023.1.0->datasets) (1.3.2)\n",
            "Requirement already satisfied: attrs>=17.3.0 in /usr/local/lib/python3.11/dist-packages (from aiohttp!=4.0.0a0,!=4.0.0a1->fsspec[http]<=2025.3.0,>=2023.1.0->datasets) (25.3.0)\n",
            "Requirement already satisfied: frozenlist>=1.1.1 in /usr/local/lib/python3.11/dist-packages (from aiohttp!=4.0.0a0,!=4.0.0a1->fsspec[http]<=2025.3.0,>=2023.1.0->datasets) (1.6.0)\n",
            "Requirement already satisfied: multidict<7.0,>=4.5 in /usr/local/lib/python3.11/dist-packages (from aiohttp!=4.0.0a0,!=4.0.0a1->fsspec[http]<=2025.3.0,>=2023.1.0->datasets) (6.4.4)\n",
            "Requirement already satisfied: propcache>=0.2.0 in /usr/local/lib/python3.11/dist-packages (from aiohttp!=4.0.0a0,!=4.0.0a1->fsspec[http]<=2025.3.0,>=2023.1.0->datasets) (0.3.1)\n",
            "Requirement already satisfied: yarl<2.0,>=1.17.0 in /usr/local/lib/python3.11/dist-packages (from aiohttp!=4.0.0a0,!=4.0.0a1->fsspec[http]<=2025.3.0,>=2023.1.0->datasets) (1.20.0)\n",
            "Requirement already satisfied: six>=1.5 in /usr/local/lib/python3.11/dist-packages (from python-dateutil>=2.8.2->pandas->datasets) (1.17.0)\n",
            "Downloading datasets-3.6.0-py3-none-any.whl (491 kB)\n",
            "\u001b[2K   \u001b[90m━━━━━━━━━━━━━━━━━━━━━━━━━━━━━━━━━━━━━━━━\u001b[0m \u001b[32m491.5/491.5 kB\u001b[0m \u001b[31m20.0 MB/s\u001b[0m eta \u001b[36m0:00:00\u001b[0m\n",
            "\u001b[?25hDownloading fsspec-2025.3.0-py3-none-any.whl (193 kB)\n",
            "\u001b[2K   \u001b[90m━━━━━━━━━━━━━━━━━━━━━━━━━━━━━━━━━━━━━━━━\u001b[0m \u001b[32m193.6/193.6 kB\u001b[0m \u001b[31m17.4 MB/s\u001b[0m eta \u001b[36m0:00:00\u001b[0m\n",
            "\u001b[?25hInstalling collected packages: fsspec, datasets\n",
            "  Attempting uninstall: fsspec\n",
            "    Found existing installation: fsspec 2025.3.2\n",
            "    Uninstalling fsspec-2025.3.2:\n",
            "      Successfully uninstalled fsspec-2025.3.2\n",
            "  Attempting uninstall: datasets\n",
            "    Found existing installation: datasets 2.14.4\n",
            "    Uninstalling datasets-2.14.4:\n",
            "      Successfully uninstalled datasets-2.14.4\n",
            "\u001b[31mERROR: pip's dependency resolver does not currently take into account all the packages that are installed. This behaviour is the source of the following dependency conflicts.\n",
            "gcsfs 2025.3.2 requires fsspec==2025.3.2, but you have fsspec 2025.3.0 which is incompatible.\u001b[0m\u001b[31m\n",
            "\u001b[0mSuccessfully installed datasets-3.6.0 fsspec-2025.3.0\n"
          ]
        },
        {
          "output_type": "display_data",
          "data": {
            "application/vnd.colab-display-data+json": {
              "pip_warning": {
                "packages": [
                  "datasets"
                ]
              },
              "id": "1d23d8ef19b14b8ab2dec71847c00513"
            }
          },
          "metadata": {}
        }
      ]
    },
    {
      "cell_type": "code",
      "source": [
        "!pip install datasets evaluate transformers[sentencepiece]\n",
        "!pip install accelerate\n",
        "# To run the training on TPU, you will need to uncomment the following line:\n",
        "# !pip install cloud-tpu-client==0.10 torch==1.9.0 https://storage.googleapis.com/tpu-pytorch/wheels/torch_xla-1.9-cp37-cp37m-linux_x86_64.whl\n",
        "!apt install git-lfs"
      ],
      "metadata": {
        "colab": {
          "base_uri": "https://localhost:8080/"
        },
        "id": "026T71Vf07U2",
        "outputId": "0504a6c5-e752-46fe-915d-3d9b02acfbb4"
      },
      "execution_count": null,
      "outputs": [
        {
          "output_type": "stream",
          "name": "stdout",
          "text": [
            "Requirement already satisfied: datasets in /usr/local/lib/python3.11/dist-packages (3.6.0)\n",
            "Requirement already satisfied: evaluate in /usr/local/lib/python3.11/dist-packages (0.4.3)\n",
            "Requirement already satisfied: transformers[sentencepiece] in /usr/local/lib/python3.11/dist-packages (4.52.4)\n",
            "Requirement already satisfied: filelock in /usr/local/lib/python3.11/dist-packages (from datasets) (3.18.0)\n",
            "Requirement already satisfied: numpy>=1.17 in /usr/local/lib/python3.11/dist-packages (from datasets) (2.0.2)\n",
            "Requirement already satisfied: pyarrow>=15.0.0 in /usr/local/lib/python3.11/dist-packages (from datasets) (18.1.0)\n",
            "Requirement already satisfied: dill<0.3.9,>=0.3.0 in /usr/local/lib/python3.11/dist-packages (from datasets) (0.3.7)\n",
            "Requirement already satisfied: pandas in /usr/local/lib/python3.11/dist-packages (from datasets) (2.2.2)\n",
            "Requirement already satisfied: requests>=2.32.2 in /usr/local/lib/python3.11/dist-packages (from datasets) (2.32.3)\n",
            "Requirement already satisfied: tqdm>=4.66.3 in /usr/local/lib/python3.11/dist-packages (from datasets) (4.67.1)\n",
            "Requirement already satisfied: xxhash in /usr/local/lib/python3.11/dist-packages (from datasets) (3.5.0)\n",
            "Requirement already satisfied: multiprocess<0.70.17 in /usr/local/lib/python3.11/dist-packages (from datasets) (0.70.15)\n",
            "Requirement already satisfied: fsspec<=2025.3.0,>=2023.1.0 in /usr/local/lib/python3.11/dist-packages (from fsspec[http]<=2025.3.0,>=2023.1.0->datasets) (2025.3.0)\n",
            "Requirement already satisfied: huggingface-hub>=0.24.0 in /usr/local/lib/python3.11/dist-packages (from datasets) (0.32.4)\n",
            "Requirement already satisfied: packaging in /usr/local/lib/python3.11/dist-packages (from datasets) (24.2)\n",
            "Requirement already satisfied: pyyaml>=5.1 in /usr/local/lib/python3.11/dist-packages (from datasets) (6.0.2)\n",
            "Requirement already satisfied: regex!=2019.12.17 in /usr/local/lib/python3.11/dist-packages (from transformers[sentencepiece]) (2024.11.6)\n",
            "Requirement already satisfied: tokenizers<0.22,>=0.21 in /usr/local/lib/python3.11/dist-packages (from transformers[sentencepiece]) (0.21.1)\n",
            "Requirement already satisfied: safetensors>=0.4.3 in /usr/local/lib/python3.11/dist-packages (from transformers[sentencepiece]) (0.5.3)\n",
            "Requirement already satisfied: sentencepiece!=0.1.92,>=0.1.91 in /usr/local/lib/python3.11/dist-packages (from transformers[sentencepiece]) (0.2.0)\n",
            "Requirement already satisfied: protobuf in /usr/local/lib/python3.11/dist-packages (from transformers[sentencepiece]) (5.29.5)\n",
            "Requirement already satisfied: aiohttp!=4.0.0a0,!=4.0.0a1 in /usr/local/lib/python3.11/dist-packages (from fsspec[http]<=2025.3.0,>=2023.1.0->datasets) (3.11.15)\n",
            "Requirement already satisfied: typing-extensions>=3.7.4.3 in /usr/local/lib/python3.11/dist-packages (from huggingface-hub>=0.24.0->datasets) (4.14.0)\n",
            "Requirement already satisfied: hf-xet<2.0.0,>=1.1.2 in /usr/local/lib/python3.11/dist-packages (from huggingface-hub>=0.24.0->datasets) (1.1.2)\n",
            "Requirement already satisfied: charset-normalizer<4,>=2 in /usr/local/lib/python3.11/dist-packages (from requests>=2.32.2->datasets) (3.4.2)\n",
            "Requirement already satisfied: idna<4,>=2.5 in /usr/local/lib/python3.11/dist-packages (from requests>=2.32.2->datasets) (3.10)\n",
            "Requirement already satisfied: urllib3<3,>=1.21.1 in /usr/local/lib/python3.11/dist-packages (from requests>=2.32.2->datasets) (2.4.0)\n",
            "Requirement already satisfied: certifi>=2017.4.17 in /usr/local/lib/python3.11/dist-packages (from requests>=2.32.2->datasets) (2025.4.26)\n",
            "Requirement already satisfied: python-dateutil>=2.8.2 in /usr/local/lib/python3.11/dist-packages (from pandas->datasets) (2.9.0.post0)\n",
            "Requirement already satisfied: pytz>=2020.1 in /usr/local/lib/python3.11/dist-packages (from pandas->datasets) (2025.2)\n",
            "Requirement already satisfied: tzdata>=2022.7 in /usr/local/lib/python3.11/dist-packages (from pandas->datasets) (2025.2)\n",
            "Requirement already satisfied: aiohappyeyeballs>=2.3.0 in /usr/local/lib/python3.11/dist-packages (from aiohttp!=4.0.0a0,!=4.0.0a1->fsspec[http]<=2025.3.0,>=2023.1.0->datasets) (2.6.1)\n",
            "Requirement already satisfied: aiosignal>=1.1.2 in /usr/local/lib/python3.11/dist-packages (from aiohttp!=4.0.0a0,!=4.0.0a1->fsspec[http]<=2025.3.0,>=2023.1.0->datasets) (1.3.2)\n",
            "Requirement already satisfied: attrs>=17.3.0 in /usr/local/lib/python3.11/dist-packages (from aiohttp!=4.0.0a0,!=4.0.0a1->fsspec[http]<=2025.3.0,>=2023.1.0->datasets) (25.3.0)\n",
            "Requirement already satisfied: frozenlist>=1.1.1 in /usr/local/lib/python3.11/dist-packages (from aiohttp!=4.0.0a0,!=4.0.0a1->fsspec[http]<=2025.3.0,>=2023.1.0->datasets) (1.6.0)\n",
            "Requirement already satisfied: multidict<7.0,>=4.5 in /usr/local/lib/python3.11/dist-packages (from aiohttp!=4.0.0a0,!=4.0.0a1->fsspec[http]<=2025.3.0,>=2023.1.0->datasets) (6.4.4)\n",
            "Requirement already satisfied: propcache>=0.2.0 in /usr/local/lib/python3.11/dist-packages (from aiohttp!=4.0.0a0,!=4.0.0a1->fsspec[http]<=2025.3.0,>=2023.1.0->datasets) (0.3.1)\n",
            "Requirement already satisfied: yarl<2.0,>=1.17.0 in /usr/local/lib/python3.11/dist-packages (from aiohttp!=4.0.0a0,!=4.0.0a1->fsspec[http]<=2025.3.0,>=2023.1.0->datasets) (1.20.0)\n",
            "Requirement already satisfied: six>=1.5 in /usr/local/lib/python3.11/dist-packages (from python-dateutil>=2.8.2->pandas->datasets) (1.17.0)\n",
            "Requirement already satisfied: accelerate in /usr/local/lib/python3.11/dist-packages (1.7.0)\n",
            "Requirement already satisfied: numpy<3.0.0,>=1.17 in /usr/local/lib/python3.11/dist-packages (from accelerate) (2.0.2)\n",
            "Requirement already satisfied: packaging>=20.0 in /usr/local/lib/python3.11/dist-packages (from accelerate) (24.2)\n",
            "Requirement already satisfied: psutil in /usr/local/lib/python3.11/dist-packages (from accelerate) (5.9.5)\n",
            "Requirement already satisfied: pyyaml in /usr/local/lib/python3.11/dist-packages (from accelerate) (6.0.2)\n",
            "Requirement already satisfied: torch>=2.0.0 in /usr/local/lib/python3.11/dist-packages (from accelerate) (2.6.0+cu124)\n",
            "Requirement already satisfied: huggingface-hub>=0.21.0 in /usr/local/lib/python3.11/dist-packages (from accelerate) (0.32.4)\n",
            "Requirement already satisfied: safetensors>=0.4.3 in /usr/local/lib/python3.11/dist-packages (from accelerate) (0.5.3)\n",
            "Requirement already satisfied: filelock in /usr/local/lib/python3.11/dist-packages (from huggingface-hub>=0.21.0->accelerate) (3.18.0)\n",
            "Requirement already satisfied: fsspec>=2023.5.0 in /usr/local/lib/python3.11/dist-packages (from huggingface-hub>=0.21.0->accelerate) (2025.3.0)\n",
            "Requirement already satisfied: requests in /usr/local/lib/python3.11/dist-packages (from huggingface-hub>=0.21.0->accelerate) (2.32.3)\n",
            "Requirement already satisfied: tqdm>=4.42.1 in /usr/local/lib/python3.11/dist-packages (from huggingface-hub>=0.21.0->accelerate) (4.67.1)\n",
            "Requirement already satisfied: typing-extensions>=3.7.4.3 in /usr/local/lib/python3.11/dist-packages (from huggingface-hub>=0.21.0->accelerate) (4.14.0)\n",
            "Requirement already satisfied: hf-xet<2.0.0,>=1.1.2 in /usr/local/lib/python3.11/dist-packages (from huggingface-hub>=0.21.0->accelerate) (1.1.2)\n",
            "Requirement already satisfied: networkx in /usr/local/lib/python3.11/dist-packages (from torch>=2.0.0->accelerate) (3.5)\n",
            "Requirement already satisfied: jinja2 in /usr/local/lib/python3.11/dist-packages (from torch>=2.0.0->accelerate) (3.1.6)\n",
            "Requirement already satisfied: nvidia-cuda-nvrtc-cu12==12.4.127 in /usr/local/lib/python3.11/dist-packages (from torch>=2.0.0->accelerate) (12.4.127)\n",
            "Requirement already satisfied: nvidia-cuda-runtime-cu12==12.4.127 in /usr/local/lib/python3.11/dist-packages (from torch>=2.0.0->accelerate) (12.4.127)\n",
            "Requirement already satisfied: nvidia-cuda-cupti-cu12==12.4.127 in /usr/local/lib/python3.11/dist-packages (from torch>=2.0.0->accelerate) (12.4.127)\n",
            "Requirement already satisfied: nvidia-cudnn-cu12==9.1.0.70 in /usr/local/lib/python3.11/dist-packages (from torch>=2.0.0->accelerate) (9.1.0.70)\n",
            "Requirement already satisfied: nvidia-cublas-cu12==12.4.5.8 in /usr/local/lib/python3.11/dist-packages (from torch>=2.0.0->accelerate) (12.4.5.8)\n",
            "Requirement already satisfied: nvidia-cufft-cu12==11.2.1.3 in /usr/local/lib/python3.11/dist-packages (from torch>=2.0.0->accelerate) (11.2.1.3)\n",
            "Requirement already satisfied: nvidia-curand-cu12==10.3.5.147 in /usr/local/lib/python3.11/dist-packages (from torch>=2.0.0->accelerate) (10.3.5.147)\n",
            "Requirement already satisfied: nvidia-cusolver-cu12==11.6.1.9 in /usr/local/lib/python3.11/dist-packages (from torch>=2.0.0->accelerate) (11.6.1.9)\n",
            "Requirement already satisfied: nvidia-cusparse-cu12==12.3.1.170 in /usr/local/lib/python3.11/dist-packages (from torch>=2.0.0->accelerate) (12.3.1.170)\n",
            "Requirement already satisfied: nvidia-cusparselt-cu12==0.6.2 in /usr/local/lib/python3.11/dist-packages (from torch>=2.0.0->accelerate) (0.6.2)\n",
            "Requirement already satisfied: nvidia-nccl-cu12==2.21.5 in /usr/local/lib/python3.11/dist-packages (from torch>=2.0.0->accelerate) (2.21.5)\n",
            "Requirement already satisfied: nvidia-nvtx-cu12==12.4.127 in /usr/local/lib/python3.11/dist-packages (from torch>=2.0.0->accelerate) (12.4.127)\n",
            "Requirement already satisfied: nvidia-nvjitlink-cu12==12.4.127 in /usr/local/lib/python3.11/dist-packages (from torch>=2.0.0->accelerate) (12.4.127)\n",
            "Requirement already satisfied: triton==3.2.0 in /usr/local/lib/python3.11/dist-packages (from torch>=2.0.0->accelerate) (3.2.0)\n",
            "Requirement already satisfied: sympy==1.13.1 in /usr/local/lib/python3.11/dist-packages (from torch>=2.0.0->accelerate) (1.13.1)\n",
            "Requirement already satisfied: mpmath<1.4,>=1.1.0 in /usr/local/lib/python3.11/dist-packages (from sympy==1.13.1->torch>=2.0.0->accelerate) (1.3.0)\n",
            "Requirement already satisfied: MarkupSafe>=2.0 in /usr/local/lib/python3.11/dist-packages (from jinja2->torch>=2.0.0->accelerate) (3.0.2)\n",
            "Requirement already satisfied: charset-normalizer<4,>=2 in /usr/local/lib/python3.11/dist-packages (from requests->huggingface-hub>=0.21.0->accelerate) (3.4.2)\n",
            "Requirement already satisfied: idna<4,>=2.5 in /usr/local/lib/python3.11/dist-packages (from requests->huggingface-hub>=0.21.0->accelerate) (3.10)\n",
            "Requirement already satisfied: urllib3<3,>=1.21.1 in /usr/local/lib/python3.11/dist-packages (from requests->huggingface-hub>=0.21.0->accelerate) (2.4.0)\n",
            "Requirement already satisfied: certifi>=2017.4.17 in /usr/local/lib/python3.11/dist-packages (from requests->huggingface-hub>=0.21.0->accelerate) (2025.4.26)\n",
            "Reading package lists... Done\n",
            "Building dependency tree... Done\n",
            "Reading state information... Done\n",
            "git-lfs is already the newest version (3.0.2-1ubuntu0.3).\n",
            "0 upgraded, 0 newly installed, 0 to remove and 35 not upgraded.\n"
          ]
        }
      ]
    },
    {
      "cell_type": "code",
      "source": [
        "!git config --global user.email \"nesterenkoms2001@gmail.com\"\n",
        "!git config --global user.name \"MaksimNS01\""
      ],
      "metadata": {
        "id": "OdMIx85_SEU2"
      },
      "execution_count": null,
      "outputs": []
    },
    {
      "cell_type": "markdown",
      "source": [
        "## Import libraries and modules"
      ],
      "metadata": {
        "id": "tSkh5DBP0cNN"
      }
    },
    {
      "cell_type": "code",
      "source": [
        "from datasets import load_dataset\n",
        "from huggingface_hub import notebook_login\n",
        "from transformers import AutoTokenizer\n",
        "import torch\n",
        "from transformers import AutoModelForQuestionAnswering\n",
        "import collections\n",
        "import tensorflow as tf\n",
        "from transformers import TFAutoModelForQuestionAnswering\n",
        "import numpy as np\n",
        "import evaluate\n",
        "from tqdm.auto import tqdm\n",
        "from transformers import TrainingArguments\n",
        "from transformers import Trainer\n",
        "from accelerate import Accelerator\n",
        "from torch.utils.data import DataLoader\n",
        "from transformers import default_data_collator\n",
        "from torch.optim import AdamW\n",
        "from transformers import get_scheduler\n",
        "from huggingface_hub import Repository, get_full_repo_name\n",
        "from transformers import pipeline"
      ],
      "metadata": {
        "id": "JLr29Sga0geh"
      },
      "execution_count": null,
      "outputs": []
    },
    {
      "cell_type": "markdown",
      "source": [
        "## Authorization in HuggingFace"
      ],
      "metadata": {
        "id": "BNH6cga_6IrI"
      }
    },
    {
      "cell_type": "code",
      "source": [
        "notebook_login()"
      ],
      "metadata": {
        "colab": {
          "base_uri": "https://localhost:8080/",
          "height": 17,
          "referenced_widgets": [
            "61e6e45d6e2f46f29f6de48b3579877f",
            "280c13b519de4ac2988524142a9161f2",
            "62c0f3b92d854f1f881bc2d7eecfa6c7",
            "217be34f27034f1d814726c29558c10e",
            "273ed610712949a2a55e8dc7cd58eb22",
            "430b2b595e434b11a539166694de4d16",
            "d7b8211ab5354670934d9a5f13919dec",
            "564b19fbc43244e2a5cf0c089ff57073",
            "08aa312c7b4449e4aadc3ca40f57beb4",
            "66491c8b18d745bcad2681d27faa6536",
            "be22bb25ce924130b2ce2954e528d07e",
            "69fdc0a711b34ca4a97784aab71a48d9",
            "cdb9fa7880e5481ea5d1b80f0d123f15",
            "8b86e2d29caf475099825f8acdb9e51a",
            "73f83cca7f784bb283e40b00c6ec698e",
            "d2c8eb77c89f4ca79f6fd25e6a2023da",
            "ba32a950ff3c49909706f777a9ff08d7",
            "3ae015725a224b6bb1f9e69f2970fc17",
            "3796d8e6fcce43999d966eb0e6aeb326",
            "20dae179fec3449b9c0a2000e3610d1c"
          ]
        },
        "id": "wIjrXrFj1GoX",
        "outputId": "12bcaa10-e051-4ccd-bb08-ed0e2e1068e9"
      },
      "execution_count": null,
      "outputs": [
        {
          "output_type": "display_data",
          "data": {
            "text/plain": [
              "VBox(children=(HTML(value='<center> <img\\nsrc=https://huggingface.co/front/assets/huggingface_logo-noborder.sv…"
            ],
            "application/vnd.jupyter.widget-view+json": {
              "version_major": 2,
              "version_minor": 0,
              "model_id": "61e6e45d6e2f46f29f6de48b3579877f"
            }
          },
          "metadata": {}
        }
      ]
    },
    {
      "cell_type": "markdown",
      "source": [
        "## Loading and analyzing the SQuAD dataset"
      ],
      "metadata": {
        "id": "WP959Dx20MFe"
      }
    },
    {
      "cell_type": "code",
      "source": [
        "raw_datasets = load_dataset(\"squad\")"
      ],
      "metadata": {
        "id": "KH7twCx4dJfk"
      },
      "execution_count": null,
      "outputs": []
    },
    {
      "cell_type": "code",
      "execution_count": null,
      "metadata": {
        "colab": {
          "base_uri": "https://localhost:8080/"
        },
        "id": "QdnTJbHwyNVb",
        "outputId": "c7983c93-c8fc-416b-e080-5d8d5c5f3047"
      },
      "outputs": [
        {
          "output_type": "execute_result",
          "data": {
            "text/plain": [
              "DatasetDict({\n",
              "    train: Dataset({\n",
              "        features: ['id', 'title', 'context', 'question', 'answers'],\n",
              "        num_rows: 87599\n",
              "    })\n",
              "    validation: Dataset({\n",
              "        features: ['id', 'title', 'context', 'question', 'answers'],\n",
              "        num_rows: 10570\n",
              "    })\n",
              "})"
            ]
          },
          "metadata": {},
          "execution_count": 8
        }
      ],
      "source": [
        "raw_datasets"
      ]
    },
    {
      "cell_type": "markdown",
      "source": [
        "It looks like we have everything we need in the context, question, and answers fields, so let's output them for the first element of our training set:"
      ],
      "metadata": {
        "id": "iLWEh6s30ny5"
      }
    },
    {
      "cell_type": "code",
      "source": [
        "print(\"Context: \", raw_datasets[\"train\"][0][\"context\"])\n",
        "print(\"Question: \", raw_datasets[\"train\"][0][\"question\"])\n",
        "print(\"Answer: \", raw_datasets[\"train\"][0][\"answers\"])"
      ],
      "metadata": {
        "colab": {
          "base_uri": "https://localhost:8080/"
        },
        "id": "AAJMHmdF0oMF",
        "outputId": "77768fa1-7a42-42a0-9d9f-d1eb903fa65f"
      },
      "execution_count": null,
      "outputs": [
        {
          "output_type": "stream",
          "name": "stdout",
          "text": [
            "Context:  Architecturally, the school has a Catholic character. Atop the Main Building's gold dome is a golden statue of the Virgin Mary. Immediately in front of the Main Building and facing it, is a copper statue of Christ with arms upraised with the legend \"Venite Ad Me Omnes\". Next to the Main Building is the Basilica of the Sacred Heart. Immediately behind the basilica is the Grotto, a Marian place of prayer and reflection. It is a replica of the grotto at Lourdes, France where the Virgin Mary reputedly appeared to Saint Bernadette Soubirous in 1858. At the end of the main drive (and in a direct line that connects through 3 statues and the Gold Dome), is a simple, modern stone statue of Mary.\n",
            "Question:  To whom did the Virgin Mary allegedly appear in 1858 in Lourdes France?\n",
            "Answer:  {'text': ['Saint Bernadette Soubirous'], 'answer_start': [515]}\n"
          ]
        }
      ]
    },
    {
      "cell_type": "markdown",
      "source": [
        "The context and question fields are very easy to use. The answers field is a bit more complicated because it is a dictionary with two fields that are both lists. This is the format that the squad metric will expect when evaluating. The text field is fairly obvious, and the answer_start field contains the index of the starting character of each answer in the context.\n",
        "\n",
        "During training, there is only one possible answer. We can double-check this using the Dataset.filter() method:"
      ],
      "metadata": {
        "id": "7UCwId3F1Xhd"
      }
    },
    {
      "cell_type": "code",
      "source": [
        "raw_datasets[\"train\"].filter(lambda x: len(x[\"answers\"][\"text\"]) != 1)"
      ],
      "metadata": {
        "id": "RIp7mmD4dKkP"
      },
      "execution_count": null,
      "outputs": []
    },
    {
      "cell_type": "markdown",
      "source": [
        "For evaluation, however, there are several possible answers for each example, which may be the same or different:"
      ],
      "metadata": {
        "id": "UrYWhIvK1ht5"
      }
    },
    {
      "cell_type": "code",
      "source": [
        "print(raw_datasets[\"validation\"][0][\"answers\"])\n",
        "print(raw_datasets[\"validation\"][2][\"answers\"])"
      ],
      "metadata": {
        "colab": {
          "base_uri": "https://localhost:8080/"
        },
        "id": "_t7TMGpB1jNW",
        "outputId": "e56ba097-0430-4b75-d4e0-5b541e4c8c7d"
      },
      "execution_count": null,
      "outputs": [
        {
          "output_type": "stream",
          "name": "stdout",
          "text": [
            "{'text': ['Denver Broncos', 'Denver Broncos', 'Denver Broncos'], 'answer_start': [177, 177, 177]}\n",
            "{'text': ['Santa Clara, California', \"Levi's Stadium\", \"Levi's Stadium in the San Francisco Bay Area at Santa Clara, California.\"], 'answer_start': [403, 355, 355]}\n"
          ]
        }
      ]
    },
    {
      "cell_type": "markdown",
      "source": [
        " The idea is that some questions have multiple possible answers, and this script will compare the predicted answer with all the valid answers and choose the best result. If we look, for example, at a sample with an index of 2:"
      ],
      "metadata": {
        "id": "gLW1OnQN1obV"
      }
    },
    {
      "cell_type": "code",
      "source": [
        "print(raw_datasets[\"validation\"][2][\"context\"])\n",
        "print(raw_datasets[\"validation\"][2][\"question\"])"
      ],
      "metadata": {
        "colab": {
          "base_uri": "https://localhost:8080/"
        },
        "id": "DLuSmciw1ptp",
        "outputId": "056758e8-3fa0-47cb-924f-4cefa7134b43"
      },
      "execution_count": null,
      "outputs": [
        {
          "output_type": "stream",
          "name": "stdout",
          "text": [
            "Super Bowl 50 was an American football game to determine the champion of the National Football League (NFL) for the 2015 season. The American Football Conference (AFC) champion Denver Broncos defeated the National Football Conference (NFC) champion Carolina Panthers 24–10 to earn their third Super Bowl title. The game was played on February 7, 2016, at Levi's Stadium in the San Francisco Bay Area at Santa Clara, California. As this was the 50th Super Bowl, the league emphasized the \"golden anniversary\" with various gold-themed initiatives, as well as temporarily suspending the tradition of naming each Super Bowl game with Roman numerals (under which the game would have been known as \"Super Bowl L\"), so that the logo could prominently feature the Arabic numerals 50.\n",
            "Where did Super Bowl 50 take place?\n"
          ]
        }
      ]
    },
    {
      "cell_type": "markdown",
      "source": [
        "The answer may indeed be one of the three possible options we saw earlier."
      ],
      "metadata": {
        "id": "boQ_BjUD1tAl"
      }
    },
    {
      "cell_type": "markdown",
      "source": [
        "## Preparing training data"
      ],
      "metadata": {
        "id": "nDSS98zb1u5y"
      }
    },
    {
      "cell_type": "markdown",
      "source": [
        "First, we need to convert the text in the input data into identifiers that the model can understand using the tokenizer:"
      ],
      "metadata": {
        "id": "iu_NZliy12gx"
      }
    },
    {
      "cell_type": "code",
      "source": [
        "model_checkpoint = \"bert-base-cased\"\n",
        "tokenizer = AutoTokenizer.from_pretrained(model_checkpoint)"
      ],
      "metadata": {
        "id": "mqfm_CmVdLmN"
      },
      "execution_count": null,
      "outputs": []
    },
    {
      "cell_type": "markdown",
      "source": [
        "To check that the tokenizer object being used is actually supported, its is_fast attribute is used:"
      ],
      "metadata": {
        "id": "xNjkfEaD1_gV"
      }
    },
    {
      "cell_type": "code",
      "source": [
        "tokenizer.is_fast"
      ],
      "metadata": {
        "colab": {
          "base_uri": "https://localhost:8080/"
        },
        "id": "XzaasCOL1_Ep",
        "outputId": "cdb45c2b-27c7-4ae1-f616-24ee3e5e0987"
      },
      "execution_count": null,
      "outputs": [
        {
          "output_type": "execute_result",
          "data": {
            "text/plain": [
              "True"
            ]
          },
          "metadata": {},
          "execution_count": 14
        }
      ]
    },
    {
      "cell_type": "markdown",
      "source": [
        "We can pass our tokenizer the question and context together, and it will correctly insert special tokens to form a sentence like this one:"
      ],
      "metadata": {
        "id": "cD6dT6SK2G8a"
      }
    },
    {
      "cell_type": "code",
      "source": [
        "context = raw_datasets[\"train\"][0][\"context\"]\n",
        "question = raw_datasets[\"train\"][0][\"question\"]\n",
        "\n",
        "inputs = tokenizer(question, context)\n",
        "tokenizer.decode(inputs[\"input_ids\"])"
      ],
      "metadata": {
        "colab": {
          "base_uri": "https://localhost:8080/",
          "height": 105
        },
        "id": "ORw-ragU2GZ1",
        "outputId": "d7e28693-3a35-45c9-e13c-9a1c33ab7d8f"
      },
      "execution_count": null,
      "outputs": [
        {
          "output_type": "execute_result",
          "data": {
            "text/plain": [
              "'[CLS] To whom did the Virgin Mary allegedly appear in 1858 in Lourdes France? [SEP] Architecturally, the school has a Catholic character. Atop the Main Building \\' s gold dome is a golden statue of the Virgin Mary. Immediately in front of the Main Building and facing it, is a copper statue of Christ with arms upraised with the legend \" Venite Ad Me Omnes \". Next to the Main Building is the Basilica of the Sacred Heart. Immediately behind the basilica is the Grotto, a Marian place of prayer and reflection. It is a replica of the grotto at Lourdes, France where the Virgin Mary reputedly appeared to Saint Bernadette Soubirous in 1858. At the end of the main drive ( and in a direct line that connects through 3 statues and the Gold Dome ), is a simple, modern stone statue of Mary. [SEP]'"
            ],
            "application/vnd.google.colaboratory.intrinsic+json": {
              "type": "string"
            }
          },
          "metadata": {},
          "execution_count": 15
        }
      ]
    },
    {
      "cell_type": "markdown",
      "source": [
        "The indices of tokens starting and ending a response will be used as labels, and the task of the model is to predict one starting and ending logit for each token in the input, with the theoretical labels as follows:"
      ],
      "metadata": {
        "id": "UctXF-E12MB5"
      }
    },
    {
      "cell_type": "markdown",
      "source": [
        "![image.png](data:image/png;base64,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)"
      ],
      "metadata": {
        "id": "NhMdouui2R59"
      }
    },
    {
      "cell_type": "markdown",
      "source": [
        "In this case, the context is not too long, but some examples in the dataset have very long contexts that will exceed the maximum length we set (which in this case is 384).\n",
        "\n",
        "To see how this works for the current example, we can limit the length to 100 and use a sliding window of 50 tokens. We use:\n",
        "* max_length (we'll take 100)\n",
        "* truncation=\"only_second\" to truncate the context (which is in the second position) when a question with its context is too long\n",
        "* stride to set the number of overlapping tokens between two consecutive fragments (let's take 50)\n",
        "* return_overflowing_tokens=True to tell the tokenizer that we need overflowing tokens (overflowing tokens)"
      ],
      "metadata": {
        "id": "Hauze8Ae2aNF"
      }
    },
    {
      "cell_type": "code",
      "source": [
        "inputs = tokenizer(\n",
        "    question,\n",
        "    context,\n",
        "    max_length=100,\n",
        "    truncation=\"only_second\",\n",
        "    stride=50,\n",
        "    return_overflowing_tokens=True,\n",
        ")\n",
        "\n",
        "for ids in inputs[\"input_ids\"]:\n",
        "    print(tokenizer.decode(ids))"
      ],
      "metadata": {
        "colab": {
          "base_uri": "https://localhost:8080/"
        },
        "id": "6PDOPD762May",
        "outputId": "56177e26-df22-4490-8964-9f497521f492"
      },
      "execution_count": null,
      "outputs": [
        {
          "output_type": "stream",
          "name": "stdout",
          "text": [
            "[CLS] To whom did the Virgin Mary allegedly appear in 1858 in Lourdes France? [SEP] Architecturally, the school has a Catholic character. Atop the Main Building ' s gold dome is a golden statue of the Virgin Mary. Immediately in front of the Main Building and facing it, is a copper statue of Christ with arms upraised with the legend \" Venite Ad Me Omnes \". Next to the Main Building is the Basilica of the Sacred Heart. Immediately behind the basi [SEP]\n",
            "[CLS] To whom did the Virgin Mary allegedly appear in 1858 in Lourdes France? [SEP] the Main Building and facing it, is a copper statue of Christ with arms upraised with the legend \" Venite Ad Me Omnes \". Next to the Main Building is the Basilica of the Sacred Heart. Immediately behind the basilica is the Grotto, a Marian place of prayer and reflection. It is a replica of the grotto at Lourdes, France where the Virgin [SEP]\n",
            "[CLS] To whom did the Virgin Mary allegedly appear in 1858 in Lourdes France? [SEP] Next to the Main Building is the Basilica of the Sacred Heart. Immediately behind the basilica is the Grotto, a Marian place of prayer and reflection. It is a replica of the grotto at Lourdes, France where the Virgin Mary reputedly appeared to Saint Bernadette Soubirous in 1858. At the end of the main drive ( and in a direct line that connects through 3 [SEP]\n",
            "[CLS] To whom did the Virgin Mary allegedly appear in 1858 in Lourdes France? [SEP]. It is a replica of the grotto at Lourdes, France where the Virgin Mary reputedly appeared to Saint Bernadette Soubirous in 1858. At the end of the main drive ( and in a direct line that connects through 3 statues and the Gold Dome ), is a simple, modern stone statue of Mary. [SEP]\n"
          ]
        }
      ]
    },
    {
      "cell_type": "markdown",
      "source": [
        "As we can see, our example has been split into four inputs, each containing a question and a piece of context. The answer to the question (“Bernadette Soubirous”) only appears in the third and last input, so by working with long contexts in this way, we will create some training examples in which the answer is not included in the context. For these examples, the labels will be start_position = end_position = 0 (this is how we predict the [CLS] token). We will also set these labels in the unfortunate case where the response has been truncated so that we only have its start (or end). For examples where the response is entirely in context, the labels will be the index of the token where the response begins and the index of the token where the response ends.\n",
        "\n",
        "The dataset gives us the starting character of the answer in context, and by adding the length of the answer to it, we can find the ending character in context. To map these to token indices, we need to use offset mapping6. We can configure our tokenizer to return them by passing return_offsets_mapping=True:"
      ],
      "metadata": {
        "id": "7aB1yEMp2qut"
      }
    },
    {
      "cell_type": "code",
      "source": [
        "inputs = tokenizer(\n",
        "    question,\n",
        "    context,\n",
        "    max_length=100,\n",
        "    truncation=\"only_second\",\n",
        "    stride=50,\n",
        "    return_overflowing_tokens=True,\n",
        "    return_offsets_mapping=True,\n",
        ")\n",
        "inputs.keys()"
      ],
      "metadata": {
        "colab": {
          "base_uri": "https://localhost:8080/"
        },
        "id": "F4trBIN623uK",
        "outputId": "9b61724b-bd3b-45c5-c25e-935ad8c7abbe"
      },
      "execution_count": null,
      "outputs": [
        {
          "output_type": "execute_result",
          "data": {
            "text/plain": [
              "dict_keys(['input_ids', 'token_type_ids', 'attention_mask', 'offset_mapping', 'overflow_to_sample_mapping'])"
            ]
          },
          "metadata": {},
          "execution_count": 17
        }
      ]
    },
    {
      "cell_type": "markdown",
      "source": [
        "As we can see, we get back the usual input identifiers, token type identifiers and attention mask, as well as the offset mapping we need and an additional overflow_to_sample_mapping key. We will use the corresponding value when tokenizing multiple texts at the same time (which we must do to take advantage of the fact that our tokenizer is Rust-based). Since a single pattern can produce multiple features, it maps each feature to the example from which it originated. Since we have only tokenized one example here, we will get a list of 0:"
      ],
      "metadata": {
        "id": "0itGTQOk26gZ"
      }
    },
    {
      "cell_type": "code",
      "source": [
        "inputs[\"overflow_to_sample_mapping\"]"
      ],
      "metadata": {
        "colab": {
          "base_uri": "https://localhost:8080/"
        },
        "id": "BfcL1pl12--R",
        "outputId": "1a930945-080e-432a-8a19-6eae8f1356a3"
      },
      "execution_count": null,
      "outputs": [
        {
          "output_type": "execute_result",
          "data": {
            "text/plain": [
              "[0, 0, 0, 0]"
            ]
          },
          "metadata": {},
          "execution_count": 18
        }
      ]
    },
    {
      "cell_type": "markdown",
      "source": [
        "But if we tokenize more examples, it will become more efficient:"
      ],
      "metadata": {
        "id": "rPjVf94O3Ats"
      }
    },
    {
      "cell_type": "code",
      "source": [
        "inputs = tokenizer(\n",
        "    raw_datasets[\"train\"][2:6][\"question\"],\n",
        "    raw_datasets[\"train\"][2:6][\"context\"],\n",
        "    max_length=100,\n",
        "    truncation=\"only_second\",\n",
        "    stride=50,\n",
        "    return_overflowing_tokens=True,\n",
        "    return_offsets_mapping=True,\n",
        ")\n",
        "\n",
        "print(f\"The 4 examples gave {len(inputs['input_ids'])} features.\")\n",
        "print(f\"Here is where each comes from: {inputs['overflow_to_sample_mapping']}.\")"
      ],
      "metadata": {
        "colab": {
          "base_uri": "https://localhost:8080/"
        },
        "id": "PqEN52yA26Jd",
        "outputId": "5ef6c321-9e18-4ae7-af05-7ed3c69b42bd"
      },
      "execution_count": null,
      "outputs": [
        {
          "output_type": "stream",
          "name": "stdout",
          "text": [
            "The 4 examples gave 19 features.\n",
            "Here is where each comes from: [0, 0, 0, 0, 1, 1, 1, 1, 2, 2, 2, 2, 3, 3, 3, 3, 3, 3, 3].\n"
          ]
        }
      ]
    },
    {
      "cell_type": "markdown",
      "source": [
        "As we can see, the first three examples (with indices 2, 3, and 4 in the training set) produced four features each, and the last example (with index 5 in the training set) produced 7 features."
      ],
      "metadata": {
        "id": "YPQBZABU3GzN"
      }
    },
    {
      "cell_type": "markdown",
      "source": [
        "This information will be useful for matching each obtained feature with the corresponding label. These labels are:\n",
        "\n",
        "* (0, 0) if the answer is not in the corresponding context area\n",
        "* (start_position, end_position) if the answer is in the corresponding context area, with start_position being the token index (in input identifiers) at the beginning of the answer and end_position being the token index (in input identifiers) at the end of the answer."
      ],
      "metadata": {
        "id": "_QWslWhH3JDu"
      }
    },
    {
      "cell_type": "markdown",
      "source": [
        "To determine which of these cases occurs and, if necessary, the positions of the tokens, we first find the indices where the context begins and ends in the input identifiers. We could use token type identifiers for this, but since they don't necessarily exist for all models (for example, DistilBERT doesn't require them), we'll instead use the sequence_ids() method from BatchEncoding, which returns our tokenizer."
      ],
      "metadata": {
        "id": "TUWMzcwN3NRK"
      }
    },
    {
      "cell_type": "markdown",
      "source": [
        "Once we have the token indices, we look at the corresponding offsets, which are tuples of two integers denoting the character spacing within the original context. In this way, we can determine whether the context fragment in this token begins after the response or ends before the response begins (in which case the label would be (0, 0)). If it does not, we loop to find the first and last token of the response:"
      ],
      "metadata": {
        "id": "dqGY9NlK3Q8t"
      }
    },
    {
      "cell_type": "code",
      "source": [
        "answers = raw_datasets[\"train\"][2:6][\"answers\"]\n",
        "start_positions = []\n",
        "end_positions = []\n",
        "\n",
        "for i, offset in enumerate(inputs[\"offset_mapping\"]):\n",
        "    sample_idx = inputs[\"overflow_to_sample_mapping\"][i]\n",
        "    answer = answers[sample_idx]\n",
        "    start_char = answer[\"answer_start\"][0]\n",
        "    end_char = answer[\"answer_start\"][0] + len(answer[\"text\"][0])\n",
        "    sequence_ids = inputs.sequence_ids(i)\n",
        "\n",
        "    # Let's find the beginning and end of the context\n",
        "    idx = 0\n",
        "    while sequence_ids[idx] != 1:\n",
        "        idx += 1\n",
        "    context_start = idx\n",
        "    while sequence_ids[idx] == 1:\n",
        "        idx += 1\n",
        "    context_end = idx - 1\n",
        "\n",
        "    # If the response is not completely within context, the label will be (0, 0)\n",
        "    if offset[context_start][0] > start_char or offset[context_end][1] < end_char:\n",
        "        start_positions.append(0)\n",
        "        end_positions.append(0)\n",
        "    else:\n",
        "        # Otherwise, these are the start and end positions of the tokens\n",
        "        idx = context_start\n",
        "        while idx <= context_end and offset[idx][0] <= start_char:\n",
        "            idx += 1\n",
        "        start_positions.append(idx - 1)\n",
        "\n",
        "        idx = context_end\n",
        "        while idx >= context_start and offset[idx][1] >= end_char:\n",
        "            idx -= 1\n",
        "        end_positions.append(idx + 1)\n",
        "\n",
        "start_positions, end_positions"
      ],
      "metadata": {
        "colab": {
          "base_uri": "https://localhost:8080/"
        },
        "id": "GHBSBIVU3UYl",
        "outputId": "318e8097-86e0-461a-8ef7-7601a20ec551"
      },
      "execution_count": null,
      "outputs": [
        {
          "output_type": "execute_result",
          "data": {
            "text/plain": [
              "([83, 51, 19, 0, 0, 64, 27, 0, 34, 0, 0, 0, 67, 34, 0, 0, 0, 0, 0],\n",
              " [85, 53, 21, 0, 0, 70, 33, 0, 40, 0, 0, 0, 68, 35, 0, 0, 0, 0, 0])"
            ]
          },
          "metadata": {},
          "execution_count": 20
        }
      ]
    },
    {
      "cell_type": "markdown",
      "source": [
        "Let's look at a few results to see if our approach is correct. For the first feature we find (83, 85) as labels, so let's compare the theoretical answer with the decoded range of tokens 83 through 85 (inclusive):"
      ],
      "metadata": {
        "id": "KtGR5aD13kEV"
      }
    },
    {
      "cell_type": "code",
      "source": [
        "idx = 0\n",
        "sample_idx = inputs[\"overflow_to_sample_mapping\"][idx]\n",
        "answer = answers[sample_idx][\"text\"][0]\n",
        "\n",
        "start = start_positions[idx]\n",
        "end = end_positions[idx]\n",
        "labeled_answer = tokenizer.decode(inputs[\"input_ids\"][idx][start : end + 1])\n",
        "\n",
        "print(f\"Theoretical answer: {answer}, labels give: {labeled_answer}\")"
      ],
      "metadata": {
        "colab": {
          "base_uri": "https://localhost:8080/"
        },
        "id": "Lr_qajx23kap",
        "outputId": "f642a354-3095-483f-e372-a6a9f4a7b980"
      },
      "execution_count": null,
      "outputs": [
        {
          "output_type": "stream",
          "name": "stdout",
          "text": [
            "Theoretical answer: the Main Building, labels give: the Main Building\n"
          ]
        }
      ]
    },
    {
      "cell_type": "markdown",
      "source": [
        "So that's a match! Now let's check index 4, where we set the labels to (0, 0), which means that the answer is not in the context fragment of this feature:"
      ],
      "metadata": {
        "id": "ki-BUB9e3n-6"
      }
    },
    {
      "cell_type": "code",
      "source": [
        "idx = 4\n",
        "sample_idx = inputs[\"overflow_to_sample_mapping\"][idx]\n",
        "answer = answers[sample_idx][\"text\"][0]\n",
        "\n",
        "decoded_example = tokenizer.decode(inputs[\"input_ids\"][idx])\n",
        "print(f\"Theoretical answer: {answer}, decoded example: {decoded_example}\")"
      ],
      "metadata": {
        "colab": {
          "base_uri": "https://localhost:8080/"
        },
        "id": "m0qNuLw_3oMg",
        "outputId": "3ab473f8-d148-4fd7-b9e0-6adfd13a3029"
      },
      "execution_count": null,
      "outputs": [
        {
          "output_type": "stream",
          "name": "stdout",
          "text": [
            "Theoretical answer: a Marian place of prayer and reflection, decoded example: [CLS] What is the Grotto at Notre Dame? [SEP] Architecturally, the school has a Catholic character. Atop the Main Building ' s gold dome is a golden statue of the Virgin Mary. Immediately in front of the Main Building and facing it, is a copper statue of Christ with arms upraised with the legend \" Venite Ad Me Omnes \". Next to the Main Building is the Basilica of the Sacred Heart. Immediately behind the basilica is the Grot [SEP]\n"
          ]
        }
      ]
    },
    {
      "cell_type": "markdown",
      "source": [
        "There is no answer in context."
      ],
      "metadata": {
        "id": "FLivZQYS3qjG"
      }
    },
    {
      "cell_type": "markdown",
      "source": [
        "Now that we've dealt with the preprocessing of the training data step by step, we can group it into a feature that we'll apply to the entire dataset. We will augment each feature to the maximum length we have set, as most contexts will be long (and the corresponding samples will be split into multiple features), so applying dynamic augmentation is of no real use here:"
      ],
      "metadata": {
        "id": "4dNk5KGa3s0J"
      }
    },
    {
      "cell_type": "code",
      "source": [
        "max_length = 384\n",
        "stride = 128\n",
        "\n",
        "\n",
        "def preprocess_training_examples(examples):\n",
        "    questions = [q.strip() for q in examples[\"question\"]]\n",
        "    inputs = tokenizer(\n",
        "        questions,\n",
        "        examples[\"context\"],\n",
        "        max_length=max_length,\n",
        "        truncation=\"only_second\",\n",
        "        stride=stride,\n",
        "        return_overflowing_tokens=True,\n",
        "        return_offsets_mapping=True,\n",
        "        padding=\"max_length\",\n",
        "    )\n",
        "\n",
        "    offset_mapping = inputs.pop(\"offset_mapping\")\n",
        "    sample_map = inputs.pop(\"overflow_to_sample_mapping\")\n",
        "    answers = examples[\"answers\"]\n",
        "    start_positions = []\n",
        "    end_positions = []\n",
        "\n",
        "    for i, offset in enumerate(offset_mapping):\n",
        "        sample_idx = sample_map[i]\n",
        "        answer = answers[sample_idx]\n",
        "        start_char = answer[\"answer_start\"][0]\n",
        "        end_char = answer[\"answer_start\"][0] + len(answer[\"text\"][0])\n",
        "        sequence_ids = inputs.sequence_ids(i)\n",
        "\n",
        "        # Let's find the beginning and end of the context\n",
        "        idx = 0\n",
        "        while sequence_ids[idx] != 1:\n",
        "            idx += 1\n",
        "        context_start = idx\n",
        "        while sequence_ids[idx] == 1:\n",
        "            idx += 1\n",
        "        context_end = idx - 1\n",
        "\n",
        "        # If the response is not completely within context, the label will be (0, 0)\n",
        "        if offset[context_start][0] > start_char or offset[context_end][1] < end_char:\n",
        "            start_positions.append(0)\n",
        "            end_positions.append(0)\n",
        "        else:\n",
        "            # Otherwise, these are the start and end positions of the tokens\n",
        "            idx = context_start\n",
        "            while idx <= context_end and offset[idx][0] <= start_char:\n",
        "                idx += 1\n",
        "            start_positions.append(idx - 1)\n",
        "\n",
        "            idx = context_end\n",
        "            while idx >= context_start and offset[idx][1] >= end_char:\n",
        "                idx -= 1\n",
        "            end_positions.append(idx + 1)\n",
        "\n",
        "    inputs[\"start_positions\"] = start_positions\n",
        "    inputs[\"end_positions\"] = end_positions\n",
        "    return inputs"
      ],
      "metadata": {
        "id": "P36Vdot83zTt"
      },
      "execution_count": null,
      "outputs": []
    },
    {
      "cell_type": "markdown",
      "source": [
        "Note that we defined two constants to define the maximum length and the sliding window length, and added some cleanup before tokenization: some questions in the SQuAD dataset have extra spaces at the beginning and end that don't add anything, so we removed those extra spaces."
      ],
      "metadata": {
        "id": "APkw0apl37Xi"
      }
    },
    {
      "cell_type": "markdown",
      "source": [
        "To apply this feature to the entire training set, we use the Dataset.map() method with the batched=True flag. This is necessary because we change the length of the dataset (since one example can produce multiple training features):"
      ],
      "metadata": {
        "id": "EP8O0_Ne4BNr"
      }
    },
    {
      "cell_type": "code",
      "source": [
        "train_dataset = raw_datasets[\"train\"].map(\n",
        "    preprocess_training_examples,\n",
        "    batched=True,\n",
        "    remove_columns=raw_datasets[\"train\"].column_names,\n",
        ")\n",
        "len(raw_datasets[\"train\"]), len(train_dataset)"
      ],
      "metadata": {
        "id": "r4BGC3NCdPfG"
      },
      "execution_count": null,
      "outputs": []
    },
    {
      "cell_type": "markdown",
      "source": [
        "As we can see, the preprocessing has added about 1,000 features. Now our training set is ready for use. Let's move on to preprocessing of the validation set."
      ],
      "metadata": {
        "id": "l9hjEAeR4NUZ"
      }
    },
    {
      "cell_type": "markdown",
      "source": [
        "## Preparing validation data"
      ],
      "metadata": {
        "id": "Si21dj_U4MeJ"
      }
    },
    {
      "cell_type": "markdown",
      "source": [
        "Pre-processing validation data will be a bit easier since we don't need to generate labels. The real joy will be interpreting the model predictions in the ranges of the original context. To do this, we need to store both offset mappings and a way to map each generated feature to the original example from which it is taken. Since the original dataset has an ID column, we will use that ID."
      ],
      "metadata": {
        "id": "Tgt5tHXT4UAt"
      }
    },
    {
      "cell_type": "markdown",
      "source": [
        "We need to clean up the offset mappings. They will contain offsets for the question and context, but at post-processing stage we will have no way to know which part of the input identifiers corresponds to the context and which to the question (the sequence_ids() method we used is only available for tokenizer output). Therefore, we will set the offsets corresponding to the question to None:"
      ],
      "metadata": {
        "id": "T3NBhOeV4bOm"
      }
    },
    {
      "cell_type": "code",
      "source": [
        "def preprocess_validation_examples(examples):\n",
        "    questions = [q.strip() for q in examples[\"question\"]]\n",
        "    inputs = tokenizer(\n",
        "        questions,\n",
        "        examples[\"context\"],\n",
        "        max_length=max_length,\n",
        "        truncation=\"only_second\",\n",
        "        stride=stride,\n",
        "        return_overflowing_tokens=True,\n",
        "        return_offsets_mapping=True,\n",
        "        padding=\"max_length\",\n",
        "    )\n",
        "\n",
        "    sample_map = inputs.pop(\"overflow_to_sample_mapping\")\n",
        "    example_ids = []\n",
        "\n",
        "    for i in range(len(inputs[\"input_ids\"])):\n",
        "        sample_idx = sample_map[i]\n",
        "        example_ids.append(examples[\"id\"][sample_idx])\n",
        "\n",
        "        sequence_ids = inputs.sequence_ids(i)\n",
        "        offset = inputs[\"offset_mapping\"][i]\n",
        "        inputs[\"offset_mapping\"][i] = [\n",
        "            o if sequence_ids[k] == 1 else None for k, o in enumerate(offset)\n",
        "        ]\n",
        "\n",
        "    inputs[\"example_id\"] = example_ids\n",
        "    return inputs"
      ],
      "metadata": {
        "id": "2QK64rl94ioi"
      },
      "execution_count": null,
      "outputs": []
    },
    {
      "cell_type": "code",
      "source": [
        "validation_dataset = raw_datasets[\"validation\"].map(\n",
        "    preprocess_validation_examples,\n",
        "    batched=True,\n",
        "    remove_columns=raw_datasets[\"validation\"].column_names,\n",
        ")\n",
        "len(raw_datasets[\"validation\"]), len(validation_dataset)"
      ],
      "metadata": {
        "id": "CbXgdYIadShu"
      },
      "execution_count": null,
      "outputs": []
    },
    {
      "cell_type": "markdown",
      "source": [
        "In this case, we only added a couple hundred examples, so the contexts in the validation dataset are a bit shorter.\n",
        "\n",
        "Now that we have pre-processed all the data, we can start training."
      ],
      "metadata": {
        "id": "IaGoFTvT4p3-"
      }
    },
    {
      "cell_type": "markdown",
      "source": [
        "## Fine-Tuning"
      ],
      "metadata": {
        "id": "j07nDkmK4sm6"
      }
    },
    {
      "cell_type": "markdown",
      "source": [
        "### Post-processing"
      ],
      "metadata": {
        "id": "JSe8RxYW5Rfe"
      }
    },
    {
      "cell_type": "markdown",
      "source": [
        "The model will output the logits for the start and end positions of the response in the input identifiers.\n",
        "\n",
        "To speed up the process, we will also not estimate all possible pairs (start_token, end_token), but only those corresponding to the largest n_best logits (with n_best=20). Since we will skip softmax, these estimates will be logit estimates, and will be obtained by taking the sum of the start and end logits (instead of the product, by the rule \\(\\log(ab) = \\log(a) + \\log(b)\\)).\n",
        "\n",
        "To demonstrate all of this, we will need some predictions. Since we haven't trained our model yet, we will use the default model for the QA pipeline to generate some predictions on a small portion of the validation set. We can use the same processing function as before; since it relies on the global constant tokenizer, we just need to change that object to the tokenizer of the model we want to use temporarily:"
      ],
      "metadata": {
        "id": "k4G-XhEj5i2W"
      }
    },
    {
      "cell_type": "code",
      "source": [
        "small_eval_set = raw_datasets[\"validation\"].select(range(100))\n",
        "trained_checkpoint = \"distilbert-base-cased-distilled-squad\"\n",
        "\n",
        "tokenizer = AutoTokenizer.from_pretrained(trained_checkpoint)\n",
        "eval_set = small_eval_set.map(\n",
        "    preprocess_validation_examples,\n",
        "    batched=True,\n",
        "    remove_columns=raw_datasets[\"validation\"].column_names,\n",
        ")"
      ],
      "metadata": {
        "id": "j1DGevmjdTll"
      },
      "execution_count": null,
      "outputs": []
    },
    {
      "cell_type": "markdown",
      "source": [
        "Now that preprocessing is complete, we change the tokenizer back to the one originally selected:"
      ],
      "metadata": {
        "id": "QJQW04Sw5wyB"
      }
    },
    {
      "cell_type": "code",
      "source": [
        "tokenizer = AutoTokenizer.from_pretrained(model_checkpoint)"
      ],
      "metadata": {
        "id": "2h_P5XHF5yLB"
      },
      "execution_count": null,
      "outputs": []
    },
    {
      "cell_type": "markdown",
      "source": [
        "Then we remove the columns from our eval_set that the model doesn't expect, create a batch with all that little validation, and run it through the model."
      ],
      "metadata": {
        "id": "DM9yEn945zmO"
      }
    },
    {
      "cell_type": "code",
      "source": [
        "eval_set_for_model = eval_set.remove_columns([\"example_id\", \"offset_mapping\"])\n",
        "eval_set_for_model.set_format(\"torch\")\n",
        "\n",
        "device = torch.device(\"cuda\") if torch.cuda.is_available() else torch.device(\"cpu\")\n",
        "batch = {k: eval_set_for_model[k].to(device) for k in eval_set_for_model.column_names}\n",
        "trained_model = AutoModelForQuestionAnswering.from_pretrained(trained_checkpoint).to(\n",
        "    device\n",
        ")\n",
        "\n",
        "with torch.no_grad():\n",
        "    outputs = trained_model(**batch)"
      ],
      "metadata": {
        "id": "Bodc7Hq0dUb8"
      },
      "execution_count": null,
      "outputs": []
    },
    {
      "cell_type": "markdown",
      "source": [
        "Since Trainer will return our predictions to us as NumPy arrays, we take the start and end logits and convert them to this format:"
      ],
      "metadata": {
        "id": "0nybj5dx6Am6"
      }
    },
    {
      "cell_type": "code",
      "source": [
        "start_logits = outputs.start_logits.cpu().numpy()\n",
        "end_logits = outputs.end_logits.cpu().numpy()"
      ],
      "metadata": {
        "id": "q3i3zidA6BFl"
      },
      "execution_count": null,
      "outputs": []
    },
    {
      "cell_type": "markdown",
      "source": [
        "Now we need to find the predicted answer for each example in small_eval_set. One example can be split into multiple features in eval_set, so the first step is to map each example in small_eval_set to the corresponding features in eval_set:"
      ],
      "metadata": {
        "id": "zOrGf_HC6Qjt"
      }
    },
    {
      "cell_type": "code",
      "source": [
        "example_to_features = collections.defaultdict(list)\n",
        "for idx, feature in enumerate(eval_set):\n",
        "    example_to_features[feature[\"example_id\"]].append(idx)"
      ],
      "metadata": {
        "id": "mPY_asgN6SdR"
      },
      "execution_count": null,
      "outputs": []
    },
    {
      "cell_type": "markdown",
      "source": [
        "With this in hand, we can proceed by iterating over all examples and, for each example, all associated features. As we said, we consider logit estimates for n_best initial logits and final logits, excluding items that give:\n",
        "\n",
        "An answer that does not fit into the context\n",
        "An answer with negative length\n",
        "An answer that is too long (we limit the possibilities by max_answer_length=30).\n",
        "Once we have all possible answers for a single example, we simply select the one with the best logit score:"
      ],
      "metadata": {
        "id": "FCmkNCP37lI-"
      }
    },
    {
      "cell_type": "code",
      "source": [
        "n_best = 20\n",
        "max_answer_length = 30\n",
        "predicted_answers = []\n",
        "\n",
        "for example in small_eval_set:\n",
        "    example_id = example[\"id\"]\n",
        "    context = example[\"context\"]\n",
        "    answers = []\n",
        "\n",
        "    for feature_index in example_to_features[example_id]:\n",
        "        start_logit = start_logits[feature_index]\n",
        "        end_logit = end_logits[feature_index]\n",
        "        offsets = eval_set[\"offset_mapping\"][feature_index]\n",
        "\n",
        "        start_indexes = np.argsort(start_logit)[-1 : -n_best - 1 : -1].tolist()\n",
        "        end_indexes = np.argsort(end_logit)[-1 : -n_best - 1 : -1].tolist()\n",
        "        for start_index in start_indexes:\n",
        "            for end_index in end_indexes:\n",
        "                # Skip answers that do not fully match the context\n",
        "                if offsets[start_index] is None or offsets[end_index] is None:\n",
        "                    continue\n",
        "                # Skip responses that are either < 0 or > max_answer_length\n",
        "                if (\n",
        "                    end_index < start_index\n",
        "                    or end_index - start_index + 1 > max_answer_length\n",
        "                ):\n",
        "                    continue\n",
        "\n",
        "                answers.append(\n",
        "                    {\n",
        "                        \"text\": context[offsets[start_index][0] : offsets[end_index][1]],\n",
        "                        \"logit_score\": start_logit[start_index] + end_logit[end_index],\n",
        "                    }\n",
        "                )\n",
        "\n",
        "    best_answer = max(answers, key=lambda x: x[\"logit_score\"])\n",
        "    predicted_answers.append({\"id\": example_id, \"prediction_text\": best_answer[\"text\"]})"
      ],
      "metadata": {
        "id": "Y4hhUWkl7l-i"
      },
      "execution_count": null,
      "outputs": []
    },
    {
      "cell_type": "markdown",
      "source": [
        "The final format of the predicted responses is the one expected by the metric we will use. As usual, we can load it using the Evaluate library:"
      ],
      "metadata": {
        "id": "hKk_RN9m77Ru"
      }
    },
    {
      "cell_type": "code",
      "source": [
        "metric = evaluate.load(\"squad\")"
      ],
      "metadata": {
        "id": "sACCwrgidVhG"
      },
      "execution_count": null,
      "outputs": []
    },
    {
      "cell_type": "markdown",
      "source": [
        "This metric expects predicted answers in the format we saw above (a list of dictionaries with one key for the example ID and one key for the predicted text) and theoretical answers in the format below (a list of dictionaries with one key for the example ID and one key for possible answers):"
      ],
      "metadata": {
        "id": "8t2cgtu07-r-"
      }
    },
    {
      "cell_type": "code",
      "source": [
        "theoretical_answers = [\n",
        "    {\"id\": ex[\"id\"], \"answers\": ex[\"answers\"]} for ex in small_eval_set\n",
        "]"
      ],
      "metadata": {
        "id": "AZMSmRme7--q"
      },
      "execution_count": null,
      "outputs": []
    },
    {
      "cell_type": "markdown",
      "source": [
        "We can now verify that we are getting reasonable results by looking at the first element of both lists:"
      ],
      "metadata": {
        "id": "uTGubktr8BdU"
      }
    },
    {
      "cell_type": "code",
      "source": [
        "print(predicted_answers[0])\n",
        "print(theoretical_answers[0])"
      ],
      "metadata": {
        "colab": {
          "base_uri": "https://localhost:8080/"
        },
        "id": "yTmxZv8d8CR2",
        "outputId": "0cdc0c79-e46a-4f71-c486-7eb7563d999e"
      },
      "execution_count": null,
      "outputs": [
        {
          "output_type": "stream",
          "name": "stdout",
          "text": [
            "{'id': '56be4db0acb8001400a502ec', 'prediction_text': 'Denver Broncos'}\n",
            "{'id': '56be4db0acb8001400a502ec', 'answers': {'text': ['Denver Broncos', 'Denver Broncos', 'Denver Broncos'], 'answer_start': [177, 177, 177]}}\n"
          ]
        }
      ]
    },
    {
      "cell_type": "markdown",
      "source": [
        "That's not too bad! Now let's look at the score that the metric gives us:"
      ],
      "metadata": {
        "id": "ML8hs8tW8Dw2"
      }
    },
    {
      "cell_type": "code",
      "source": [
        "metric.compute(predictions=predicted_answers, references=theoretical_answers)"
      ],
      "metadata": {
        "colab": {
          "base_uri": "https://localhost:8080/"
        },
        "id": "u8YxIbNS8EL2",
        "outputId": "a646bb55-fa9b-41ac-bf39-038715d3552f"
      },
      "execution_count": null,
      "outputs": [
        {
          "output_type": "execute_result",
          "data": {
            "text/plain": [
              "{'exact_match': 83.0, 'f1': 88.25000000000004}"
            ]
          },
          "metadata": {},
          "execution_count": 36
        }
      ]
    },
    {
      "cell_type": "markdown",
      "source": [
        "Now let's put everything we just did into the compute_metrics() function that we will use in Trainer. Normally, compute_metrics() only gets the eval_preds tuple with logits and labels. Here we'll need a bit more than that, since we have to look in the bias trait dataset and in the example dataset for the original contexts, so we won't be able to use this function to get the usual eval results during training. We will only use it at the end of training to check the results.\n",
        "\n",
        "The compute_metrics() function groups the same steps as before, only a small check is added in case we do not find any correct answers (in which case we predict an empty string)."
      ],
      "metadata": {
        "id": "ig2aYgac8Rna"
      }
    },
    {
      "cell_type": "code",
      "source": [
        "def compute_metrics(start_logits, end_logits, features, examples):\n",
        "    example_to_features = collections.defaultdict(list)\n",
        "    for idx, feature in enumerate(features):\n",
        "        example_to_features[feature[\"example_id\"]].append(idx)\n",
        "\n",
        "    predicted_answers = []\n",
        "    for example in tqdm(examples):\n",
        "        example_id = example[\"id\"]\n",
        "        context = example[\"context\"]\n",
        "        answers = []\n",
        "\n",
        "        # Iterate over all the features associated with this example\n",
        "        for feature_index in example_to_features[example_id]:\n",
        "            start_logit = start_logits[feature_index]\n",
        "            end_logit = end_logits[feature_index]\n",
        "            offsets = features[feature_index][\"offset_mapping\"]\n",
        "\n",
        "            start_indexes = np.argsort(start_logit)[-1 : -n_best - 1 : -1].tolist()\n",
        "            end_indexes = np.argsort(end_logit)[-1 : -n_best - 1 : -1].tolist()\n",
        "            for start_index in start_indexes:\n",
        "                for end_index in end_indexes:\n",
        "                    # Skip answers that don't fully fit the context\n",
        "                    if offsets[start_index] is None or offsets[end_index] is None:\n",
        "                        continue\n",
        "                    # Skip responses whose length is either < 0 or > max_answer_length\n",
        "                    if (\n",
        "                        end_index < start_index\n",
        "                        or end_index - start_index + 1 > max_answer_length\n",
        "                    ):\n",
        "                        continue\n",
        "\n",
        "                    answer = {\n",
        "                        \"text\": context[offsets[start_index][0] : offsets[end_index][1]],\n",
        "                        \"logit_score\": start_logit[start_index] + end_logit[end_index],\n",
        "                    }\n",
        "                    answers.append(answer)\n",
        "\n",
        "        # Choose the answer with the best score\n",
        "        if len(answers) > 0:\n",
        "            best_answer = max(answers, key=lambda x: x[\"logit_score\"])\n",
        "            predicted_answers.append(\n",
        "                {\"id\": example_id, \"prediction_text\": best_answer[\"text\"]}\n",
        "            )\n",
        "        else:\n",
        "            predicted_answers.append({\"id\": example_id, \"prediction_text\": \"\"})\n",
        "\n",
        "    theoretical_answers = [{\"id\": ex[\"id\"], \"answers\": ex[\"answers\"]} for ex in examples]\n",
        "    return metric.compute(predictions=predicted_answers, references=theoretical_answers)"
      ],
      "metadata": {
        "id": "Mp9IeV9p8W62"
      },
      "execution_count": null,
      "outputs": []
    },
    {
      "cell_type": "code",
      "source": [
        "compute_metrics(start_logits, end_logits, eval_set, small_eval_set)"
      ],
      "metadata": {
        "id": "046aTymsdXKs"
      },
      "execution_count": null,
      "outputs": []
    },
    {
      "cell_type": "markdown",
      "source": [
        "Looks great! Now let's use this to pre-train our model."
      ],
      "metadata": {
        "id": "WXalrjNm8gZN"
      }
    },
    {
      "cell_type": "markdown",
      "source": [
        "### Model retraining"
      ],
      "metadata": {
        "id": "i7A557My8hNW"
      }
    },
    {
      "cell_type": "markdown",
      "source": [
        "Now we are ready to train our model. Let's first create it using the AutoModelForQuestionAnswering class as before:"
      ],
      "metadata": {
        "id": "npFiBjJ58l66"
      }
    },
    {
      "cell_type": "code",
      "source": [
        "model = AutoModelForQuestionAnswering.from_pretrained(model_checkpoint)"
      ],
      "metadata": {
        "id": "QYmJr-fhdYOS"
      },
      "execution_count": null,
      "outputs": []
    },
    {
      "cell_type": "markdown",
      "source": [
        "As usual, we get a warning that some weights are not used (pre-training head weights) and others are initialized randomly (question answering head weights). You should be used to this by now, but it means that the model is not yet ready to be used and needs to be pre-trained - good thing we are about to do that!"
      ],
      "metadata": {
        "id": "SnGY-c2J8tJG"
      }
    },
    {
      "cell_type": "markdown",
      "source": [
        "We can define our TrainingArguments. As we said when we defined our function to compute a metric, we won't be able to do a normal evaluation loop because of the signature of compute_metrics(). We could write our own Trainer subclass for this, but that's too long for this section. Instead, we will only evaluate the model at the end of training, and we will show how to do regular evaluation below in the section “Custom Training Loop”."
      ],
      "metadata": {
        "id": "jjLz31tI8yfK"
      }
    },
    {
      "cell_type": "code",
      "source": [
        "args = TrainingArguments(\n",
        "    \"bert-finetuned-squad\",\n",
        "    # evaluation_strategy=\"no\",\n",
        "    save_strategy=\"epoch\",\n",
        "    learning_rate=2e-5,\n",
        "    num_train_epochs=3,\n",
        "    weight_decay=0.01,\n",
        "    fp16=True,\n",
        "    push_to_hub=True,\n",
        ")"
      ],
      "metadata": {
        "id": "w5qbAL-r8tfC"
      },
      "execution_count": null,
      "outputs": []
    },
    {
      "cell_type": "markdown",
      "source": [
        "Finally, we just pass everything to the Trainer class and run the training:"
      ],
      "metadata": {
        "id": "vguKWDBp9s6B"
      }
    },
    {
      "cell_type": "code",
      "source": [
        "trainer = Trainer(\n",
        "    model=model,\n",
        "    args=args,\n",
        "    train_dataset=train_dataset,\n",
        "    eval_dataset=validation_dataset,\n",
        "    tokenizer=tokenizer,\n",
        ")\n",
        "trainer.train()"
      ],
      "metadata": {
        "id": "TBSU0ytae63Q"
      },
      "execution_count": null,
      "outputs": []
    },
    {
      "cell_type": "markdown",
      "source": [
        "When training is complete, we can finally evaluate our model (and pray we didn't waste all that computation time). The predict() method of the Trainer function will return a tuple where the first elements are the model predictions (here a pair with the initial and final logits). We send it to our compute_metrics() function:"
      ],
      "metadata": {
        "id": "5u_2AwYJ-Lcr"
      }
    },
    {
      "cell_type": "code",
      "source": [
        "predictions, _, _ = trainer.predict(validation_dataset)\n",
        "start_logits, end_logits = predictions\n",
        "compute_metrics(start_logits, end_logits, validation_dataset, raw_datasets[\"validation\"])"
      ],
      "metadata": {
        "id": "HGvXOlhTdZ0B"
      },
      "execution_count": null,
      "outputs": []
    },
    {
      "cell_type": "markdown",
      "source": [
        "Great!!! For comparison, the baseline numbers listed in the BERT article for this model are 80.8 and 88.5, so we're right where we should be."
      ],
      "metadata": {
        "id": "K2OgZAT1-S-7"
      }
    },
    {
      "cell_type": "markdown",
      "source": [
        "Finally, we use the push_to_hub() method to make sure we have loaded the latest version of the model:"
      ],
      "metadata": {
        "id": "8siqvk_C-UG6"
      }
    },
    {
      "cell_type": "code",
      "source": [
        "trainer.push_to_hub(commit_message=\"Training complete\")"
      ],
      "metadata": {
        "colab": {
          "base_uri": "https://localhost:8080/",
          "height": 104
        },
        "id": "SnpHxlgK-TjZ",
        "outputId": "7d16d1bb-0463-412e-e8f0-ef0a868191b1"
      },
      "execution_count": null,
      "outputs": [
        {
          "output_type": "stream",
          "name": "stderr",
          "text": [
            "No files have been modified since last commit. Skipping to prevent empty commit.\n",
            "WARNING:huggingface_hub.hf_api:No files have been modified since last commit. Skipping to prevent empty commit.\n"
          ]
        },
        {
          "output_type": "execute_result",
          "data": {
            "text/plain": [
              "CommitInfo(commit_url='https://huggingface.co/Maksim01gh/bert-finetuned-squad/commit/0fc95b475b1a0cea2a66b443a39814a6d2805e57', commit_message='Training complete', commit_description='', oid='0fc95b475b1a0cea2a66b443a39814a6d2805e57', pr_url=None, repo_url=RepoUrl('https://huggingface.co/Maksim01gh/bert-finetuned-squad', endpoint='https://huggingface.co', repo_type='model', repo_id='Maksim01gh/bert-finetuned-squad'), pr_revision=None, pr_num=None)"
            ],
            "application/vnd.google.colaboratory.intrinsic+json": {
              "type": "string"
            }
          },
          "metadata": {},
          "execution_count": 43
        }
      ]
    },
    {
      "cell_type": "markdown",
      "source": [
        "This returns the URL of the commit that was just executed."
      ],
      "metadata": {
        "id": "Ovigua_w-XxS"
      }
    },
    {
      "cell_type": "markdown",
      "source": [
        "Trainer also creates a draft model card with all of the evaluation results and uploads it."
      ],
      "metadata": {
        "id": "_k7OvJlU-Ze8"
      }
    },
    {
      "cell_type": "markdown",
      "source": [
        "### Training Cycle"
      ],
      "metadata": {
        "id": "Zuf6ROL6-cCV"
      }
    },
    {
      "cell_type": "markdown",
      "source": [
        "First we need to create DataLoaders from our datasets. We will set the format of these datasets to “torch” and remove columns in the validation set that are not used by the model. Then we can use the default_data_collator provided by Transformers as collate_fn and mix the training set but not the validation set:"
      ],
      "metadata": {
        "id": "flg_2BPo-kpZ"
      }
    },
    {
      "cell_type": "code",
      "source": [
        "train_dataset.set_format(\"torch\")\n",
        "validation_set = validation_dataset.remove_columns([\"example_id\", \"offset_mapping\"])\n",
        "validation_set.set_format(\"torch\")\n",
        "\n",
        "train_dataloader = DataLoader(\n",
        "    train_dataset,\n",
        "    shuffle=True,\n",
        "    collate_fn=default_data_collator,\n",
        "    batch_size=8,\n",
        ")\n",
        "eval_dataloader = DataLoader(\n",
        "    validation_set, collate_fn=default_data_collator, batch_size=8\n",
        ")"
      ],
      "metadata": {
        "id": "rRdVPiuY-lLV"
      },
      "execution_count": null,
      "outputs": []
    },
    {
      "cell_type": "markdown",
      "source": [
        "We then reinstantiate our model to ensure that we do not continue pre-training, but start again with the pre-trained BERT model:"
      ],
      "metadata": {
        "id": "6wBMiHfK-oQ2"
      }
    },
    {
      "cell_type": "code",
      "source": [
        "model = AutoModelForQuestionAnswering.from_pretrained(model_checkpoint)"
      ],
      "metadata": {
        "colab": {
          "base_uri": "https://localhost:8080/"
        },
        "id": "GGU5Uptd-ovx",
        "outputId": "5aaaaf56-0083-4159-df39-90bc91c19c0c"
      },
      "execution_count": null,
      "outputs": [
        {
          "output_type": "stream",
          "name": "stderr",
          "text": [
            "Some weights of BertForQuestionAnswering were not initialized from the model checkpoint at bert-base-cased and are newly initialized: ['qa_outputs.bias', 'qa_outputs.weight']\n",
            "You should probably TRAIN this model on a down-stream task to be able to use it for predictions and inference.\n"
          ]
        }
      ]
    },
    {
      "cell_type": "markdown",
      "source": [
        "Then we need an optimizer. As usual, we use the classic AdamW, which is similar to Adam, but with a fix in the way weight attenuation is applied:"
      ],
      "metadata": {
        "id": "wcK6m_sA-q6p"
      }
    },
    {
      "cell_type": "code",
      "source": [
        "optimizer = AdamW(model.parameters(), lr=2e-5)"
      ],
      "metadata": {
        "id": "V4rzbotQ-rVC"
      },
      "execution_count": null,
      "outputs": []
    },
    {
      "cell_type": "code",
      "source": [
        "# accelerator = Accelerator(fp16=True)\n",
        "accelerator = Accelerator(mixed_precision=\"fp16\")\n",
        "model, optimizer, train_dataloader, eval_dataloader = accelerator.prepare(\n",
        "    model, optimizer, train_dataloader, eval_dataloader\n",
        ")"
      ],
      "metadata": {
        "id": "kusRHiDD--Fz"
      },
      "execution_count": null,
      "outputs": []
    },
    {
      "cell_type": "markdown",
      "source": [
        "We can use the length of train_dataloader to compute the number of training steps only after it passes through the accelerator.prepare() method. We use the same line graph as in the previous sections:"
      ],
      "metadata": {
        "id": "FOeWxKKGBGRm"
      }
    },
    {
      "cell_type": "code",
      "source": [
        "num_train_epochs = 2\n",
        "num_update_steps_per_epoch = len(train_dataloader)\n",
        "num_training_steps = num_train_epochs * num_update_steps_per_epoch\n",
        "\n",
        "lr_scheduler = get_scheduler(\n",
        "    \"linear\",\n",
        "    optimizer=optimizer,\n",
        "    num_warmup_steps=0,\n",
        "    num_training_steps=num_training_steps,\n",
        ")"
      ],
      "metadata": {
        "id": "gxSXgJfWBHln"
      },
      "execution_count": null,
      "outputs": []
    },
    {
      "cell_type": "markdown",
      "source": [
        "To send our model to the Hub, we need to create a Repository object in the working folder. First, log into the Hugging Face Hub if you are not already logged in. We'll define the name of the repository by the model ID we want to assign to our model (feel free to replace repo_name with your own; it just needs to contain your username, which is what get_full_repo_name() does):"
      ],
      "metadata": {
        "id": "ryPiO5HTBKQw"
      }
    },
    {
      "cell_type": "code",
      "source": [
        "model_name = \"bert-finetuned-squad-accelerate\"\n",
        "repo_name = get_full_repo_name(model_name)\n",
        "repo_name"
      ],
      "metadata": {
        "id": "u8xqp8G_BKuN",
        "colab": {
          "base_uri": "https://localhost:8080/",
          "height": 35
        },
        "outputId": "b796cbde-9fa2-46e0-efa1-821315b88762"
      },
      "execution_count": null,
      "outputs": [
        {
          "output_type": "execute_result",
          "data": {
            "text/plain": [
              "'Maksim01gh/bert-finetuned-squad-accelerate'"
            ],
            "application/vnd.google.colaboratory.intrinsic+json": {
              "type": "string"
            }
          },
          "metadata": {},
          "execution_count": 71
        }
      ]
    },
    {
      "cell_type": "markdown",
      "source": [
        "The code below will cause a “Repo not found” error. The HuggingFace community has found the following solution to the problem:\n",
        "* Go to the last line of the error and find which repository is not found.\n",
        "* Go to [Hugging Face - The AI community building the future](https://huggingface.co/new) to create the repository that is missing.\n",
        "* Run the code again"
      ],
      "metadata": {
        "id": "Pnvb-XDYgtKi"
      }
    },
    {
      "cell_type": "code",
      "source": [
        "output_dir = \"bert-finetuned-squad-accelerate\"\n",
        "repo = Repository(output_dir, clone_from=repo_name)"
      ],
      "metadata": {
        "id": "7TNAMDtWJd5M",
        "colab": {
          "base_uri": "https://localhost:8080/"
        },
        "outputId": "df5a7e33-0026-45db-e3de-76079f83811c"
      },
      "execution_count": null,
      "outputs": [
        {
          "output_type": "stream",
          "name": "stderr",
          "text": [
            "/usr/local/lib/python3.11/dist-packages/huggingface_hub/utils/_deprecation.py:131: FutureWarning: 'Repository' (from 'huggingface_hub.repository') is deprecated and will be removed from version '1.0'. Please prefer the http-based alternatives instead. Given its large adoption in legacy code, the complete removal is only planned on next major release.\n",
            "For more details, please read https://huggingface.co/docs/huggingface_hub/concepts/git_vs_http.\n",
            "  warnings.warn(warning_message, FutureWarning)\n",
            "Cloning https://huggingface.co/Maksim01gh/bert-finetuned-squad-accelerate into local empty directory.\n",
            "WARNING:huggingface_hub.repository:Cloning https://huggingface.co/Maksim01gh/bert-finetuned-squad-accelerate into local empty directory.\n"
          ]
        }
      ]
    },
    {
      "cell_type": "markdown",
      "source": [
        "# Training cycle"
      ],
      "metadata": {
        "id": "VJUnE0EXBO9h"
      }
    },
    {
      "cell_type": "markdown",
      "source": [
        "We are now ready to write a complete training cycle. After defining a progress bar to keep track of the training progress, the loop consists of three parts:\n",
        "\n",
        "Training proper, which is a classical iteration on train_dataloader, a forward pass through the model, then a backward pass and an optimizer step.\n",
        "Evaluation, in which we collect all the values for start_logits and end_logits before converting them into NumPy arrays. Once the evaluation loop is complete, we combine all the results. Note that we need to do truncation because Accelerator may add some examples at the end to make sure we have the same number of examples in each process.\n",
        "Saving and loading, where we first save the model and tokenizer, and then call repo.push_to_hub(). As before, we use the blocking=False argument to tell the 🤗 Hub library to push asynchronously. This way, the learning continues normally and this (long) instruction is executed in the background.\n",
        "Here is the full code for the learning loop:"
      ],
      "metadata": {
        "id": "cw3gqk3OBTtq"
      }
    },
    {
      "cell_type": "code",
      "source": [
        "progress_bar = tqdm(range(num_training_steps))\n",
        "\n",
        "for epoch in range(num_train_epochs):\n",
        "    model.train()\n",
        "    for step, batch in enumerate(train_dataloader):\n",
        "        outputs = model(**batch)\n",
        "        loss = outputs.loss\n",
        "        accelerator.backward(loss)\n",
        "\n",
        "        optimizer.step()\n",
        "        lr_scheduler.step()\n",
        "        optimizer.zero_grad()\n",
        "        progress_bar.update(1)\n",
        "\n",
        "    model.eval()\n",
        "    start_logits = []\n",
        "    end_logits = []\n",
        "    accelerator.print(\"Evaluation!\")\n",
        "    for batch in tqdm(eval_dataloader):\n",
        "        with torch.no_grad():\n",
        "            outputs = model(**batch)\n",
        "\n",
        "        start_logits.append(accelerator.gather(outputs.start_logits).cpu().numpy())\n",
        "        end_logits.append(accelerator.gather(outputs.end_logits).cpu().numpy())\n",
        "\n",
        "    start_logits = np.concatenate(start_logits)\n",
        "    end_logits = np.concatenate(end_logits)\n",
        "    start_logits = start_logits[: len(validation_dataset)]\n",
        "    end_logits = end_logits[: len(validation_dataset)]\n",
        "\n",
        "    metrics = compute_metrics(\n",
        "        start_logits, end_logits, validation_dataset, raw_datasets[\"validation\"]\n",
        "    )\n",
        "    print(f\"epoch {epoch}:\", metrics)\n",
        "\n",
        "    accelerator.wait_for_everyone()\n",
        "    unwrapped_model = accelerator.unwrap_model(model)\n",
        "    unwrapped_model.save_pretrained(output_dir, save_function=accelerator.save)\n",
        "    if accelerator.is_main_process:\n",
        "        tokenizer.save_pretrained(output_dir)\n",
        "        repo.push_to_hub(\n",
        "            commit_message=f\"Training in progress epoch {epoch}\", blocking=False\n",
        "        )"
      ],
      "metadata": {
        "id": "bjM9wp1CdblE"
      },
      "execution_count": null,
      "outputs": []
    },
    {
      "cell_type": "markdown",
      "source": [
        "# Using the Fine-Tuned Model"
      ],
      "metadata": {
        "id": "KfmOh-JwBYf9"
      }
    },
    {
      "cell_type": "markdown",
      "source": [
        "To use it locally in the pipeline, you just need to specify the model ID:"
      ],
      "metadata": {
        "id": "s3U0asSnBb9V"
      }
    },
    {
      "cell_type": "code",
      "source": [
        "model_checkpoint = \"huggingface-course/bert-finetuned-squad\"\n",
        "question_answerer = pipeline(\"question-answering\", model=model_checkpoint)\n",
        "\n",
        "context = \"\"\"\n",
        "Transformers is backed by the three most popular deep learning libraries — Jax, PyTorch and TensorFlow — with a seamless integration\n",
        "between them. It's straightforward to train your models with one before loading them for inference with the other.\n",
        "\"\"\""
      ],
      "metadata": {
        "colab": {
          "base_uri": "https://localhost:8080/"
        },
        "id": "tZt5-NCvhlpZ",
        "outputId": "18d63014-7f4e-4fa5-fa3c-aea239b3b99b"
      },
      "execution_count": null,
      "outputs": [
        {
          "output_type": "stream",
          "name": "stderr",
          "text": [
            "Device set to use cuda:0\n"
          ]
        }
      ]
    },
    {
      "cell_type": "code",
      "source": [
        "# List of questions\n",
        "questions = [\n",
        "    \"Which deep learning libraries back Transformers?\",\n",
        "    \"How many popular deep learning libraries support Transformers?\",\n",
        "    \"Can you switch between libraries after training a model?\",\n",
        "    \"Name a library that integrates with Transformers other than PyTorch.\",\n",
        "    \"What is the main advantage of Transformers' library integration?\"\n",
        "]\n",
        "\n",
        "# Run a model for each question\n",
        "for question in questions:\n",
        "    result = question_answerer(question=question, context=context)\n",
        "    print(f\"Question: {question}\")\n",
        "    print(f\"Answer: {result['answer']} (score: {result['score']:.4f})\\n\")"
      ],
      "metadata": {
        "colab": {
          "base_uri": "https://localhost:8080/"
        },
        "id": "6XqwUr_Qhmwc",
        "outputId": "147f4278-b678-4c88-944a-18e93d2ff6e7"
      },
      "execution_count": null,
      "outputs": [
        {
          "output_type": "stream",
          "name": "stdout",
          "text": [
            "Вопрос: Which deep learning libraries back Transformers?\n",
            "Ответ: Jax, PyTorch and TensorFlow (score: 0.9982)\n",
            "\n",
            "Вопрос: How many popular deep learning libraries support Transformers?\n",
            "Ответ: three (score: 0.9982)\n",
            "\n",
            "Вопрос: Can you switch between libraries after training a model?\n",
            "Ответ: It's straightforward (score: 0.2549)\n",
            "\n",
            "Вопрос: Name a library that integrates with Transformers other than PyTorch.\n",
            "Ответ: TensorFlow (score: 0.9776)\n",
            "\n",
            "Вопрос: What is the main advantage of Transformers' library integration?\n",
            "Ответ: It's straightforward to train your models with one (score: 0.0449)\n",
            "\n"
          ]
        }
      ]
    },
    {
      "cell_type": "markdown",
      "source": [
        "Great! Our model works just as well as the default model for this pipeline!"
      ],
      "metadata": {
        "id": "0gbv8vsnBh4l"
      }
    }
  ]
}