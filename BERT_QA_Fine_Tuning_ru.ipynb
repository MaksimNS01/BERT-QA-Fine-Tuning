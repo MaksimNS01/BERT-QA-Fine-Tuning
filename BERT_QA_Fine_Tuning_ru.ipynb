{
  "nbformat": 4,
  "nbformat_minor": 0,
  "metadata": {
    "colab": {
      "provenance": [],
      "gpuType": "T4"
    },
    "kernelspec": {
      "name": "python3",
      "display_name": "Python 3"
    },
    "language_info": {
      "name": "python"
    },
    "accelerator": "GPU",
    "widgets": {
      "application/vnd.jupyter.widget-state+json": {
        "61e6e45d6e2f46f29f6de48b3579877f": {
          "model_module": "@jupyter-widgets/controls",
          "model_name": "VBoxModel",
          "model_module_version": "1.5.0",
          "state": {
            "_dom_classes": [],
            "_model_module": "@jupyter-widgets/controls",
            "_model_module_version": "1.5.0",
            "_model_name": "VBoxModel",
            "_view_count": null,
            "_view_module": "@jupyter-widgets/controls",
            "_view_module_version": "1.5.0",
            "_view_name": "VBoxView",
            "box_style": "",
            "children": [],
            "layout": "IPY_MODEL_d7b8211ab5354670934d9a5f13919dec"
          }
        },
        "280c13b519de4ac2988524142a9161f2": {
          "model_module": "@jupyter-widgets/controls",
          "model_name": "HTMLModel",
          "model_module_version": "1.5.0",
          "state": {
            "_dom_classes": [],
            "_model_module": "@jupyter-widgets/controls",
            "_model_module_version": "1.5.0",
            "_model_name": "HTMLModel",
            "_view_count": null,
            "_view_module": "@jupyter-widgets/controls",
            "_view_module_version": "1.5.0",
            "_view_name": "HTMLView",
            "description": "",
            "description_tooltip": null,
            "layout": "IPY_MODEL_564b19fbc43244e2a5cf0c089ff57073",
            "placeholder": "​",
            "style": "IPY_MODEL_08aa312c7b4449e4aadc3ca40f57beb4",
            "value": "<center> <img\nsrc=https://huggingface.co/front/assets/huggingface_logo-noborder.svg\nalt='Hugging Face'> <br> Copy a token from <a\nhref=\"https://huggingface.co/settings/tokens\" target=\"_blank\">your Hugging Face\ntokens page</a> and paste it below. <br> Immediately click login after copying\nyour token or it might be stored in plain text in this notebook file. </center>"
          }
        },
        "62c0f3b92d854f1f881bc2d7eecfa6c7": {
          "model_module": "@jupyter-widgets/controls",
          "model_name": "PasswordModel",
          "model_module_version": "1.5.0",
          "state": {
            "_dom_classes": [],
            "_model_module": "@jupyter-widgets/controls",
            "_model_module_version": "1.5.0",
            "_model_name": "PasswordModel",
            "_view_count": null,
            "_view_module": "@jupyter-widgets/controls",
            "_view_module_version": "1.5.0",
            "_view_name": "PasswordView",
            "continuous_update": true,
            "description": "Token:",
            "description_tooltip": null,
            "disabled": false,
            "layout": "IPY_MODEL_66491c8b18d745bcad2681d27faa6536",
            "placeholder": "​",
            "style": "IPY_MODEL_be22bb25ce924130b2ce2954e528d07e",
            "value": ""
          }
        },
        "217be34f27034f1d814726c29558c10e": {
          "model_module": "@jupyter-widgets/controls",
          "model_name": "CheckboxModel",
          "model_module_version": "1.5.0",
          "state": {
            "_dom_classes": [],
            "_model_module": "@jupyter-widgets/controls",
            "_model_module_version": "1.5.0",
            "_model_name": "CheckboxModel",
            "_view_count": null,
            "_view_module": "@jupyter-widgets/controls",
            "_view_module_version": "1.5.0",
            "_view_name": "CheckboxView",
            "description": "Add token as git credential?",
            "description_tooltip": null,
            "disabled": false,
            "indent": true,
            "layout": "IPY_MODEL_69fdc0a711b34ca4a97784aab71a48d9",
            "style": "IPY_MODEL_cdb9fa7880e5481ea5d1b80f0d123f15",
            "value": true
          }
        },
        "273ed610712949a2a55e8dc7cd58eb22": {
          "model_module": "@jupyter-widgets/controls",
          "model_name": "ButtonModel",
          "model_module_version": "1.5.0",
          "state": {
            "_dom_classes": [],
            "_model_module": "@jupyter-widgets/controls",
            "_model_module_version": "1.5.0",
            "_model_name": "ButtonModel",
            "_view_count": null,
            "_view_module": "@jupyter-widgets/controls",
            "_view_module_version": "1.5.0",
            "_view_name": "ButtonView",
            "button_style": "",
            "description": "Login",
            "disabled": false,
            "icon": "",
            "layout": "IPY_MODEL_8b86e2d29caf475099825f8acdb9e51a",
            "style": "IPY_MODEL_73f83cca7f784bb283e40b00c6ec698e",
            "tooltip": ""
          }
        },
        "430b2b595e434b11a539166694de4d16": {
          "model_module": "@jupyter-widgets/controls",
          "model_name": "HTMLModel",
          "model_module_version": "1.5.0",
          "state": {
            "_dom_classes": [],
            "_model_module": "@jupyter-widgets/controls",
            "_model_module_version": "1.5.0",
            "_model_name": "HTMLModel",
            "_view_count": null,
            "_view_module": "@jupyter-widgets/controls",
            "_view_module_version": "1.5.0",
            "_view_name": "HTMLView",
            "description": "",
            "description_tooltip": null,
            "layout": "IPY_MODEL_d2c8eb77c89f4ca79f6fd25e6a2023da",
            "placeholder": "​",
            "style": "IPY_MODEL_ba32a950ff3c49909706f777a9ff08d7",
            "value": "\n<b>Pro Tip:</b> If you don't already have one, you can create a dedicated\n'notebooks' token with 'write' access, that you can then easily reuse for all\nnotebooks. </center>"
          }
        },
        "d7b8211ab5354670934d9a5f13919dec": {
          "model_module": "@jupyter-widgets/base",
          "model_name": "LayoutModel",
          "model_module_version": "1.2.0",
          "state": {
            "_model_module": "@jupyter-widgets/base",
            "_model_module_version": "1.2.0",
            "_model_name": "LayoutModel",
            "_view_count": null,
            "_view_module": "@jupyter-widgets/base",
            "_view_module_version": "1.2.0",
            "_view_name": "LayoutView",
            "align_content": null,
            "align_items": "center",
            "align_self": null,
            "border": null,
            "bottom": null,
            "display": "flex",
            "flex": null,
            "flex_flow": "column",
            "grid_area": null,
            "grid_auto_columns": null,
            "grid_auto_flow": null,
            "grid_auto_rows": null,
            "grid_column": null,
            "grid_gap": null,
            "grid_row": null,
            "grid_template_areas": null,
            "grid_template_columns": null,
            "grid_template_rows": null,
            "height": null,
            "justify_content": null,
            "justify_items": null,
            "left": null,
            "margin": null,
            "max_height": null,
            "max_width": null,
            "min_height": null,
            "min_width": null,
            "object_fit": null,
            "object_position": null,
            "order": null,
            "overflow": null,
            "overflow_x": null,
            "overflow_y": null,
            "padding": null,
            "right": null,
            "top": null,
            "visibility": null,
            "width": "50%"
          }
        },
        "564b19fbc43244e2a5cf0c089ff57073": {
          "model_module": "@jupyter-widgets/base",
          "model_name": "LayoutModel",
          "model_module_version": "1.2.0",
          "state": {
            "_model_module": "@jupyter-widgets/base",
            "_model_module_version": "1.2.0",
            "_model_name": "LayoutModel",
            "_view_count": null,
            "_view_module": "@jupyter-widgets/base",
            "_view_module_version": "1.2.0",
            "_view_name": "LayoutView",
            "align_content": null,
            "align_items": null,
            "align_self": null,
            "border": null,
            "bottom": null,
            "display": null,
            "flex": null,
            "flex_flow": null,
            "grid_area": null,
            "grid_auto_columns": null,
            "grid_auto_flow": null,
            "grid_auto_rows": null,
            "grid_column": null,
            "grid_gap": null,
            "grid_row": null,
            "grid_template_areas": null,
            "grid_template_columns": null,
            "grid_template_rows": null,
            "height": null,
            "justify_content": null,
            "justify_items": null,
            "left": null,
            "margin": null,
            "max_height": null,
            "max_width": null,
            "min_height": null,
            "min_width": null,
            "object_fit": null,
            "object_position": null,
            "order": null,
            "overflow": null,
            "overflow_x": null,
            "overflow_y": null,
            "padding": null,
            "right": null,
            "top": null,
            "visibility": null,
            "width": null
          }
        },
        "08aa312c7b4449e4aadc3ca40f57beb4": {
          "model_module": "@jupyter-widgets/controls",
          "model_name": "DescriptionStyleModel",
          "model_module_version": "1.5.0",
          "state": {
            "_model_module": "@jupyter-widgets/controls",
            "_model_module_version": "1.5.0",
            "_model_name": "DescriptionStyleModel",
            "_view_count": null,
            "_view_module": "@jupyter-widgets/base",
            "_view_module_version": "1.2.0",
            "_view_name": "StyleView",
            "description_width": ""
          }
        },
        "66491c8b18d745bcad2681d27faa6536": {
          "model_module": "@jupyter-widgets/base",
          "model_name": "LayoutModel",
          "model_module_version": "1.2.0",
          "state": {
            "_model_module": "@jupyter-widgets/base",
            "_model_module_version": "1.2.0",
            "_model_name": "LayoutModel",
            "_view_count": null,
            "_view_module": "@jupyter-widgets/base",
            "_view_module_version": "1.2.0",
            "_view_name": "LayoutView",
            "align_content": null,
            "align_items": null,
            "align_self": null,
            "border": null,
            "bottom": null,
            "display": null,
            "flex": null,
            "flex_flow": null,
            "grid_area": null,
            "grid_auto_columns": null,
            "grid_auto_flow": null,
            "grid_auto_rows": null,
            "grid_column": null,
            "grid_gap": null,
            "grid_row": null,
            "grid_template_areas": null,
            "grid_template_columns": null,
            "grid_template_rows": null,
            "height": null,
            "justify_content": null,
            "justify_items": null,
            "left": null,
            "margin": null,
            "max_height": null,
            "max_width": null,
            "min_height": null,
            "min_width": null,
            "object_fit": null,
            "object_position": null,
            "order": null,
            "overflow": null,
            "overflow_x": null,
            "overflow_y": null,
            "padding": null,
            "right": null,
            "top": null,
            "visibility": null,
            "width": null
          }
        },
        "be22bb25ce924130b2ce2954e528d07e": {
          "model_module": "@jupyter-widgets/controls",
          "model_name": "DescriptionStyleModel",
          "model_module_version": "1.5.0",
          "state": {
            "_model_module": "@jupyter-widgets/controls",
            "_model_module_version": "1.5.0",
            "_model_name": "DescriptionStyleModel",
            "_view_count": null,
            "_view_module": "@jupyter-widgets/base",
            "_view_module_version": "1.2.0",
            "_view_name": "StyleView",
            "description_width": ""
          }
        },
        "69fdc0a711b34ca4a97784aab71a48d9": {
          "model_module": "@jupyter-widgets/base",
          "model_name": "LayoutModel",
          "model_module_version": "1.2.0",
          "state": {
            "_model_module": "@jupyter-widgets/base",
            "_model_module_version": "1.2.0",
            "_model_name": "LayoutModel",
            "_view_count": null,
            "_view_module": "@jupyter-widgets/base",
            "_view_module_version": "1.2.0",
            "_view_name": "LayoutView",
            "align_content": null,
            "align_items": null,
            "align_self": null,
            "border": null,
            "bottom": null,
            "display": null,
            "flex": null,
            "flex_flow": null,
            "grid_area": null,
            "grid_auto_columns": null,
            "grid_auto_flow": null,
            "grid_auto_rows": null,
            "grid_column": null,
            "grid_gap": null,
            "grid_row": null,
            "grid_template_areas": null,
            "grid_template_columns": null,
            "grid_template_rows": null,
            "height": null,
            "justify_content": null,
            "justify_items": null,
            "left": null,
            "margin": null,
            "max_height": null,
            "max_width": null,
            "min_height": null,
            "min_width": null,
            "object_fit": null,
            "object_position": null,
            "order": null,
            "overflow": null,
            "overflow_x": null,
            "overflow_y": null,
            "padding": null,
            "right": null,
            "top": null,
            "visibility": null,
            "width": null
          }
        },
        "cdb9fa7880e5481ea5d1b80f0d123f15": {
          "model_module": "@jupyter-widgets/controls",
          "model_name": "DescriptionStyleModel",
          "model_module_version": "1.5.0",
          "state": {
            "_model_module": "@jupyter-widgets/controls",
            "_model_module_version": "1.5.0",
            "_model_name": "DescriptionStyleModel",
            "_view_count": null,
            "_view_module": "@jupyter-widgets/base",
            "_view_module_version": "1.2.0",
            "_view_name": "StyleView",
            "description_width": ""
          }
        },
        "8b86e2d29caf475099825f8acdb9e51a": {
          "model_module": "@jupyter-widgets/base",
          "model_name": "LayoutModel",
          "model_module_version": "1.2.0",
          "state": {
            "_model_module": "@jupyter-widgets/base",
            "_model_module_version": "1.2.0",
            "_model_name": "LayoutModel",
            "_view_count": null,
            "_view_module": "@jupyter-widgets/base",
            "_view_module_version": "1.2.0",
            "_view_name": "LayoutView",
            "align_content": null,
            "align_items": null,
            "align_self": null,
            "border": null,
            "bottom": null,
            "display": null,
            "flex": null,
            "flex_flow": null,
            "grid_area": null,
            "grid_auto_columns": null,
            "grid_auto_flow": null,
            "grid_auto_rows": null,
            "grid_column": null,
            "grid_gap": null,
            "grid_row": null,
            "grid_template_areas": null,
            "grid_template_columns": null,
            "grid_template_rows": null,
            "height": null,
            "justify_content": null,
            "justify_items": null,
            "left": null,
            "margin": null,
            "max_height": null,
            "max_width": null,
            "min_height": null,
            "min_width": null,
            "object_fit": null,
            "object_position": null,
            "order": null,
            "overflow": null,
            "overflow_x": null,
            "overflow_y": null,
            "padding": null,
            "right": null,
            "top": null,
            "visibility": null,
            "width": null
          }
        },
        "73f83cca7f784bb283e40b00c6ec698e": {
          "model_module": "@jupyter-widgets/controls",
          "model_name": "ButtonStyleModel",
          "model_module_version": "1.5.0",
          "state": {
            "_model_module": "@jupyter-widgets/controls",
            "_model_module_version": "1.5.0",
            "_model_name": "ButtonStyleModel",
            "_view_count": null,
            "_view_module": "@jupyter-widgets/base",
            "_view_module_version": "1.2.0",
            "_view_name": "StyleView",
            "button_color": null,
            "font_weight": ""
          }
        },
        "d2c8eb77c89f4ca79f6fd25e6a2023da": {
          "model_module": "@jupyter-widgets/base",
          "model_name": "LayoutModel",
          "model_module_version": "1.2.0",
          "state": {
            "_model_module": "@jupyter-widgets/base",
            "_model_module_version": "1.2.0",
            "_model_name": "LayoutModel",
            "_view_count": null,
            "_view_module": "@jupyter-widgets/base",
            "_view_module_version": "1.2.0",
            "_view_name": "LayoutView",
            "align_content": null,
            "align_items": null,
            "align_self": null,
            "border": null,
            "bottom": null,
            "display": null,
            "flex": null,
            "flex_flow": null,
            "grid_area": null,
            "grid_auto_columns": null,
            "grid_auto_flow": null,
            "grid_auto_rows": null,
            "grid_column": null,
            "grid_gap": null,
            "grid_row": null,
            "grid_template_areas": null,
            "grid_template_columns": null,
            "grid_template_rows": null,
            "height": null,
            "justify_content": null,
            "justify_items": null,
            "left": null,
            "margin": null,
            "max_height": null,
            "max_width": null,
            "min_height": null,
            "min_width": null,
            "object_fit": null,
            "object_position": null,
            "order": null,
            "overflow": null,
            "overflow_x": null,
            "overflow_y": null,
            "padding": null,
            "right": null,
            "top": null,
            "visibility": null,
            "width": null
          }
        },
        "ba32a950ff3c49909706f777a9ff08d7": {
          "model_module": "@jupyter-widgets/controls",
          "model_name": "DescriptionStyleModel",
          "model_module_version": "1.5.0",
          "state": {
            "_model_module": "@jupyter-widgets/controls",
            "_model_module_version": "1.5.0",
            "_model_name": "DescriptionStyleModel",
            "_view_count": null,
            "_view_module": "@jupyter-widgets/base",
            "_view_module_version": "1.2.0",
            "_view_name": "StyleView",
            "description_width": ""
          }
        },
        "3ae015725a224b6bb1f9e69f2970fc17": {
          "model_module": "@jupyter-widgets/controls",
          "model_name": "LabelModel",
          "model_module_version": "1.5.0",
          "state": {
            "_dom_classes": [],
            "_model_module": "@jupyter-widgets/controls",
            "_model_module_version": "1.5.0",
            "_model_name": "LabelModel",
            "_view_count": null,
            "_view_module": "@jupyter-widgets/controls",
            "_view_module_version": "1.5.0",
            "_view_name": "LabelView",
            "description": "",
            "description_tooltip": null,
            "layout": "IPY_MODEL_3796d8e6fcce43999d966eb0e6aeb326",
            "placeholder": "​",
            "style": "IPY_MODEL_20dae179fec3449b9c0a2000e3610d1c",
            "value": "Connecting..."
          }
        },
        "3796d8e6fcce43999d966eb0e6aeb326": {
          "model_module": "@jupyter-widgets/base",
          "model_name": "LayoutModel",
          "model_module_version": "1.2.0",
          "state": {
            "_model_module": "@jupyter-widgets/base",
            "_model_module_version": "1.2.0",
            "_model_name": "LayoutModel",
            "_view_count": null,
            "_view_module": "@jupyter-widgets/base",
            "_view_module_version": "1.2.0",
            "_view_name": "LayoutView",
            "align_content": null,
            "align_items": null,
            "align_self": null,
            "border": null,
            "bottom": null,
            "display": null,
            "flex": null,
            "flex_flow": null,
            "grid_area": null,
            "grid_auto_columns": null,
            "grid_auto_flow": null,
            "grid_auto_rows": null,
            "grid_column": null,
            "grid_gap": null,
            "grid_row": null,
            "grid_template_areas": null,
            "grid_template_columns": null,
            "grid_template_rows": null,
            "height": null,
            "justify_content": null,
            "justify_items": null,
            "left": null,
            "margin": null,
            "max_height": null,
            "max_width": null,
            "min_height": null,
            "min_width": null,
            "object_fit": null,
            "object_position": null,
            "order": null,
            "overflow": null,
            "overflow_x": null,
            "overflow_y": null,
            "padding": null,
            "right": null,
            "top": null,
            "visibility": null,
            "width": null
          }
        },
        "20dae179fec3449b9c0a2000e3610d1c": {
          "model_module": "@jupyter-widgets/controls",
          "model_name": "DescriptionStyleModel",
          "model_module_version": "1.5.0",
          "state": {
            "_model_module": "@jupyter-widgets/controls",
            "_model_module_version": "1.5.0",
            "_model_name": "DescriptionStyleModel",
            "_view_count": null,
            "_view_module": "@jupyter-widgets/base",
            "_view_module_version": "1.2.0",
            "_view_name": "StyleView",
            "description_width": ""
          }
        },
        "364c008123e94520ae86327b45012df9": {
          "model_module": "@jupyter-widgets/controls",
          "model_name": "HBoxModel",
          "model_module_version": "1.5.0",
          "state": {
            "_dom_classes": [],
            "_model_module": "@jupyter-widgets/controls",
            "_model_module_version": "1.5.0",
            "_model_name": "HBoxModel",
            "_view_count": null,
            "_view_module": "@jupyter-widgets/controls",
            "_view_module_version": "1.5.0",
            "_view_name": "HBoxView",
            "box_style": "",
            "children": [
              "IPY_MODEL_97bdce6f50a3424a85dde5b811238a95",
              "IPY_MODEL_e4b3f42a0b71490bb725c1423423a11a",
              "IPY_MODEL_9f4b4a6db2fc4dbd905af6edc2697e3e"
            ],
            "layout": "IPY_MODEL_a2b847bf345f462a9f84a9a46f41b4ec"
          }
        },
        "97bdce6f50a3424a85dde5b811238a95": {
          "model_module": "@jupyter-widgets/controls",
          "model_name": "HTMLModel",
          "model_module_version": "1.5.0",
          "state": {
            "_dom_classes": [],
            "_model_module": "@jupyter-widgets/controls",
            "_model_module_version": "1.5.0",
            "_model_name": "HTMLModel",
            "_view_count": null,
            "_view_module": "@jupyter-widgets/controls",
            "_view_module_version": "1.5.0",
            "_view_name": "HTMLView",
            "description": "",
            "description_tooltip": null,
            "layout": "IPY_MODEL_b8760aa8382d49198d02edb3ac4da6a0",
            "placeholder": "​",
            "style": "IPY_MODEL_ba7a675f3a1a461d97e4595c59577d6b",
            "value": "README.md: 100%"
          }
        },
        "e4b3f42a0b71490bb725c1423423a11a": {
          "model_module": "@jupyter-widgets/controls",
          "model_name": "FloatProgressModel",
          "model_module_version": "1.5.0",
          "state": {
            "_dom_classes": [],
            "_model_module": "@jupyter-widgets/controls",
            "_model_module_version": "1.5.0",
            "_model_name": "FloatProgressModel",
            "_view_count": null,
            "_view_module": "@jupyter-widgets/controls",
            "_view_module_version": "1.5.0",
            "_view_name": "ProgressView",
            "bar_style": "success",
            "description": "",
            "description_tooltip": null,
            "layout": "IPY_MODEL_2b832d50f77d44388141024509e88a85",
            "max": 7620,
            "min": 0,
            "orientation": "horizontal",
            "style": "IPY_MODEL_a5c74b26c7b14a8b96a35f3e26839adb",
            "value": 7620
          }
        },
        "9f4b4a6db2fc4dbd905af6edc2697e3e": {
          "model_module": "@jupyter-widgets/controls",
          "model_name": "HTMLModel",
          "model_module_version": "1.5.0",
          "state": {
            "_dom_classes": [],
            "_model_module": "@jupyter-widgets/controls",
            "_model_module_version": "1.5.0",
            "_model_name": "HTMLModel",
            "_view_count": null,
            "_view_module": "@jupyter-widgets/controls",
            "_view_module_version": "1.5.0",
            "_view_name": "HTMLView",
            "description": "",
            "description_tooltip": null,
            "layout": "IPY_MODEL_a303f24b0e9047839d51669a58d845e5",
            "placeholder": "​",
            "style": "IPY_MODEL_7e8d42e7404e4a928b68575423142302",
            "value": " 7.62k/7.62k [00:00&lt;00:00, 290kB/s]"
          }
        },
        "a2b847bf345f462a9f84a9a46f41b4ec": {
          "model_module": "@jupyter-widgets/base",
          "model_name": "LayoutModel",
          "model_module_version": "1.2.0",
          "state": {
            "_model_module": "@jupyter-widgets/base",
            "_model_module_version": "1.2.0",
            "_model_name": "LayoutModel",
            "_view_count": null,
            "_view_module": "@jupyter-widgets/base",
            "_view_module_version": "1.2.0",
            "_view_name": "LayoutView",
            "align_content": null,
            "align_items": null,
            "align_self": null,
            "border": null,
            "bottom": null,
            "display": null,
            "flex": null,
            "flex_flow": null,
            "grid_area": null,
            "grid_auto_columns": null,
            "grid_auto_flow": null,
            "grid_auto_rows": null,
            "grid_column": null,
            "grid_gap": null,
            "grid_row": null,
            "grid_template_areas": null,
            "grid_template_columns": null,
            "grid_template_rows": null,
            "height": null,
            "justify_content": null,
            "justify_items": null,
            "left": null,
            "margin": null,
            "max_height": null,
            "max_width": null,
            "min_height": null,
            "min_width": null,
            "object_fit": null,
            "object_position": null,
            "order": null,
            "overflow": null,
            "overflow_x": null,
            "overflow_y": null,
            "padding": null,
            "right": null,
            "top": null,
            "visibility": null,
            "width": null
          }
        },
        "b8760aa8382d49198d02edb3ac4da6a0": {
          "model_module": "@jupyter-widgets/base",
          "model_name": "LayoutModel",
          "model_module_version": "1.2.0",
          "state": {
            "_model_module": "@jupyter-widgets/base",
            "_model_module_version": "1.2.0",
            "_model_name": "LayoutModel",
            "_view_count": null,
            "_view_module": "@jupyter-widgets/base",
            "_view_module_version": "1.2.0",
            "_view_name": "LayoutView",
            "align_content": null,
            "align_items": null,
            "align_self": null,
            "border": null,
            "bottom": null,
            "display": null,
            "flex": null,
            "flex_flow": null,
            "grid_area": null,
            "grid_auto_columns": null,
            "grid_auto_flow": null,
            "grid_auto_rows": null,
            "grid_column": null,
            "grid_gap": null,
            "grid_row": null,
            "grid_template_areas": null,
            "grid_template_columns": null,
            "grid_template_rows": null,
            "height": null,
            "justify_content": null,
            "justify_items": null,
            "left": null,
            "margin": null,
            "max_height": null,
            "max_width": null,
            "min_height": null,
            "min_width": null,
            "object_fit": null,
            "object_position": null,
            "order": null,
            "overflow": null,
            "overflow_x": null,
            "overflow_y": null,
            "padding": null,
            "right": null,
            "top": null,
            "visibility": null,
            "width": null
          }
        },
        "ba7a675f3a1a461d97e4595c59577d6b": {
          "model_module": "@jupyter-widgets/controls",
          "model_name": "DescriptionStyleModel",
          "model_module_version": "1.5.0",
          "state": {
            "_model_module": "@jupyter-widgets/controls",
            "_model_module_version": "1.5.0",
            "_model_name": "DescriptionStyleModel",
            "_view_count": null,
            "_view_module": "@jupyter-widgets/base",
            "_view_module_version": "1.2.0",
            "_view_name": "StyleView",
            "description_width": ""
          }
        },
        "2b832d50f77d44388141024509e88a85": {
          "model_module": "@jupyter-widgets/base",
          "model_name": "LayoutModel",
          "model_module_version": "1.2.0",
          "state": {
            "_model_module": "@jupyter-widgets/base",
            "_model_module_version": "1.2.0",
            "_model_name": "LayoutModel",
            "_view_count": null,
            "_view_module": "@jupyter-widgets/base",
            "_view_module_version": "1.2.0",
            "_view_name": "LayoutView",
            "align_content": null,
            "align_items": null,
            "align_self": null,
            "border": null,
            "bottom": null,
            "display": null,
            "flex": null,
            "flex_flow": null,
            "grid_area": null,
            "grid_auto_columns": null,
            "grid_auto_flow": null,
            "grid_auto_rows": null,
            "grid_column": null,
            "grid_gap": null,
            "grid_row": null,
            "grid_template_areas": null,
            "grid_template_columns": null,
            "grid_template_rows": null,
            "height": null,
            "justify_content": null,
            "justify_items": null,
            "left": null,
            "margin": null,
            "max_height": null,
            "max_width": null,
            "min_height": null,
            "min_width": null,
            "object_fit": null,
            "object_position": null,
            "order": null,
            "overflow": null,
            "overflow_x": null,
            "overflow_y": null,
            "padding": null,
            "right": null,
            "top": null,
            "visibility": null,
            "width": null
          }
        },
        "a5c74b26c7b14a8b96a35f3e26839adb": {
          "model_module": "@jupyter-widgets/controls",
          "model_name": "ProgressStyleModel",
          "model_module_version": "1.5.0",
          "state": {
            "_model_module": "@jupyter-widgets/controls",
            "_model_module_version": "1.5.0",
            "_model_name": "ProgressStyleModel",
            "_view_count": null,
            "_view_module": "@jupyter-widgets/base",
            "_view_module_version": "1.2.0",
            "_view_name": "StyleView",
            "bar_color": null,
            "description_width": ""
          }
        },
        "a303f24b0e9047839d51669a58d845e5": {
          "model_module": "@jupyter-widgets/base",
          "model_name": "LayoutModel",
          "model_module_version": "1.2.0",
          "state": {
            "_model_module": "@jupyter-widgets/base",
            "_model_module_version": "1.2.0",
            "_model_name": "LayoutModel",
            "_view_count": null,
            "_view_module": "@jupyter-widgets/base",
            "_view_module_version": "1.2.0",
            "_view_name": "LayoutView",
            "align_content": null,
            "align_items": null,
            "align_self": null,
            "border": null,
            "bottom": null,
            "display": null,
            "flex": null,
            "flex_flow": null,
            "grid_area": null,
            "grid_auto_columns": null,
            "grid_auto_flow": null,
            "grid_auto_rows": null,
            "grid_column": null,
            "grid_gap": null,
            "grid_row": null,
            "grid_template_areas": null,
            "grid_template_columns": null,
            "grid_template_rows": null,
            "height": null,
            "justify_content": null,
            "justify_items": null,
            "left": null,
            "margin": null,
            "max_height": null,
            "max_width": null,
            "min_height": null,
            "min_width": null,
            "object_fit": null,
            "object_position": null,
            "order": null,
            "overflow": null,
            "overflow_x": null,
            "overflow_y": null,
            "padding": null,
            "right": null,
            "top": null,
            "visibility": null,
            "width": null
          }
        },
        "7e8d42e7404e4a928b68575423142302": {
          "model_module": "@jupyter-widgets/controls",
          "model_name": "DescriptionStyleModel",
          "model_module_version": "1.5.0",
          "state": {
            "_model_module": "@jupyter-widgets/controls",
            "_model_module_version": "1.5.0",
            "_model_name": "DescriptionStyleModel",
            "_view_count": null,
            "_view_module": "@jupyter-widgets/base",
            "_view_module_version": "1.2.0",
            "_view_name": "StyleView",
            "description_width": ""
          }
        },
        "393291be860341c7af1c47f4dab6a216": {
          "model_module": "@jupyter-widgets/controls",
          "model_name": "HBoxModel",
          "model_module_version": "1.5.0",
          "state": {
            "_dom_classes": [],
            "_model_module": "@jupyter-widgets/controls",
            "_model_module_version": "1.5.0",
            "_model_name": "HBoxModel",
            "_view_count": null,
            "_view_module": "@jupyter-widgets/controls",
            "_view_module_version": "1.5.0",
            "_view_name": "HBoxView",
            "box_style": "",
            "children": [
              "IPY_MODEL_4444099d2c824dc0972ca7d3d227f4aa",
              "IPY_MODEL_236e48c671ea44cc8b92109464ccbff0",
              "IPY_MODEL_a2d4f5a077e3446f971c49763030a899"
            ],
            "layout": "IPY_MODEL_4848fc36af86477f93c90758e66fab62"
          }
        },
        "4444099d2c824dc0972ca7d3d227f4aa": {
          "model_module": "@jupyter-widgets/controls",
          "model_name": "HTMLModel",
          "model_module_version": "1.5.0",
          "state": {
            "_dom_classes": [],
            "_model_module": "@jupyter-widgets/controls",
            "_model_module_version": "1.5.0",
            "_model_name": "HTMLModel",
            "_view_count": null,
            "_view_module": "@jupyter-widgets/controls",
            "_view_module_version": "1.5.0",
            "_view_name": "HTMLView",
            "description": "",
            "description_tooltip": null,
            "layout": "IPY_MODEL_0857ed038da442ebbb4113e6f2413317",
            "placeholder": "​",
            "style": "IPY_MODEL_954c6563ef7b44fbbef67aa097be241b",
            "value": "train-00000-of-00001.parquet: 100%"
          }
        },
        "236e48c671ea44cc8b92109464ccbff0": {
          "model_module": "@jupyter-widgets/controls",
          "model_name": "FloatProgressModel",
          "model_module_version": "1.5.0",
          "state": {
            "_dom_classes": [],
            "_model_module": "@jupyter-widgets/controls",
            "_model_module_version": "1.5.0",
            "_model_name": "FloatProgressModel",
            "_view_count": null,
            "_view_module": "@jupyter-widgets/controls",
            "_view_module_version": "1.5.0",
            "_view_name": "ProgressView",
            "bar_style": "success",
            "description": "",
            "description_tooltip": null,
            "layout": "IPY_MODEL_894394df32524ed983450a4b2d55b186",
            "max": 14458314,
            "min": 0,
            "orientation": "horizontal",
            "style": "IPY_MODEL_f054e46b310d49a6bf57a0252b3fce08",
            "value": 14458314
          }
        },
        "a2d4f5a077e3446f971c49763030a899": {
          "model_module": "@jupyter-widgets/controls",
          "model_name": "HTMLModel",
          "model_module_version": "1.5.0",
          "state": {
            "_dom_classes": [],
            "_model_module": "@jupyter-widgets/controls",
            "_model_module_version": "1.5.0",
            "_model_name": "HTMLModel",
            "_view_count": null,
            "_view_module": "@jupyter-widgets/controls",
            "_view_module_version": "1.5.0",
            "_view_name": "HTMLView",
            "description": "",
            "description_tooltip": null,
            "layout": "IPY_MODEL_c9986502e5304c12b0fe262ef3f6cefe",
            "placeholder": "​",
            "style": "IPY_MODEL_c517adde392141319d703302b90c4d14",
            "value": " 14.5M/14.5M [00:00&lt;00:00, 24.2MB/s]"
          }
        },
        "4848fc36af86477f93c90758e66fab62": {
          "model_module": "@jupyter-widgets/base",
          "model_name": "LayoutModel",
          "model_module_version": "1.2.0",
          "state": {
            "_model_module": "@jupyter-widgets/base",
            "_model_module_version": "1.2.0",
            "_model_name": "LayoutModel",
            "_view_count": null,
            "_view_module": "@jupyter-widgets/base",
            "_view_module_version": "1.2.0",
            "_view_name": "LayoutView",
            "align_content": null,
            "align_items": null,
            "align_self": null,
            "border": null,
            "bottom": null,
            "display": null,
            "flex": null,
            "flex_flow": null,
            "grid_area": null,
            "grid_auto_columns": null,
            "grid_auto_flow": null,
            "grid_auto_rows": null,
            "grid_column": null,
            "grid_gap": null,
            "grid_row": null,
            "grid_template_areas": null,
            "grid_template_columns": null,
            "grid_template_rows": null,
            "height": null,
            "justify_content": null,
            "justify_items": null,
            "left": null,
            "margin": null,
            "max_height": null,
            "max_width": null,
            "min_height": null,
            "min_width": null,
            "object_fit": null,
            "object_position": null,
            "order": null,
            "overflow": null,
            "overflow_x": null,
            "overflow_y": null,
            "padding": null,
            "right": null,
            "top": null,
            "visibility": null,
            "width": null
          }
        },
        "0857ed038da442ebbb4113e6f2413317": {
          "model_module": "@jupyter-widgets/base",
          "model_name": "LayoutModel",
          "model_module_version": "1.2.0",
          "state": {
            "_model_module": "@jupyter-widgets/base",
            "_model_module_version": "1.2.0",
            "_model_name": "LayoutModel",
            "_view_count": null,
            "_view_module": "@jupyter-widgets/base",
            "_view_module_version": "1.2.0",
            "_view_name": "LayoutView",
            "align_content": null,
            "align_items": null,
            "align_self": null,
            "border": null,
            "bottom": null,
            "display": null,
            "flex": null,
            "flex_flow": null,
            "grid_area": null,
            "grid_auto_columns": null,
            "grid_auto_flow": null,
            "grid_auto_rows": null,
            "grid_column": null,
            "grid_gap": null,
            "grid_row": null,
            "grid_template_areas": null,
            "grid_template_columns": null,
            "grid_template_rows": null,
            "height": null,
            "justify_content": null,
            "justify_items": null,
            "left": null,
            "margin": null,
            "max_height": null,
            "max_width": null,
            "min_height": null,
            "min_width": null,
            "object_fit": null,
            "object_position": null,
            "order": null,
            "overflow": null,
            "overflow_x": null,
            "overflow_y": null,
            "padding": null,
            "right": null,
            "top": null,
            "visibility": null,
            "width": null
          }
        },
        "954c6563ef7b44fbbef67aa097be241b": {
          "model_module": "@jupyter-widgets/controls",
          "model_name": "DescriptionStyleModel",
          "model_module_version": "1.5.0",
          "state": {
            "_model_module": "@jupyter-widgets/controls",
            "_model_module_version": "1.5.0",
            "_model_name": "DescriptionStyleModel",
            "_view_count": null,
            "_view_module": "@jupyter-widgets/base",
            "_view_module_version": "1.2.0",
            "_view_name": "StyleView",
            "description_width": ""
          }
        },
        "894394df32524ed983450a4b2d55b186": {
          "model_module": "@jupyter-widgets/base",
          "model_name": "LayoutModel",
          "model_module_version": "1.2.0",
          "state": {
            "_model_module": "@jupyter-widgets/base",
            "_model_module_version": "1.2.0",
            "_model_name": "LayoutModel",
            "_view_count": null,
            "_view_module": "@jupyter-widgets/base",
            "_view_module_version": "1.2.0",
            "_view_name": "LayoutView",
            "align_content": null,
            "align_items": null,
            "align_self": null,
            "border": null,
            "bottom": null,
            "display": null,
            "flex": null,
            "flex_flow": null,
            "grid_area": null,
            "grid_auto_columns": null,
            "grid_auto_flow": null,
            "grid_auto_rows": null,
            "grid_column": null,
            "grid_gap": null,
            "grid_row": null,
            "grid_template_areas": null,
            "grid_template_columns": null,
            "grid_template_rows": null,
            "height": null,
            "justify_content": null,
            "justify_items": null,
            "left": null,
            "margin": null,
            "max_height": null,
            "max_width": null,
            "min_height": null,
            "min_width": null,
            "object_fit": null,
            "object_position": null,
            "order": null,
            "overflow": null,
            "overflow_x": null,
            "overflow_y": null,
            "padding": null,
            "right": null,
            "top": null,
            "visibility": null,
            "width": null
          }
        },
        "f054e46b310d49a6bf57a0252b3fce08": {
          "model_module": "@jupyter-widgets/controls",
          "model_name": "ProgressStyleModel",
          "model_module_version": "1.5.0",
          "state": {
            "_model_module": "@jupyter-widgets/controls",
            "_model_module_version": "1.5.0",
            "_model_name": "ProgressStyleModel",
            "_view_count": null,
            "_view_module": "@jupyter-widgets/base",
            "_view_module_version": "1.2.0",
            "_view_name": "StyleView",
            "bar_color": null,
            "description_width": ""
          }
        },
        "c9986502e5304c12b0fe262ef3f6cefe": {
          "model_module": "@jupyter-widgets/base",
          "model_name": "LayoutModel",
          "model_module_version": "1.2.0",
          "state": {
            "_model_module": "@jupyter-widgets/base",
            "_model_module_version": "1.2.0",
            "_model_name": "LayoutModel",
            "_view_count": null,
            "_view_module": "@jupyter-widgets/base",
            "_view_module_version": "1.2.0",
            "_view_name": "LayoutView",
            "align_content": null,
            "align_items": null,
            "align_self": null,
            "border": null,
            "bottom": null,
            "display": null,
            "flex": null,
            "flex_flow": null,
            "grid_area": null,
            "grid_auto_columns": null,
            "grid_auto_flow": null,
            "grid_auto_rows": null,
            "grid_column": null,
            "grid_gap": null,
            "grid_row": null,
            "grid_template_areas": null,
            "grid_template_columns": null,
            "grid_template_rows": null,
            "height": null,
            "justify_content": null,
            "justify_items": null,
            "left": null,
            "margin": null,
            "max_height": null,
            "max_width": null,
            "min_height": null,
            "min_width": null,
            "object_fit": null,
            "object_position": null,
            "order": null,
            "overflow": null,
            "overflow_x": null,
            "overflow_y": null,
            "padding": null,
            "right": null,
            "top": null,
            "visibility": null,
            "width": null
          }
        },
        "c517adde392141319d703302b90c4d14": {
          "model_module": "@jupyter-widgets/controls",
          "model_name": "DescriptionStyleModel",
          "model_module_version": "1.5.0",
          "state": {
            "_model_module": "@jupyter-widgets/controls",
            "_model_module_version": "1.5.0",
            "_model_name": "DescriptionStyleModel",
            "_view_count": null,
            "_view_module": "@jupyter-widgets/base",
            "_view_module_version": "1.2.0",
            "_view_name": "StyleView",
            "description_width": ""
          }
        },
        "23bf838797b04f72a765c9218a4af0d6": {
          "model_module": "@jupyter-widgets/controls",
          "model_name": "HBoxModel",
          "model_module_version": "1.5.0",
          "state": {
            "_dom_classes": [],
            "_model_module": "@jupyter-widgets/controls",
            "_model_module_version": "1.5.0",
            "_model_name": "HBoxModel",
            "_view_count": null,
            "_view_module": "@jupyter-widgets/controls",
            "_view_module_version": "1.5.0",
            "_view_name": "HBoxView",
            "box_style": "",
            "children": [
              "IPY_MODEL_13cb99ae3d224a5d85684bebfa4af4f2",
              "IPY_MODEL_26f272838bad4123af2f4ec0e4481714",
              "IPY_MODEL_b96fe879aad24db88e0ef7977d7a2755"
            ],
            "layout": "IPY_MODEL_083c9c0eab0f4c81b7218744e9c794c6"
          }
        },
        "13cb99ae3d224a5d85684bebfa4af4f2": {
          "model_module": "@jupyter-widgets/controls",
          "model_name": "HTMLModel",
          "model_module_version": "1.5.0",
          "state": {
            "_dom_classes": [],
            "_model_module": "@jupyter-widgets/controls",
            "_model_module_version": "1.5.0",
            "_model_name": "HTMLModel",
            "_view_count": null,
            "_view_module": "@jupyter-widgets/controls",
            "_view_module_version": "1.5.0",
            "_view_name": "HTMLView",
            "description": "",
            "description_tooltip": null,
            "layout": "IPY_MODEL_d54f5eedeafb4b86ae551aeccfa59bed",
            "placeholder": "​",
            "style": "IPY_MODEL_a84ae8412cb5491183b68a083e8e8443",
            "value": "validation-00000-of-00001.parquet: 100%"
          }
        },
        "26f272838bad4123af2f4ec0e4481714": {
          "model_module": "@jupyter-widgets/controls",
          "model_name": "FloatProgressModel",
          "model_module_version": "1.5.0",
          "state": {
            "_dom_classes": [],
            "_model_module": "@jupyter-widgets/controls",
            "_model_module_version": "1.5.0",
            "_model_name": "FloatProgressModel",
            "_view_count": null,
            "_view_module": "@jupyter-widgets/controls",
            "_view_module_version": "1.5.0",
            "_view_name": "ProgressView",
            "bar_style": "success",
            "description": "",
            "description_tooltip": null,
            "layout": "IPY_MODEL_7be2d7323dd943d6a915690f4ea253bf",
            "max": 1819889,
            "min": 0,
            "orientation": "horizontal",
            "style": "IPY_MODEL_cbeea76c675d4e4dafbc95d608b4d117",
            "value": 1819889
          }
        },
        "b96fe879aad24db88e0ef7977d7a2755": {
          "model_module": "@jupyter-widgets/controls",
          "model_name": "HTMLModel",
          "model_module_version": "1.5.0",
          "state": {
            "_dom_classes": [],
            "_model_module": "@jupyter-widgets/controls",
            "_model_module_version": "1.5.0",
            "_model_name": "HTMLModel",
            "_view_count": null,
            "_view_module": "@jupyter-widgets/controls",
            "_view_module_version": "1.5.0",
            "_view_name": "HTMLView",
            "description": "",
            "description_tooltip": null,
            "layout": "IPY_MODEL_d4bd4d40f64e48d8816da35e38143b99",
            "placeholder": "​",
            "style": "IPY_MODEL_848ddb97c4454e09976717775a0a0283",
            "value": " 1.82M/1.82M [00:00&lt;00:00, 14.4MB/s]"
          }
        },
        "083c9c0eab0f4c81b7218744e9c794c6": {
          "model_module": "@jupyter-widgets/base",
          "model_name": "LayoutModel",
          "model_module_version": "1.2.0",
          "state": {
            "_model_module": "@jupyter-widgets/base",
            "_model_module_version": "1.2.0",
            "_model_name": "LayoutModel",
            "_view_count": null,
            "_view_module": "@jupyter-widgets/base",
            "_view_module_version": "1.2.0",
            "_view_name": "LayoutView",
            "align_content": null,
            "align_items": null,
            "align_self": null,
            "border": null,
            "bottom": null,
            "display": null,
            "flex": null,
            "flex_flow": null,
            "grid_area": null,
            "grid_auto_columns": null,
            "grid_auto_flow": null,
            "grid_auto_rows": null,
            "grid_column": null,
            "grid_gap": null,
            "grid_row": null,
            "grid_template_areas": null,
            "grid_template_columns": null,
            "grid_template_rows": null,
            "height": null,
            "justify_content": null,
            "justify_items": null,
            "left": null,
            "margin": null,
            "max_height": null,
            "max_width": null,
            "min_height": null,
            "min_width": null,
            "object_fit": null,
            "object_position": null,
            "order": null,
            "overflow": null,
            "overflow_x": null,
            "overflow_y": null,
            "padding": null,
            "right": null,
            "top": null,
            "visibility": null,
            "width": null
          }
        },
        "d54f5eedeafb4b86ae551aeccfa59bed": {
          "model_module": "@jupyter-widgets/base",
          "model_name": "LayoutModel",
          "model_module_version": "1.2.0",
          "state": {
            "_model_module": "@jupyter-widgets/base",
            "_model_module_version": "1.2.0",
            "_model_name": "LayoutModel",
            "_view_count": null,
            "_view_module": "@jupyter-widgets/base",
            "_view_module_version": "1.2.0",
            "_view_name": "LayoutView",
            "align_content": null,
            "align_items": null,
            "align_self": null,
            "border": null,
            "bottom": null,
            "display": null,
            "flex": null,
            "flex_flow": null,
            "grid_area": null,
            "grid_auto_columns": null,
            "grid_auto_flow": null,
            "grid_auto_rows": null,
            "grid_column": null,
            "grid_gap": null,
            "grid_row": null,
            "grid_template_areas": null,
            "grid_template_columns": null,
            "grid_template_rows": null,
            "height": null,
            "justify_content": null,
            "justify_items": null,
            "left": null,
            "margin": null,
            "max_height": null,
            "max_width": null,
            "min_height": null,
            "min_width": null,
            "object_fit": null,
            "object_position": null,
            "order": null,
            "overflow": null,
            "overflow_x": null,
            "overflow_y": null,
            "padding": null,
            "right": null,
            "top": null,
            "visibility": null,
            "width": null
          }
        },
        "a84ae8412cb5491183b68a083e8e8443": {
          "model_module": "@jupyter-widgets/controls",
          "model_name": "DescriptionStyleModel",
          "model_module_version": "1.5.0",
          "state": {
            "_model_module": "@jupyter-widgets/controls",
            "_model_module_version": "1.5.0",
            "_model_name": "DescriptionStyleModel",
            "_view_count": null,
            "_view_module": "@jupyter-widgets/base",
            "_view_module_version": "1.2.0",
            "_view_name": "StyleView",
            "description_width": ""
          }
        },
        "7be2d7323dd943d6a915690f4ea253bf": {
          "model_module": "@jupyter-widgets/base",
          "model_name": "LayoutModel",
          "model_module_version": "1.2.0",
          "state": {
            "_model_module": "@jupyter-widgets/base",
            "_model_module_version": "1.2.0",
            "_model_name": "LayoutModel",
            "_view_count": null,
            "_view_module": "@jupyter-widgets/base",
            "_view_module_version": "1.2.0",
            "_view_name": "LayoutView",
            "align_content": null,
            "align_items": null,
            "align_self": null,
            "border": null,
            "bottom": null,
            "display": null,
            "flex": null,
            "flex_flow": null,
            "grid_area": null,
            "grid_auto_columns": null,
            "grid_auto_flow": null,
            "grid_auto_rows": null,
            "grid_column": null,
            "grid_gap": null,
            "grid_row": null,
            "grid_template_areas": null,
            "grid_template_columns": null,
            "grid_template_rows": null,
            "height": null,
            "justify_content": null,
            "justify_items": null,
            "left": null,
            "margin": null,
            "max_height": null,
            "max_width": null,
            "min_height": null,
            "min_width": null,
            "object_fit": null,
            "object_position": null,
            "order": null,
            "overflow": null,
            "overflow_x": null,
            "overflow_y": null,
            "padding": null,
            "right": null,
            "top": null,
            "visibility": null,
            "width": null
          }
        },
        "cbeea76c675d4e4dafbc95d608b4d117": {
          "model_module": "@jupyter-widgets/controls",
          "model_name": "ProgressStyleModel",
          "model_module_version": "1.5.0",
          "state": {
            "_model_module": "@jupyter-widgets/controls",
            "_model_module_version": "1.5.0",
            "_model_name": "ProgressStyleModel",
            "_view_count": null,
            "_view_module": "@jupyter-widgets/base",
            "_view_module_version": "1.2.0",
            "_view_name": "StyleView",
            "bar_color": null,
            "description_width": ""
          }
        },
        "d4bd4d40f64e48d8816da35e38143b99": {
          "model_module": "@jupyter-widgets/base",
          "model_name": "LayoutModel",
          "model_module_version": "1.2.0",
          "state": {
            "_model_module": "@jupyter-widgets/base",
            "_model_module_version": "1.2.0",
            "_model_name": "LayoutModel",
            "_view_count": null,
            "_view_module": "@jupyter-widgets/base",
            "_view_module_version": "1.2.0",
            "_view_name": "LayoutView",
            "align_content": null,
            "align_items": null,
            "align_self": null,
            "border": null,
            "bottom": null,
            "display": null,
            "flex": null,
            "flex_flow": null,
            "grid_area": null,
            "grid_auto_columns": null,
            "grid_auto_flow": null,
            "grid_auto_rows": null,
            "grid_column": null,
            "grid_gap": null,
            "grid_row": null,
            "grid_template_areas": null,
            "grid_template_columns": null,
            "grid_template_rows": null,
            "height": null,
            "justify_content": null,
            "justify_items": null,
            "left": null,
            "margin": null,
            "max_height": null,
            "max_width": null,
            "min_height": null,
            "min_width": null,
            "object_fit": null,
            "object_position": null,
            "order": null,
            "overflow": null,
            "overflow_x": null,
            "overflow_y": null,
            "padding": null,
            "right": null,
            "top": null,
            "visibility": null,
            "width": null
          }
        },
        "848ddb97c4454e09976717775a0a0283": {
          "model_module": "@jupyter-widgets/controls",
          "model_name": "DescriptionStyleModel",
          "model_module_version": "1.5.0",
          "state": {
            "_model_module": "@jupyter-widgets/controls",
            "_model_module_version": "1.5.0",
            "_model_name": "DescriptionStyleModel",
            "_view_count": null,
            "_view_module": "@jupyter-widgets/base",
            "_view_module_version": "1.2.0",
            "_view_name": "StyleView",
            "description_width": ""
          }
        },
        "e50b5e36aa34431dba7eb8918fde08d6": {
          "model_module": "@jupyter-widgets/controls",
          "model_name": "HBoxModel",
          "model_module_version": "1.5.0",
          "state": {
            "_dom_classes": [],
            "_model_module": "@jupyter-widgets/controls",
            "_model_module_version": "1.5.0",
            "_model_name": "HBoxModel",
            "_view_count": null,
            "_view_module": "@jupyter-widgets/controls",
            "_view_module_version": "1.5.0",
            "_view_name": "HBoxView",
            "box_style": "",
            "children": [
              "IPY_MODEL_a5b7fa86814f4c33a153449d0ffb597f",
              "IPY_MODEL_bd1cc105e76b4cae9c0011af2cb6e72e",
              "IPY_MODEL_28643dabfeea4de180d15506df515214"
            ],
            "layout": "IPY_MODEL_89585de4359d4a3ea5d65741429e5352"
          }
        },
        "a5b7fa86814f4c33a153449d0ffb597f": {
          "model_module": "@jupyter-widgets/controls",
          "model_name": "HTMLModel",
          "model_module_version": "1.5.0",
          "state": {
            "_dom_classes": [],
            "_model_module": "@jupyter-widgets/controls",
            "_model_module_version": "1.5.0",
            "_model_name": "HTMLModel",
            "_view_count": null,
            "_view_module": "@jupyter-widgets/controls",
            "_view_module_version": "1.5.0",
            "_view_name": "HTMLView",
            "description": "",
            "description_tooltip": null,
            "layout": "IPY_MODEL_4138f835b4f7462585c595437807940a",
            "placeholder": "​",
            "style": "IPY_MODEL_8eb675dd8b584e6ea7c9abe945a52862",
            "value": "Generating train split: 100%"
          }
        },
        "bd1cc105e76b4cae9c0011af2cb6e72e": {
          "model_module": "@jupyter-widgets/controls",
          "model_name": "FloatProgressModel",
          "model_module_version": "1.5.0",
          "state": {
            "_dom_classes": [],
            "_model_module": "@jupyter-widgets/controls",
            "_model_module_version": "1.5.0",
            "_model_name": "FloatProgressModel",
            "_view_count": null,
            "_view_module": "@jupyter-widgets/controls",
            "_view_module_version": "1.5.0",
            "_view_name": "ProgressView",
            "bar_style": "success",
            "description": "",
            "description_tooltip": null,
            "layout": "IPY_MODEL_fb1223cc38cf40f2b210be22b53cb2fd",
            "max": 87599,
            "min": 0,
            "orientation": "horizontal",
            "style": "IPY_MODEL_a5bb308a13934631800379545a746b82",
            "value": 87599
          }
        },
        "28643dabfeea4de180d15506df515214": {
          "model_module": "@jupyter-widgets/controls",
          "model_name": "HTMLModel",
          "model_module_version": "1.5.0",
          "state": {
            "_dom_classes": [],
            "_model_module": "@jupyter-widgets/controls",
            "_model_module_version": "1.5.0",
            "_model_name": "HTMLModel",
            "_view_count": null,
            "_view_module": "@jupyter-widgets/controls",
            "_view_module_version": "1.5.0",
            "_view_name": "HTMLView",
            "description": "",
            "description_tooltip": null,
            "layout": "IPY_MODEL_7839b56f40f549b7a753876e79221258",
            "placeholder": "​",
            "style": "IPY_MODEL_0ec236e631e644c99296a02da44503b9",
            "value": " 87599/87599 [00:01&lt;00:00, 58958.83 examples/s]"
          }
        },
        "89585de4359d4a3ea5d65741429e5352": {
          "model_module": "@jupyter-widgets/base",
          "model_name": "LayoutModel",
          "model_module_version": "1.2.0",
          "state": {
            "_model_module": "@jupyter-widgets/base",
            "_model_module_version": "1.2.0",
            "_model_name": "LayoutModel",
            "_view_count": null,
            "_view_module": "@jupyter-widgets/base",
            "_view_module_version": "1.2.0",
            "_view_name": "LayoutView",
            "align_content": null,
            "align_items": null,
            "align_self": null,
            "border": null,
            "bottom": null,
            "display": null,
            "flex": null,
            "flex_flow": null,
            "grid_area": null,
            "grid_auto_columns": null,
            "grid_auto_flow": null,
            "grid_auto_rows": null,
            "grid_column": null,
            "grid_gap": null,
            "grid_row": null,
            "grid_template_areas": null,
            "grid_template_columns": null,
            "grid_template_rows": null,
            "height": null,
            "justify_content": null,
            "justify_items": null,
            "left": null,
            "margin": null,
            "max_height": null,
            "max_width": null,
            "min_height": null,
            "min_width": null,
            "object_fit": null,
            "object_position": null,
            "order": null,
            "overflow": null,
            "overflow_x": null,
            "overflow_y": null,
            "padding": null,
            "right": null,
            "top": null,
            "visibility": null,
            "width": null
          }
        },
        "4138f835b4f7462585c595437807940a": {
          "model_module": "@jupyter-widgets/base",
          "model_name": "LayoutModel",
          "model_module_version": "1.2.0",
          "state": {
            "_model_module": "@jupyter-widgets/base",
            "_model_module_version": "1.2.0",
            "_model_name": "LayoutModel",
            "_view_count": null,
            "_view_module": "@jupyter-widgets/base",
            "_view_module_version": "1.2.0",
            "_view_name": "LayoutView",
            "align_content": null,
            "align_items": null,
            "align_self": null,
            "border": null,
            "bottom": null,
            "display": null,
            "flex": null,
            "flex_flow": null,
            "grid_area": null,
            "grid_auto_columns": null,
            "grid_auto_flow": null,
            "grid_auto_rows": null,
            "grid_column": null,
            "grid_gap": null,
            "grid_row": null,
            "grid_template_areas": null,
            "grid_template_columns": null,
            "grid_template_rows": null,
            "height": null,
            "justify_content": null,
            "justify_items": null,
            "left": null,
            "margin": null,
            "max_height": null,
            "max_width": null,
            "min_height": null,
            "min_width": null,
            "object_fit": null,
            "object_position": null,
            "order": null,
            "overflow": null,
            "overflow_x": null,
            "overflow_y": null,
            "padding": null,
            "right": null,
            "top": null,
            "visibility": null,
            "width": null
          }
        },
        "8eb675dd8b584e6ea7c9abe945a52862": {
          "model_module": "@jupyter-widgets/controls",
          "model_name": "DescriptionStyleModel",
          "model_module_version": "1.5.0",
          "state": {
            "_model_module": "@jupyter-widgets/controls",
            "_model_module_version": "1.5.0",
            "_model_name": "DescriptionStyleModel",
            "_view_count": null,
            "_view_module": "@jupyter-widgets/base",
            "_view_module_version": "1.2.0",
            "_view_name": "StyleView",
            "description_width": ""
          }
        },
        "fb1223cc38cf40f2b210be22b53cb2fd": {
          "model_module": "@jupyter-widgets/base",
          "model_name": "LayoutModel",
          "model_module_version": "1.2.0",
          "state": {
            "_model_module": "@jupyter-widgets/base",
            "_model_module_version": "1.2.0",
            "_model_name": "LayoutModel",
            "_view_count": null,
            "_view_module": "@jupyter-widgets/base",
            "_view_module_version": "1.2.0",
            "_view_name": "LayoutView",
            "align_content": null,
            "align_items": null,
            "align_self": null,
            "border": null,
            "bottom": null,
            "display": null,
            "flex": null,
            "flex_flow": null,
            "grid_area": null,
            "grid_auto_columns": null,
            "grid_auto_flow": null,
            "grid_auto_rows": null,
            "grid_column": null,
            "grid_gap": null,
            "grid_row": null,
            "grid_template_areas": null,
            "grid_template_columns": null,
            "grid_template_rows": null,
            "height": null,
            "justify_content": null,
            "justify_items": null,
            "left": null,
            "margin": null,
            "max_height": null,
            "max_width": null,
            "min_height": null,
            "min_width": null,
            "object_fit": null,
            "object_position": null,
            "order": null,
            "overflow": null,
            "overflow_x": null,
            "overflow_y": null,
            "padding": null,
            "right": null,
            "top": null,
            "visibility": null,
            "width": null
          }
        },
        "a5bb308a13934631800379545a746b82": {
          "model_module": "@jupyter-widgets/controls",
          "model_name": "ProgressStyleModel",
          "model_module_version": "1.5.0",
          "state": {
            "_model_module": "@jupyter-widgets/controls",
            "_model_module_version": "1.5.0",
            "_model_name": "ProgressStyleModel",
            "_view_count": null,
            "_view_module": "@jupyter-widgets/base",
            "_view_module_version": "1.2.0",
            "_view_name": "StyleView",
            "bar_color": null,
            "description_width": ""
          }
        },
        "7839b56f40f549b7a753876e79221258": {
          "model_module": "@jupyter-widgets/base",
          "model_name": "LayoutModel",
          "model_module_version": "1.2.0",
          "state": {
            "_model_module": "@jupyter-widgets/base",
            "_model_module_version": "1.2.0",
            "_model_name": "LayoutModel",
            "_view_count": null,
            "_view_module": "@jupyter-widgets/base",
            "_view_module_version": "1.2.0",
            "_view_name": "LayoutView",
            "align_content": null,
            "align_items": null,
            "align_self": null,
            "border": null,
            "bottom": null,
            "display": null,
            "flex": null,
            "flex_flow": null,
            "grid_area": null,
            "grid_auto_columns": null,
            "grid_auto_flow": null,
            "grid_auto_rows": null,
            "grid_column": null,
            "grid_gap": null,
            "grid_row": null,
            "grid_template_areas": null,
            "grid_template_columns": null,
            "grid_template_rows": null,
            "height": null,
            "justify_content": null,
            "justify_items": null,
            "left": null,
            "margin": null,
            "max_height": null,
            "max_width": null,
            "min_height": null,
            "min_width": null,
            "object_fit": null,
            "object_position": null,
            "order": null,
            "overflow": null,
            "overflow_x": null,
            "overflow_y": null,
            "padding": null,
            "right": null,
            "top": null,
            "visibility": null,
            "width": null
          }
        },
        "0ec236e631e644c99296a02da44503b9": {
          "model_module": "@jupyter-widgets/controls",
          "model_name": "DescriptionStyleModel",
          "model_module_version": "1.5.0",
          "state": {
            "_model_module": "@jupyter-widgets/controls",
            "_model_module_version": "1.5.0",
            "_model_name": "DescriptionStyleModel",
            "_view_count": null,
            "_view_module": "@jupyter-widgets/base",
            "_view_module_version": "1.2.0",
            "_view_name": "StyleView",
            "description_width": ""
          }
        },
        "0e2a4ab1459942b3a4b7109d7713411b": {
          "model_module": "@jupyter-widgets/controls",
          "model_name": "HBoxModel",
          "model_module_version": "1.5.0",
          "state": {
            "_dom_classes": [],
            "_model_module": "@jupyter-widgets/controls",
            "_model_module_version": "1.5.0",
            "_model_name": "HBoxModel",
            "_view_count": null,
            "_view_module": "@jupyter-widgets/controls",
            "_view_module_version": "1.5.0",
            "_view_name": "HBoxView",
            "box_style": "",
            "children": [
              "IPY_MODEL_25ba491ad7c34cfa92da97d77065d3eb",
              "IPY_MODEL_a4e8bc42e62647feaa4406d5d3473a5e",
              "IPY_MODEL_edaedd97163a499287079d050243119e"
            ],
            "layout": "IPY_MODEL_738ac5a2c05840b79a5899eeea90b9df"
          }
        },
        "25ba491ad7c34cfa92da97d77065d3eb": {
          "model_module": "@jupyter-widgets/controls",
          "model_name": "HTMLModel",
          "model_module_version": "1.5.0",
          "state": {
            "_dom_classes": [],
            "_model_module": "@jupyter-widgets/controls",
            "_model_module_version": "1.5.0",
            "_model_name": "HTMLModel",
            "_view_count": null,
            "_view_module": "@jupyter-widgets/controls",
            "_view_module_version": "1.5.0",
            "_view_name": "HTMLView",
            "description": "",
            "description_tooltip": null,
            "layout": "IPY_MODEL_5c5deb895948489bb51bb7351cf02f6b",
            "placeholder": "​",
            "style": "IPY_MODEL_39a91f84f5764265be7d32a0b0870319",
            "value": "Generating validation split: 100%"
          }
        },
        "a4e8bc42e62647feaa4406d5d3473a5e": {
          "model_module": "@jupyter-widgets/controls",
          "model_name": "FloatProgressModel",
          "model_module_version": "1.5.0",
          "state": {
            "_dom_classes": [],
            "_model_module": "@jupyter-widgets/controls",
            "_model_module_version": "1.5.0",
            "_model_name": "FloatProgressModel",
            "_view_count": null,
            "_view_module": "@jupyter-widgets/controls",
            "_view_module_version": "1.5.0",
            "_view_name": "ProgressView",
            "bar_style": "success",
            "description": "",
            "description_tooltip": null,
            "layout": "IPY_MODEL_995463a7933c4d4cbda563e8d44007aa",
            "max": 10570,
            "min": 0,
            "orientation": "horizontal",
            "style": "IPY_MODEL_9473e159c9e84440aa3286332b1195e1",
            "value": 10570
          }
        },
        "edaedd97163a499287079d050243119e": {
          "model_module": "@jupyter-widgets/controls",
          "model_name": "HTMLModel",
          "model_module_version": "1.5.0",
          "state": {
            "_dom_classes": [],
            "_model_module": "@jupyter-widgets/controls",
            "_model_module_version": "1.5.0",
            "_model_name": "HTMLModel",
            "_view_count": null,
            "_view_module": "@jupyter-widgets/controls",
            "_view_module_version": "1.5.0",
            "_view_name": "HTMLView",
            "description": "",
            "description_tooltip": null,
            "layout": "IPY_MODEL_f0ec9f287d2a42e2ab608a0c53d37065",
            "placeholder": "​",
            "style": "IPY_MODEL_d939a870af4d482bb72eb37504805e58",
            "value": " 10570/10570 [00:00&lt;00:00, 49269.21 examples/s]"
          }
        },
        "738ac5a2c05840b79a5899eeea90b9df": {
          "model_module": "@jupyter-widgets/base",
          "model_name": "LayoutModel",
          "model_module_version": "1.2.0",
          "state": {
            "_model_module": "@jupyter-widgets/base",
            "_model_module_version": "1.2.0",
            "_model_name": "LayoutModel",
            "_view_count": null,
            "_view_module": "@jupyter-widgets/base",
            "_view_module_version": "1.2.0",
            "_view_name": "LayoutView",
            "align_content": null,
            "align_items": null,
            "align_self": null,
            "border": null,
            "bottom": null,
            "display": null,
            "flex": null,
            "flex_flow": null,
            "grid_area": null,
            "grid_auto_columns": null,
            "grid_auto_flow": null,
            "grid_auto_rows": null,
            "grid_column": null,
            "grid_gap": null,
            "grid_row": null,
            "grid_template_areas": null,
            "grid_template_columns": null,
            "grid_template_rows": null,
            "height": null,
            "justify_content": null,
            "justify_items": null,
            "left": null,
            "margin": null,
            "max_height": null,
            "max_width": null,
            "min_height": null,
            "min_width": null,
            "object_fit": null,
            "object_position": null,
            "order": null,
            "overflow": null,
            "overflow_x": null,
            "overflow_y": null,
            "padding": null,
            "right": null,
            "top": null,
            "visibility": null,
            "width": null
          }
        },
        "5c5deb895948489bb51bb7351cf02f6b": {
          "model_module": "@jupyter-widgets/base",
          "model_name": "LayoutModel",
          "model_module_version": "1.2.0",
          "state": {
            "_model_module": "@jupyter-widgets/base",
            "_model_module_version": "1.2.0",
            "_model_name": "LayoutModel",
            "_view_count": null,
            "_view_module": "@jupyter-widgets/base",
            "_view_module_version": "1.2.0",
            "_view_name": "LayoutView",
            "align_content": null,
            "align_items": null,
            "align_self": null,
            "border": null,
            "bottom": null,
            "display": null,
            "flex": null,
            "flex_flow": null,
            "grid_area": null,
            "grid_auto_columns": null,
            "grid_auto_flow": null,
            "grid_auto_rows": null,
            "grid_column": null,
            "grid_gap": null,
            "grid_row": null,
            "grid_template_areas": null,
            "grid_template_columns": null,
            "grid_template_rows": null,
            "height": null,
            "justify_content": null,
            "justify_items": null,
            "left": null,
            "margin": null,
            "max_height": null,
            "max_width": null,
            "min_height": null,
            "min_width": null,
            "object_fit": null,
            "object_position": null,
            "order": null,
            "overflow": null,
            "overflow_x": null,
            "overflow_y": null,
            "padding": null,
            "right": null,
            "top": null,
            "visibility": null,
            "width": null
          }
        },
        "39a91f84f5764265be7d32a0b0870319": {
          "model_module": "@jupyter-widgets/controls",
          "model_name": "DescriptionStyleModel",
          "model_module_version": "1.5.0",
          "state": {
            "_model_module": "@jupyter-widgets/controls",
            "_model_module_version": "1.5.0",
            "_model_name": "DescriptionStyleModel",
            "_view_count": null,
            "_view_module": "@jupyter-widgets/base",
            "_view_module_version": "1.2.0",
            "_view_name": "StyleView",
            "description_width": ""
          }
        },
        "995463a7933c4d4cbda563e8d44007aa": {
          "model_module": "@jupyter-widgets/base",
          "model_name": "LayoutModel",
          "model_module_version": "1.2.0",
          "state": {
            "_model_module": "@jupyter-widgets/base",
            "_model_module_version": "1.2.0",
            "_model_name": "LayoutModel",
            "_view_count": null,
            "_view_module": "@jupyter-widgets/base",
            "_view_module_version": "1.2.0",
            "_view_name": "LayoutView",
            "align_content": null,
            "align_items": null,
            "align_self": null,
            "border": null,
            "bottom": null,
            "display": null,
            "flex": null,
            "flex_flow": null,
            "grid_area": null,
            "grid_auto_columns": null,
            "grid_auto_flow": null,
            "grid_auto_rows": null,
            "grid_column": null,
            "grid_gap": null,
            "grid_row": null,
            "grid_template_areas": null,
            "grid_template_columns": null,
            "grid_template_rows": null,
            "height": null,
            "justify_content": null,
            "justify_items": null,
            "left": null,
            "margin": null,
            "max_height": null,
            "max_width": null,
            "min_height": null,
            "min_width": null,
            "object_fit": null,
            "object_position": null,
            "order": null,
            "overflow": null,
            "overflow_x": null,
            "overflow_y": null,
            "padding": null,
            "right": null,
            "top": null,
            "visibility": null,
            "width": null
          }
        },
        "9473e159c9e84440aa3286332b1195e1": {
          "model_module": "@jupyter-widgets/controls",
          "model_name": "ProgressStyleModel",
          "model_module_version": "1.5.0",
          "state": {
            "_model_module": "@jupyter-widgets/controls",
            "_model_module_version": "1.5.0",
            "_model_name": "ProgressStyleModel",
            "_view_count": null,
            "_view_module": "@jupyter-widgets/base",
            "_view_module_version": "1.2.0",
            "_view_name": "StyleView",
            "bar_color": null,
            "description_width": ""
          }
        },
        "f0ec9f287d2a42e2ab608a0c53d37065": {
          "model_module": "@jupyter-widgets/base",
          "model_name": "LayoutModel",
          "model_module_version": "1.2.0",
          "state": {
            "_model_module": "@jupyter-widgets/base",
            "_model_module_version": "1.2.0",
            "_model_name": "LayoutModel",
            "_view_count": null,
            "_view_module": "@jupyter-widgets/base",
            "_view_module_version": "1.2.0",
            "_view_name": "LayoutView",
            "align_content": null,
            "align_items": null,
            "align_self": null,
            "border": null,
            "bottom": null,
            "display": null,
            "flex": null,
            "flex_flow": null,
            "grid_area": null,
            "grid_auto_columns": null,
            "grid_auto_flow": null,
            "grid_auto_rows": null,
            "grid_column": null,
            "grid_gap": null,
            "grid_row": null,
            "grid_template_areas": null,
            "grid_template_columns": null,
            "grid_template_rows": null,
            "height": null,
            "justify_content": null,
            "justify_items": null,
            "left": null,
            "margin": null,
            "max_height": null,
            "max_width": null,
            "min_height": null,
            "min_width": null,
            "object_fit": null,
            "object_position": null,
            "order": null,
            "overflow": null,
            "overflow_x": null,
            "overflow_y": null,
            "padding": null,
            "right": null,
            "top": null,
            "visibility": null,
            "width": null
          }
        },
        "d939a870af4d482bb72eb37504805e58": {
          "model_module": "@jupyter-widgets/controls",
          "model_name": "DescriptionStyleModel",
          "model_module_version": "1.5.0",
          "state": {
            "_model_module": "@jupyter-widgets/controls",
            "_model_module_version": "1.5.0",
            "_model_name": "DescriptionStyleModel",
            "_view_count": null,
            "_view_module": "@jupyter-widgets/base",
            "_view_module_version": "1.2.0",
            "_view_name": "StyleView",
            "description_width": ""
          }
        },
        "2b0bddd29e8e416497985246370c7a10": {
          "model_module": "@jupyter-widgets/controls",
          "model_name": "HBoxModel",
          "model_module_version": "1.5.0",
          "state": {
            "_dom_classes": [],
            "_model_module": "@jupyter-widgets/controls",
            "_model_module_version": "1.5.0",
            "_model_name": "HBoxModel",
            "_view_count": null,
            "_view_module": "@jupyter-widgets/controls",
            "_view_module_version": "1.5.0",
            "_view_name": "HBoxView",
            "box_style": "",
            "children": [
              "IPY_MODEL_a24d6e4d380b4dbfaa827459d916015f",
              "IPY_MODEL_8846068dae6040569effa8103646a1d4",
              "IPY_MODEL_6e11f28107454079b0490f8b23c3cd4d"
            ],
            "layout": "IPY_MODEL_32062fc2719449049a2cab60d236cf71"
          }
        },
        "a24d6e4d380b4dbfaa827459d916015f": {
          "model_module": "@jupyter-widgets/controls",
          "model_name": "HTMLModel",
          "model_module_version": "1.5.0",
          "state": {
            "_dom_classes": [],
            "_model_module": "@jupyter-widgets/controls",
            "_model_module_version": "1.5.0",
            "_model_name": "HTMLModel",
            "_view_count": null,
            "_view_module": "@jupyter-widgets/controls",
            "_view_module_version": "1.5.0",
            "_view_name": "HTMLView",
            "description": "",
            "description_tooltip": null,
            "layout": "IPY_MODEL_71bbd9cf8bf842e3a27e3d9af5395e4d",
            "placeholder": "​",
            "style": "IPY_MODEL_d880485934d8493cba8e27053123bc51",
            "value": "Filter: 100%"
          }
        },
        "8846068dae6040569effa8103646a1d4": {
          "model_module": "@jupyter-widgets/controls",
          "model_name": "FloatProgressModel",
          "model_module_version": "1.5.0",
          "state": {
            "_dom_classes": [],
            "_model_module": "@jupyter-widgets/controls",
            "_model_module_version": "1.5.0",
            "_model_name": "FloatProgressModel",
            "_view_count": null,
            "_view_module": "@jupyter-widgets/controls",
            "_view_module_version": "1.5.0",
            "_view_name": "ProgressView",
            "bar_style": "success",
            "description": "",
            "description_tooltip": null,
            "layout": "IPY_MODEL_1ce78fdc573b4d46ac892eebcaeb12cd",
            "max": 87599,
            "min": 0,
            "orientation": "horizontal",
            "style": "IPY_MODEL_314f1deced0b406881ad8593a712099c",
            "value": 87599
          }
        },
        "6e11f28107454079b0490f8b23c3cd4d": {
          "model_module": "@jupyter-widgets/controls",
          "model_name": "HTMLModel",
          "model_module_version": "1.5.0",
          "state": {
            "_dom_classes": [],
            "_model_module": "@jupyter-widgets/controls",
            "_model_module_version": "1.5.0",
            "_model_name": "HTMLModel",
            "_view_count": null,
            "_view_module": "@jupyter-widgets/controls",
            "_view_module_version": "1.5.0",
            "_view_name": "HTMLView",
            "description": "",
            "description_tooltip": null,
            "layout": "IPY_MODEL_364307650d4c42ff9732aa92f27f84df",
            "placeholder": "​",
            "style": "IPY_MODEL_50728e503b5749108ab034333e9351f2",
            "value": " 87599/87599 [00:11&lt;00:00, 10482.71 examples/s]"
          }
        },
        "32062fc2719449049a2cab60d236cf71": {
          "model_module": "@jupyter-widgets/base",
          "model_name": "LayoutModel",
          "model_module_version": "1.2.0",
          "state": {
            "_model_module": "@jupyter-widgets/base",
            "_model_module_version": "1.2.0",
            "_model_name": "LayoutModel",
            "_view_count": null,
            "_view_module": "@jupyter-widgets/base",
            "_view_module_version": "1.2.0",
            "_view_name": "LayoutView",
            "align_content": null,
            "align_items": null,
            "align_self": null,
            "border": null,
            "bottom": null,
            "display": null,
            "flex": null,
            "flex_flow": null,
            "grid_area": null,
            "grid_auto_columns": null,
            "grid_auto_flow": null,
            "grid_auto_rows": null,
            "grid_column": null,
            "grid_gap": null,
            "grid_row": null,
            "grid_template_areas": null,
            "grid_template_columns": null,
            "grid_template_rows": null,
            "height": null,
            "justify_content": null,
            "justify_items": null,
            "left": null,
            "margin": null,
            "max_height": null,
            "max_width": null,
            "min_height": null,
            "min_width": null,
            "object_fit": null,
            "object_position": null,
            "order": null,
            "overflow": null,
            "overflow_x": null,
            "overflow_y": null,
            "padding": null,
            "right": null,
            "top": null,
            "visibility": null,
            "width": null
          }
        },
        "71bbd9cf8bf842e3a27e3d9af5395e4d": {
          "model_module": "@jupyter-widgets/base",
          "model_name": "LayoutModel",
          "model_module_version": "1.2.0",
          "state": {
            "_model_module": "@jupyter-widgets/base",
            "_model_module_version": "1.2.0",
            "_model_name": "LayoutModel",
            "_view_count": null,
            "_view_module": "@jupyter-widgets/base",
            "_view_module_version": "1.2.0",
            "_view_name": "LayoutView",
            "align_content": null,
            "align_items": null,
            "align_self": null,
            "border": null,
            "bottom": null,
            "display": null,
            "flex": null,
            "flex_flow": null,
            "grid_area": null,
            "grid_auto_columns": null,
            "grid_auto_flow": null,
            "grid_auto_rows": null,
            "grid_column": null,
            "grid_gap": null,
            "grid_row": null,
            "grid_template_areas": null,
            "grid_template_columns": null,
            "grid_template_rows": null,
            "height": null,
            "justify_content": null,
            "justify_items": null,
            "left": null,
            "margin": null,
            "max_height": null,
            "max_width": null,
            "min_height": null,
            "min_width": null,
            "object_fit": null,
            "object_position": null,
            "order": null,
            "overflow": null,
            "overflow_x": null,
            "overflow_y": null,
            "padding": null,
            "right": null,
            "top": null,
            "visibility": null,
            "width": null
          }
        },
        "d880485934d8493cba8e27053123bc51": {
          "model_module": "@jupyter-widgets/controls",
          "model_name": "DescriptionStyleModel",
          "model_module_version": "1.5.0",
          "state": {
            "_model_module": "@jupyter-widgets/controls",
            "_model_module_version": "1.5.0",
            "_model_name": "DescriptionStyleModel",
            "_view_count": null,
            "_view_module": "@jupyter-widgets/base",
            "_view_module_version": "1.2.0",
            "_view_name": "StyleView",
            "description_width": ""
          }
        },
        "1ce78fdc573b4d46ac892eebcaeb12cd": {
          "model_module": "@jupyter-widgets/base",
          "model_name": "LayoutModel",
          "model_module_version": "1.2.0",
          "state": {
            "_model_module": "@jupyter-widgets/base",
            "_model_module_version": "1.2.0",
            "_model_name": "LayoutModel",
            "_view_count": null,
            "_view_module": "@jupyter-widgets/base",
            "_view_module_version": "1.2.0",
            "_view_name": "LayoutView",
            "align_content": null,
            "align_items": null,
            "align_self": null,
            "border": null,
            "bottom": null,
            "display": null,
            "flex": null,
            "flex_flow": null,
            "grid_area": null,
            "grid_auto_columns": null,
            "grid_auto_flow": null,
            "grid_auto_rows": null,
            "grid_column": null,
            "grid_gap": null,
            "grid_row": null,
            "grid_template_areas": null,
            "grid_template_columns": null,
            "grid_template_rows": null,
            "height": null,
            "justify_content": null,
            "justify_items": null,
            "left": null,
            "margin": null,
            "max_height": null,
            "max_width": null,
            "min_height": null,
            "min_width": null,
            "object_fit": null,
            "object_position": null,
            "order": null,
            "overflow": null,
            "overflow_x": null,
            "overflow_y": null,
            "padding": null,
            "right": null,
            "top": null,
            "visibility": null,
            "width": null
          }
        },
        "314f1deced0b406881ad8593a712099c": {
          "model_module": "@jupyter-widgets/controls",
          "model_name": "ProgressStyleModel",
          "model_module_version": "1.5.0",
          "state": {
            "_model_module": "@jupyter-widgets/controls",
            "_model_module_version": "1.5.0",
            "_model_name": "ProgressStyleModel",
            "_view_count": null,
            "_view_module": "@jupyter-widgets/base",
            "_view_module_version": "1.2.0",
            "_view_name": "StyleView",
            "bar_color": null,
            "description_width": ""
          }
        },
        "364307650d4c42ff9732aa92f27f84df": {
          "model_module": "@jupyter-widgets/base",
          "model_name": "LayoutModel",
          "model_module_version": "1.2.0",
          "state": {
            "_model_module": "@jupyter-widgets/base",
            "_model_module_version": "1.2.0",
            "_model_name": "LayoutModel",
            "_view_count": null,
            "_view_module": "@jupyter-widgets/base",
            "_view_module_version": "1.2.0",
            "_view_name": "LayoutView",
            "align_content": null,
            "align_items": null,
            "align_self": null,
            "border": null,
            "bottom": null,
            "display": null,
            "flex": null,
            "flex_flow": null,
            "grid_area": null,
            "grid_auto_columns": null,
            "grid_auto_flow": null,
            "grid_auto_rows": null,
            "grid_column": null,
            "grid_gap": null,
            "grid_row": null,
            "grid_template_areas": null,
            "grid_template_columns": null,
            "grid_template_rows": null,
            "height": null,
            "justify_content": null,
            "justify_items": null,
            "left": null,
            "margin": null,
            "max_height": null,
            "max_width": null,
            "min_height": null,
            "min_width": null,
            "object_fit": null,
            "object_position": null,
            "order": null,
            "overflow": null,
            "overflow_x": null,
            "overflow_y": null,
            "padding": null,
            "right": null,
            "top": null,
            "visibility": null,
            "width": null
          }
        },
        "50728e503b5749108ab034333e9351f2": {
          "model_module": "@jupyter-widgets/controls",
          "model_name": "DescriptionStyleModel",
          "model_module_version": "1.5.0",
          "state": {
            "_model_module": "@jupyter-widgets/controls",
            "_model_module_version": "1.5.0",
            "_model_name": "DescriptionStyleModel",
            "_view_count": null,
            "_view_module": "@jupyter-widgets/base",
            "_view_module_version": "1.2.0",
            "_view_name": "StyleView",
            "description_width": ""
          }
        },
        "32e44556d8e24381825e26f692408319": {
          "model_module": "@jupyter-widgets/controls",
          "model_name": "HBoxModel",
          "model_module_version": "1.5.0",
          "state": {
            "_dom_classes": [],
            "_model_module": "@jupyter-widgets/controls",
            "_model_module_version": "1.5.0",
            "_model_name": "HBoxModel",
            "_view_count": null,
            "_view_module": "@jupyter-widgets/controls",
            "_view_module_version": "1.5.0",
            "_view_name": "HBoxView",
            "box_style": "",
            "children": [
              "IPY_MODEL_38ea77b5f4024a0cb86c92d046a834e0",
              "IPY_MODEL_cb6a10a7b20b4d10adfbce7880e775d0",
              "IPY_MODEL_4d397c929a934faface9f613273bcef4"
            ],
            "layout": "IPY_MODEL_04c5e70ff5204649b62f6d0ffaaef47c"
          }
        },
        "38ea77b5f4024a0cb86c92d046a834e0": {
          "model_module": "@jupyter-widgets/controls",
          "model_name": "HTMLModel",
          "model_module_version": "1.5.0",
          "state": {
            "_dom_classes": [],
            "_model_module": "@jupyter-widgets/controls",
            "_model_module_version": "1.5.0",
            "_model_name": "HTMLModel",
            "_view_count": null,
            "_view_module": "@jupyter-widgets/controls",
            "_view_module_version": "1.5.0",
            "_view_name": "HTMLView",
            "description": "",
            "description_tooltip": null,
            "layout": "IPY_MODEL_47fbccef92c5488caa269e02f3c2dfcc",
            "placeholder": "​",
            "style": "IPY_MODEL_8bbce5dcf79d41d4a07d1335be4c24fe",
            "value": "tokenizer_config.json: 100%"
          }
        },
        "cb6a10a7b20b4d10adfbce7880e775d0": {
          "model_module": "@jupyter-widgets/controls",
          "model_name": "FloatProgressModel",
          "model_module_version": "1.5.0",
          "state": {
            "_dom_classes": [],
            "_model_module": "@jupyter-widgets/controls",
            "_model_module_version": "1.5.0",
            "_model_name": "FloatProgressModel",
            "_view_count": null,
            "_view_module": "@jupyter-widgets/controls",
            "_view_module_version": "1.5.0",
            "_view_name": "ProgressView",
            "bar_style": "success",
            "description": "",
            "description_tooltip": null,
            "layout": "IPY_MODEL_6a4a20abb21249c188bcfc8c3dc2b1e2",
            "max": 49,
            "min": 0,
            "orientation": "horizontal",
            "style": "IPY_MODEL_ea0b61fb5047459697eb1f99699611b3",
            "value": 49
          }
        },
        "4d397c929a934faface9f613273bcef4": {
          "model_module": "@jupyter-widgets/controls",
          "model_name": "HTMLModel",
          "model_module_version": "1.5.0",
          "state": {
            "_dom_classes": [],
            "_model_module": "@jupyter-widgets/controls",
            "_model_module_version": "1.5.0",
            "_model_name": "HTMLModel",
            "_view_count": null,
            "_view_module": "@jupyter-widgets/controls",
            "_view_module_version": "1.5.0",
            "_view_name": "HTMLView",
            "description": "",
            "description_tooltip": null,
            "layout": "IPY_MODEL_17078896683e410c886e67cd9583bd23",
            "placeholder": "​",
            "style": "IPY_MODEL_2f3aa4c9bd30467f9c6913f88ca618d6",
            "value": " 49.0/49.0 [00:00&lt;00:00, 694B/s]"
          }
        },
        "04c5e70ff5204649b62f6d0ffaaef47c": {
          "model_module": "@jupyter-widgets/base",
          "model_name": "LayoutModel",
          "model_module_version": "1.2.0",
          "state": {
            "_model_module": "@jupyter-widgets/base",
            "_model_module_version": "1.2.0",
            "_model_name": "LayoutModel",
            "_view_count": null,
            "_view_module": "@jupyter-widgets/base",
            "_view_module_version": "1.2.0",
            "_view_name": "LayoutView",
            "align_content": null,
            "align_items": null,
            "align_self": null,
            "border": null,
            "bottom": null,
            "display": null,
            "flex": null,
            "flex_flow": null,
            "grid_area": null,
            "grid_auto_columns": null,
            "grid_auto_flow": null,
            "grid_auto_rows": null,
            "grid_column": null,
            "grid_gap": null,
            "grid_row": null,
            "grid_template_areas": null,
            "grid_template_columns": null,
            "grid_template_rows": null,
            "height": null,
            "justify_content": null,
            "justify_items": null,
            "left": null,
            "margin": null,
            "max_height": null,
            "max_width": null,
            "min_height": null,
            "min_width": null,
            "object_fit": null,
            "object_position": null,
            "order": null,
            "overflow": null,
            "overflow_x": null,
            "overflow_y": null,
            "padding": null,
            "right": null,
            "top": null,
            "visibility": null,
            "width": null
          }
        },
        "47fbccef92c5488caa269e02f3c2dfcc": {
          "model_module": "@jupyter-widgets/base",
          "model_name": "LayoutModel",
          "model_module_version": "1.2.0",
          "state": {
            "_model_module": "@jupyter-widgets/base",
            "_model_module_version": "1.2.0",
            "_model_name": "LayoutModel",
            "_view_count": null,
            "_view_module": "@jupyter-widgets/base",
            "_view_module_version": "1.2.0",
            "_view_name": "LayoutView",
            "align_content": null,
            "align_items": null,
            "align_self": null,
            "border": null,
            "bottom": null,
            "display": null,
            "flex": null,
            "flex_flow": null,
            "grid_area": null,
            "grid_auto_columns": null,
            "grid_auto_flow": null,
            "grid_auto_rows": null,
            "grid_column": null,
            "grid_gap": null,
            "grid_row": null,
            "grid_template_areas": null,
            "grid_template_columns": null,
            "grid_template_rows": null,
            "height": null,
            "justify_content": null,
            "justify_items": null,
            "left": null,
            "margin": null,
            "max_height": null,
            "max_width": null,
            "min_height": null,
            "min_width": null,
            "object_fit": null,
            "object_position": null,
            "order": null,
            "overflow": null,
            "overflow_x": null,
            "overflow_y": null,
            "padding": null,
            "right": null,
            "top": null,
            "visibility": null,
            "width": null
          }
        },
        "8bbce5dcf79d41d4a07d1335be4c24fe": {
          "model_module": "@jupyter-widgets/controls",
          "model_name": "DescriptionStyleModel",
          "model_module_version": "1.5.0",
          "state": {
            "_model_module": "@jupyter-widgets/controls",
            "_model_module_version": "1.5.0",
            "_model_name": "DescriptionStyleModel",
            "_view_count": null,
            "_view_module": "@jupyter-widgets/base",
            "_view_module_version": "1.2.0",
            "_view_name": "StyleView",
            "description_width": ""
          }
        },
        "6a4a20abb21249c188bcfc8c3dc2b1e2": {
          "model_module": "@jupyter-widgets/base",
          "model_name": "LayoutModel",
          "model_module_version": "1.2.0",
          "state": {
            "_model_module": "@jupyter-widgets/base",
            "_model_module_version": "1.2.0",
            "_model_name": "LayoutModel",
            "_view_count": null,
            "_view_module": "@jupyter-widgets/base",
            "_view_module_version": "1.2.0",
            "_view_name": "LayoutView",
            "align_content": null,
            "align_items": null,
            "align_self": null,
            "border": null,
            "bottom": null,
            "display": null,
            "flex": null,
            "flex_flow": null,
            "grid_area": null,
            "grid_auto_columns": null,
            "grid_auto_flow": null,
            "grid_auto_rows": null,
            "grid_column": null,
            "grid_gap": null,
            "grid_row": null,
            "grid_template_areas": null,
            "grid_template_columns": null,
            "grid_template_rows": null,
            "height": null,
            "justify_content": null,
            "justify_items": null,
            "left": null,
            "margin": null,
            "max_height": null,
            "max_width": null,
            "min_height": null,
            "min_width": null,
            "object_fit": null,
            "object_position": null,
            "order": null,
            "overflow": null,
            "overflow_x": null,
            "overflow_y": null,
            "padding": null,
            "right": null,
            "top": null,
            "visibility": null,
            "width": null
          }
        },
        "ea0b61fb5047459697eb1f99699611b3": {
          "model_module": "@jupyter-widgets/controls",
          "model_name": "ProgressStyleModel",
          "model_module_version": "1.5.0",
          "state": {
            "_model_module": "@jupyter-widgets/controls",
            "_model_module_version": "1.5.0",
            "_model_name": "ProgressStyleModel",
            "_view_count": null,
            "_view_module": "@jupyter-widgets/base",
            "_view_module_version": "1.2.0",
            "_view_name": "StyleView",
            "bar_color": null,
            "description_width": ""
          }
        },
        "17078896683e410c886e67cd9583bd23": {
          "model_module": "@jupyter-widgets/base",
          "model_name": "LayoutModel",
          "model_module_version": "1.2.0",
          "state": {
            "_model_module": "@jupyter-widgets/base",
            "_model_module_version": "1.2.0",
            "_model_name": "LayoutModel",
            "_view_count": null,
            "_view_module": "@jupyter-widgets/base",
            "_view_module_version": "1.2.0",
            "_view_name": "LayoutView",
            "align_content": null,
            "align_items": null,
            "align_self": null,
            "border": null,
            "bottom": null,
            "display": null,
            "flex": null,
            "flex_flow": null,
            "grid_area": null,
            "grid_auto_columns": null,
            "grid_auto_flow": null,
            "grid_auto_rows": null,
            "grid_column": null,
            "grid_gap": null,
            "grid_row": null,
            "grid_template_areas": null,
            "grid_template_columns": null,
            "grid_template_rows": null,
            "height": null,
            "justify_content": null,
            "justify_items": null,
            "left": null,
            "margin": null,
            "max_height": null,
            "max_width": null,
            "min_height": null,
            "min_width": null,
            "object_fit": null,
            "object_position": null,
            "order": null,
            "overflow": null,
            "overflow_x": null,
            "overflow_y": null,
            "padding": null,
            "right": null,
            "top": null,
            "visibility": null,
            "width": null
          }
        },
        "2f3aa4c9bd30467f9c6913f88ca618d6": {
          "model_module": "@jupyter-widgets/controls",
          "model_name": "DescriptionStyleModel",
          "model_module_version": "1.5.0",
          "state": {
            "_model_module": "@jupyter-widgets/controls",
            "_model_module_version": "1.5.0",
            "_model_name": "DescriptionStyleModel",
            "_view_count": null,
            "_view_module": "@jupyter-widgets/base",
            "_view_module_version": "1.2.0",
            "_view_name": "StyleView",
            "description_width": ""
          }
        },
        "4324d4ffa4a64d698dcbce6e73980f5d": {
          "model_module": "@jupyter-widgets/controls",
          "model_name": "HBoxModel",
          "model_module_version": "1.5.0",
          "state": {
            "_dom_classes": [],
            "_model_module": "@jupyter-widgets/controls",
            "_model_module_version": "1.5.0",
            "_model_name": "HBoxModel",
            "_view_count": null,
            "_view_module": "@jupyter-widgets/controls",
            "_view_module_version": "1.5.0",
            "_view_name": "HBoxView",
            "box_style": "",
            "children": [
              "IPY_MODEL_de8176d6a0d74964aa1dc3b9788b7f35",
              "IPY_MODEL_8d34828dd0d045489e802550c17cd698",
              "IPY_MODEL_bdddc14180024a60bc54d62c79e40dc7"
            ],
            "layout": "IPY_MODEL_31bda492a26b422c949043ecc3fce308"
          }
        },
        "de8176d6a0d74964aa1dc3b9788b7f35": {
          "model_module": "@jupyter-widgets/controls",
          "model_name": "HTMLModel",
          "model_module_version": "1.5.0",
          "state": {
            "_dom_classes": [],
            "_model_module": "@jupyter-widgets/controls",
            "_model_module_version": "1.5.0",
            "_model_name": "HTMLModel",
            "_view_count": null,
            "_view_module": "@jupyter-widgets/controls",
            "_view_module_version": "1.5.0",
            "_view_name": "HTMLView",
            "description": "",
            "description_tooltip": null,
            "layout": "IPY_MODEL_f78d3c3c478d4e1f80298385d167e9ba",
            "placeholder": "​",
            "style": "IPY_MODEL_260f767b83bc4e25a64694b87c98425e",
            "value": "config.json: 100%"
          }
        },
        "8d34828dd0d045489e802550c17cd698": {
          "model_module": "@jupyter-widgets/controls",
          "model_name": "FloatProgressModel",
          "model_module_version": "1.5.0",
          "state": {
            "_dom_classes": [],
            "_model_module": "@jupyter-widgets/controls",
            "_model_module_version": "1.5.0",
            "_model_name": "FloatProgressModel",
            "_view_count": null,
            "_view_module": "@jupyter-widgets/controls",
            "_view_module_version": "1.5.0",
            "_view_name": "ProgressView",
            "bar_style": "success",
            "description": "",
            "description_tooltip": null,
            "layout": "IPY_MODEL_3c0c2a19bfa4485488dd6193ea9c97a9",
            "max": 570,
            "min": 0,
            "orientation": "horizontal",
            "style": "IPY_MODEL_636f1f78e6a64ee194b9db5094936ba2",
            "value": 570
          }
        },
        "bdddc14180024a60bc54d62c79e40dc7": {
          "model_module": "@jupyter-widgets/controls",
          "model_name": "HTMLModel",
          "model_module_version": "1.5.0",
          "state": {
            "_dom_classes": [],
            "_model_module": "@jupyter-widgets/controls",
            "_model_module_version": "1.5.0",
            "_model_name": "HTMLModel",
            "_view_count": null,
            "_view_module": "@jupyter-widgets/controls",
            "_view_module_version": "1.5.0",
            "_view_name": "HTMLView",
            "description": "",
            "description_tooltip": null,
            "layout": "IPY_MODEL_ebb8aa692ffd469aaa37ae0cbe8eb3b9",
            "placeholder": "​",
            "style": "IPY_MODEL_4ef8221c1a9f4545bc2f26acb01e6e53",
            "value": " 570/570 [00:00&lt;00:00, 11.6kB/s]"
          }
        },
        "31bda492a26b422c949043ecc3fce308": {
          "model_module": "@jupyter-widgets/base",
          "model_name": "LayoutModel",
          "model_module_version": "1.2.0",
          "state": {
            "_model_module": "@jupyter-widgets/base",
            "_model_module_version": "1.2.0",
            "_model_name": "LayoutModel",
            "_view_count": null,
            "_view_module": "@jupyter-widgets/base",
            "_view_module_version": "1.2.0",
            "_view_name": "LayoutView",
            "align_content": null,
            "align_items": null,
            "align_self": null,
            "border": null,
            "bottom": null,
            "display": null,
            "flex": null,
            "flex_flow": null,
            "grid_area": null,
            "grid_auto_columns": null,
            "grid_auto_flow": null,
            "grid_auto_rows": null,
            "grid_column": null,
            "grid_gap": null,
            "grid_row": null,
            "grid_template_areas": null,
            "grid_template_columns": null,
            "grid_template_rows": null,
            "height": null,
            "justify_content": null,
            "justify_items": null,
            "left": null,
            "margin": null,
            "max_height": null,
            "max_width": null,
            "min_height": null,
            "min_width": null,
            "object_fit": null,
            "object_position": null,
            "order": null,
            "overflow": null,
            "overflow_x": null,
            "overflow_y": null,
            "padding": null,
            "right": null,
            "top": null,
            "visibility": null,
            "width": null
          }
        },
        "f78d3c3c478d4e1f80298385d167e9ba": {
          "model_module": "@jupyter-widgets/base",
          "model_name": "LayoutModel",
          "model_module_version": "1.2.0",
          "state": {
            "_model_module": "@jupyter-widgets/base",
            "_model_module_version": "1.2.0",
            "_model_name": "LayoutModel",
            "_view_count": null,
            "_view_module": "@jupyter-widgets/base",
            "_view_module_version": "1.2.0",
            "_view_name": "LayoutView",
            "align_content": null,
            "align_items": null,
            "align_self": null,
            "border": null,
            "bottom": null,
            "display": null,
            "flex": null,
            "flex_flow": null,
            "grid_area": null,
            "grid_auto_columns": null,
            "grid_auto_flow": null,
            "grid_auto_rows": null,
            "grid_column": null,
            "grid_gap": null,
            "grid_row": null,
            "grid_template_areas": null,
            "grid_template_columns": null,
            "grid_template_rows": null,
            "height": null,
            "justify_content": null,
            "justify_items": null,
            "left": null,
            "margin": null,
            "max_height": null,
            "max_width": null,
            "min_height": null,
            "min_width": null,
            "object_fit": null,
            "object_position": null,
            "order": null,
            "overflow": null,
            "overflow_x": null,
            "overflow_y": null,
            "padding": null,
            "right": null,
            "top": null,
            "visibility": null,
            "width": null
          }
        },
        "260f767b83bc4e25a64694b87c98425e": {
          "model_module": "@jupyter-widgets/controls",
          "model_name": "DescriptionStyleModel",
          "model_module_version": "1.5.0",
          "state": {
            "_model_module": "@jupyter-widgets/controls",
            "_model_module_version": "1.5.0",
            "_model_name": "DescriptionStyleModel",
            "_view_count": null,
            "_view_module": "@jupyter-widgets/base",
            "_view_module_version": "1.2.0",
            "_view_name": "StyleView",
            "description_width": ""
          }
        },
        "3c0c2a19bfa4485488dd6193ea9c97a9": {
          "model_module": "@jupyter-widgets/base",
          "model_name": "LayoutModel",
          "model_module_version": "1.2.0",
          "state": {
            "_model_module": "@jupyter-widgets/base",
            "_model_module_version": "1.2.0",
            "_model_name": "LayoutModel",
            "_view_count": null,
            "_view_module": "@jupyter-widgets/base",
            "_view_module_version": "1.2.0",
            "_view_name": "LayoutView",
            "align_content": null,
            "align_items": null,
            "align_self": null,
            "border": null,
            "bottom": null,
            "display": null,
            "flex": null,
            "flex_flow": null,
            "grid_area": null,
            "grid_auto_columns": null,
            "grid_auto_flow": null,
            "grid_auto_rows": null,
            "grid_column": null,
            "grid_gap": null,
            "grid_row": null,
            "grid_template_areas": null,
            "grid_template_columns": null,
            "grid_template_rows": null,
            "height": null,
            "justify_content": null,
            "justify_items": null,
            "left": null,
            "margin": null,
            "max_height": null,
            "max_width": null,
            "min_height": null,
            "min_width": null,
            "object_fit": null,
            "object_position": null,
            "order": null,
            "overflow": null,
            "overflow_x": null,
            "overflow_y": null,
            "padding": null,
            "right": null,
            "top": null,
            "visibility": null,
            "width": null
          }
        },
        "636f1f78e6a64ee194b9db5094936ba2": {
          "model_module": "@jupyter-widgets/controls",
          "model_name": "ProgressStyleModel",
          "model_module_version": "1.5.0",
          "state": {
            "_model_module": "@jupyter-widgets/controls",
            "_model_module_version": "1.5.0",
            "_model_name": "ProgressStyleModel",
            "_view_count": null,
            "_view_module": "@jupyter-widgets/base",
            "_view_module_version": "1.2.0",
            "_view_name": "StyleView",
            "bar_color": null,
            "description_width": ""
          }
        },
        "ebb8aa692ffd469aaa37ae0cbe8eb3b9": {
          "model_module": "@jupyter-widgets/base",
          "model_name": "LayoutModel",
          "model_module_version": "1.2.0",
          "state": {
            "_model_module": "@jupyter-widgets/base",
            "_model_module_version": "1.2.0",
            "_model_name": "LayoutModel",
            "_view_count": null,
            "_view_module": "@jupyter-widgets/base",
            "_view_module_version": "1.2.0",
            "_view_name": "LayoutView",
            "align_content": null,
            "align_items": null,
            "align_self": null,
            "border": null,
            "bottom": null,
            "display": null,
            "flex": null,
            "flex_flow": null,
            "grid_area": null,
            "grid_auto_columns": null,
            "grid_auto_flow": null,
            "grid_auto_rows": null,
            "grid_column": null,
            "grid_gap": null,
            "grid_row": null,
            "grid_template_areas": null,
            "grid_template_columns": null,
            "grid_template_rows": null,
            "height": null,
            "justify_content": null,
            "justify_items": null,
            "left": null,
            "margin": null,
            "max_height": null,
            "max_width": null,
            "min_height": null,
            "min_width": null,
            "object_fit": null,
            "object_position": null,
            "order": null,
            "overflow": null,
            "overflow_x": null,
            "overflow_y": null,
            "padding": null,
            "right": null,
            "top": null,
            "visibility": null,
            "width": null
          }
        },
        "4ef8221c1a9f4545bc2f26acb01e6e53": {
          "model_module": "@jupyter-widgets/controls",
          "model_name": "DescriptionStyleModel",
          "model_module_version": "1.5.0",
          "state": {
            "_model_module": "@jupyter-widgets/controls",
            "_model_module_version": "1.5.0",
            "_model_name": "DescriptionStyleModel",
            "_view_count": null,
            "_view_module": "@jupyter-widgets/base",
            "_view_module_version": "1.2.0",
            "_view_name": "StyleView",
            "description_width": ""
          }
        },
        "efb48f13975c4a0f8464486469e5f09c": {
          "model_module": "@jupyter-widgets/controls",
          "model_name": "HBoxModel",
          "model_module_version": "1.5.0",
          "state": {
            "_dom_classes": [],
            "_model_module": "@jupyter-widgets/controls",
            "_model_module_version": "1.5.0",
            "_model_name": "HBoxModel",
            "_view_count": null,
            "_view_module": "@jupyter-widgets/controls",
            "_view_module_version": "1.5.0",
            "_view_name": "HBoxView",
            "box_style": "",
            "children": [
              "IPY_MODEL_02ee392ad17b411d93bea9f7bcac7793",
              "IPY_MODEL_bbb7ece7b5c74100a3603116b4ce6785",
              "IPY_MODEL_d73639a69a3f41d3956fdec59f4face8"
            ],
            "layout": "IPY_MODEL_cd29d8a94e59419aba79952a57cb800d"
          }
        },
        "02ee392ad17b411d93bea9f7bcac7793": {
          "model_module": "@jupyter-widgets/controls",
          "model_name": "HTMLModel",
          "model_module_version": "1.5.0",
          "state": {
            "_dom_classes": [],
            "_model_module": "@jupyter-widgets/controls",
            "_model_module_version": "1.5.0",
            "_model_name": "HTMLModel",
            "_view_count": null,
            "_view_module": "@jupyter-widgets/controls",
            "_view_module_version": "1.5.0",
            "_view_name": "HTMLView",
            "description": "",
            "description_tooltip": null,
            "layout": "IPY_MODEL_571f8ea9235244d8891ce1e0a59c1682",
            "placeholder": "​",
            "style": "IPY_MODEL_22971c5ecbf94f079994276a974c5c4f",
            "value": "vocab.txt: 100%"
          }
        },
        "bbb7ece7b5c74100a3603116b4ce6785": {
          "model_module": "@jupyter-widgets/controls",
          "model_name": "FloatProgressModel",
          "model_module_version": "1.5.0",
          "state": {
            "_dom_classes": [],
            "_model_module": "@jupyter-widgets/controls",
            "_model_module_version": "1.5.0",
            "_model_name": "FloatProgressModel",
            "_view_count": null,
            "_view_module": "@jupyter-widgets/controls",
            "_view_module_version": "1.5.0",
            "_view_name": "ProgressView",
            "bar_style": "success",
            "description": "",
            "description_tooltip": null,
            "layout": "IPY_MODEL_23dd600122c4454aa62b3c73eb9a6f30",
            "max": 213450,
            "min": 0,
            "orientation": "horizontal",
            "style": "IPY_MODEL_ecc3624d7c6e41e0a35c861b34e11c5b",
            "value": 213450
          }
        },
        "d73639a69a3f41d3956fdec59f4face8": {
          "model_module": "@jupyter-widgets/controls",
          "model_name": "HTMLModel",
          "model_module_version": "1.5.0",
          "state": {
            "_dom_classes": [],
            "_model_module": "@jupyter-widgets/controls",
            "_model_module_version": "1.5.0",
            "_model_name": "HTMLModel",
            "_view_count": null,
            "_view_module": "@jupyter-widgets/controls",
            "_view_module_version": "1.5.0",
            "_view_name": "HTMLView",
            "description": "",
            "description_tooltip": null,
            "layout": "IPY_MODEL_f927e8bd8abb432cbecddd5d662060a4",
            "placeholder": "​",
            "style": "IPY_MODEL_f0b52b7a5cc94d2690c2e58021c14b30",
            "value": " 213k/213k [00:00&lt;00:00, 3.82MB/s]"
          }
        },
        "cd29d8a94e59419aba79952a57cb800d": {
          "model_module": "@jupyter-widgets/base",
          "model_name": "LayoutModel",
          "model_module_version": "1.2.0",
          "state": {
            "_model_module": "@jupyter-widgets/base",
            "_model_module_version": "1.2.0",
            "_model_name": "LayoutModel",
            "_view_count": null,
            "_view_module": "@jupyter-widgets/base",
            "_view_module_version": "1.2.0",
            "_view_name": "LayoutView",
            "align_content": null,
            "align_items": null,
            "align_self": null,
            "border": null,
            "bottom": null,
            "display": null,
            "flex": null,
            "flex_flow": null,
            "grid_area": null,
            "grid_auto_columns": null,
            "grid_auto_flow": null,
            "grid_auto_rows": null,
            "grid_column": null,
            "grid_gap": null,
            "grid_row": null,
            "grid_template_areas": null,
            "grid_template_columns": null,
            "grid_template_rows": null,
            "height": null,
            "justify_content": null,
            "justify_items": null,
            "left": null,
            "margin": null,
            "max_height": null,
            "max_width": null,
            "min_height": null,
            "min_width": null,
            "object_fit": null,
            "object_position": null,
            "order": null,
            "overflow": null,
            "overflow_x": null,
            "overflow_y": null,
            "padding": null,
            "right": null,
            "top": null,
            "visibility": null,
            "width": null
          }
        },
        "571f8ea9235244d8891ce1e0a59c1682": {
          "model_module": "@jupyter-widgets/base",
          "model_name": "LayoutModel",
          "model_module_version": "1.2.0",
          "state": {
            "_model_module": "@jupyter-widgets/base",
            "_model_module_version": "1.2.0",
            "_model_name": "LayoutModel",
            "_view_count": null,
            "_view_module": "@jupyter-widgets/base",
            "_view_module_version": "1.2.0",
            "_view_name": "LayoutView",
            "align_content": null,
            "align_items": null,
            "align_self": null,
            "border": null,
            "bottom": null,
            "display": null,
            "flex": null,
            "flex_flow": null,
            "grid_area": null,
            "grid_auto_columns": null,
            "grid_auto_flow": null,
            "grid_auto_rows": null,
            "grid_column": null,
            "grid_gap": null,
            "grid_row": null,
            "grid_template_areas": null,
            "grid_template_columns": null,
            "grid_template_rows": null,
            "height": null,
            "justify_content": null,
            "justify_items": null,
            "left": null,
            "margin": null,
            "max_height": null,
            "max_width": null,
            "min_height": null,
            "min_width": null,
            "object_fit": null,
            "object_position": null,
            "order": null,
            "overflow": null,
            "overflow_x": null,
            "overflow_y": null,
            "padding": null,
            "right": null,
            "top": null,
            "visibility": null,
            "width": null
          }
        },
        "22971c5ecbf94f079994276a974c5c4f": {
          "model_module": "@jupyter-widgets/controls",
          "model_name": "DescriptionStyleModel",
          "model_module_version": "1.5.0",
          "state": {
            "_model_module": "@jupyter-widgets/controls",
            "_model_module_version": "1.5.0",
            "_model_name": "DescriptionStyleModel",
            "_view_count": null,
            "_view_module": "@jupyter-widgets/base",
            "_view_module_version": "1.2.0",
            "_view_name": "StyleView",
            "description_width": ""
          }
        },
        "23dd600122c4454aa62b3c73eb9a6f30": {
          "model_module": "@jupyter-widgets/base",
          "model_name": "LayoutModel",
          "model_module_version": "1.2.0",
          "state": {
            "_model_module": "@jupyter-widgets/base",
            "_model_module_version": "1.2.0",
            "_model_name": "LayoutModel",
            "_view_count": null,
            "_view_module": "@jupyter-widgets/base",
            "_view_module_version": "1.2.0",
            "_view_name": "LayoutView",
            "align_content": null,
            "align_items": null,
            "align_self": null,
            "border": null,
            "bottom": null,
            "display": null,
            "flex": null,
            "flex_flow": null,
            "grid_area": null,
            "grid_auto_columns": null,
            "grid_auto_flow": null,
            "grid_auto_rows": null,
            "grid_column": null,
            "grid_gap": null,
            "grid_row": null,
            "grid_template_areas": null,
            "grid_template_columns": null,
            "grid_template_rows": null,
            "height": null,
            "justify_content": null,
            "justify_items": null,
            "left": null,
            "margin": null,
            "max_height": null,
            "max_width": null,
            "min_height": null,
            "min_width": null,
            "object_fit": null,
            "object_position": null,
            "order": null,
            "overflow": null,
            "overflow_x": null,
            "overflow_y": null,
            "padding": null,
            "right": null,
            "top": null,
            "visibility": null,
            "width": null
          }
        },
        "ecc3624d7c6e41e0a35c861b34e11c5b": {
          "model_module": "@jupyter-widgets/controls",
          "model_name": "ProgressStyleModel",
          "model_module_version": "1.5.0",
          "state": {
            "_model_module": "@jupyter-widgets/controls",
            "_model_module_version": "1.5.0",
            "_model_name": "ProgressStyleModel",
            "_view_count": null,
            "_view_module": "@jupyter-widgets/base",
            "_view_module_version": "1.2.0",
            "_view_name": "StyleView",
            "bar_color": null,
            "description_width": ""
          }
        },
        "f927e8bd8abb432cbecddd5d662060a4": {
          "model_module": "@jupyter-widgets/base",
          "model_name": "LayoutModel",
          "model_module_version": "1.2.0",
          "state": {
            "_model_module": "@jupyter-widgets/base",
            "_model_module_version": "1.2.0",
            "_model_name": "LayoutModel",
            "_view_count": null,
            "_view_module": "@jupyter-widgets/base",
            "_view_module_version": "1.2.0",
            "_view_name": "LayoutView",
            "align_content": null,
            "align_items": null,
            "align_self": null,
            "border": null,
            "bottom": null,
            "display": null,
            "flex": null,
            "flex_flow": null,
            "grid_area": null,
            "grid_auto_columns": null,
            "grid_auto_flow": null,
            "grid_auto_rows": null,
            "grid_column": null,
            "grid_gap": null,
            "grid_row": null,
            "grid_template_areas": null,
            "grid_template_columns": null,
            "grid_template_rows": null,
            "height": null,
            "justify_content": null,
            "justify_items": null,
            "left": null,
            "margin": null,
            "max_height": null,
            "max_width": null,
            "min_height": null,
            "min_width": null,
            "object_fit": null,
            "object_position": null,
            "order": null,
            "overflow": null,
            "overflow_x": null,
            "overflow_y": null,
            "padding": null,
            "right": null,
            "top": null,
            "visibility": null,
            "width": null
          }
        },
        "f0b52b7a5cc94d2690c2e58021c14b30": {
          "model_module": "@jupyter-widgets/controls",
          "model_name": "DescriptionStyleModel",
          "model_module_version": "1.5.0",
          "state": {
            "_model_module": "@jupyter-widgets/controls",
            "_model_module_version": "1.5.0",
            "_model_name": "DescriptionStyleModel",
            "_view_count": null,
            "_view_module": "@jupyter-widgets/base",
            "_view_module_version": "1.2.0",
            "_view_name": "StyleView",
            "description_width": ""
          }
        },
        "b4141e6e7d4d424fae08d3f14e231913": {
          "model_module": "@jupyter-widgets/controls",
          "model_name": "HBoxModel",
          "model_module_version": "1.5.0",
          "state": {
            "_dom_classes": [],
            "_model_module": "@jupyter-widgets/controls",
            "_model_module_version": "1.5.0",
            "_model_name": "HBoxModel",
            "_view_count": null,
            "_view_module": "@jupyter-widgets/controls",
            "_view_module_version": "1.5.0",
            "_view_name": "HBoxView",
            "box_style": "",
            "children": [
              "IPY_MODEL_8397ec099a714709a997f5bf37a523e2",
              "IPY_MODEL_66495bf81a3c4b5683add05354ba2ccb",
              "IPY_MODEL_160389b42c264a3db30118ee95506839"
            ],
            "layout": "IPY_MODEL_bb2207ed22294a3a987728f94a578963"
          }
        },
        "8397ec099a714709a997f5bf37a523e2": {
          "model_module": "@jupyter-widgets/controls",
          "model_name": "HTMLModel",
          "model_module_version": "1.5.0",
          "state": {
            "_dom_classes": [],
            "_model_module": "@jupyter-widgets/controls",
            "_model_module_version": "1.5.0",
            "_model_name": "HTMLModel",
            "_view_count": null,
            "_view_module": "@jupyter-widgets/controls",
            "_view_module_version": "1.5.0",
            "_view_name": "HTMLView",
            "description": "",
            "description_tooltip": null,
            "layout": "IPY_MODEL_9d7cc8ca0bbf414abf8d41bf088a937c",
            "placeholder": "​",
            "style": "IPY_MODEL_f7edb520f05e49428db70a029e8f1771",
            "value": "tokenizer.json: 100%"
          }
        },
        "66495bf81a3c4b5683add05354ba2ccb": {
          "model_module": "@jupyter-widgets/controls",
          "model_name": "FloatProgressModel",
          "model_module_version": "1.5.0",
          "state": {
            "_dom_classes": [],
            "_model_module": "@jupyter-widgets/controls",
            "_model_module_version": "1.5.0",
            "_model_name": "FloatProgressModel",
            "_view_count": null,
            "_view_module": "@jupyter-widgets/controls",
            "_view_module_version": "1.5.0",
            "_view_name": "ProgressView",
            "bar_style": "success",
            "description": "",
            "description_tooltip": null,
            "layout": "IPY_MODEL_3663263020b047a2b59d2e129c2eb82b",
            "max": 435797,
            "min": 0,
            "orientation": "horizontal",
            "style": "IPY_MODEL_437540b1f693489ba2ef338104c9506b",
            "value": 435797
          }
        },
        "160389b42c264a3db30118ee95506839": {
          "model_module": "@jupyter-widgets/controls",
          "model_name": "HTMLModel",
          "model_module_version": "1.5.0",
          "state": {
            "_dom_classes": [],
            "_model_module": "@jupyter-widgets/controls",
            "_model_module_version": "1.5.0",
            "_model_name": "HTMLModel",
            "_view_count": null,
            "_view_module": "@jupyter-widgets/controls",
            "_view_module_version": "1.5.0",
            "_view_name": "HTMLView",
            "description": "",
            "description_tooltip": null,
            "layout": "IPY_MODEL_a7d1bd21ebee49cf93df426789975bbb",
            "placeholder": "​",
            "style": "IPY_MODEL_4eed7349865b4be08f0e97f9e1129c99",
            "value": " 436k/436k [00:00&lt;00:00, 9.38MB/s]"
          }
        },
        "bb2207ed22294a3a987728f94a578963": {
          "model_module": "@jupyter-widgets/base",
          "model_name": "LayoutModel",
          "model_module_version": "1.2.0",
          "state": {
            "_model_module": "@jupyter-widgets/base",
            "_model_module_version": "1.2.0",
            "_model_name": "LayoutModel",
            "_view_count": null,
            "_view_module": "@jupyter-widgets/base",
            "_view_module_version": "1.2.0",
            "_view_name": "LayoutView",
            "align_content": null,
            "align_items": null,
            "align_self": null,
            "border": null,
            "bottom": null,
            "display": null,
            "flex": null,
            "flex_flow": null,
            "grid_area": null,
            "grid_auto_columns": null,
            "grid_auto_flow": null,
            "grid_auto_rows": null,
            "grid_column": null,
            "grid_gap": null,
            "grid_row": null,
            "grid_template_areas": null,
            "grid_template_columns": null,
            "grid_template_rows": null,
            "height": null,
            "justify_content": null,
            "justify_items": null,
            "left": null,
            "margin": null,
            "max_height": null,
            "max_width": null,
            "min_height": null,
            "min_width": null,
            "object_fit": null,
            "object_position": null,
            "order": null,
            "overflow": null,
            "overflow_x": null,
            "overflow_y": null,
            "padding": null,
            "right": null,
            "top": null,
            "visibility": null,
            "width": null
          }
        },
        "9d7cc8ca0bbf414abf8d41bf088a937c": {
          "model_module": "@jupyter-widgets/base",
          "model_name": "LayoutModel",
          "model_module_version": "1.2.0",
          "state": {
            "_model_module": "@jupyter-widgets/base",
            "_model_module_version": "1.2.0",
            "_model_name": "LayoutModel",
            "_view_count": null,
            "_view_module": "@jupyter-widgets/base",
            "_view_module_version": "1.2.0",
            "_view_name": "LayoutView",
            "align_content": null,
            "align_items": null,
            "align_self": null,
            "border": null,
            "bottom": null,
            "display": null,
            "flex": null,
            "flex_flow": null,
            "grid_area": null,
            "grid_auto_columns": null,
            "grid_auto_flow": null,
            "grid_auto_rows": null,
            "grid_column": null,
            "grid_gap": null,
            "grid_row": null,
            "grid_template_areas": null,
            "grid_template_columns": null,
            "grid_template_rows": null,
            "height": null,
            "justify_content": null,
            "justify_items": null,
            "left": null,
            "margin": null,
            "max_height": null,
            "max_width": null,
            "min_height": null,
            "min_width": null,
            "object_fit": null,
            "object_position": null,
            "order": null,
            "overflow": null,
            "overflow_x": null,
            "overflow_y": null,
            "padding": null,
            "right": null,
            "top": null,
            "visibility": null,
            "width": null
          }
        },
        "f7edb520f05e49428db70a029e8f1771": {
          "model_module": "@jupyter-widgets/controls",
          "model_name": "DescriptionStyleModel",
          "model_module_version": "1.5.0",
          "state": {
            "_model_module": "@jupyter-widgets/controls",
            "_model_module_version": "1.5.0",
            "_model_name": "DescriptionStyleModel",
            "_view_count": null,
            "_view_module": "@jupyter-widgets/base",
            "_view_module_version": "1.2.0",
            "_view_name": "StyleView",
            "description_width": ""
          }
        },
        "3663263020b047a2b59d2e129c2eb82b": {
          "model_module": "@jupyter-widgets/base",
          "model_name": "LayoutModel",
          "model_module_version": "1.2.0",
          "state": {
            "_model_module": "@jupyter-widgets/base",
            "_model_module_version": "1.2.0",
            "_model_name": "LayoutModel",
            "_view_count": null,
            "_view_module": "@jupyter-widgets/base",
            "_view_module_version": "1.2.0",
            "_view_name": "LayoutView",
            "align_content": null,
            "align_items": null,
            "align_self": null,
            "border": null,
            "bottom": null,
            "display": null,
            "flex": null,
            "flex_flow": null,
            "grid_area": null,
            "grid_auto_columns": null,
            "grid_auto_flow": null,
            "grid_auto_rows": null,
            "grid_column": null,
            "grid_gap": null,
            "grid_row": null,
            "grid_template_areas": null,
            "grid_template_columns": null,
            "grid_template_rows": null,
            "height": null,
            "justify_content": null,
            "justify_items": null,
            "left": null,
            "margin": null,
            "max_height": null,
            "max_width": null,
            "min_height": null,
            "min_width": null,
            "object_fit": null,
            "object_position": null,
            "order": null,
            "overflow": null,
            "overflow_x": null,
            "overflow_y": null,
            "padding": null,
            "right": null,
            "top": null,
            "visibility": null,
            "width": null
          }
        },
        "437540b1f693489ba2ef338104c9506b": {
          "model_module": "@jupyter-widgets/controls",
          "model_name": "ProgressStyleModel",
          "model_module_version": "1.5.0",
          "state": {
            "_model_module": "@jupyter-widgets/controls",
            "_model_module_version": "1.5.0",
            "_model_name": "ProgressStyleModel",
            "_view_count": null,
            "_view_module": "@jupyter-widgets/base",
            "_view_module_version": "1.2.0",
            "_view_name": "StyleView",
            "bar_color": null,
            "description_width": ""
          }
        },
        "a7d1bd21ebee49cf93df426789975bbb": {
          "model_module": "@jupyter-widgets/base",
          "model_name": "LayoutModel",
          "model_module_version": "1.2.0",
          "state": {
            "_model_module": "@jupyter-widgets/base",
            "_model_module_version": "1.2.0",
            "_model_name": "LayoutModel",
            "_view_count": null,
            "_view_module": "@jupyter-widgets/base",
            "_view_module_version": "1.2.0",
            "_view_name": "LayoutView",
            "align_content": null,
            "align_items": null,
            "align_self": null,
            "border": null,
            "bottom": null,
            "display": null,
            "flex": null,
            "flex_flow": null,
            "grid_area": null,
            "grid_auto_columns": null,
            "grid_auto_flow": null,
            "grid_auto_rows": null,
            "grid_column": null,
            "grid_gap": null,
            "grid_row": null,
            "grid_template_areas": null,
            "grid_template_columns": null,
            "grid_template_rows": null,
            "height": null,
            "justify_content": null,
            "justify_items": null,
            "left": null,
            "margin": null,
            "max_height": null,
            "max_width": null,
            "min_height": null,
            "min_width": null,
            "object_fit": null,
            "object_position": null,
            "order": null,
            "overflow": null,
            "overflow_x": null,
            "overflow_y": null,
            "padding": null,
            "right": null,
            "top": null,
            "visibility": null,
            "width": null
          }
        },
        "4eed7349865b4be08f0e97f9e1129c99": {
          "model_module": "@jupyter-widgets/controls",
          "model_name": "DescriptionStyleModel",
          "model_module_version": "1.5.0",
          "state": {
            "_model_module": "@jupyter-widgets/controls",
            "_model_module_version": "1.5.0",
            "_model_name": "DescriptionStyleModel",
            "_view_count": null,
            "_view_module": "@jupyter-widgets/base",
            "_view_module_version": "1.2.0",
            "_view_name": "StyleView",
            "description_width": ""
          }
        },
        "73d9be79d559406895c3f9ec6c02028b": {
          "model_module": "@jupyter-widgets/controls",
          "model_name": "HBoxModel",
          "model_module_version": "1.5.0",
          "state": {
            "_dom_classes": [],
            "_model_module": "@jupyter-widgets/controls",
            "_model_module_version": "1.5.0",
            "_model_name": "HBoxModel",
            "_view_count": null,
            "_view_module": "@jupyter-widgets/controls",
            "_view_module_version": "1.5.0",
            "_view_name": "HBoxView",
            "box_style": "",
            "children": [
              "IPY_MODEL_a60e666197674cb49433262933559ffa",
              "IPY_MODEL_f28a7bdb9aa94e88b56c8ab24b2532c3",
              "IPY_MODEL_086b27c87c854a23aa610bc6138d6619"
            ],
            "layout": "IPY_MODEL_37f6789db92f4d4ab5fbe0c8c8863765"
          }
        },
        "a60e666197674cb49433262933559ffa": {
          "model_module": "@jupyter-widgets/controls",
          "model_name": "HTMLModel",
          "model_module_version": "1.5.0",
          "state": {
            "_dom_classes": [],
            "_model_module": "@jupyter-widgets/controls",
            "_model_module_version": "1.5.0",
            "_model_name": "HTMLModel",
            "_view_count": null,
            "_view_module": "@jupyter-widgets/controls",
            "_view_module_version": "1.5.0",
            "_view_name": "HTMLView",
            "description": "",
            "description_tooltip": null,
            "layout": "IPY_MODEL_c6d0296805bc4940b2bc62b3ce371953",
            "placeholder": "​",
            "style": "IPY_MODEL_8cfe56b80d0840a5a9e430b2202e46bc",
            "value": "Map: 100%"
          }
        },
        "f28a7bdb9aa94e88b56c8ab24b2532c3": {
          "model_module": "@jupyter-widgets/controls",
          "model_name": "FloatProgressModel",
          "model_module_version": "1.5.0",
          "state": {
            "_dom_classes": [],
            "_model_module": "@jupyter-widgets/controls",
            "_model_module_version": "1.5.0",
            "_model_name": "FloatProgressModel",
            "_view_count": null,
            "_view_module": "@jupyter-widgets/controls",
            "_view_module_version": "1.5.0",
            "_view_name": "ProgressView",
            "bar_style": "success",
            "description": "",
            "description_tooltip": null,
            "layout": "IPY_MODEL_8e685567bb9a4a558158121dc46278fa",
            "max": 87599,
            "min": 0,
            "orientation": "horizontal",
            "style": "IPY_MODEL_e566a5aa133047a1940b7fe87663688e",
            "value": 87599
          }
        },
        "086b27c87c854a23aa610bc6138d6619": {
          "model_module": "@jupyter-widgets/controls",
          "model_name": "HTMLModel",
          "model_module_version": "1.5.0",
          "state": {
            "_dom_classes": [],
            "_model_module": "@jupyter-widgets/controls",
            "_model_module_version": "1.5.0",
            "_model_name": "HTMLModel",
            "_view_count": null,
            "_view_module": "@jupyter-widgets/controls",
            "_view_module_version": "1.5.0",
            "_view_name": "HTMLView",
            "description": "",
            "description_tooltip": null,
            "layout": "IPY_MODEL_ada3bb6a75b14f6db851e5d760115cfe",
            "placeholder": "​",
            "style": "IPY_MODEL_d8b0820a16444c01ba59b02bf317a786",
            "value": " 87599/87599 [01:54&lt;00:00, 1451.14 examples/s]"
          }
        },
        "37f6789db92f4d4ab5fbe0c8c8863765": {
          "model_module": "@jupyter-widgets/base",
          "model_name": "LayoutModel",
          "model_module_version": "1.2.0",
          "state": {
            "_model_module": "@jupyter-widgets/base",
            "_model_module_version": "1.2.0",
            "_model_name": "LayoutModel",
            "_view_count": null,
            "_view_module": "@jupyter-widgets/base",
            "_view_module_version": "1.2.0",
            "_view_name": "LayoutView",
            "align_content": null,
            "align_items": null,
            "align_self": null,
            "border": null,
            "bottom": null,
            "display": null,
            "flex": null,
            "flex_flow": null,
            "grid_area": null,
            "grid_auto_columns": null,
            "grid_auto_flow": null,
            "grid_auto_rows": null,
            "grid_column": null,
            "grid_gap": null,
            "grid_row": null,
            "grid_template_areas": null,
            "grid_template_columns": null,
            "grid_template_rows": null,
            "height": null,
            "justify_content": null,
            "justify_items": null,
            "left": null,
            "margin": null,
            "max_height": null,
            "max_width": null,
            "min_height": null,
            "min_width": null,
            "object_fit": null,
            "object_position": null,
            "order": null,
            "overflow": null,
            "overflow_x": null,
            "overflow_y": null,
            "padding": null,
            "right": null,
            "top": null,
            "visibility": null,
            "width": null
          }
        },
        "c6d0296805bc4940b2bc62b3ce371953": {
          "model_module": "@jupyter-widgets/base",
          "model_name": "LayoutModel",
          "model_module_version": "1.2.0",
          "state": {
            "_model_module": "@jupyter-widgets/base",
            "_model_module_version": "1.2.0",
            "_model_name": "LayoutModel",
            "_view_count": null,
            "_view_module": "@jupyter-widgets/base",
            "_view_module_version": "1.2.0",
            "_view_name": "LayoutView",
            "align_content": null,
            "align_items": null,
            "align_self": null,
            "border": null,
            "bottom": null,
            "display": null,
            "flex": null,
            "flex_flow": null,
            "grid_area": null,
            "grid_auto_columns": null,
            "grid_auto_flow": null,
            "grid_auto_rows": null,
            "grid_column": null,
            "grid_gap": null,
            "grid_row": null,
            "grid_template_areas": null,
            "grid_template_columns": null,
            "grid_template_rows": null,
            "height": null,
            "justify_content": null,
            "justify_items": null,
            "left": null,
            "margin": null,
            "max_height": null,
            "max_width": null,
            "min_height": null,
            "min_width": null,
            "object_fit": null,
            "object_position": null,
            "order": null,
            "overflow": null,
            "overflow_x": null,
            "overflow_y": null,
            "padding": null,
            "right": null,
            "top": null,
            "visibility": null,
            "width": null
          }
        },
        "8cfe56b80d0840a5a9e430b2202e46bc": {
          "model_module": "@jupyter-widgets/controls",
          "model_name": "DescriptionStyleModel",
          "model_module_version": "1.5.0",
          "state": {
            "_model_module": "@jupyter-widgets/controls",
            "_model_module_version": "1.5.0",
            "_model_name": "DescriptionStyleModel",
            "_view_count": null,
            "_view_module": "@jupyter-widgets/base",
            "_view_module_version": "1.2.0",
            "_view_name": "StyleView",
            "description_width": ""
          }
        },
        "8e685567bb9a4a558158121dc46278fa": {
          "model_module": "@jupyter-widgets/base",
          "model_name": "LayoutModel",
          "model_module_version": "1.2.0",
          "state": {
            "_model_module": "@jupyter-widgets/base",
            "_model_module_version": "1.2.0",
            "_model_name": "LayoutModel",
            "_view_count": null,
            "_view_module": "@jupyter-widgets/base",
            "_view_module_version": "1.2.0",
            "_view_name": "LayoutView",
            "align_content": null,
            "align_items": null,
            "align_self": null,
            "border": null,
            "bottom": null,
            "display": null,
            "flex": null,
            "flex_flow": null,
            "grid_area": null,
            "grid_auto_columns": null,
            "grid_auto_flow": null,
            "grid_auto_rows": null,
            "grid_column": null,
            "grid_gap": null,
            "grid_row": null,
            "grid_template_areas": null,
            "grid_template_columns": null,
            "grid_template_rows": null,
            "height": null,
            "justify_content": null,
            "justify_items": null,
            "left": null,
            "margin": null,
            "max_height": null,
            "max_width": null,
            "min_height": null,
            "min_width": null,
            "object_fit": null,
            "object_position": null,
            "order": null,
            "overflow": null,
            "overflow_x": null,
            "overflow_y": null,
            "padding": null,
            "right": null,
            "top": null,
            "visibility": null,
            "width": null
          }
        },
        "e566a5aa133047a1940b7fe87663688e": {
          "model_module": "@jupyter-widgets/controls",
          "model_name": "ProgressStyleModel",
          "model_module_version": "1.5.0",
          "state": {
            "_model_module": "@jupyter-widgets/controls",
            "_model_module_version": "1.5.0",
            "_model_name": "ProgressStyleModel",
            "_view_count": null,
            "_view_module": "@jupyter-widgets/base",
            "_view_module_version": "1.2.0",
            "_view_name": "StyleView",
            "bar_color": null,
            "description_width": ""
          }
        },
        "ada3bb6a75b14f6db851e5d760115cfe": {
          "model_module": "@jupyter-widgets/base",
          "model_name": "LayoutModel",
          "model_module_version": "1.2.0",
          "state": {
            "_model_module": "@jupyter-widgets/base",
            "_model_module_version": "1.2.0",
            "_model_name": "LayoutModel",
            "_view_count": null,
            "_view_module": "@jupyter-widgets/base",
            "_view_module_version": "1.2.0",
            "_view_name": "LayoutView",
            "align_content": null,
            "align_items": null,
            "align_self": null,
            "border": null,
            "bottom": null,
            "display": null,
            "flex": null,
            "flex_flow": null,
            "grid_area": null,
            "grid_auto_columns": null,
            "grid_auto_flow": null,
            "grid_auto_rows": null,
            "grid_column": null,
            "grid_gap": null,
            "grid_row": null,
            "grid_template_areas": null,
            "grid_template_columns": null,
            "grid_template_rows": null,
            "height": null,
            "justify_content": null,
            "justify_items": null,
            "left": null,
            "margin": null,
            "max_height": null,
            "max_width": null,
            "min_height": null,
            "min_width": null,
            "object_fit": null,
            "object_position": null,
            "order": null,
            "overflow": null,
            "overflow_x": null,
            "overflow_y": null,
            "padding": null,
            "right": null,
            "top": null,
            "visibility": null,
            "width": null
          }
        },
        "d8b0820a16444c01ba59b02bf317a786": {
          "model_module": "@jupyter-widgets/controls",
          "model_name": "DescriptionStyleModel",
          "model_module_version": "1.5.0",
          "state": {
            "_model_module": "@jupyter-widgets/controls",
            "_model_module_version": "1.5.0",
            "_model_name": "DescriptionStyleModel",
            "_view_count": null,
            "_view_module": "@jupyter-widgets/base",
            "_view_module_version": "1.2.0",
            "_view_name": "StyleView",
            "description_width": ""
          }
        },
        "0ce3a236016043ef8bc838fbc65d778f": {
          "model_module": "@jupyter-widgets/controls",
          "model_name": "HBoxModel",
          "model_module_version": "1.5.0",
          "state": {
            "_dom_classes": [],
            "_model_module": "@jupyter-widgets/controls",
            "_model_module_version": "1.5.0",
            "_model_name": "HBoxModel",
            "_view_count": null,
            "_view_module": "@jupyter-widgets/controls",
            "_view_module_version": "1.5.0",
            "_view_name": "HBoxView",
            "box_style": "",
            "children": [
              "IPY_MODEL_d85257a17de747f09329c11353e306f2",
              "IPY_MODEL_8676020d903145449e7dbebc52210e4d",
              "IPY_MODEL_6f262b85a2114f25b7d3f94fa5b2ef03"
            ],
            "layout": "IPY_MODEL_10787632cc6e40d48bb6b72b2ff38055"
          }
        },
        "d85257a17de747f09329c11353e306f2": {
          "model_module": "@jupyter-widgets/controls",
          "model_name": "HTMLModel",
          "model_module_version": "1.5.0",
          "state": {
            "_dom_classes": [],
            "_model_module": "@jupyter-widgets/controls",
            "_model_module_version": "1.5.0",
            "_model_name": "HTMLModel",
            "_view_count": null,
            "_view_module": "@jupyter-widgets/controls",
            "_view_module_version": "1.5.0",
            "_view_name": "HTMLView",
            "description": "",
            "description_tooltip": null,
            "layout": "IPY_MODEL_80141695e5214131baffd0902819b1ef",
            "placeholder": "​",
            "style": "IPY_MODEL_c9dc951d567a4bf1bde5a9a0537259aa",
            "value": "Map: 100%"
          }
        },
        "8676020d903145449e7dbebc52210e4d": {
          "model_module": "@jupyter-widgets/controls",
          "model_name": "FloatProgressModel",
          "model_module_version": "1.5.0",
          "state": {
            "_dom_classes": [],
            "_model_module": "@jupyter-widgets/controls",
            "_model_module_version": "1.5.0",
            "_model_name": "FloatProgressModel",
            "_view_count": null,
            "_view_module": "@jupyter-widgets/controls",
            "_view_module_version": "1.5.0",
            "_view_name": "ProgressView",
            "bar_style": "success",
            "description": "",
            "description_tooltip": null,
            "layout": "IPY_MODEL_7931111ba51e4e6393dfd78399ab48a2",
            "max": 10570,
            "min": 0,
            "orientation": "horizontal",
            "style": "IPY_MODEL_86020ce9634540b4b3593a191179814e",
            "value": 10570
          }
        },
        "6f262b85a2114f25b7d3f94fa5b2ef03": {
          "model_module": "@jupyter-widgets/controls",
          "model_name": "HTMLModel",
          "model_module_version": "1.5.0",
          "state": {
            "_dom_classes": [],
            "_model_module": "@jupyter-widgets/controls",
            "_model_module_version": "1.5.0",
            "_model_name": "HTMLModel",
            "_view_count": null,
            "_view_module": "@jupyter-widgets/controls",
            "_view_module_version": "1.5.0",
            "_view_name": "HTMLView",
            "description": "",
            "description_tooltip": null,
            "layout": "IPY_MODEL_0449a49cfbc74871b4e4409a6698a46f",
            "placeholder": "​",
            "style": "IPY_MODEL_24fc1b08298746c2b72cc4ac259e4037",
            "value": " 10570/10570 [00:10&lt;00:00, 1145.62 examples/s]"
          }
        },
        "10787632cc6e40d48bb6b72b2ff38055": {
          "model_module": "@jupyter-widgets/base",
          "model_name": "LayoutModel",
          "model_module_version": "1.2.0",
          "state": {
            "_model_module": "@jupyter-widgets/base",
            "_model_module_version": "1.2.0",
            "_model_name": "LayoutModel",
            "_view_count": null,
            "_view_module": "@jupyter-widgets/base",
            "_view_module_version": "1.2.0",
            "_view_name": "LayoutView",
            "align_content": null,
            "align_items": null,
            "align_self": null,
            "border": null,
            "bottom": null,
            "display": null,
            "flex": null,
            "flex_flow": null,
            "grid_area": null,
            "grid_auto_columns": null,
            "grid_auto_flow": null,
            "grid_auto_rows": null,
            "grid_column": null,
            "grid_gap": null,
            "grid_row": null,
            "grid_template_areas": null,
            "grid_template_columns": null,
            "grid_template_rows": null,
            "height": null,
            "justify_content": null,
            "justify_items": null,
            "left": null,
            "margin": null,
            "max_height": null,
            "max_width": null,
            "min_height": null,
            "min_width": null,
            "object_fit": null,
            "object_position": null,
            "order": null,
            "overflow": null,
            "overflow_x": null,
            "overflow_y": null,
            "padding": null,
            "right": null,
            "top": null,
            "visibility": null,
            "width": null
          }
        },
        "80141695e5214131baffd0902819b1ef": {
          "model_module": "@jupyter-widgets/base",
          "model_name": "LayoutModel",
          "model_module_version": "1.2.0",
          "state": {
            "_model_module": "@jupyter-widgets/base",
            "_model_module_version": "1.2.0",
            "_model_name": "LayoutModel",
            "_view_count": null,
            "_view_module": "@jupyter-widgets/base",
            "_view_module_version": "1.2.0",
            "_view_name": "LayoutView",
            "align_content": null,
            "align_items": null,
            "align_self": null,
            "border": null,
            "bottom": null,
            "display": null,
            "flex": null,
            "flex_flow": null,
            "grid_area": null,
            "grid_auto_columns": null,
            "grid_auto_flow": null,
            "grid_auto_rows": null,
            "grid_column": null,
            "grid_gap": null,
            "grid_row": null,
            "grid_template_areas": null,
            "grid_template_columns": null,
            "grid_template_rows": null,
            "height": null,
            "justify_content": null,
            "justify_items": null,
            "left": null,
            "margin": null,
            "max_height": null,
            "max_width": null,
            "min_height": null,
            "min_width": null,
            "object_fit": null,
            "object_position": null,
            "order": null,
            "overflow": null,
            "overflow_x": null,
            "overflow_y": null,
            "padding": null,
            "right": null,
            "top": null,
            "visibility": null,
            "width": null
          }
        },
        "c9dc951d567a4bf1bde5a9a0537259aa": {
          "model_module": "@jupyter-widgets/controls",
          "model_name": "DescriptionStyleModel",
          "model_module_version": "1.5.0",
          "state": {
            "_model_module": "@jupyter-widgets/controls",
            "_model_module_version": "1.5.0",
            "_model_name": "DescriptionStyleModel",
            "_view_count": null,
            "_view_module": "@jupyter-widgets/base",
            "_view_module_version": "1.2.0",
            "_view_name": "StyleView",
            "description_width": ""
          }
        },
        "7931111ba51e4e6393dfd78399ab48a2": {
          "model_module": "@jupyter-widgets/base",
          "model_name": "LayoutModel",
          "model_module_version": "1.2.0",
          "state": {
            "_model_module": "@jupyter-widgets/base",
            "_model_module_version": "1.2.0",
            "_model_name": "LayoutModel",
            "_view_count": null,
            "_view_module": "@jupyter-widgets/base",
            "_view_module_version": "1.2.0",
            "_view_name": "LayoutView",
            "align_content": null,
            "align_items": null,
            "align_self": null,
            "border": null,
            "bottom": null,
            "display": null,
            "flex": null,
            "flex_flow": null,
            "grid_area": null,
            "grid_auto_columns": null,
            "grid_auto_flow": null,
            "grid_auto_rows": null,
            "grid_column": null,
            "grid_gap": null,
            "grid_row": null,
            "grid_template_areas": null,
            "grid_template_columns": null,
            "grid_template_rows": null,
            "height": null,
            "justify_content": null,
            "justify_items": null,
            "left": null,
            "margin": null,
            "max_height": null,
            "max_width": null,
            "min_height": null,
            "min_width": null,
            "object_fit": null,
            "object_position": null,
            "order": null,
            "overflow": null,
            "overflow_x": null,
            "overflow_y": null,
            "padding": null,
            "right": null,
            "top": null,
            "visibility": null,
            "width": null
          }
        },
        "86020ce9634540b4b3593a191179814e": {
          "model_module": "@jupyter-widgets/controls",
          "model_name": "ProgressStyleModel",
          "model_module_version": "1.5.0",
          "state": {
            "_model_module": "@jupyter-widgets/controls",
            "_model_module_version": "1.5.0",
            "_model_name": "ProgressStyleModel",
            "_view_count": null,
            "_view_module": "@jupyter-widgets/base",
            "_view_module_version": "1.2.0",
            "_view_name": "StyleView",
            "bar_color": null,
            "description_width": ""
          }
        },
        "0449a49cfbc74871b4e4409a6698a46f": {
          "model_module": "@jupyter-widgets/base",
          "model_name": "LayoutModel",
          "model_module_version": "1.2.0",
          "state": {
            "_model_module": "@jupyter-widgets/base",
            "_model_module_version": "1.2.0",
            "_model_name": "LayoutModel",
            "_view_count": null,
            "_view_module": "@jupyter-widgets/base",
            "_view_module_version": "1.2.0",
            "_view_name": "LayoutView",
            "align_content": null,
            "align_items": null,
            "align_self": null,
            "border": null,
            "bottom": null,
            "display": null,
            "flex": null,
            "flex_flow": null,
            "grid_area": null,
            "grid_auto_columns": null,
            "grid_auto_flow": null,
            "grid_auto_rows": null,
            "grid_column": null,
            "grid_gap": null,
            "grid_row": null,
            "grid_template_areas": null,
            "grid_template_columns": null,
            "grid_template_rows": null,
            "height": null,
            "justify_content": null,
            "justify_items": null,
            "left": null,
            "margin": null,
            "max_height": null,
            "max_width": null,
            "min_height": null,
            "min_width": null,
            "object_fit": null,
            "object_position": null,
            "order": null,
            "overflow": null,
            "overflow_x": null,
            "overflow_y": null,
            "padding": null,
            "right": null,
            "top": null,
            "visibility": null,
            "width": null
          }
        },
        "24fc1b08298746c2b72cc4ac259e4037": {
          "model_module": "@jupyter-widgets/controls",
          "model_name": "DescriptionStyleModel",
          "model_module_version": "1.5.0",
          "state": {
            "_model_module": "@jupyter-widgets/controls",
            "_model_module_version": "1.5.0",
            "_model_name": "DescriptionStyleModel",
            "_view_count": null,
            "_view_module": "@jupyter-widgets/base",
            "_view_module_version": "1.2.0",
            "_view_name": "StyleView",
            "description_width": ""
          }
        },
        "34c54cea2b2a4c7ba016482c61684348": {
          "model_module": "@jupyter-widgets/controls",
          "model_name": "HBoxModel",
          "model_module_version": "1.5.0",
          "state": {
            "_dom_classes": [],
            "_model_module": "@jupyter-widgets/controls",
            "_model_module_version": "1.5.0",
            "_model_name": "HBoxModel",
            "_view_count": null,
            "_view_module": "@jupyter-widgets/controls",
            "_view_module_version": "1.5.0",
            "_view_name": "HBoxView",
            "box_style": "",
            "children": [
              "IPY_MODEL_7caf313dc08f4655853170781374b012",
              "IPY_MODEL_24832f099de94c48a63f6b257a23c79b",
              "IPY_MODEL_160363712404455392abd1917ee98a71"
            ],
            "layout": "IPY_MODEL_ad030c127e304a4b90652ff1b2c97788"
          }
        },
        "7caf313dc08f4655853170781374b012": {
          "model_module": "@jupyter-widgets/controls",
          "model_name": "HTMLModel",
          "model_module_version": "1.5.0",
          "state": {
            "_dom_classes": [],
            "_model_module": "@jupyter-widgets/controls",
            "_model_module_version": "1.5.0",
            "_model_name": "HTMLModel",
            "_view_count": null,
            "_view_module": "@jupyter-widgets/controls",
            "_view_module_version": "1.5.0",
            "_view_name": "HTMLView",
            "description": "",
            "description_tooltip": null,
            "layout": "IPY_MODEL_1da4182dd06f4d2181965ab44c3bcf41",
            "placeholder": "​",
            "style": "IPY_MODEL_cf9bdaa4622a40baaf7ac3dac3676cf5",
            "value": "tokenizer_config.json: 100%"
          }
        },
        "24832f099de94c48a63f6b257a23c79b": {
          "model_module": "@jupyter-widgets/controls",
          "model_name": "FloatProgressModel",
          "model_module_version": "1.5.0",
          "state": {
            "_dom_classes": [],
            "_model_module": "@jupyter-widgets/controls",
            "_model_module_version": "1.5.0",
            "_model_name": "FloatProgressModel",
            "_view_count": null,
            "_view_module": "@jupyter-widgets/controls",
            "_view_module_version": "1.5.0",
            "_view_name": "ProgressView",
            "bar_style": "success",
            "description": "",
            "description_tooltip": null,
            "layout": "IPY_MODEL_fee9f0d27782469080f20d53d3c898f5",
            "max": 49,
            "min": 0,
            "orientation": "horizontal",
            "style": "IPY_MODEL_f9416d414e0644fcb9ee537b5d4ccfab",
            "value": 49
          }
        },
        "160363712404455392abd1917ee98a71": {
          "model_module": "@jupyter-widgets/controls",
          "model_name": "HTMLModel",
          "model_module_version": "1.5.0",
          "state": {
            "_dom_classes": [],
            "_model_module": "@jupyter-widgets/controls",
            "_model_module_version": "1.5.0",
            "_model_name": "HTMLModel",
            "_view_count": null,
            "_view_module": "@jupyter-widgets/controls",
            "_view_module_version": "1.5.0",
            "_view_name": "HTMLView",
            "description": "",
            "description_tooltip": null,
            "layout": "IPY_MODEL_ed347ae70c3f4aa39d9f1fb8a033c74b",
            "placeholder": "​",
            "style": "IPY_MODEL_2d8434066d784ec2ad412d1510f0a6ab",
            "value": " 49.0/49.0 [00:00&lt;00:00, 5.20kB/s]"
          }
        },
        "ad030c127e304a4b90652ff1b2c97788": {
          "model_module": "@jupyter-widgets/base",
          "model_name": "LayoutModel",
          "model_module_version": "1.2.0",
          "state": {
            "_model_module": "@jupyter-widgets/base",
            "_model_module_version": "1.2.0",
            "_model_name": "LayoutModel",
            "_view_count": null,
            "_view_module": "@jupyter-widgets/base",
            "_view_module_version": "1.2.0",
            "_view_name": "LayoutView",
            "align_content": null,
            "align_items": null,
            "align_self": null,
            "border": null,
            "bottom": null,
            "display": null,
            "flex": null,
            "flex_flow": null,
            "grid_area": null,
            "grid_auto_columns": null,
            "grid_auto_flow": null,
            "grid_auto_rows": null,
            "grid_column": null,
            "grid_gap": null,
            "grid_row": null,
            "grid_template_areas": null,
            "grid_template_columns": null,
            "grid_template_rows": null,
            "height": null,
            "justify_content": null,
            "justify_items": null,
            "left": null,
            "margin": null,
            "max_height": null,
            "max_width": null,
            "min_height": null,
            "min_width": null,
            "object_fit": null,
            "object_position": null,
            "order": null,
            "overflow": null,
            "overflow_x": null,
            "overflow_y": null,
            "padding": null,
            "right": null,
            "top": null,
            "visibility": null,
            "width": null
          }
        },
        "1da4182dd06f4d2181965ab44c3bcf41": {
          "model_module": "@jupyter-widgets/base",
          "model_name": "LayoutModel",
          "model_module_version": "1.2.0",
          "state": {
            "_model_module": "@jupyter-widgets/base",
            "_model_module_version": "1.2.0",
            "_model_name": "LayoutModel",
            "_view_count": null,
            "_view_module": "@jupyter-widgets/base",
            "_view_module_version": "1.2.0",
            "_view_name": "LayoutView",
            "align_content": null,
            "align_items": null,
            "align_self": null,
            "border": null,
            "bottom": null,
            "display": null,
            "flex": null,
            "flex_flow": null,
            "grid_area": null,
            "grid_auto_columns": null,
            "grid_auto_flow": null,
            "grid_auto_rows": null,
            "grid_column": null,
            "grid_gap": null,
            "grid_row": null,
            "grid_template_areas": null,
            "grid_template_columns": null,
            "grid_template_rows": null,
            "height": null,
            "justify_content": null,
            "justify_items": null,
            "left": null,
            "margin": null,
            "max_height": null,
            "max_width": null,
            "min_height": null,
            "min_width": null,
            "object_fit": null,
            "object_position": null,
            "order": null,
            "overflow": null,
            "overflow_x": null,
            "overflow_y": null,
            "padding": null,
            "right": null,
            "top": null,
            "visibility": null,
            "width": null
          }
        },
        "cf9bdaa4622a40baaf7ac3dac3676cf5": {
          "model_module": "@jupyter-widgets/controls",
          "model_name": "DescriptionStyleModel",
          "model_module_version": "1.5.0",
          "state": {
            "_model_module": "@jupyter-widgets/controls",
            "_model_module_version": "1.5.0",
            "_model_name": "DescriptionStyleModel",
            "_view_count": null,
            "_view_module": "@jupyter-widgets/base",
            "_view_module_version": "1.2.0",
            "_view_name": "StyleView",
            "description_width": ""
          }
        },
        "fee9f0d27782469080f20d53d3c898f5": {
          "model_module": "@jupyter-widgets/base",
          "model_name": "LayoutModel",
          "model_module_version": "1.2.0",
          "state": {
            "_model_module": "@jupyter-widgets/base",
            "_model_module_version": "1.2.0",
            "_model_name": "LayoutModel",
            "_view_count": null,
            "_view_module": "@jupyter-widgets/base",
            "_view_module_version": "1.2.0",
            "_view_name": "LayoutView",
            "align_content": null,
            "align_items": null,
            "align_self": null,
            "border": null,
            "bottom": null,
            "display": null,
            "flex": null,
            "flex_flow": null,
            "grid_area": null,
            "grid_auto_columns": null,
            "grid_auto_flow": null,
            "grid_auto_rows": null,
            "grid_column": null,
            "grid_gap": null,
            "grid_row": null,
            "grid_template_areas": null,
            "grid_template_columns": null,
            "grid_template_rows": null,
            "height": null,
            "justify_content": null,
            "justify_items": null,
            "left": null,
            "margin": null,
            "max_height": null,
            "max_width": null,
            "min_height": null,
            "min_width": null,
            "object_fit": null,
            "object_position": null,
            "order": null,
            "overflow": null,
            "overflow_x": null,
            "overflow_y": null,
            "padding": null,
            "right": null,
            "top": null,
            "visibility": null,
            "width": null
          }
        },
        "f9416d414e0644fcb9ee537b5d4ccfab": {
          "model_module": "@jupyter-widgets/controls",
          "model_name": "ProgressStyleModel",
          "model_module_version": "1.5.0",
          "state": {
            "_model_module": "@jupyter-widgets/controls",
            "_model_module_version": "1.5.0",
            "_model_name": "ProgressStyleModel",
            "_view_count": null,
            "_view_module": "@jupyter-widgets/base",
            "_view_module_version": "1.2.0",
            "_view_name": "StyleView",
            "bar_color": null,
            "description_width": ""
          }
        },
        "ed347ae70c3f4aa39d9f1fb8a033c74b": {
          "model_module": "@jupyter-widgets/base",
          "model_name": "LayoutModel",
          "model_module_version": "1.2.0",
          "state": {
            "_model_module": "@jupyter-widgets/base",
            "_model_module_version": "1.2.0",
            "_model_name": "LayoutModel",
            "_view_count": null,
            "_view_module": "@jupyter-widgets/base",
            "_view_module_version": "1.2.0",
            "_view_name": "LayoutView",
            "align_content": null,
            "align_items": null,
            "align_self": null,
            "border": null,
            "bottom": null,
            "display": null,
            "flex": null,
            "flex_flow": null,
            "grid_area": null,
            "grid_auto_columns": null,
            "grid_auto_flow": null,
            "grid_auto_rows": null,
            "grid_column": null,
            "grid_gap": null,
            "grid_row": null,
            "grid_template_areas": null,
            "grid_template_columns": null,
            "grid_template_rows": null,
            "height": null,
            "justify_content": null,
            "justify_items": null,
            "left": null,
            "margin": null,
            "max_height": null,
            "max_width": null,
            "min_height": null,
            "min_width": null,
            "object_fit": null,
            "object_position": null,
            "order": null,
            "overflow": null,
            "overflow_x": null,
            "overflow_y": null,
            "padding": null,
            "right": null,
            "top": null,
            "visibility": null,
            "width": null
          }
        },
        "2d8434066d784ec2ad412d1510f0a6ab": {
          "model_module": "@jupyter-widgets/controls",
          "model_name": "DescriptionStyleModel",
          "model_module_version": "1.5.0",
          "state": {
            "_model_module": "@jupyter-widgets/controls",
            "_model_module_version": "1.5.0",
            "_model_name": "DescriptionStyleModel",
            "_view_count": null,
            "_view_module": "@jupyter-widgets/base",
            "_view_module_version": "1.2.0",
            "_view_name": "StyleView",
            "description_width": ""
          }
        },
        "0ce63add4a2a416a8b31f8d18cc61fab": {
          "model_module": "@jupyter-widgets/controls",
          "model_name": "HBoxModel",
          "model_module_version": "1.5.0",
          "state": {
            "_dom_classes": [],
            "_model_module": "@jupyter-widgets/controls",
            "_model_module_version": "1.5.0",
            "_model_name": "HBoxModel",
            "_view_count": null,
            "_view_module": "@jupyter-widgets/controls",
            "_view_module_version": "1.5.0",
            "_view_name": "HBoxView",
            "box_style": "",
            "children": [
              "IPY_MODEL_ca87f4d8d8984e7ba46e34d6bdbaed6d",
              "IPY_MODEL_696865f5f31d49e6a0e354611e54d7b6",
              "IPY_MODEL_322775942f084d44b53484ff8f2b87c6"
            ],
            "layout": "IPY_MODEL_ec528acbc62440fab591a2d4ef5c3d08"
          }
        },
        "ca87f4d8d8984e7ba46e34d6bdbaed6d": {
          "model_module": "@jupyter-widgets/controls",
          "model_name": "HTMLModel",
          "model_module_version": "1.5.0",
          "state": {
            "_dom_classes": [],
            "_model_module": "@jupyter-widgets/controls",
            "_model_module_version": "1.5.0",
            "_model_name": "HTMLModel",
            "_view_count": null,
            "_view_module": "@jupyter-widgets/controls",
            "_view_module_version": "1.5.0",
            "_view_name": "HTMLView",
            "description": "",
            "description_tooltip": null,
            "layout": "IPY_MODEL_eaddcce93aa849bba0f655b30357d379",
            "placeholder": "​",
            "style": "IPY_MODEL_c1f4375e4c0842189955daf96dfef893",
            "value": "config.json: 100%"
          }
        },
        "696865f5f31d49e6a0e354611e54d7b6": {
          "model_module": "@jupyter-widgets/controls",
          "model_name": "FloatProgressModel",
          "model_module_version": "1.5.0",
          "state": {
            "_dom_classes": [],
            "_model_module": "@jupyter-widgets/controls",
            "_model_module_version": "1.5.0",
            "_model_name": "FloatProgressModel",
            "_view_count": null,
            "_view_module": "@jupyter-widgets/controls",
            "_view_module_version": "1.5.0",
            "_view_name": "ProgressView",
            "bar_style": "success",
            "description": "",
            "description_tooltip": null,
            "layout": "IPY_MODEL_5cbc6e47c50342689c6e0f305a68893b",
            "max": 473,
            "min": 0,
            "orientation": "horizontal",
            "style": "IPY_MODEL_299e329fae6c43d1a5c121518a3cd299",
            "value": 473
          }
        },
        "322775942f084d44b53484ff8f2b87c6": {
          "model_module": "@jupyter-widgets/controls",
          "model_name": "HTMLModel",
          "model_module_version": "1.5.0",
          "state": {
            "_dom_classes": [],
            "_model_module": "@jupyter-widgets/controls",
            "_model_module_version": "1.5.0",
            "_model_name": "HTMLModel",
            "_view_count": null,
            "_view_module": "@jupyter-widgets/controls",
            "_view_module_version": "1.5.0",
            "_view_name": "HTMLView",
            "description": "",
            "description_tooltip": null,
            "layout": "IPY_MODEL_ece7a67fee214f6d966ea0739ea0608a",
            "placeholder": "​",
            "style": "IPY_MODEL_becf30d1cefa4dd894f92d3cdaf5f694",
            "value": " 473/473 [00:00&lt;00:00, 32.4kB/s]"
          }
        },
        "ec528acbc62440fab591a2d4ef5c3d08": {
          "model_module": "@jupyter-widgets/base",
          "model_name": "LayoutModel",
          "model_module_version": "1.2.0",
          "state": {
            "_model_module": "@jupyter-widgets/base",
            "_model_module_version": "1.2.0",
            "_model_name": "LayoutModel",
            "_view_count": null,
            "_view_module": "@jupyter-widgets/base",
            "_view_module_version": "1.2.0",
            "_view_name": "LayoutView",
            "align_content": null,
            "align_items": null,
            "align_self": null,
            "border": null,
            "bottom": null,
            "display": null,
            "flex": null,
            "flex_flow": null,
            "grid_area": null,
            "grid_auto_columns": null,
            "grid_auto_flow": null,
            "grid_auto_rows": null,
            "grid_column": null,
            "grid_gap": null,
            "grid_row": null,
            "grid_template_areas": null,
            "grid_template_columns": null,
            "grid_template_rows": null,
            "height": null,
            "justify_content": null,
            "justify_items": null,
            "left": null,
            "margin": null,
            "max_height": null,
            "max_width": null,
            "min_height": null,
            "min_width": null,
            "object_fit": null,
            "object_position": null,
            "order": null,
            "overflow": null,
            "overflow_x": null,
            "overflow_y": null,
            "padding": null,
            "right": null,
            "top": null,
            "visibility": null,
            "width": null
          }
        },
        "eaddcce93aa849bba0f655b30357d379": {
          "model_module": "@jupyter-widgets/base",
          "model_name": "LayoutModel",
          "model_module_version": "1.2.0",
          "state": {
            "_model_module": "@jupyter-widgets/base",
            "_model_module_version": "1.2.0",
            "_model_name": "LayoutModel",
            "_view_count": null,
            "_view_module": "@jupyter-widgets/base",
            "_view_module_version": "1.2.0",
            "_view_name": "LayoutView",
            "align_content": null,
            "align_items": null,
            "align_self": null,
            "border": null,
            "bottom": null,
            "display": null,
            "flex": null,
            "flex_flow": null,
            "grid_area": null,
            "grid_auto_columns": null,
            "grid_auto_flow": null,
            "grid_auto_rows": null,
            "grid_column": null,
            "grid_gap": null,
            "grid_row": null,
            "grid_template_areas": null,
            "grid_template_columns": null,
            "grid_template_rows": null,
            "height": null,
            "justify_content": null,
            "justify_items": null,
            "left": null,
            "margin": null,
            "max_height": null,
            "max_width": null,
            "min_height": null,
            "min_width": null,
            "object_fit": null,
            "object_position": null,
            "order": null,
            "overflow": null,
            "overflow_x": null,
            "overflow_y": null,
            "padding": null,
            "right": null,
            "top": null,
            "visibility": null,
            "width": null
          }
        },
        "c1f4375e4c0842189955daf96dfef893": {
          "model_module": "@jupyter-widgets/controls",
          "model_name": "DescriptionStyleModel",
          "model_module_version": "1.5.0",
          "state": {
            "_model_module": "@jupyter-widgets/controls",
            "_model_module_version": "1.5.0",
            "_model_name": "DescriptionStyleModel",
            "_view_count": null,
            "_view_module": "@jupyter-widgets/base",
            "_view_module_version": "1.2.0",
            "_view_name": "StyleView",
            "description_width": ""
          }
        },
        "5cbc6e47c50342689c6e0f305a68893b": {
          "model_module": "@jupyter-widgets/base",
          "model_name": "LayoutModel",
          "model_module_version": "1.2.0",
          "state": {
            "_model_module": "@jupyter-widgets/base",
            "_model_module_version": "1.2.0",
            "_model_name": "LayoutModel",
            "_view_count": null,
            "_view_module": "@jupyter-widgets/base",
            "_view_module_version": "1.2.0",
            "_view_name": "LayoutView",
            "align_content": null,
            "align_items": null,
            "align_self": null,
            "border": null,
            "bottom": null,
            "display": null,
            "flex": null,
            "flex_flow": null,
            "grid_area": null,
            "grid_auto_columns": null,
            "grid_auto_flow": null,
            "grid_auto_rows": null,
            "grid_column": null,
            "grid_gap": null,
            "grid_row": null,
            "grid_template_areas": null,
            "grid_template_columns": null,
            "grid_template_rows": null,
            "height": null,
            "justify_content": null,
            "justify_items": null,
            "left": null,
            "margin": null,
            "max_height": null,
            "max_width": null,
            "min_height": null,
            "min_width": null,
            "object_fit": null,
            "object_position": null,
            "order": null,
            "overflow": null,
            "overflow_x": null,
            "overflow_y": null,
            "padding": null,
            "right": null,
            "top": null,
            "visibility": null,
            "width": null
          }
        },
        "299e329fae6c43d1a5c121518a3cd299": {
          "model_module": "@jupyter-widgets/controls",
          "model_name": "ProgressStyleModel",
          "model_module_version": "1.5.0",
          "state": {
            "_model_module": "@jupyter-widgets/controls",
            "_model_module_version": "1.5.0",
            "_model_name": "ProgressStyleModel",
            "_view_count": null,
            "_view_module": "@jupyter-widgets/base",
            "_view_module_version": "1.2.0",
            "_view_name": "StyleView",
            "bar_color": null,
            "description_width": ""
          }
        },
        "ece7a67fee214f6d966ea0739ea0608a": {
          "model_module": "@jupyter-widgets/base",
          "model_name": "LayoutModel",
          "model_module_version": "1.2.0",
          "state": {
            "_model_module": "@jupyter-widgets/base",
            "_model_module_version": "1.2.0",
            "_model_name": "LayoutModel",
            "_view_count": null,
            "_view_module": "@jupyter-widgets/base",
            "_view_module_version": "1.2.0",
            "_view_name": "LayoutView",
            "align_content": null,
            "align_items": null,
            "align_self": null,
            "border": null,
            "bottom": null,
            "display": null,
            "flex": null,
            "flex_flow": null,
            "grid_area": null,
            "grid_auto_columns": null,
            "grid_auto_flow": null,
            "grid_auto_rows": null,
            "grid_column": null,
            "grid_gap": null,
            "grid_row": null,
            "grid_template_areas": null,
            "grid_template_columns": null,
            "grid_template_rows": null,
            "height": null,
            "justify_content": null,
            "justify_items": null,
            "left": null,
            "margin": null,
            "max_height": null,
            "max_width": null,
            "min_height": null,
            "min_width": null,
            "object_fit": null,
            "object_position": null,
            "order": null,
            "overflow": null,
            "overflow_x": null,
            "overflow_y": null,
            "padding": null,
            "right": null,
            "top": null,
            "visibility": null,
            "width": null
          }
        },
        "becf30d1cefa4dd894f92d3cdaf5f694": {
          "model_module": "@jupyter-widgets/controls",
          "model_name": "DescriptionStyleModel",
          "model_module_version": "1.5.0",
          "state": {
            "_model_module": "@jupyter-widgets/controls",
            "_model_module_version": "1.5.0",
            "_model_name": "DescriptionStyleModel",
            "_view_count": null,
            "_view_module": "@jupyter-widgets/base",
            "_view_module_version": "1.2.0",
            "_view_name": "StyleView",
            "description_width": ""
          }
        },
        "83bb08e1ab9f4bec85eb0b72887a835e": {
          "model_module": "@jupyter-widgets/controls",
          "model_name": "HBoxModel",
          "model_module_version": "1.5.0",
          "state": {
            "_dom_classes": [],
            "_model_module": "@jupyter-widgets/controls",
            "_model_module_version": "1.5.0",
            "_model_name": "HBoxModel",
            "_view_count": null,
            "_view_module": "@jupyter-widgets/controls",
            "_view_module_version": "1.5.0",
            "_view_name": "HBoxView",
            "box_style": "",
            "children": [
              "IPY_MODEL_281f714bf0e74a55a6435a284417a499",
              "IPY_MODEL_1f18cd19a9a14ee8901467fad0b9eac2",
              "IPY_MODEL_f82b764c82f241809a6e9c25fd12d548"
            ],
            "layout": "IPY_MODEL_00c68d65b7b34720a87a72016029e4c0"
          }
        },
        "281f714bf0e74a55a6435a284417a499": {
          "model_module": "@jupyter-widgets/controls",
          "model_name": "HTMLModel",
          "model_module_version": "1.5.0",
          "state": {
            "_dom_classes": [],
            "_model_module": "@jupyter-widgets/controls",
            "_model_module_version": "1.5.0",
            "_model_name": "HTMLModel",
            "_view_count": null,
            "_view_module": "@jupyter-widgets/controls",
            "_view_module_version": "1.5.0",
            "_view_name": "HTMLView",
            "description": "",
            "description_tooltip": null,
            "layout": "IPY_MODEL_5f1e2022308448809422f9268ba02cd7",
            "placeholder": "​",
            "style": "IPY_MODEL_b07ed45e78184aa19148f88897b8b2ec",
            "value": "vocab.txt: 100%"
          }
        },
        "1f18cd19a9a14ee8901467fad0b9eac2": {
          "model_module": "@jupyter-widgets/controls",
          "model_name": "FloatProgressModel",
          "model_module_version": "1.5.0",
          "state": {
            "_dom_classes": [],
            "_model_module": "@jupyter-widgets/controls",
            "_model_module_version": "1.5.0",
            "_model_name": "FloatProgressModel",
            "_view_count": null,
            "_view_module": "@jupyter-widgets/controls",
            "_view_module_version": "1.5.0",
            "_view_name": "ProgressView",
            "bar_style": "success",
            "description": "",
            "description_tooltip": null,
            "layout": "IPY_MODEL_27c92e82453a4dcabb8cff101e112674",
            "max": 213450,
            "min": 0,
            "orientation": "horizontal",
            "style": "IPY_MODEL_ac1d755255794e63809a956a1d728f22",
            "value": 213450
          }
        },
        "f82b764c82f241809a6e9c25fd12d548": {
          "model_module": "@jupyter-widgets/controls",
          "model_name": "HTMLModel",
          "model_module_version": "1.5.0",
          "state": {
            "_dom_classes": [],
            "_model_module": "@jupyter-widgets/controls",
            "_model_module_version": "1.5.0",
            "_model_name": "HTMLModel",
            "_view_count": null,
            "_view_module": "@jupyter-widgets/controls",
            "_view_module_version": "1.5.0",
            "_view_name": "HTMLView",
            "description": "",
            "description_tooltip": null,
            "layout": "IPY_MODEL_01c8a5c3a3984b769404e19216f745f2",
            "placeholder": "​",
            "style": "IPY_MODEL_db9405ce896c4a5e8d7448c552e2eefc",
            "value": " 213k/213k [00:00&lt;00:00, 12.3MB/s]"
          }
        },
        "00c68d65b7b34720a87a72016029e4c0": {
          "model_module": "@jupyter-widgets/base",
          "model_name": "LayoutModel",
          "model_module_version": "1.2.0",
          "state": {
            "_model_module": "@jupyter-widgets/base",
            "_model_module_version": "1.2.0",
            "_model_name": "LayoutModel",
            "_view_count": null,
            "_view_module": "@jupyter-widgets/base",
            "_view_module_version": "1.2.0",
            "_view_name": "LayoutView",
            "align_content": null,
            "align_items": null,
            "align_self": null,
            "border": null,
            "bottom": null,
            "display": null,
            "flex": null,
            "flex_flow": null,
            "grid_area": null,
            "grid_auto_columns": null,
            "grid_auto_flow": null,
            "grid_auto_rows": null,
            "grid_column": null,
            "grid_gap": null,
            "grid_row": null,
            "grid_template_areas": null,
            "grid_template_columns": null,
            "grid_template_rows": null,
            "height": null,
            "justify_content": null,
            "justify_items": null,
            "left": null,
            "margin": null,
            "max_height": null,
            "max_width": null,
            "min_height": null,
            "min_width": null,
            "object_fit": null,
            "object_position": null,
            "order": null,
            "overflow": null,
            "overflow_x": null,
            "overflow_y": null,
            "padding": null,
            "right": null,
            "top": null,
            "visibility": null,
            "width": null
          }
        },
        "5f1e2022308448809422f9268ba02cd7": {
          "model_module": "@jupyter-widgets/base",
          "model_name": "LayoutModel",
          "model_module_version": "1.2.0",
          "state": {
            "_model_module": "@jupyter-widgets/base",
            "_model_module_version": "1.2.0",
            "_model_name": "LayoutModel",
            "_view_count": null,
            "_view_module": "@jupyter-widgets/base",
            "_view_module_version": "1.2.0",
            "_view_name": "LayoutView",
            "align_content": null,
            "align_items": null,
            "align_self": null,
            "border": null,
            "bottom": null,
            "display": null,
            "flex": null,
            "flex_flow": null,
            "grid_area": null,
            "grid_auto_columns": null,
            "grid_auto_flow": null,
            "grid_auto_rows": null,
            "grid_column": null,
            "grid_gap": null,
            "grid_row": null,
            "grid_template_areas": null,
            "grid_template_columns": null,
            "grid_template_rows": null,
            "height": null,
            "justify_content": null,
            "justify_items": null,
            "left": null,
            "margin": null,
            "max_height": null,
            "max_width": null,
            "min_height": null,
            "min_width": null,
            "object_fit": null,
            "object_position": null,
            "order": null,
            "overflow": null,
            "overflow_x": null,
            "overflow_y": null,
            "padding": null,
            "right": null,
            "top": null,
            "visibility": null,
            "width": null
          }
        },
        "b07ed45e78184aa19148f88897b8b2ec": {
          "model_module": "@jupyter-widgets/controls",
          "model_name": "DescriptionStyleModel",
          "model_module_version": "1.5.0",
          "state": {
            "_model_module": "@jupyter-widgets/controls",
            "_model_module_version": "1.5.0",
            "_model_name": "DescriptionStyleModel",
            "_view_count": null,
            "_view_module": "@jupyter-widgets/base",
            "_view_module_version": "1.2.0",
            "_view_name": "StyleView",
            "description_width": ""
          }
        },
        "27c92e82453a4dcabb8cff101e112674": {
          "model_module": "@jupyter-widgets/base",
          "model_name": "LayoutModel",
          "model_module_version": "1.2.0",
          "state": {
            "_model_module": "@jupyter-widgets/base",
            "_model_module_version": "1.2.0",
            "_model_name": "LayoutModel",
            "_view_count": null,
            "_view_module": "@jupyter-widgets/base",
            "_view_module_version": "1.2.0",
            "_view_name": "LayoutView",
            "align_content": null,
            "align_items": null,
            "align_self": null,
            "border": null,
            "bottom": null,
            "display": null,
            "flex": null,
            "flex_flow": null,
            "grid_area": null,
            "grid_auto_columns": null,
            "grid_auto_flow": null,
            "grid_auto_rows": null,
            "grid_column": null,
            "grid_gap": null,
            "grid_row": null,
            "grid_template_areas": null,
            "grid_template_columns": null,
            "grid_template_rows": null,
            "height": null,
            "justify_content": null,
            "justify_items": null,
            "left": null,
            "margin": null,
            "max_height": null,
            "max_width": null,
            "min_height": null,
            "min_width": null,
            "object_fit": null,
            "object_position": null,
            "order": null,
            "overflow": null,
            "overflow_x": null,
            "overflow_y": null,
            "padding": null,
            "right": null,
            "top": null,
            "visibility": null,
            "width": null
          }
        },
        "ac1d755255794e63809a956a1d728f22": {
          "model_module": "@jupyter-widgets/controls",
          "model_name": "ProgressStyleModel",
          "model_module_version": "1.5.0",
          "state": {
            "_model_module": "@jupyter-widgets/controls",
            "_model_module_version": "1.5.0",
            "_model_name": "ProgressStyleModel",
            "_view_count": null,
            "_view_module": "@jupyter-widgets/base",
            "_view_module_version": "1.2.0",
            "_view_name": "StyleView",
            "bar_color": null,
            "description_width": ""
          }
        },
        "01c8a5c3a3984b769404e19216f745f2": {
          "model_module": "@jupyter-widgets/base",
          "model_name": "LayoutModel",
          "model_module_version": "1.2.0",
          "state": {
            "_model_module": "@jupyter-widgets/base",
            "_model_module_version": "1.2.0",
            "_model_name": "LayoutModel",
            "_view_count": null,
            "_view_module": "@jupyter-widgets/base",
            "_view_module_version": "1.2.0",
            "_view_name": "LayoutView",
            "align_content": null,
            "align_items": null,
            "align_self": null,
            "border": null,
            "bottom": null,
            "display": null,
            "flex": null,
            "flex_flow": null,
            "grid_area": null,
            "grid_auto_columns": null,
            "grid_auto_flow": null,
            "grid_auto_rows": null,
            "grid_column": null,
            "grid_gap": null,
            "grid_row": null,
            "grid_template_areas": null,
            "grid_template_columns": null,
            "grid_template_rows": null,
            "height": null,
            "justify_content": null,
            "justify_items": null,
            "left": null,
            "margin": null,
            "max_height": null,
            "max_width": null,
            "min_height": null,
            "min_width": null,
            "object_fit": null,
            "object_position": null,
            "order": null,
            "overflow": null,
            "overflow_x": null,
            "overflow_y": null,
            "padding": null,
            "right": null,
            "top": null,
            "visibility": null,
            "width": null
          }
        },
        "db9405ce896c4a5e8d7448c552e2eefc": {
          "model_module": "@jupyter-widgets/controls",
          "model_name": "DescriptionStyleModel",
          "model_module_version": "1.5.0",
          "state": {
            "_model_module": "@jupyter-widgets/controls",
            "_model_module_version": "1.5.0",
            "_model_name": "DescriptionStyleModel",
            "_view_count": null,
            "_view_module": "@jupyter-widgets/base",
            "_view_module_version": "1.2.0",
            "_view_name": "StyleView",
            "description_width": ""
          }
        },
        "3000d5d01c0d436788948f76d0e02e80": {
          "model_module": "@jupyter-widgets/controls",
          "model_name": "HBoxModel",
          "model_module_version": "1.5.0",
          "state": {
            "_dom_classes": [],
            "_model_module": "@jupyter-widgets/controls",
            "_model_module_version": "1.5.0",
            "_model_name": "HBoxModel",
            "_view_count": null,
            "_view_module": "@jupyter-widgets/controls",
            "_view_module_version": "1.5.0",
            "_view_name": "HBoxView",
            "box_style": "",
            "children": [
              "IPY_MODEL_cb1c99d844224042b11856c62beaa71a",
              "IPY_MODEL_69dc59a6963044c1b7ee21cb9cb91545",
              "IPY_MODEL_ac7197ae93fd4512895b6f6fe5c51e2c"
            ],
            "layout": "IPY_MODEL_0b5dd47ddd574dbea6f8814ecd8657a8"
          }
        },
        "cb1c99d844224042b11856c62beaa71a": {
          "model_module": "@jupyter-widgets/controls",
          "model_name": "HTMLModel",
          "model_module_version": "1.5.0",
          "state": {
            "_dom_classes": [],
            "_model_module": "@jupyter-widgets/controls",
            "_model_module_version": "1.5.0",
            "_model_name": "HTMLModel",
            "_view_count": null,
            "_view_module": "@jupyter-widgets/controls",
            "_view_module_version": "1.5.0",
            "_view_name": "HTMLView",
            "description": "",
            "description_tooltip": null,
            "layout": "IPY_MODEL_533a788cf5ff4feb880c595c8a16f0f8",
            "placeholder": "​",
            "style": "IPY_MODEL_eac8d1d2f946450182844b5a68eb184b",
            "value": "tokenizer.json: 100%"
          }
        },
        "69dc59a6963044c1b7ee21cb9cb91545": {
          "model_module": "@jupyter-widgets/controls",
          "model_name": "FloatProgressModel",
          "model_module_version": "1.5.0",
          "state": {
            "_dom_classes": [],
            "_model_module": "@jupyter-widgets/controls",
            "_model_module_version": "1.5.0",
            "_model_name": "FloatProgressModel",
            "_view_count": null,
            "_view_module": "@jupyter-widgets/controls",
            "_view_module_version": "1.5.0",
            "_view_name": "ProgressView",
            "bar_style": "success",
            "description": "",
            "description_tooltip": null,
            "layout": "IPY_MODEL_59f31707ba4249ef9f9e94f4ca3e3a85",
            "max": 435797,
            "min": 0,
            "orientation": "horizontal",
            "style": "IPY_MODEL_d2ef4f59e6bb4d2f8a94bf8cfc463282",
            "value": 435797
          }
        },
        "ac7197ae93fd4512895b6f6fe5c51e2c": {
          "model_module": "@jupyter-widgets/controls",
          "model_name": "HTMLModel",
          "model_module_version": "1.5.0",
          "state": {
            "_dom_classes": [],
            "_model_module": "@jupyter-widgets/controls",
            "_model_module_version": "1.5.0",
            "_model_name": "HTMLModel",
            "_view_count": null,
            "_view_module": "@jupyter-widgets/controls",
            "_view_module_version": "1.5.0",
            "_view_name": "HTMLView",
            "description": "",
            "description_tooltip": null,
            "layout": "IPY_MODEL_d8f3e4a42da645fd960df8f27cf7e9f1",
            "placeholder": "​",
            "style": "IPY_MODEL_cc5f3a70c2624df081dffabd35425dc3",
            "value": " 436k/436k [00:00&lt;00:00, 33.3MB/s]"
          }
        },
        "0b5dd47ddd574dbea6f8814ecd8657a8": {
          "model_module": "@jupyter-widgets/base",
          "model_name": "LayoutModel",
          "model_module_version": "1.2.0",
          "state": {
            "_model_module": "@jupyter-widgets/base",
            "_model_module_version": "1.2.0",
            "_model_name": "LayoutModel",
            "_view_count": null,
            "_view_module": "@jupyter-widgets/base",
            "_view_module_version": "1.2.0",
            "_view_name": "LayoutView",
            "align_content": null,
            "align_items": null,
            "align_self": null,
            "border": null,
            "bottom": null,
            "display": null,
            "flex": null,
            "flex_flow": null,
            "grid_area": null,
            "grid_auto_columns": null,
            "grid_auto_flow": null,
            "grid_auto_rows": null,
            "grid_column": null,
            "grid_gap": null,
            "grid_row": null,
            "grid_template_areas": null,
            "grid_template_columns": null,
            "grid_template_rows": null,
            "height": null,
            "justify_content": null,
            "justify_items": null,
            "left": null,
            "margin": null,
            "max_height": null,
            "max_width": null,
            "min_height": null,
            "min_width": null,
            "object_fit": null,
            "object_position": null,
            "order": null,
            "overflow": null,
            "overflow_x": null,
            "overflow_y": null,
            "padding": null,
            "right": null,
            "top": null,
            "visibility": null,
            "width": null
          }
        },
        "533a788cf5ff4feb880c595c8a16f0f8": {
          "model_module": "@jupyter-widgets/base",
          "model_name": "LayoutModel",
          "model_module_version": "1.2.0",
          "state": {
            "_model_module": "@jupyter-widgets/base",
            "_model_module_version": "1.2.0",
            "_model_name": "LayoutModel",
            "_view_count": null,
            "_view_module": "@jupyter-widgets/base",
            "_view_module_version": "1.2.0",
            "_view_name": "LayoutView",
            "align_content": null,
            "align_items": null,
            "align_self": null,
            "border": null,
            "bottom": null,
            "display": null,
            "flex": null,
            "flex_flow": null,
            "grid_area": null,
            "grid_auto_columns": null,
            "grid_auto_flow": null,
            "grid_auto_rows": null,
            "grid_column": null,
            "grid_gap": null,
            "grid_row": null,
            "grid_template_areas": null,
            "grid_template_columns": null,
            "grid_template_rows": null,
            "height": null,
            "justify_content": null,
            "justify_items": null,
            "left": null,
            "margin": null,
            "max_height": null,
            "max_width": null,
            "min_height": null,
            "min_width": null,
            "object_fit": null,
            "object_position": null,
            "order": null,
            "overflow": null,
            "overflow_x": null,
            "overflow_y": null,
            "padding": null,
            "right": null,
            "top": null,
            "visibility": null,
            "width": null
          }
        },
        "eac8d1d2f946450182844b5a68eb184b": {
          "model_module": "@jupyter-widgets/controls",
          "model_name": "DescriptionStyleModel",
          "model_module_version": "1.5.0",
          "state": {
            "_model_module": "@jupyter-widgets/controls",
            "_model_module_version": "1.5.0",
            "_model_name": "DescriptionStyleModel",
            "_view_count": null,
            "_view_module": "@jupyter-widgets/base",
            "_view_module_version": "1.2.0",
            "_view_name": "StyleView",
            "description_width": ""
          }
        },
        "59f31707ba4249ef9f9e94f4ca3e3a85": {
          "model_module": "@jupyter-widgets/base",
          "model_name": "LayoutModel",
          "model_module_version": "1.2.0",
          "state": {
            "_model_module": "@jupyter-widgets/base",
            "_model_module_version": "1.2.0",
            "_model_name": "LayoutModel",
            "_view_count": null,
            "_view_module": "@jupyter-widgets/base",
            "_view_module_version": "1.2.0",
            "_view_name": "LayoutView",
            "align_content": null,
            "align_items": null,
            "align_self": null,
            "border": null,
            "bottom": null,
            "display": null,
            "flex": null,
            "flex_flow": null,
            "grid_area": null,
            "grid_auto_columns": null,
            "grid_auto_flow": null,
            "grid_auto_rows": null,
            "grid_column": null,
            "grid_gap": null,
            "grid_row": null,
            "grid_template_areas": null,
            "grid_template_columns": null,
            "grid_template_rows": null,
            "height": null,
            "justify_content": null,
            "justify_items": null,
            "left": null,
            "margin": null,
            "max_height": null,
            "max_width": null,
            "min_height": null,
            "min_width": null,
            "object_fit": null,
            "object_position": null,
            "order": null,
            "overflow": null,
            "overflow_x": null,
            "overflow_y": null,
            "padding": null,
            "right": null,
            "top": null,
            "visibility": null,
            "width": null
          }
        },
        "d2ef4f59e6bb4d2f8a94bf8cfc463282": {
          "model_module": "@jupyter-widgets/controls",
          "model_name": "ProgressStyleModel",
          "model_module_version": "1.5.0",
          "state": {
            "_model_module": "@jupyter-widgets/controls",
            "_model_module_version": "1.5.0",
            "_model_name": "ProgressStyleModel",
            "_view_count": null,
            "_view_module": "@jupyter-widgets/base",
            "_view_module_version": "1.2.0",
            "_view_name": "StyleView",
            "bar_color": null,
            "description_width": ""
          }
        },
        "d8f3e4a42da645fd960df8f27cf7e9f1": {
          "model_module": "@jupyter-widgets/base",
          "model_name": "LayoutModel",
          "model_module_version": "1.2.0",
          "state": {
            "_model_module": "@jupyter-widgets/base",
            "_model_module_version": "1.2.0",
            "_model_name": "LayoutModel",
            "_view_count": null,
            "_view_module": "@jupyter-widgets/base",
            "_view_module_version": "1.2.0",
            "_view_name": "LayoutView",
            "align_content": null,
            "align_items": null,
            "align_self": null,
            "border": null,
            "bottom": null,
            "display": null,
            "flex": null,
            "flex_flow": null,
            "grid_area": null,
            "grid_auto_columns": null,
            "grid_auto_flow": null,
            "grid_auto_rows": null,
            "grid_column": null,
            "grid_gap": null,
            "grid_row": null,
            "grid_template_areas": null,
            "grid_template_columns": null,
            "grid_template_rows": null,
            "height": null,
            "justify_content": null,
            "justify_items": null,
            "left": null,
            "margin": null,
            "max_height": null,
            "max_width": null,
            "min_height": null,
            "min_width": null,
            "object_fit": null,
            "object_position": null,
            "order": null,
            "overflow": null,
            "overflow_x": null,
            "overflow_y": null,
            "padding": null,
            "right": null,
            "top": null,
            "visibility": null,
            "width": null
          }
        },
        "cc5f3a70c2624df081dffabd35425dc3": {
          "model_module": "@jupyter-widgets/controls",
          "model_name": "DescriptionStyleModel",
          "model_module_version": "1.5.0",
          "state": {
            "_model_module": "@jupyter-widgets/controls",
            "_model_module_version": "1.5.0",
            "_model_name": "DescriptionStyleModel",
            "_view_count": null,
            "_view_module": "@jupyter-widgets/base",
            "_view_module_version": "1.2.0",
            "_view_name": "StyleView",
            "description_width": ""
          }
        },
        "39256d4427e94024a4673c222b4c0b14": {
          "model_module": "@jupyter-widgets/controls",
          "model_name": "HBoxModel",
          "model_module_version": "1.5.0",
          "state": {
            "_dom_classes": [],
            "_model_module": "@jupyter-widgets/controls",
            "_model_module_version": "1.5.0",
            "_model_name": "HBoxModel",
            "_view_count": null,
            "_view_module": "@jupyter-widgets/controls",
            "_view_module_version": "1.5.0",
            "_view_name": "HBoxView",
            "box_style": "",
            "children": [
              "IPY_MODEL_ce5d3ed822604f049f8591c16e837d5f",
              "IPY_MODEL_71a2c6e52aea4c36883900f174c495b9",
              "IPY_MODEL_a8ee7554892a4ceebaba0d80f60f1bdc"
            ],
            "layout": "IPY_MODEL_0cf88ffc4e2144a08c564ec32a258e93"
          }
        },
        "ce5d3ed822604f049f8591c16e837d5f": {
          "model_module": "@jupyter-widgets/controls",
          "model_name": "HTMLModel",
          "model_module_version": "1.5.0",
          "state": {
            "_dom_classes": [],
            "_model_module": "@jupyter-widgets/controls",
            "_model_module_version": "1.5.0",
            "_model_name": "HTMLModel",
            "_view_count": null,
            "_view_module": "@jupyter-widgets/controls",
            "_view_module_version": "1.5.0",
            "_view_name": "HTMLView",
            "description": "",
            "description_tooltip": null,
            "layout": "IPY_MODEL_a72a1fab1cd643ba8a066463994bce25",
            "placeholder": "​",
            "style": "IPY_MODEL_d602c4bed2a848b7a51d297cd9749327",
            "value": "Map: 100%"
          }
        },
        "71a2c6e52aea4c36883900f174c495b9": {
          "model_module": "@jupyter-widgets/controls",
          "model_name": "FloatProgressModel",
          "model_module_version": "1.5.0",
          "state": {
            "_dom_classes": [],
            "_model_module": "@jupyter-widgets/controls",
            "_model_module_version": "1.5.0",
            "_model_name": "FloatProgressModel",
            "_view_count": null,
            "_view_module": "@jupyter-widgets/controls",
            "_view_module_version": "1.5.0",
            "_view_name": "ProgressView",
            "bar_style": "success",
            "description": "",
            "description_tooltip": null,
            "layout": "IPY_MODEL_f7619c8c02c449039bf31a1886a56037",
            "max": 100,
            "min": 0,
            "orientation": "horizontal",
            "style": "IPY_MODEL_545ff08ec59448e2988e6e6fd1591a52",
            "value": 100
          }
        },
        "a8ee7554892a4ceebaba0d80f60f1bdc": {
          "model_module": "@jupyter-widgets/controls",
          "model_name": "HTMLModel",
          "model_module_version": "1.5.0",
          "state": {
            "_dom_classes": [],
            "_model_module": "@jupyter-widgets/controls",
            "_model_module_version": "1.5.0",
            "_model_name": "HTMLModel",
            "_view_count": null,
            "_view_module": "@jupyter-widgets/controls",
            "_view_module_version": "1.5.0",
            "_view_name": "HTMLView",
            "description": "",
            "description_tooltip": null,
            "layout": "IPY_MODEL_ddb26b65041e4326b667bde0215b650c",
            "placeholder": "​",
            "style": "IPY_MODEL_cad79574c99d4633aca566ca4f542375",
            "value": " 100/100 [00:00&lt;00:00, 972.16 examples/s]"
          }
        },
        "0cf88ffc4e2144a08c564ec32a258e93": {
          "model_module": "@jupyter-widgets/base",
          "model_name": "LayoutModel",
          "model_module_version": "1.2.0",
          "state": {
            "_model_module": "@jupyter-widgets/base",
            "_model_module_version": "1.2.0",
            "_model_name": "LayoutModel",
            "_view_count": null,
            "_view_module": "@jupyter-widgets/base",
            "_view_module_version": "1.2.0",
            "_view_name": "LayoutView",
            "align_content": null,
            "align_items": null,
            "align_self": null,
            "border": null,
            "bottom": null,
            "display": null,
            "flex": null,
            "flex_flow": null,
            "grid_area": null,
            "grid_auto_columns": null,
            "grid_auto_flow": null,
            "grid_auto_rows": null,
            "grid_column": null,
            "grid_gap": null,
            "grid_row": null,
            "grid_template_areas": null,
            "grid_template_columns": null,
            "grid_template_rows": null,
            "height": null,
            "justify_content": null,
            "justify_items": null,
            "left": null,
            "margin": null,
            "max_height": null,
            "max_width": null,
            "min_height": null,
            "min_width": null,
            "object_fit": null,
            "object_position": null,
            "order": null,
            "overflow": null,
            "overflow_x": null,
            "overflow_y": null,
            "padding": null,
            "right": null,
            "top": null,
            "visibility": null,
            "width": null
          }
        },
        "a72a1fab1cd643ba8a066463994bce25": {
          "model_module": "@jupyter-widgets/base",
          "model_name": "LayoutModel",
          "model_module_version": "1.2.0",
          "state": {
            "_model_module": "@jupyter-widgets/base",
            "_model_module_version": "1.2.0",
            "_model_name": "LayoutModel",
            "_view_count": null,
            "_view_module": "@jupyter-widgets/base",
            "_view_module_version": "1.2.0",
            "_view_name": "LayoutView",
            "align_content": null,
            "align_items": null,
            "align_self": null,
            "border": null,
            "bottom": null,
            "display": null,
            "flex": null,
            "flex_flow": null,
            "grid_area": null,
            "grid_auto_columns": null,
            "grid_auto_flow": null,
            "grid_auto_rows": null,
            "grid_column": null,
            "grid_gap": null,
            "grid_row": null,
            "grid_template_areas": null,
            "grid_template_columns": null,
            "grid_template_rows": null,
            "height": null,
            "justify_content": null,
            "justify_items": null,
            "left": null,
            "margin": null,
            "max_height": null,
            "max_width": null,
            "min_height": null,
            "min_width": null,
            "object_fit": null,
            "object_position": null,
            "order": null,
            "overflow": null,
            "overflow_x": null,
            "overflow_y": null,
            "padding": null,
            "right": null,
            "top": null,
            "visibility": null,
            "width": null
          }
        },
        "d602c4bed2a848b7a51d297cd9749327": {
          "model_module": "@jupyter-widgets/controls",
          "model_name": "DescriptionStyleModel",
          "model_module_version": "1.5.0",
          "state": {
            "_model_module": "@jupyter-widgets/controls",
            "_model_module_version": "1.5.0",
            "_model_name": "DescriptionStyleModel",
            "_view_count": null,
            "_view_module": "@jupyter-widgets/base",
            "_view_module_version": "1.2.0",
            "_view_name": "StyleView",
            "description_width": ""
          }
        },
        "f7619c8c02c449039bf31a1886a56037": {
          "model_module": "@jupyter-widgets/base",
          "model_name": "LayoutModel",
          "model_module_version": "1.2.0",
          "state": {
            "_model_module": "@jupyter-widgets/base",
            "_model_module_version": "1.2.0",
            "_model_name": "LayoutModel",
            "_view_count": null,
            "_view_module": "@jupyter-widgets/base",
            "_view_module_version": "1.2.0",
            "_view_name": "LayoutView",
            "align_content": null,
            "align_items": null,
            "align_self": null,
            "border": null,
            "bottom": null,
            "display": null,
            "flex": null,
            "flex_flow": null,
            "grid_area": null,
            "grid_auto_columns": null,
            "grid_auto_flow": null,
            "grid_auto_rows": null,
            "grid_column": null,
            "grid_gap": null,
            "grid_row": null,
            "grid_template_areas": null,
            "grid_template_columns": null,
            "grid_template_rows": null,
            "height": null,
            "justify_content": null,
            "justify_items": null,
            "left": null,
            "margin": null,
            "max_height": null,
            "max_width": null,
            "min_height": null,
            "min_width": null,
            "object_fit": null,
            "object_position": null,
            "order": null,
            "overflow": null,
            "overflow_x": null,
            "overflow_y": null,
            "padding": null,
            "right": null,
            "top": null,
            "visibility": null,
            "width": null
          }
        },
        "545ff08ec59448e2988e6e6fd1591a52": {
          "model_module": "@jupyter-widgets/controls",
          "model_name": "ProgressStyleModel",
          "model_module_version": "1.5.0",
          "state": {
            "_model_module": "@jupyter-widgets/controls",
            "_model_module_version": "1.5.0",
            "_model_name": "ProgressStyleModel",
            "_view_count": null,
            "_view_module": "@jupyter-widgets/base",
            "_view_module_version": "1.2.0",
            "_view_name": "StyleView",
            "bar_color": null,
            "description_width": ""
          }
        },
        "ddb26b65041e4326b667bde0215b650c": {
          "model_module": "@jupyter-widgets/base",
          "model_name": "LayoutModel",
          "model_module_version": "1.2.0",
          "state": {
            "_model_module": "@jupyter-widgets/base",
            "_model_module_version": "1.2.0",
            "_model_name": "LayoutModel",
            "_view_count": null,
            "_view_module": "@jupyter-widgets/base",
            "_view_module_version": "1.2.0",
            "_view_name": "LayoutView",
            "align_content": null,
            "align_items": null,
            "align_self": null,
            "border": null,
            "bottom": null,
            "display": null,
            "flex": null,
            "flex_flow": null,
            "grid_area": null,
            "grid_auto_columns": null,
            "grid_auto_flow": null,
            "grid_auto_rows": null,
            "grid_column": null,
            "grid_gap": null,
            "grid_row": null,
            "grid_template_areas": null,
            "grid_template_columns": null,
            "grid_template_rows": null,
            "height": null,
            "justify_content": null,
            "justify_items": null,
            "left": null,
            "margin": null,
            "max_height": null,
            "max_width": null,
            "min_height": null,
            "min_width": null,
            "object_fit": null,
            "object_position": null,
            "order": null,
            "overflow": null,
            "overflow_x": null,
            "overflow_y": null,
            "padding": null,
            "right": null,
            "top": null,
            "visibility": null,
            "width": null
          }
        },
        "cad79574c99d4633aca566ca4f542375": {
          "model_module": "@jupyter-widgets/controls",
          "model_name": "DescriptionStyleModel",
          "model_module_version": "1.5.0",
          "state": {
            "_model_module": "@jupyter-widgets/controls",
            "_model_module_version": "1.5.0",
            "_model_name": "DescriptionStyleModel",
            "_view_count": null,
            "_view_module": "@jupyter-widgets/base",
            "_view_module_version": "1.2.0",
            "_view_name": "StyleView",
            "description_width": ""
          }
        },
        "45da9f3cf9834a889a1154a6a798c6eb": {
          "model_module": "@jupyter-widgets/controls",
          "model_name": "HBoxModel",
          "model_module_version": "1.5.0",
          "state": {
            "_dom_classes": [],
            "_model_module": "@jupyter-widgets/controls",
            "_model_module_version": "1.5.0",
            "_model_name": "HBoxModel",
            "_view_count": null,
            "_view_module": "@jupyter-widgets/controls",
            "_view_module_version": "1.5.0",
            "_view_name": "HBoxView",
            "box_style": "",
            "children": [
              "IPY_MODEL_dc2605d635a44a9a8c97699158c99d04",
              "IPY_MODEL_4886a459465742b98f44a79972e80079",
              "IPY_MODEL_e474f890300f47308981d901d6eccbb8"
            ],
            "layout": "IPY_MODEL_f740aec191594a4aa063c9dd4255dd11"
          }
        },
        "dc2605d635a44a9a8c97699158c99d04": {
          "model_module": "@jupyter-widgets/controls",
          "model_name": "HTMLModel",
          "model_module_version": "1.5.0",
          "state": {
            "_dom_classes": [],
            "_model_module": "@jupyter-widgets/controls",
            "_model_module_version": "1.5.0",
            "_model_name": "HTMLModel",
            "_view_count": null,
            "_view_module": "@jupyter-widgets/controls",
            "_view_module_version": "1.5.0",
            "_view_name": "HTMLView",
            "description": "",
            "description_tooltip": null,
            "layout": "IPY_MODEL_177c2836638d4dd68f9eb7f44503a24f",
            "placeholder": "​",
            "style": "IPY_MODEL_4a71a68fa0f74cb2b8e1c995e51d4e75",
            "value": "model.safetensors: 100%"
          }
        },
        "4886a459465742b98f44a79972e80079": {
          "model_module": "@jupyter-widgets/controls",
          "model_name": "FloatProgressModel",
          "model_module_version": "1.5.0",
          "state": {
            "_dom_classes": [],
            "_model_module": "@jupyter-widgets/controls",
            "_model_module_version": "1.5.0",
            "_model_name": "FloatProgressModel",
            "_view_count": null,
            "_view_module": "@jupyter-widgets/controls",
            "_view_module_version": "1.5.0",
            "_view_name": "ProgressView",
            "bar_style": "success",
            "description": "",
            "description_tooltip": null,
            "layout": "IPY_MODEL_768e2e4d94614cd6a14906d2d6c14645",
            "max": 260782156,
            "min": 0,
            "orientation": "horizontal",
            "style": "IPY_MODEL_66d0752fb09042018c0f13dafb05b822",
            "value": 260782156
          }
        },
        "e474f890300f47308981d901d6eccbb8": {
          "model_module": "@jupyter-widgets/controls",
          "model_name": "HTMLModel",
          "model_module_version": "1.5.0",
          "state": {
            "_dom_classes": [],
            "_model_module": "@jupyter-widgets/controls",
            "_model_module_version": "1.5.0",
            "_model_name": "HTMLModel",
            "_view_count": null,
            "_view_module": "@jupyter-widgets/controls",
            "_view_module_version": "1.5.0",
            "_view_name": "HTMLView",
            "description": "",
            "description_tooltip": null,
            "layout": "IPY_MODEL_1e52170ef5914ed4a2d4b5b7ddfb5e1e",
            "placeholder": "​",
            "style": "IPY_MODEL_c092fa0526574f918ad1c57256cedd98",
            "value": " 261M/261M [00:07&lt;00:00, 49.0MB/s]"
          }
        },
        "f740aec191594a4aa063c9dd4255dd11": {
          "model_module": "@jupyter-widgets/base",
          "model_name": "LayoutModel",
          "model_module_version": "1.2.0",
          "state": {
            "_model_module": "@jupyter-widgets/base",
            "_model_module_version": "1.2.0",
            "_model_name": "LayoutModel",
            "_view_count": null,
            "_view_module": "@jupyter-widgets/base",
            "_view_module_version": "1.2.0",
            "_view_name": "LayoutView",
            "align_content": null,
            "align_items": null,
            "align_self": null,
            "border": null,
            "bottom": null,
            "display": null,
            "flex": null,
            "flex_flow": null,
            "grid_area": null,
            "grid_auto_columns": null,
            "grid_auto_flow": null,
            "grid_auto_rows": null,
            "grid_column": null,
            "grid_gap": null,
            "grid_row": null,
            "grid_template_areas": null,
            "grid_template_columns": null,
            "grid_template_rows": null,
            "height": null,
            "justify_content": null,
            "justify_items": null,
            "left": null,
            "margin": null,
            "max_height": null,
            "max_width": null,
            "min_height": null,
            "min_width": null,
            "object_fit": null,
            "object_position": null,
            "order": null,
            "overflow": null,
            "overflow_x": null,
            "overflow_y": null,
            "padding": null,
            "right": null,
            "top": null,
            "visibility": null,
            "width": null
          }
        },
        "177c2836638d4dd68f9eb7f44503a24f": {
          "model_module": "@jupyter-widgets/base",
          "model_name": "LayoutModel",
          "model_module_version": "1.2.0",
          "state": {
            "_model_module": "@jupyter-widgets/base",
            "_model_module_version": "1.2.0",
            "_model_name": "LayoutModel",
            "_view_count": null,
            "_view_module": "@jupyter-widgets/base",
            "_view_module_version": "1.2.0",
            "_view_name": "LayoutView",
            "align_content": null,
            "align_items": null,
            "align_self": null,
            "border": null,
            "bottom": null,
            "display": null,
            "flex": null,
            "flex_flow": null,
            "grid_area": null,
            "grid_auto_columns": null,
            "grid_auto_flow": null,
            "grid_auto_rows": null,
            "grid_column": null,
            "grid_gap": null,
            "grid_row": null,
            "grid_template_areas": null,
            "grid_template_columns": null,
            "grid_template_rows": null,
            "height": null,
            "justify_content": null,
            "justify_items": null,
            "left": null,
            "margin": null,
            "max_height": null,
            "max_width": null,
            "min_height": null,
            "min_width": null,
            "object_fit": null,
            "object_position": null,
            "order": null,
            "overflow": null,
            "overflow_x": null,
            "overflow_y": null,
            "padding": null,
            "right": null,
            "top": null,
            "visibility": null,
            "width": null
          }
        },
        "4a71a68fa0f74cb2b8e1c995e51d4e75": {
          "model_module": "@jupyter-widgets/controls",
          "model_name": "DescriptionStyleModel",
          "model_module_version": "1.5.0",
          "state": {
            "_model_module": "@jupyter-widgets/controls",
            "_model_module_version": "1.5.0",
            "_model_name": "DescriptionStyleModel",
            "_view_count": null,
            "_view_module": "@jupyter-widgets/base",
            "_view_module_version": "1.2.0",
            "_view_name": "StyleView",
            "description_width": ""
          }
        },
        "768e2e4d94614cd6a14906d2d6c14645": {
          "model_module": "@jupyter-widgets/base",
          "model_name": "LayoutModel",
          "model_module_version": "1.2.0",
          "state": {
            "_model_module": "@jupyter-widgets/base",
            "_model_module_version": "1.2.0",
            "_model_name": "LayoutModel",
            "_view_count": null,
            "_view_module": "@jupyter-widgets/base",
            "_view_module_version": "1.2.0",
            "_view_name": "LayoutView",
            "align_content": null,
            "align_items": null,
            "align_self": null,
            "border": null,
            "bottom": null,
            "display": null,
            "flex": null,
            "flex_flow": null,
            "grid_area": null,
            "grid_auto_columns": null,
            "grid_auto_flow": null,
            "grid_auto_rows": null,
            "grid_column": null,
            "grid_gap": null,
            "grid_row": null,
            "grid_template_areas": null,
            "grid_template_columns": null,
            "grid_template_rows": null,
            "height": null,
            "justify_content": null,
            "justify_items": null,
            "left": null,
            "margin": null,
            "max_height": null,
            "max_width": null,
            "min_height": null,
            "min_width": null,
            "object_fit": null,
            "object_position": null,
            "order": null,
            "overflow": null,
            "overflow_x": null,
            "overflow_y": null,
            "padding": null,
            "right": null,
            "top": null,
            "visibility": null,
            "width": null
          }
        },
        "66d0752fb09042018c0f13dafb05b822": {
          "model_module": "@jupyter-widgets/controls",
          "model_name": "ProgressStyleModel",
          "model_module_version": "1.5.0",
          "state": {
            "_model_module": "@jupyter-widgets/controls",
            "_model_module_version": "1.5.0",
            "_model_name": "ProgressStyleModel",
            "_view_count": null,
            "_view_module": "@jupyter-widgets/base",
            "_view_module_version": "1.2.0",
            "_view_name": "StyleView",
            "bar_color": null,
            "description_width": ""
          }
        },
        "1e52170ef5914ed4a2d4b5b7ddfb5e1e": {
          "model_module": "@jupyter-widgets/base",
          "model_name": "LayoutModel",
          "model_module_version": "1.2.0",
          "state": {
            "_model_module": "@jupyter-widgets/base",
            "_model_module_version": "1.2.0",
            "_model_name": "LayoutModel",
            "_view_count": null,
            "_view_module": "@jupyter-widgets/base",
            "_view_module_version": "1.2.0",
            "_view_name": "LayoutView",
            "align_content": null,
            "align_items": null,
            "align_self": null,
            "border": null,
            "bottom": null,
            "display": null,
            "flex": null,
            "flex_flow": null,
            "grid_area": null,
            "grid_auto_columns": null,
            "grid_auto_flow": null,
            "grid_auto_rows": null,
            "grid_column": null,
            "grid_gap": null,
            "grid_row": null,
            "grid_template_areas": null,
            "grid_template_columns": null,
            "grid_template_rows": null,
            "height": null,
            "justify_content": null,
            "justify_items": null,
            "left": null,
            "margin": null,
            "max_height": null,
            "max_width": null,
            "min_height": null,
            "min_width": null,
            "object_fit": null,
            "object_position": null,
            "order": null,
            "overflow": null,
            "overflow_x": null,
            "overflow_y": null,
            "padding": null,
            "right": null,
            "top": null,
            "visibility": null,
            "width": null
          }
        },
        "c092fa0526574f918ad1c57256cedd98": {
          "model_module": "@jupyter-widgets/controls",
          "model_name": "DescriptionStyleModel",
          "model_module_version": "1.5.0",
          "state": {
            "_model_module": "@jupyter-widgets/controls",
            "_model_module_version": "1.5.0",
            "_model_name": "DescriptionStyleModel",
            "_view_count": null,
            "_view_module": "@jupyter-widgets/base",
            "_view_module_version": "1.2.0",
            "_view_name": "StyleView",
            "description_width": ""
          }
        },
        "e09c8145661e449b9c468136574abfdd": {
          "model_module": "@jupyter-widgets/controls",
          "model_name": "HBoxModel",
          "model_module_version": "1.5.0",
          "state": {
            "_dom_classes": [],
            "_model_module": "@jupyter-widgets/controls",
            "_model_module_version": "1.5.0",
            "_model_name": "HBoxModel",
            "_view_count": null,
            "_view_module": "@jupyter-widgets/controls",
            "_view_module_version": "1.5.0",
            "_view_name": "HBoxView",
            "box_style": "",
            "children": [
              "IPY_MODEL_9aef172c4ba947ffb56d8d873ceff289",
              "IPY_MODEL_a50112619f4d42c695d60db32ac120a2",
              "IPY_MODEL_0d35309f2f4f431caea9e539a37f1322"
            ],
            "layout": "IPY_MODEL_26160fb882034839ae7d7252c2f86bd5"
          }
        },
        "9aef172c4ba947ffb56d8d873ceff289": {
          "model_module": "@jupyter-widgets/controls",
          "model_name": "HTMLModel",
          "model_module_version": "1.5.0",
          "state": {
            "_dom_classes": [],
            "_model_module": "@jupyter-widgets/controls",
            "_model_module_version": "1.5.0",
            "_model_name": "HTMLModel",
            "_view_count": null,
            "_view_module": "@jupyter-widgets/controls",
            "_view_module_version": "1.5.0",
            "_view_name": "HTMLView",
            "description": "",
            "description_tooltip": null,
            "layout": "IPY_MODEL_474c254b21ed4d4e84a2852259d10534",
            "placeholder": "​",
            "style": "IPY_MODEL_8046734eac77489f83aaa2d57d9bae86",
            "value": "Downloading builder script: 100%"
          }
        },
        "a50112619f4d42c695d60db32ac120a2": {
          "model_module": "@jupyter-widgets/controls",
          "model_name": "FloatProgressModel",
          "model_module_version": "1.5.0",
          "state": {
            "_dom_classes": [],
            "_model_module": "@jupyter-widgets/controls",
            "_model_module_version": "1.5.0",
            "_model_name": "FloatProgressModel",
            "_view_count": null,
            "_view_module": "@jupyter-widgets/controls",
            "_view_module_version": "1.5.0",
            "_view_name": "ProgressView",
            "bar_style": "success",
            "description": "",
            "description_tooltip": null,
            "layout": "IPY_MODEL_24c08a1125b94c8bac6903a21173c81d",
            "max": 4525,
            "min": 0,
            "orientation": "horizontal",
            "style": "IPY_MODEL_54a858ed0f474c1bafba87767bef7b5e",
            "value": 4525
          }
        },
        "0d35309f2f4f431caea9e539a37f1322": {
          "model_module": "@jupyter-widgets/controls",
          "model_name": "HTMLModel",
          "model_module_version": "1.5.0",
          "state": {
            "_dom_classes": [],
            "_model_module": "@jupyter-widgets/controls",
            "_model_module_version": "1.5.0",
            "_model_name": "HTMLModel",
            "_view_count": null,
            "_view_module": "@jupyter-widgets/controls",
            "_view_module_version": "1.5.0",
            "_view_name": "HTMLView",
            "description": "",
            "description_tooltip": null,
            "layout": "IPY_MODEL_49dc5583db2043d1a4305d0ce900c5f7",
            "placeholder": "​",
            "style": "IPY_MODEL_46bc34e647fd4e969f9321e2fc549e56",
            "value": " 4.53k/4.53k [00:00&lt;00:00, 331kB/s]"
          }
        },
        "26160fb882034839ae7d7252c2f86bd5": {
          "model_module": "@jupyter-widgets/base",
          "model_name": "LayoutModel",
          "model_module_version": "1.2.0",
          "state": {
            "_model_module": "@jupyter-widgets/base",
            "_model_module_version": "1.2.0",
            "_model_name": "LayoutModel",
            "_view_count": null,
            "_view_module": "@jupyter-widgets/base",
            "_view_module_version": "1.2.0",
            "_view_name": "LayoutView",
            "align_content": null,
            "align_items": null,
            "align_self": null,
            "border": null,
            "bottom": null,
            "display": null,
            "flex": null,
            "flex_flow": null,
            "grid_area": null,
            "grid_auto_columns": null,
            "grid_auto_flow": null,
            "grid_auto_rows": null,
            "grid_column": null,
            "grid_gap": null,
            "grid_row": null,
            "grid_template_areas": null,
            "grid_template_columns": null,
            "grid_template_rows": null,
            "height": null,
            "justify_content": null,
            "justify_items": null,
            "left": null,
            "margin": null,
            "max_height": null,
            "max_width": null,
            "min_height": null,
            "min_width": null,
            "object_fit": null,
            "object_position": null,
            "order": null,
            "overflow": null,
            "overflow_x": null,
            "overflow_y": null,
            "padding": null,
            "right": null,
            "top": null,
            "visibility": null,
            "width": null
          }
        },
        "474c254b21ed4d4e84a2852259d10534": {
          "model_module": "@jupyter-widgets/base",
          "model_name": "LayoutModel",
          "model_module_version": "1.2.0",
          "state": {
            "_model_module": "@jupyter-widgets/base",
            "_model_module_version": "1.2.0",
            "_model_name": "LayoutModel",
            "_view_count": null,
            "_view_module": "@jupyter-widgets/base",
            "_view_module_version": "1.2.0",
            "_view_name": "LayoutView",
            "align_content": null,
            "align_items": null,
            "align_self": null,
            "border": null,
            "bottom": null,
            "display": null,
            "flex": null,
            "flex_flow": null,
            "grid_area": null,
            "grid_auto_columns": null,
            "grid_auto_flow": null,
            "grid_auto_rows": null,
            "grid_column": null,
            "grid_gap": null,
            "grid_row": null,
            "grid_template_areas": null,
            "grid_template_columns": null,
            "grid_template_rows": null,
            "height": null,
            "justify_content": null,
            "justify_items": null,
            "left": null,
            "margin": null,
            "max_height": null,
            "max_width": null,
            "min_height": null,
            "min_width": null,
            "object_fit": null,
            "object_position": null,
            "order": null,
            "overflow": null,
            "overflow_x": null,
            "overflow_y": null,
            "padding": null,
            "right": null,
            "top": null,
            "visibility": null,
            "width": null
          }
        },
        "8046734eac77489f83aaa2d57d9bae86": {
          "model_module": "@jupyter-widgets/controls",
          "model_name": "DescriptionStyleModel",
          "model_module_version": "1.5.0",
          "state": {
            "_model_module": "@jupyter-widgets/controls",
            "_model_module_version": "1.5.0",
            "_model_name": "DescriptionStyleModel",
            "_view_count": null,
            "_view_module": "@jupyter-widgets/base",
            "_view_module_version": "1.2.0",
            "_view_name": "StyleView",
            "description_width": ""
          }
        },
        "24c08a1125b94c8bac6903a21173c81d": {
          "model_module": "@jupyter-widgets/base",
          "model_name": "LayoutModel",
          "model_module_version": "1.2.0",
          "state": {
            "_model_module": "@jupyter-widgets/base",
            "_model_module_version": "1.2.0",
            "_model_name": "LayoutModel",
            "_view_count": null,
            "_view_module": "@jupyter-widgets/base",
            "_view_module_version": "1.2.0",
            "_view_name": "LayoutView",
            "align_content": null,
            "align_items": null,
            "align_self": null,
            "border": null,
            "bottom": null,
            "display": null,
            "flex": null,
            "flex_flow": null,
            "grid_area": null,
            "grid_auto_columns": null,
            "grid_auto_flow": null,
            "grid_auto_rows": null,
            "grid_column": null,
            "grid_gap": null,
            "grid_row": null,
            "grid_template_areas": null,
            "grid_template_columns": null,
            "grid_template_rows": null,
            "height": null,
            "justify_content": null,
            "justify_items": null,
            "left": null,
            "margin": null,
            "max_height": null,
            "max_width": null,
            "min_height": null,
            "min_width": null,
            "object_fit": null,
            "object_position": null,
            "order": null,
            "overflow": null,
            "overflow_x": null,
            "overflow_y": null,
            "padding": null,
            "right": null,
            "top": null,
            "visibility": null,
            "width": null
          }
        },
        "54a858ed0f474c1bafba87767bef7b5e": {
          "model_module": "@jupyter-widgets/controls",
          "model_name": "ProgressStyleModel",
          "model_module_version": "1.5.0",
          "state": {
            "_model_module": "@jupyter-widgets/controls",
            "_model_module_version": "1.5.0",
            "_model_name": "ProgressStyleModel",
            "_view_count": null,
            "_view_module": "@jupyter-widgets/base",
            "_view_module_version": "1.2.0",
            "_view_name": "StyleView",
            "bar_color": null,
            "description_width": ""
          }
        },
        "49dc5583db2043d1a4305d0ce900c5f7": {
          "model_module": "@jupyter-widgets/base",
          "model_name": "LayoutModel",
          "model_module_version": "1.2.0",
          "state": {
            "_model_module": "@jupyter-widgets/base",
            "_model_module_version": "1.2.0",
            "_model_name": "LayoutModel",
            "_view_count": null,
            "_view_module": "@jupyter-widgets/base",
            "_view_module_version": "1.2.0",
            "_view_name": "LayoutView",
            "align_content": null,
            "align_items": null,
            "align_self": null,
            "border": null,
            "bottom": null,
            "display": null,
            "flex": null,
            "flex_flow": null,
            "grid_area": null,
            "grid_auto_columns": null,
            "grid_auto_flow": null,
            "grid_auto_rows": null,
            "grid_column": null,
            "grid_gap": null,
            "grid_row": null,
            "grid_template_areas": null,
            "grid_template_columns": null,
            "grid_template_rows": null,
            "height": null,
            "justify_content": null,
            "justify_items": null,
            "left": null,
            "margin": null,
            "max_height": null,
            "max_width": null,
            "min_height": null,
            "min_width": null,
            "object_fit": null,
            "object_position": null,
            "order": null,
            "overflow": null,
            "overflow_x": null,
            "overflow_y": null,
            "padding": null,
            "right": null,
            "top": null,
            "visibility": null,
            "width": null
          }
        },
        "46bc34e647fd4e969f9321e2fc549e56": {
          "model_module": "@jupyter-widgets/controls",
          "model_name": "DescriptionStyleModel",
          "model_module_version": "1.5.0",
          "state": {
            "_model_module": "@jupyter-widgets/controls",
            "_model_module_version": "1.5.0",
            "_model_name": "DescriptionStyleModel",
            "_view_count": null,
            "_view_module": "@jupyter-widgets/base",
            "_view_module_version": "1.2.0",
            "_view_name": "StyleView",
            "description_width": ""
          }
        },
        "ef4bd2128e884c4eb36b0c78ba7d2d5f": {
          "model_module": "@jupyter-widgets/controls",
          "model_name": "HBoxModel",
          "model_module_version": "1.5.0",
          "state": {
            "_dom_classes": [],
            "_model_module": "@jupyter-widgets/controls",
            "_model_module_version": "1.5.0",
            "_model_name": "HBoxModel",
            "_view_count": null,
            "_view_module": "@jupyter-widgets/controls",
            "_view_module_version": "1.5.0",
            "_view_name": "HBoxView",
            "box_style": "",
            "children": [
              "IPY_MODEL_d5e04ccd730548288da467420cff25d2",
              "IPY_MODEL_0a3c94546e1b459c81bed4e2d59c3618",
              "IPY_MODEL_98eeb738d5414237a1025fcd281ab96d"
            ],
            "layout": "IPY_MODEL_1ac4717018c0476ca70f08f7a0283a69"
          }
        },
        "d5e04ccd730548288da467420cff25d2": {
          "model_module": "@jupyter-widgets/controls",
          "model_name": "HTMLModel",
          "model_module_version": "1.5.0",
          "state": {
            "_dom_classes": [],
            "_model_module": "@jupyter-widgets/controls",
            "_model_module_version": "1.5.0",
            "_model_name": "HTMLModel",
            "_view_count": null,
            "_view_module": "@jupyter-widgets/controls",
            "_view_module_version": "1.5.0",
            "_view_name": "HTMLView",
            "description": "",
            "description_tooltip": null,
            "layout": "IPY_MODEL_189eeb21d3264b2a948baddc24dfc7a0",
            "placeholder": "​",
            "style": "IPY_MODEL_bcd8a48185a643cda674dc17eceec3bf",
            "value": "Downloading extra modules: 100%"
          }
        },
        "0a3c94546e1b459c81bed4e2d59c3618": {
          "model_module": "@jupyter-widgets/controls",
          "model_name": "FloatProgressModel",
          "model_module_version": "1.5.0",
          "state": {
            "_dom_classes": [],
            "_model_module": "@jupyter-widgets/controls",
            "_model_module_version": "1.5.0",
            "_model_name": "FloatProgressModel",
            "_view_count": null,
            "_view_module": "@jupyter-widgets/controls",
            "_view_module_version": "1.5.0",
            "_view_name": "ProgressView",
            "bar_style": "success",
            "description": "",
            "description_tooltip": null,
            "layout": "IPY_MODEL_d20dcc9055b142a789f8c1ba7dbb2508",
            "max": 3317,
            "min": 0,
            "orientation": "horizontal",
            "style": "IPY_MODEL_2093a101665244c49bec635036d00f8d",
            "value": 3317
          }
        },
        "98eeb738d5414237a1025fcd281ab96d": {
          "model_module": "@jupyter-widgets/controls",
          "model_name": "HTMLModel",
          "model_module_version": "1.5.0",
          "state": {
            "_dom_classes": [],
            "_model_module": "@jupyter-widgets/controls",
            "_model_module_version": "1.5.0",
            "_model_name": "HTMLModel",
            "_view_count": null,
            "_view_module": "@jupyter-widgets/controls",
            "_view_module_version": "1.5.0",
            "_view_name": "HTMLView",
            "description": "",
            "description_tooltip": null,
            "layout": "IPY_MODEL_22b7e2f39f9f4245ba8464f83c01ca7f",
            "placeholder": "​",
            "style": "IPY_MODEL_84a61d5bd6d54aa48675ab442e9ddfa5",
            "value": " 3.32k/3.32k [00:00&lt;00:00, 119kB/s]"
          }
        },
        "1ac4717018c0476ca70f08f7a0283a69": {
          "model_module": "@jupyter-widgets/base",
          "model_name": "LayoutModel",
          "model_module_version": "1.2.0",
          "state": {
            "_model_module": "@jupyter-widgets/base",
            "_model_module_version": "1.2.0",
            "_model_name": "LayoutModel",
            "_view_count": null,
            "_view_module": "@jupyter-widgets/base",
            "_view_module_version": "1.2.0",
            "_view_name": "LayoutView",
            "align_content": null,
            "align_items": null,
            "align_self": null,
            "border": null,
            "bottom": null,
            "display": null,
            "flex": null,
            "flex_flow": null,
            "grid_area": null,
            "grid_auto_columns": null,
            "grid_auto_flow": null,
            "grid_auto_rows": null,
            "grid_column": null,
            "grid_gap": null,
            "grid_row": null,
            "grid_template_areas": null,
            "grid_template_columns": null,
            "grid_template_rows": null,
            "height": null,
            "justify_content": null,
            "justify_items": null,
            "left": null,
            "margin": null,
            "max_height": null,
            "max_width": null,
            "min_height": null,
            "min_width": null,
            "object_fit": null,
            "object_position": null,
            "order": null,
            "overflow": null,
            "overflow_x": null,
            "overflow_y": null,
            "padding": null,
            "right": null,
            "top": null,
            "visibility": null,
            "width": null
          }
        },
        "189eeb21d3264b2a948baddc24dfc7a0": {
          "model_module": "@jupyter-widgets/base",
          "model_name": "LayoutModel",
          "model_module_version": "1.2.0",
          "state": {
            "_model_module": "@jupyter-widgets/base",
            "_model_module_version": "1.2.0",
            "_model_name": "LayoutModel",
            "_view_count": null,
            "_view_module": "@jupyter-widgets/base",
            "_view_module_version": "1.2.0",
            "_view_name": "LayoutView",
            "align_content": null,
            "align_items": null,
            "align_self": null,
            "border": null,
            "bottom": null,
            "display": null,
            "flex": null,
            "flex_flow": null,
            "grid_area": null,
            "grid_auto_columns": null,
            "grid_auto_flow": null,
            "grid_auto_rows": null,
            "grid_column": null,
            "grid_gap": null,
            "grid_row": null,
            "grid_template_areas": null,
            "grid_template_columns": null,
            "grid_template_rows": null,
            "height": null,
            "justify_content": null,
            "justify_items": null,
            "left": null,
            "margin": null,
            "max_height": null,
            "max_width": null,
            "min_height": null,
            "min_width": null,
            "object_fit": null,
            "object_position": null,
            "order": null,
            "overflow": null,
            "overflow_x": null,
            "overflow_y": null,
            "padding": null,
            "right": null,
            "top": null,
            "visibility": null,
            "width": null
          }
        },
        "bcd8a48185a643cda674dc17eceec3bf": {
          "model_module": "@jupyter-widgets/controls",
          "model_name": "DescriptionStyleModel",
          "model_module_version": "1.5.0",
          "state": {
            "_model_module": "@jupyter-widgets/controls",
            "_model_module_version": "1.5.0",
            "_model_name": "DescriptionStyleModel",
            "_view_count": null,
            "_view_module": "@jupyter-widgets/base",
            "_view_module_version": "1.2.0",
            "_view_name": "StyleView",
            "description_width": ""
          }
        },
        "d20dcc9055b142a789f8c1ba7dbb2508": {
          "model_module": "@jupyter-widgets/base",
          "model_name": "LayoutModel",
          "model_module_version": "1.2.0",
          "state": {
            "_model_module": "@jupyter-widgets/base",
            "_model_module_version": "1.2.0",
            "_model_name": "LayoutModel",
            "_view_count": null,
            "_view_module": "@jupyter-widgets/base",
            "_view_module_version": "1.2.0",
            "_view_name": "LayoutView",
            "align_content": null,
            "align_items": null,
            "align_self": null,
            "border": null,
            "bottom": null,
            "display": null,
            "flex": null,
            "flex_flow": null,
            "grid_area": null,
            "grid_auto_columns": null,
            "grid_auto_flow": null,
            "grid_auto_rows": null,
            "grid_column": null,
            "grid_gap": null,
            "grid_row": null,
            "grid_template_areas": null,
            "grid_template_columns": null,
            "grid_template_rows": null,
            "height": null,
            "justify_content": null,
            "justify_items": null,
            "left": null,
            "margin": null,
            "max_height": null,
            "max_width": null,
            "min_height": null,
            "min_width": null,
            "object_fit": null,
            "object_position": null,
            "order": null,
            "overflow": null,
            "overflow_x": null,
            "overflow_y": null,
            "padding": null,
            "right": null,
            "top": null,
            "visibility": null,
            "width": null
          }
        },
        "2093a101665244c49bec635036d00f8d": {
          "model_module": "@jupyter-widgets/controls",
          "model_name": "ProgressStyleModel",
          "model_module_version": "1.5.0",
          "state": {
            "_model_module": "@jupyter-widgets/controls",
            "_model_module_version": "1.5.0",
            "_model_name": "ProgressStyleModel",
            "_view_count": null,
            "_view_module": "@jupyter-widgets/base",
            "_view_module_version": "1.2.0",
            "_view_name": "StyleView",
            "bar_color": null,
            "description_width": ""
          }
        },
        "22b7e2f39f9f4245ba8464f83c01ca7f": {
          "model_module": "@jupyter-widgets/base",
          "model_name": "LayoutModel",
          "model_module_version": "1.2.0",
          "state": {
            "_model_module": "@jupyter-widgets/base",
            "_model_module_version": "1.2.0",
            "_model_name": "LayoutModel",
            "_view_count": null,
            "_view_module": "@jupyter-widgets/base",
            "_view_module_version": "1.2.0",
            "_view_name": "LayoutView",
            "align_content": null,
            "align_items": null,
            "align_self": null,
            "border": null,
            "bottom": null,
            "display": null,
            "flex": null,
            "flex_flow": null,
            "grid_area": null,
            "grid_auto_columns": null,
            "grid_auto_flow": null,
            "grid_auto_rows": null,
            "grid_column": null,
            "grid_gap": null,
            "grid_row": null,
            "grid_template_areas": null,
            "grid_template_columns": null,
            "grid_template_rows": null,
            "height": null,
            "justify_content": null,
            "justify_items": null,
            "left": null,
            "margin": null,
            "max_height": null,
            "max_width": null,
            "min_height": null,
            "min_width": null,
            "object_fit": null,
            "object_position": null,
            "order": null,
            "overflow": null,
            "overflow_x": null,
            "overflow_y": null,
            "padding": null,
            "right": null,
            "top": null,
            "visibility": null,
            "width": null
          }
        },
        "84a61d5bd6d54aa48675ab442e9ddfa5": {
          "model_module": "@jupyter-widgets/controls",
          "model_name": "DescriptionStyleModel",
          "model_module_version": "1.5.0",
          "state": {
            "_model_module": "@jupyter-widgets/controls",
            "_model_module_version": "1.5.0",
            "_model_name": "DescriptionStyleModel",
            "_view_count": null,
            "_view_module": "@jupyter-widgets/base",
            "_view_module_version": "1.2.0",
            "_view_name": "StyleView",
            "description_width": ""
          }
        },
        "6b8550b5f544419daf757e1f9c583779": {
          "model_module": "@jupyter-widgets/controls",
          "model_name": "HBoxModel",
          "model_module_version": "1.5.0",
          "state": {
            "_dom_classes": [],
            "_model_module": "@jupyter-widgets/controls",
            "_model_module_version": "1.5.0",
            "_model_name": "HBoxModel",
            "_view_count": null,
            "_view_module": "@jupyter-widgets/controls",
            "_view_module_version": "1.5.0",
            "_view_name": "HBoxView",
            "box_style": "",
            "children": [
              "IPY_MODEL_6029f0dd531c42089037953aaafae5f8",
              "IPY_MODEL_b636facb733f43bba693b9bf87668ee0",
              "IPY_MODEL_1da6091ee33b443f91f6b86be4eb49df"
            ],
            "layout": "IPY_MODEL_0d4b4d6ca0ce430988cf469f8ded2fa0"
          }
        },
        "6029f0dd531c42089037953aaafae5f8": {
          "model_module": "@jupyter-widgets/controls",
          "model_name": "HTMLModel",
          "model_module_version": "1.5.0",
          "state": {
            "_dom_classes": [],
            "_model_module": "@jupyter-widgets/controls",
            "_model_module_version": "1.5.0",
            "_model_name": "HTMLModel",
            "_view_count": null,
            "_view_module": "@jupyter-widgets/controls",
            "_view_module_version": "1.5.0",
            "_view_name": "HTMLView",
            "description": "",
            "description_tooltip": null,
            "layout": "IPY_MODEL_6197631de5a0434b936abd1517800c30",
            "placeholder": "​",
            "style": "IPY_MODEL_96a60d1934684b39b18ea38e52e193b1",
            "value": "100%"
          }
        },
        "b636facb733f43bba693b9bf87668ee0": {
          "model_module": "@jupyter-widgets/controls",
          "model_name": "FloatProgressModel",
          "model_module_version": "1.5.0",
          "state": {
            "_dom_classes": [],
            "_model_module": "@jupyter-widgets/controls",
            "_model_module_version": "1.5.0",
            "_model_name": "FloatProgressModel",
            "_view_count": null,
            "_view_module": "@jupyter-widgets/controls",
            "_view_module_version": "1.5.0",
            "_view_name": "ProgressView",
            "bar_style": "success",
            "description": "",
            "description_tooltip": null,
            "layout": "IPY_MODEL_411dcb503dc34c948363c62da2712093",
            "max": 100,
            "min": 0,
            "orientation": "horizontal",
            "style": "IPY_MODEL_dbeee9adebd04165a935702443c6ea30",
            "value": 100
          }
        },
        "1da6091ee33b443f91f6b86be4eb49df": {
          "model_module": "@jupyter-widgets/controls",
          "model_name": "HTMLModel",
          "model_module_version": "1.5.0",
          "state": {
            "_dom_classes": [],
            "_model_module": "@jupyter-widgets/controls",
            "_model_module_version": "1.5.0",
            "_model_name": "HTMLModel",
            "_view_count": null,
            "_view_module": "@jupyter-widgets/controls",
            "_view_module_version": "1.5.0",
            "_view_name": "HTMLView",
            "description": "",
            "description_tooltip": null,
            "layout": "IPY_MODEL_d442fad025d54b37939db0bf4480b0a1",
            "placeholder": "​",
            "style": "IPY_MODEL_e73f14e5804f494ca8f2c1244d83793f",
            "value": " 100/100 [00:00&lt;00:00, 127.45it/s]"
          }
        },
        "0d4b4d6ca0ce430988cf469f8ded2fa0": {
          "model_module": "@jupyter-widgets/base",
          "model_name": "LayoutModel",
          "model_module_version": "1.2.0",
          "state": {
            "_model_module": "@jupyter-widgets/base",
            "_model_module_version": "1.2.0",
            "_model_name": "LayoutModel",
            "_view_count": null,
            "_view_module": "@jupyter-widgets/base",
            "_view_module_version": "1.2.0",
            "_view_name": "LayoutView",
            "align_content": null,
            "align_items": null,
            "align_self": null,
            "border": null,
            "bottom": null,
            "display": null,
            "flex": null,
            "flex_flow": null,
            "grid_area": null,
            "grid_auto_columns": null,
            "grid_auto_flow": null,
            "grid_auto_rows": null,
            "grid_column": null,
            "grid_gap": null,
            "grid_row": null,
            "grid_template_areas": null,
            "grid_template_columns": null,
            "grid_template_rows": null,
            "height": null,
            "justify_content": null,
            "justify_items": null,
            "left": null,
            "margin": null,
            "max_height": null,
            "max_width": null,
            "min_height": null,
            "min_width": null,
            "object_fit": null,
            "object_position": null,
            "order": null,
            "overflow": null,
            "overflow_x": null,
            "overflow_y": null,
            "padding": null,
            "right": null,
            "top": null,
            "visibility": null,
            "width": null
          }
        },
        "6197631de5a0434b936abd1517800c30": {
          "model_module": "@jupyter-widgets/base",
          "model_name": "LayoutModel",
          "model_module_version": "1.2.0",
          "state": {
            "_model_module": "@jupyter-widgets/base",
            "_model_module_version": "1.2.0",
            "_model_name": "LayoutModel",
            "_view_count": null,
            "_view_module": "@jupyter-widgets/base",
            "_view_module_version": "1.2.0",
            "_view_name": "LayoutView",
            "align_content": null,
            "align_items": null,
            "align_self": null,
            "border": null,
            "bottom": null,
            "display": null,
            "flex": null,
            "flex_flow": null,
            "grid_area": null,
            "grid_auto_columns": null,
            "grid_auto_flow": null,
            "grid_auto_rows": null,
            "grid_column": null,
            "grid_gap": null,
            "grid_row": null,
            "grid_template_areas": null,
            "grid_template_columns": null,
            "grid_template_rows": null,
            "height": null,
            "justify_content": null,
            "justify_items": null,
            "left": null,
            "margin": null,
            "max_height": null,
            "max_width": null,
            "min_height": null,
            "min_width": null,
            "object_fit": null,
            "object_position": null,
            "order": null,
            "overflow": null,
            "overflow_x": null,
            "overflow_y": null,
            "padding": null,
            "right": null,
            "top": null,
            "visibility": null,
            "width": null
          }
        },
        "96a60d1934684b39b18ea38e52e193b1": {
          "model_module": "@jupyter-widgets/controls",
          "model_name": "DescriptionStyleModel",
          "model_module_version": "1.5.0",
          "state": {
            "_model_module": "@jupyter-widgets/controls",
            "_model_module_version": "1.5.0",
            "_model_name": "DescriptionStyleModel",
            "_view_count": null,
            "_view_module": "@jupyter-widgets/base",
            "_view_module_version": "1.2.0",
            "_view_name": "StyleView",
            "description_width": ""
          }
        },
        "411dcb503dc34c948363c62da2712093": {
          "model_module": "@jupyter-widgets/base",
          "model_name": "LayoutModel",
          "model_module_version": "1.2.0",
          "state": {
            "_model_module": "@jupyter-widgets/base",
            "_model_module_version": "1.2.0",
            "_model_name": "LayoutModel",
            "_view_count": null,
            "_view_module": "@jupyter-widgets/base",
            "_view_module_version": "1.2.0",
            "_view_name": "LayoutView",
            "align_content": null,
            "align_items": null,
            "align_self": null,
            "border": null,
            "bottom": null,
            "display": null,
            "flex": null,
            "flex_flow": null,
            "grid_area": null,
            "grid_auto_columns": null,
            "grid_auto_flow": null,
            "grid_auto_rows": null,
            "grid_column": null,
            "grid_gap": null,
            "grid_row": null,
            "grid_template_areas": null,
            "grid_template_columns": null,
            "grid_template_rows": null,
            "height": null,
            "justify_content": null,
            "justify_items": null,
            "left": null,
            "margin": null,
            "max_height": null,
            "max_width": null,
            "min_height": null,
            "min_width": null,
            "object_fit": null,
            "object_position": null,
            "order": null,
            "overflow": null,
            "overflow_x": null,
            "overflow_y": null,
            "padding": null,
            "right": null,
            "top": null,
            "visibility": null,
            "width": null
          }
        },
        "dbeee9adebd04165a935702443c6ea30": {
          "model_module": "@jupyter-widgets/controls",
          "model_name": "ProgressStyleModel",
          "model_module_version": "1.5.0",
          "state": {
            "_model_module": "@jupyter-widgets/controls",
            "_model_module_version": "1.5.0",
            "_model_name": "ProgressStyleModel",
            "_view_count": null,
            "_view_module": "@jupyter-widgets/base",
            "_view_module_version": "1.2.0",
            "_view_name": "StyleView",
            "bar_color": null,
            "description_width": ""
          }
        },
        "d442fad025d54b37939db0bf4480b0a1": {
          "model_module": "@jupyter-widgets/base",
          "model_name": "LayoutModel",
          "model_module_version": "1.2.0",
          "state": {
            "_model_module": "@jupyter-widgets/base",
            "_model_module_version": "1.2.0",
            "_model_name": "LayoutModel",
            "_view_count": null,
            "_view_module": "@jupyter-widgets/base",
            "_view_module_version": "1.2.0",
            "_view_name": "LayoutView",
            "align_content": null,
            "align_items": null,
            "align_self": null,
            "border": null,
            "bottom": null,
            "display": null,
            "flex": null,
            "flex_flow": null,
            "grid_area": null,
            "grid_auto_columns": null,
            "grid_auto_flow": null,
            "grid_auto_rows": null,
            "grid_column": null,
            "grid_gap": null,
            "grid_row": null,
            "grid_template_areas": null,
            "grid_template_columns": null,
            "grid_template_rows": null,
            "height": null,
            "justify_content": null,
            "justify_items": null,
            "left": null,
            "margin": null,
            "max_height": null,
            "max_width": null,
            "min_height": null,
            "min_width": null,
            "object_fit": null,
            "object_position": null,
            "order": null,
            "overflow": null,
            "overflow_x": null,
            "overflow_y": null,
            "padding": null,
            "right": null,
            "top": null,
            "visibility": null,
            "width": null
          }
        },
        "e73f14e5804f494ca8f2c1244d83793f": {
          "model_module": "@jupyter-widgets/controls",
          "model_name": "DescriptionStyleModel",
          "model_module_version": "1.5.0",
          "state": {
            "_model_module": "@jupyter-widgets/controls",
            "_model_module_version": "1.5.0",
            "_model_name": "DescriptionStyleModel",
            "_view_count": null,
            "_view_module": "@jupyter-widgets/base",
            "_view_module_version": "1.2.0",
            "_view_name": "StyleView",
            "description_width": ""
          }
        },
        "112799ccb80f460eaf9036e652ccbfad": {
          "model_module": "@jupyter-widgets/controls",
          "model_name": "HBoxModel",
          "model_module_version": "1.5.0",
          "state": {
            "_dom_classes": [],
            "_model_module": "@jupyter-widgets/controls",
            "_model_module_version": "1.5.0",
            "_model_name": "HBoxModel",
            "_view_count": null,
            "_view_module": "@jupyter-widgets/controls",
            "_view_module_version": "1.5.0",
            "_view_name": "HBoxView",
            "box_style": "",
            "children": [
              "IPY_MODEL_c899854522c34d4ba83ad26134949497",
              "IPY_MODEL_fddf5f0e93904778b9d0bb1a2199966b",
              "IPY_MODEL_b56fccce42ff402ca3d2ad9e973cb9e2"
            ],
            "layout": "IPY_MODEL_946d972b7f7947ac845becfaa921f37a"
          }
        },
        "c899854522c34d4ba83ad26134949497": {
          "model_module": "@jupyter-widgets/controls",
          "model_name": "HTMLModel",
          "model_module_version": "1.5.0",
          "state": {
            "_dom_classes": [],
            "_model_module": "@jupyter-widgets/controls",
            "_model_module_version": "1.5.0",
            "_model_name": "HTMLModel",
            "_view_count": null,
            "_view_module": "@jupyter-widgets/controls",
            "_view_module_version": "1.5.0",
            "_view_name": "HTMLView",
            "description": "",
            "description_tooltip": null,
            "layout": "IPY_MODEL_3fec93f9b57a43dab22292aa1aeba019",
            "placeholder": "​",
            "style": "IPY_MODEL_870171e282ab40368d35e1ee4b0311bf",
            "value": "model.safetensors: 100%"
          }
        },
        "fddf5f0e93904778b9d0bb1a2199966b": {
          "model_module": "@jupyter-widgets/controls",
          "model_name": "FloatProgressModel",
          "model_module_version": "1.5.0",
          "state": {
            "_dom_classes": [],
            "_model_module": "@jupyter-widgets/controls",
            "_model_module_version": "1.5.0",
            "_model_name": "FloatProgressModel",
            "_view_count": null,
            "_view_module": "@jupyter-widgets/controls",
            "_view_module_version": "1.5.0",
            "_view_name": "ProgressView",
            "bar_style": "success",
            "description": "",
            "description_tooltip": null,
            "layout": "IPY_MODEL_edadded1621b41dd947bcf9add3c55af",
            "max": 435755784,
            "min": 0,
            "orientation": "horizontal",
            "style": "IPY_MODEL_c91efa918e0f47c0b2b339a83feada53",
            "value": 435755784
          }
        },
        "b56fccce42ff402ca3d2ad9e973cb9e2": {
          "model_module": "@jupyter-widgets/controls",
          "model_name": "HTMLModel",
          "model_module_version": "1.5.0",
          "state": {
            "_dom_classes": [],
            "_model_module": "@jupyter-widgets/controls",
            "_model_module_version": "1.5.0",
            "_model_name": "HTMLModel",
            "_view_count": null,
            "_view_module": "@jupyter-widgets/controls",
            "_view_module_version": "1.5.0",
            "_view_name": "HTMLView",
            "description": "",
            "description_tooltip": null,
            "layout": "IPY_MODEL_83d659c551db4dbaa3a37634aa6e21f2",
            "placeholder": "​",
            "style": "IPY_MODEL_7a71af0bd58540c190a6f024ec3a01cb",
            "value": " 436M/436M [00:11&lt;00:00, 55.2MB/s]"
          }
        },
        "946d972b7f7947ac845becfaa921f37a": {
          "model_module": "@jupyter-widgets/base",
          "model_name": "LayoutModel",
          "model_module_version": "1.2.0",
          "state": {
            "_model_module": "@jupyter-widgets/base",
            "_model_module_version": "1.2.0",
            "_model_name": "LayoutModel",
            "_view_count": null,
            "_view_module": "@jupyter-widgets/base",
            "_view_module_version": "1.2.0",
            "_view_name": "LayoutView",
            "align_content": null,
            "align_items": null,
            "align_self": null,
            "border": null,
            "bottom": null,
            "display": null,
            "flex": null,
            "flex_flow": null,
            "grid_area": null,
            "grid_auto_columns": null,
            "grid_auto_flow": null,
            "grid_auto_rows": null,
            "grid_column": null,
            "grid_gap": null,
            "grid_row": null,
            "grid_template_areas": null,
            "grid_template_columns": null,
            "grid_template_rows": null,
            "height": null,
            "justify_content": null,
            "justify_items": null,
            "left": null,
            "margin": null,
            "max_height": null,
            "max_width": null,
            "min_height": null,
            "min_width": null,
            "object_fit": null,
            "object_position": null,
            "order": null,
            "overflow": null,
            "overflow_x": null,
            "overflow_y": null,
            "padding": null,
            "right": null,
            "top": null,
            "visibility": null,
            "width": null
          }
        },
        "3fec93f9b57a43dab22292aa1aeba019": {
          "model_module": "@jupyter-widgets/base",
          "model_name": "LayoutModel",
          "model_module_version": "1.2.0",
          "state": {
            "_model_module": "@jupyter-widgets/base",
            "_model_module_version": "1.2.0",
            "_model_name": "LayoutModel",
            "_view_count": null,
            "_view_module": "@jupyter-widgets/base",
            "_view_module_version": "1.2.0",
            "_view_name": "LayoutView",
            "align_content": null,
            "align_items": null,
            "align_self": null,
            "border": null,
            "bottom": null,
            "display": null,
            "flex": null,
            "flex_flow": null,
            "grid_area": null,
            "grid_auto_columns": null,
            "grid_auto_flow": null,
            "grid_auto_rows": null,
            "grid_column": null,
            "grid_gap": null,
            "grid_row": null,
            "grid_template_areas": null,
            "grid_template_columns": null,
            "grid_template_rows": null,
            "height": null,
            "justify_content": null,
            "justify_items": null,
            "left": null,
            "margin": null,
            "max_height": null,
            "max_width": null,
            "min_height": null,
            "min_width": null,
            "object_fit": null,
            "object_position": null,
            "order": null,
            "overflow": null,
            "overflow_x": null,
            "overflow_y": null,
            "padding": null,
            "right": null,
            "top": null,
            "visibility": null,
            "width": null
          }
        },
        "870171e282ab40368d35e1ee4b0311bf": {
          "model_module": "@jupyter-widgets/controls",
          "model_name": "DescriptionStyleModel",
          "model_module_version": "1.5.0",
          "state": {
            "_model_module": "@jupyter-widgets/controls",
            "_model_module_version": "1.5.0",
            "_model_name": "DescriptionStyleModel",
            "_view_count": null,
            "_view_module": "@jupyter-widgets/base",
            "_view_module_version": "1.2.0",
            "_view_name": "StyleView",
            "description_width": ""
          }
        },
        "edadded1621b41dd947bcf9add3c55af": {
          "model_module": "@jupyter-widgets/base",
          "model_name": "LayoutModel",
          "model_module_version": "1.2.0",
          "state": {
            "_model_module": "@jupyter-widgets/base",
            "_model_module_version": "1.2.0",
            "_model_name": "LayoutModel",
            "_view_count": null,
            "_view_module": "@jupyter-widgets/base",
            "_view_module_version": "1.2.0",
            "_view_name": "LayoutView",
            "align_content": null,
            "align_items": null,
            "align_self": null,
            "border": null,
            "bottom": null,
            "display": null,
            "flex": null,
            "flex_flow": null,
            "grid_area": null,
            "grid_auto_columns": null,
            "grid_auto_flow": null,
            "grid_auto_rows": null,
            "grid_column": null,
            "grid_gap": null,
            "grid_row": null,
            "grid_template_areas": null,
            "grid_template_columns": null,
            "grid_template_rows": null,
            "height": null,
            "justify_content": null,
            "justify_items": null,
            "left": null,
            "margin": null,
            "max_height": null,
            "max_width": null,
            "min_height": null,
            "min_width": null,
            "object_fit": null,
            "object_position": null,
            "order": null,
            "overflow": null,
            "overflow_x": null,
            "overflow_y": null,
            "padding": null,
            "right": null,
            "top": null,
            "visibility": null,
            "width": null
          }
        },
        "c91efa918e0f47c0b2b339a83feada53": {
          "model_module": "@jupyter-widgets/controls",
          "model_name": "ProgressStyleModel",
          "model_module_version": "1.5.0",
          "state": {
            "_model_module": "@jupyter-widgets/controls",
            "_model_module_version": "1.5.0",
            "_model_name": "ProgressStyleModel",
            "_view_count": null,
            "_view_module": "@jupyter-widgets/base",
            "_view_module_version": "1.2.0",
            "_view_name": "StyleView",
            "bar_color": null,
            "description_width": ""
          }
        },
        "83d659c551db4dbaa3a37634aa6e21f2": {
          "model_module": "@jupyter-widgets/base",
          "model_name": "LayoutModel",
          "model_module_version": "1.2.0",
          "state": {
            "_model_module": "@jupyter-widgets/base",
            "_model_module_version": "1.2.0",
            "_model_name": "LayoutModel",
            "_view_count": null,
            "_view_module": "@jupyter-widgets/base",
            "_view_module_version": "1.2.0",
            "_view_name": "LayoutView",
            "align_content": null,
            "align_items": null,
            "align_self": null,
            "border": null,
            "bottom": null,
            "display": null,
            "flex": null,
            "flex_flow": null,
            "grid_area": null,
            "grid_auto_columns": null,
            "grid_auto_flow": null,
            "grid_auto_rows": null,
            "grid_column": null,
            "grid_gap": null,
            "grid_row": null,
            "grid_template_areas": null,
            "grid_template_columns": null,
            "grid_template_rows": null,
            "height": null,
            "justify_content": null,
            "justify_items": null,
            "left": null,
            "margin": null,
            "max_height": null,
            "max_width": null,
            "min_height": null,
            "min_width": null,
            "object_fit": null,
            "object_position": null,
            "order": null,
            "overflow": null,
            "overflow_x": null,
            "overflow_y": null,
            "padding": null,
            "right": null,
            "top": null,
            "visibility": null,
            "width": null
          }
        },
        "7a71af0bd58540c190a6f024ec3a01cb": {
          "model_module": "@jupyter-widgets/controls",
          "model_name": "DescriptionStyleModel",
          "model_module_version": "1.5.0",
          "state": {
            "_model_module": "@jupyter-widgets/controls",
            "_model_module_version": "1.5.0",
            "_model_name": "DescriptionStyleModel",
            "_view_count": null,
            "_view_module": "@jupyter-widgets/base",
            "_view_module_version": "1.2.0",
            "_view_name": "StyleView",
            "description_width": ""
          }
        },
        "2e5a3a0dd29d41b9b46bc83dae4db4ac": {
          "model_module": "@jupyter-widgets/controls",
          "model_name": "HBoxModel",
          "model_module_version": "1.5.0",
          "state": {
            "_dom_classes": [],
            "_model_module": "@jupyter-widgets/controls",
            "_model_module_version": "1.5.0",
            "_model_name": "HBoxModel",
            "_view_count": null,
            "_view_module": "@jupyter-widgets/controls",
            "_view_module_version": "1.5.0",
            "_view_name": "HBoxView",
            "box_style": "",
            "children": [
              "IPY_MODEL_3e1628b032c94c30a8ec84d2dce5f4e4",
              "IPY_MODEL_bca69918e178435286a2315cc8e1dc31",
              "IPY_MODEL_2f198189d7744efdbd0a8188fe4d4a37"
            ],
            "layout": "IPY_MODEL_91217122e2734523a4eb32483545a446"
          }
        },
        "3e1628b032c94c30a8ec84d2dce5f4e4": {
          "model_module": "@jupyter-widgets/controls",
          "model_name": "HTMLModel",
          "model_module_version": "1.5.0",
          "state": {
            "_dom_classes": [],
            "_model_module": "@jupyter-widgets/controls",
            "_model_module_version": "1.5.0",
            "_model_name": "HTMLModel",
            "_view_count": null,
            "_view_module": "@jupyter-widgets/controls",
            "_view_module_version": "1.5.0",
            "_view_name": "HTMLView",
            "description": "",
            "description_tooltip": null,
            "layout": "IPY_MODEL_67254f6db58d48f383685335f5c6267e",
            "placeholder": "​",
            "style": "IPY_MODEL_5abad0dd84894429ad150ace975da1e0",
            "value": "100%"
          }
        },
        "bca69918e178435286a2315cc8e1dc31": {
          "model_module": "@jupyter-widgets/controls",
          "model_name": "FloatProgressModel",
          "model_module_version": "1.5.0",
          "state": {
            "_dom_classes": [],
            "_model_module": "@jupyter-widgets/controls",
            "_model_module_version": "1.5.0",
            "_model_name": "FloatProgressModel",
            "_view_count": null,
            "_view_module": "@jupyter-widgets/controls",
            "_view_module_version": "1.5.0",
            "_view_name": "ProgressView",
            "bar_style": "success",
            "description": "",
            "description_tooltip": null,
            "layout": "IPY_MODEL_370a19aafed64f7490ef9a3a3b0b51b1",
            "max": 10570,
            "min": 0,
            "orientation": "horizontal",
            "style": "IPY_MODEL_6756d57fdebb4496843f50e3fa694c02",
            "value": 10570
          }
        },
        "2f198189d7744efdbd0a8188fe4d4a37": {
          "model_module": "@jupyter-widgets/controls",
          "model_name": "HTMLModel",
          "model_module_version": "1.5.0",
          "state": {
            "_dom_classes": [],
            "_model_module": "@jupyter-widgets/controls",
            "_model_module_version": "1.5.0",
            "_model_name": "HTMLModel",
            "_view_count": null,
            "_view_module": "@jupyter-widgets/controls",
            "_view_module_version": "1.5.0",
            "_view_name": "HTMLView",
            "description": "",
            "description_tooltip": null,
            "layout": "IPY_MODEL_baf20a0b36ae4a1a90ce465b04bc0ffe",
            "placeholder": "​",
            "style": "IPY_MODEL_358b8d4f250d475e93c2792fd4d60b86",
            "value": " 10570/10570 [00:28&lt;00:00, 580.57it/s]"
          }
        },
        "91217122e2734523a4eb32483545a446": {
          "model_module": "@jupyter-widgets/base",
          "model_name": "LayoutModel",
          "model_module_version": "1.2.0",
          "state": {
            "_model_module": "@jupyter-widgets/base",
            "_model_module_version": "1.2.0",
            "_model_name": "LayoutModel",
            "_view_count": null,
            "_view_module": "@jupyter-widgets/base",
            "_view_module_version": "1.2.0",
            "_view_name": "LayoutView",
            "align_content": null,
            "align_items": null,
            "align_self": null,
            "border": null,
            "bottom": null,
            "display": null,
            "flex": null,
            "flex_flow": null,
            "grid_area": null,
            "grid_auto_columns": null,
            "grid_auto_flow": null,
            "grid_auto_rows": null,
            "grid_column": null,
            "grid_gap": null,
            "grid_row": null,
            "grid_template_areas": null,
            "grid_template_columns": null,
            "grid_template_rows": null,
            "height": null,
            "justify_content": null,
            "justify_items": null,
            "left": null,
            "margin": null,
            "max_height": null,
            "max_width": null,
            "min_height": null,
            "min_width": null,
            "object_fit": null,
            "object_position": null,
            "order": null,
            "overflow": null,
            "overflow_x": null,
            "overflow_y": null,
            "padding": null,
            "right": null,
            "top": null,
            "visibility": null,
            "width": null
          }
        },
        "67254f6db58d48f383685335f5c6267e": {
          "model_module": "@jupyter-widgets/base",
          "model_name": "LayoutModel",
          "model_module_version": "1.2.0",
          "state": {
            "_model_module": "@jupyter-widgets/base",
            "_model_module_version": "1.2.0",
            "_model_name": "LayoutModel",
            "_view_count": null,
            "_view_module": "@jupyter-widgets/base",
            "_view_module_version": "1.2.0",
            "_view_name": "LayoutView",
            "align_content": null,
            "align_items": null,
            "align_self": null,
            "border": null,
            "bottom": null,
            "display": null,
            "flex": null,
            "flex_flow": null,
            "grid_area": null,
            "grid_auto_columns": null,
            "grid_auto_flow": null,
            "grid_auto_rows": null,
            "grid_column": null,
            "grid_gap": null,
            "grid_row": null,
            "grid_template_areas": null,
            "grid_template_columns": null,
            "grid_template_rows": null,
            "height": null,
            "justify_content": null,
            "justify_items": null,
            "left": null,
            "margin": null,
            "max_height": null,
            "max_width": null,
            "min_height": null,
            "min_width": null,
            "object_fit": null,
            "object_position": null,
            "order": null,
            "overflow": null,
            "overflow_x": null,
            "overflow_y": null,
            "padding": null,
            "right": null,
            "top": null,
            "visibility": null,
            "width": null
          }
        },
        "5abad0dd84894429ad150ace975da1e0": {
          "model_module": "@jupyter-widgets/controls",
          "model_name": "DescriptionStyleModel",
          "model_module_version": "1.5.0",
          "state": {
            "_model_module": "@jupyter-widgets/controls",
            "_model_module_version": "1.5.0",
            "_model_name": "DescriptionStyleModel",
            "_view_count": null,
            "_view_module": "@jupyter-widgets/base",
            "_view_module_version": "1.2.0",
            "_view_name": "StyleView",
            "description_width": ""
          }
        },
        "370a19aafed64f7490ef9a3a3b0b51b1": {
          "model_module": "@jupyter-widgets/base",
          "model_name": "LayoutModel",
          "model_module_version": "1.2.0",
          "state": {
            "_model_module": "@jupyter-widgets/base",
            "_model_module_version": "1.2.0",
            "_model_name": "LayoutModel",
            "_view_count": null,
            "_view_module": "@jupyter-widgets/base",
            "_view_module_version": "1.2.0",
            "_view_name": "LayoutView",
            "align_content": null,
            "align_items": null,
            "align_self": null,
            "border": null,
            "bottom": null,
            "display": null,
            "flex": null,
            "flex_flow": null,
            "grid_area": null,
            "grid_auto_columns": null,
            "grid_auto_flow": null,
            "grid_auto_rows": null,
            "grid_column": null,
            "grid_gap": null,
            "grid_row": null,
            "grid_template_areas": null,
            "grid_template_columns": null,
            "grid_template_rows": null,
            "height": null,
            "justify_content": null,
            "justify_items": null,
            "left": null,
            "margin": null,
            "max_height": null,
            "max_width": null,
            "min_height": null,
            "min_width": null,
            "object_fit": null,
            "object_position": null,
            "order": null,
            "overflow": null,
            "overflow_x": null,
            "overflow_y": null,
            "padding": null,
            "right": null,
            "top": null,
            "visibility": null,
            "width": null
          }
        },
        "6756d57fdebb4496843f50e3fa694c02": {
          "model_module": "@jupyter-widgets/controls",
          "model_name": "ProgressStyleModel",
          "model_module_version": "1.5.0",
          "state": {
            "_model_module": "@jupyter-widgets/controls",
            "_model_module_version": "1.5.0",
            "_model_name": "ProgressStyleModel",
            "_view_count": null,
            "_view_module": "@jupyter-widgets/base",
            "_view_module_version": "1.2.0",
            "_view_name": "StyleView",
            "bar_color": null,
            "description_width": ""
          }
        },
        "baf20a0b36ae4a1a90ce465b04bc0ffe": {
          "model_module": "@jupyter-widgets/base",
          "model_name": "LayoutModel",
          "model_module_version": "1.2.0",
          "state": {
            "_model_module": "@jupyter-widgets/base",
            "_model_module_version": "1.2.0",
            "_model_name": "LayoutModel",
            "_view_count": null,
            "_view_module": "@jupyter-widgets/base",
            "_view_module_version": "1.2.0",
            "_view_name": "LayoutView",
            "align_content": null,
            "align_items": null,
            "align_self": null,
            "border": null,
            "bottom": null,
            "display": null,
            "flex": null,
            "flex_flow": null,
            "grid_area": null,
            "grid_auto_columns": null,
            "grid_auto_flow": null,
            "grid_auto_rows": null,
            "grid_column": null,
            "grid_gap": null,
            "grid_row": null,
            "grid_template_areas": null,
            "grid_template_columns": null,
            "grid_template_rows": null,
            "height": null,
            "justify_content": null,
            "justify_items": null,
            "left": null,
            "margin": null,
            "max_height": null,
            "max_width": null,
            "min_height": null,
            "min_width": null,
            "object_fit": null,
            "object_position": null,
            "order": null,
            "overflow": null,
            "overflow_x": null,
            "overflow_y": null,
            "padding": null,
            "right": null,
            "top": null,
            "visibility": null,
            "width": null
          }
        },
        "358b8d4f250d475e93c2792fd4d60b86": {
          "model_module": "@jupyter-widgets/controls",
          "model_name": "DescriptionStyleModel",
          "model_module_version": "1.5.0",
          "state": {
            "_model_module": "@jupyter-widgets/controls",
            "_model_module_version": "1.5.0",
            "_model_name": "DescriptionStyleModel",
            "_view_count": null,
            "_view_module": "@jupyter-widgets/base",
            "_view_module_version": "1.2.0",
            "_view_name": "StyleView",
            "description_width": ""
          }
        },
        "527e3105164b4c00aba73979a006f8dd": {
          "model_module": "@jupyter-widgets/controls",
          "model_name": "HBoxModel",
          "model_module_version": "1.5.0",
          "state": {
            "_dom_classes": [],
            "_model_module": "@jupyter-widgets/controls",
            "_model_module_version": "1.5.0",
            "_model_name": "HBoxModel",
            "_view_count": null,
            "_view_module": "@jupyter-widgets/controls",
            "_view_module_version": "1.5.0",
            "_view_name": "HBoxView",
            "box_style": "",
            "children": [
              "IPY_MODEL_192e566a57c54087902e3ec1671f4af2",
              "IPY_MODEL_ddfbd11704e64b0a8ee895acf83c1336",
              "IPY_MODEL_5cb9a7cc7a16455ebbf63c2498be14b4"
            ],
            "layout": "IPY_MODEL_c404354c21fe425283ac8c0e92fd6164"
          }
        },
        "192e566a57c54087902e3ec1671f4af2": {
          "model_module": "@jupyter-widgets/controls",
          "model_name": "HTMLModel",
          "model_module_version": "1.5.0",
          "state": {
            "_dom_classes": [],
            "_model_module": "@jupyter-widgets/controls",
            "_model_module_version": "1.5.0",
            "_model_name": "HTMLModel",
            "_view_count": null,
            "_view_module": "@jupyter-widgets/controls",
            "_view_module_version": "1.5.0",
            "_view_name": "HTMLView",
            "description": "",
            "description_tooltip": null,
            "layout": "IPY_MODEL_9c55158d22ba4813b0bef7e34340d1b2",
            "placeholder": "​",
            "style": "IPY_MODEL_ff3a8b111b424917810ea1a5e4148bbf",
            "value": "100%"
          }
        },
        "ddfbd11704e64b0a8ee895acf83c1336": {
          "model_module": "@jupyter-widgets/controls",
          "model_name": "FloatProgressModel",
          "model_module_version": "1.5.0",
          "state": {
            "_dom_classes": [],
            "_model_module": "@jupyter-widgets/controls",
            "_model_module_version": "1.5.0",
            "_model_name": "FloatProgressModel",
            "_view_count": null,
            "_view_module": "@jupyter-widgets/controls",
            "_view_module_version": "1.5.0",
            "_view_name": "ProgressView",
            "bar_style": "",
            "description": "",
            "description_tooltip": null,
            "layout": "IPY_MODEL_d3b7bb76fd8e4a3c89b2563cd4cc2254",
            "max": 22184,
            "min": 0,
            "orientation": "horizontal",
            "style": "IPY_MODEL_7ced6e6fa59b49dcb66949a84c837929",
            "value": 22183
          }
        },
        "5cb9a7cc7a16455ebbf63c2498be14b4": {
          "model_module": "@jupyter-widgets/controls",
          "model_name": "HTMLModel",
          "model_module_version": "1.5.0",
          "state": {
            "_dom_classes": [],
            "_model_module": "@jupyter-widgets/controls",
            "_model_module_version": "1.5.0",
            "_model_name": "HTMLModel",
            "_view_count": null,
            "_view_module": "@jupyter-widgets/controls",
            "_view_module_version": "1.5.0",
            "_view_name": "HTMLView",
            "description": "",
            "description_tooltip": null,
            "layout": "IPY_MODEL_dca839413a964415a2a357358a19ab1e",
            "placeholder": "​",
            "style": "IPY_MODEL_72eb5867c1ef4642828b7f662db0714b",
            "value": " 22183/22184 [1:05:26&lt;00:00,  5.80it/s]"
          }
        },
        "c404354c21fe425283ac8c0e92fd6164": {
          "model_module": "@jupyter-widgets/base",
          "model_name": "LayoutModel",
          "model_module_version": "1.2.0",
          "state": {
            "_model_module": "@jupyter-widgets/base",
            "_model_module_version": "1.2.0",
            "_model_name": "LayoutModel",
            "_view_count": null,
            "_view_module": "@jupyter-widgets/base",
            "_view_module_version": "1.2.0",
            "_view_name": "LayoutView",
            "align_content": null,
            "align_items": null,
            "align_self": null,
            "border": null,
            "bottom": null,
            "display": null,
            "flex": null,
            "flex_flow": null,
            "grid_area": null,
            "grid_auto_columns": null,
            "grid_auto_flow": null,
            "grid_auto_rows": null,
            "grid_column": null,
            "grid_gap": null,
            "grid_row": null,
            "grid_template_areas": null,
            "grid_template_columns": null,
            "grid_template_rows": null,
            "height": null,
            "justify_content": null,
            "justify_items": null,
            "left": null,
            "margin": null,
            "max_height": null,
            "max_width": null,
            "min_height": null,
            "min_width": null,
            "object_fit": null,
            "object_position": null,
            "order": null,
            "overflow": null,
            "overflow_x": null,
            "overflow_y": null,
            "padding": null,
            "right": null,
            "top": null,
            "visibility": null,
            "width": null
          }
        },
        "9c55158d22ba4813b0bef7e34340d1b2": {
          "model_module": "@jupyter-widgets/base",
          "model_name": "LayoutModel",
          "model_module_version": "1.2.0",
          "state": {
            "_model_module": "@jupyter-widgets/base",
            "_model_module_version": "1.2.0",
            "_model_name": "LayoutModel",
            "_view_count": null,
            "_view_module": "@jupyter-widgets/base",
            "_view_module_version": "1.2.0",
            "_view_name": "LayoutView",
            "align_content": null,
            "align_items": null,
            "align_self": null,
            "border": null,
            "bottom": null,
            "display": null,
            "flex": null,
            "flex_flow": null,
            "grid_area": null,
            "grid_auto_columns": null,
            "grid_auto_flow": null,
            "grid_auto_rows": null,
            "grid_column": null,
            "grid_gap": null,
            "grid_row": null,
            "grid_template_areas": null,
            "grid_template_columns": null,
            "grid_template_rows": null,
            "height": null,
            "justify_content": null,
            "justify_items": null,
            "left": null,
            "margin": null,
            "max_height": null,
            "max_width": null,
            "min_height": null,
            "min_width": null,
            "object_fit": null,
            "object_position": null,
            "order": null,
            "overflow": null,
            "overflow_x": null,
            "overflow_y": null,
            "padding": null,
            "right": null,
            "top": null,
            "visibility": null,
            "width": null
          }
        },
        "ff3a8b111b424917810ea1a5e4148bbf": {
          "model_module": "@jupyter-widgets/controls",
          "model_name": "DescriptionStyleModel",
          "model_module_version": "1.5.0",
          "state": {
            "_model_module": "@jupyter-widgets/controls",
            "_model_module_version": "1.5.0",
            "_model_name": "DescriptionStyleModel",
            "_view_count": null,
            "_view_module": "@jupyter-widgets/base",
            "_view_module_version": "1.2.0",
            "_view_name": "StyleView",
            "description_width": ""
          }
        },
        "d3b7bb76fd8e4a3c89b2563cd4cc2254": {
          "model_module": "@jupyter-widgets/base",
          "model_name": "LayoutModel",
          "model_module_version": "1.2.0",
          "state": {
            "_model_module": "@jupyter-widgets/base",
            "_model_module_version": "1.2.0",
            "_model_name": "LayoutModel",
            "_view_count": null,
            "_view_module": "@jupyter-widgets/base",
            "_view_module_version": "1.2.0",
            "_view_name": "LayoutView",
            "align_content": null,
            "align_items": null,
            "align_self": null,
            "border": null,
            "bottom": null,
            "display": null,
            "flex": null,
            "flex_flow": null,
            "grid_area": null,
            "grid_auto_columns": null,
            "grid_auto_flow": null,
            "grid_auto_rows": null,
            "grid_column": null,
            "grid_gap": null,
            "grid_row": null,
            "grid_template_areas": null,
            "grid_template_columns": null,
            "grid_template_rows": null,
            "height": null,
            "justify_content": null,
            "justify_items": null,
            "left": null,
            "margin": null,
            "max_height": null,
            "max_width": null,
            "min_height": null,
            "min_width": null,
            "object_fit": null,
            "object_position": null,
            "order": null,
            "overflow": null,
            "overflow_x": null,
            "overflow_y": null,
            "padding": null,
            "right": null,
            "top": null,
            "visibility": null,
            "width": null
          }
        },
        "7ced6e6fa59b49dcb66949a84c837929": {
          "model_module": "@jupyter-widgets/controls",
          "model_name": "ProgressStyleModel",
          "model_module_version": "1.5.0",
          "state": {
            "_model_module": "@jupyter-widgets/controls",
            "_model_module_version": "1.5.0",
            "_model_name": "ProgressStyleModel",
            "_view_count": null,
            "_view_module": "@jupyter-widgets/base",
            "_view_module_version": "1.2.0",
            "_view_name": "StyleView",
            "bar_color": null,
            "description_width": ""
          }
        },
        "dca839413a964415a2a357358a19ab1e": {
          "model_module": "@jupyter-widgets/base",
          "model_name": "LayoutModel",
          "model_module_version": "1.2.0",
          "state": {
            "_model_module": "@jupyter-widgets/base",
            "_model_module_version": "1.2.0",
            "_model_name": "LayoutModel",
            "_view_count": null,
            "_view_module": "@jupyter-widgets/base",
            "_view_module_version": "1.2.0",
            "_view_name": "LayoutView",
            "align_content": null,
            "align_items": null,
            "align_self": null,
            "border": null,
            "bottom": null,
            "display": null,
            "flex": null,
            "flex_flow": null,
            "grid_area": null,
            "grid_auto_columns": null,
            "grid_auto_flow": null,
            "grid_auto_rows": null,
            "grid_column": null,
            "grid_gap": null,
            "grid_row": null,
            "grid_template_areas": null,
            "grid_template_columns": null,
            "grid_template_rows": null,
            "height": null,
            "justify_content": null,
            "justify_items": null,
            "left": null,
            "margin": null,
            "max_height": null,
            "max_width": null,
            "min_height": null,
            "min_width": null,
            "object_fit": null,
            "object_position": null,
            "order": null,
            "overflow": null,
            "overflow_x": null,
            "overflow_y": null,
            "padding": null,
            "right": null,
            "top": null,
            "visibility": null,
            "width": null
          }
        },
        "72eb5867c1ef4642828b7f662db0714b": {
          "model_module": "@jupyter-widgets/controls",
          "model_name": "DescriptionStyleModel",
          "model_module_version": "1.5.0",
          "state": {
            "_model_module": "@jupyter-widgets/controls",
            "_model_module_version": "1.5.0",
            "_model_name": "DescriptionStyleModel",
            "_view_count": null,
            "_view_module": "@jupyter-widgets/base",
            "_view_module_version": "1.2.0",
            "_view_name": "StyleView",
            "description_width": ""
          }
        },
        "cfcf4a6f97474ffe84ef4a7b64481fe2": {
          "model_module": "@jupyter-widgets/controls",
          "model_name": "HBoxModel",
          "model_module_version": "1.5.0",
          "state": {
            "_dom_classes": [],
            "_model_module": "@jupyter-widgets/controls",
            "_model_module_version": "1.5.0",
            "_model_name": "HBoxModel",
            "_view_count": null,
            "_view_module": "@jupyter-widgets/controls",
            "_view_module_version": "1.5.0",
            "_view_name": "HBoxView",
            "box_style": "",
            "children": [
              "IPY_MODEL_c40c25d3a38b47d9a141bf3b7f5df7eb",
              "IPY_MODEL_690a67d3d0b44174b40bae7606f0c528",
              "IPY_MODEL_0d30faa8339b426c91ad017acbc5992d"
            ],
            "layout": "IPY_MODEL_fe713f5df8174ad5a805cb47a458eae8"
          }
        },
        "c40c25d3a38b47d9a141bf3b7f5df7eb": {
          "model_module": "@jupyter-widgets/controls",
          "model_name": "HTMLModel",
          "model_module_version": "1.5.0",
          "state": {
            "_dom_classes": [],
            "_model_module": "@jupyter-widgets/controls",
            "_model_module_version": "1.5.0",
            "_model_name": "HTMLModel",
            "_view_count": null,
            "_view_module": "@jupyter-widgets/controls",
            "_view_module_version": "1.5.0",
            "_view_name": "HTMLView",
            "description": "",
            "description_tooltip": null,
            "layout": "IPY_MODEL_b81688217ce446e8aefd3e7438bd0594",
            "placeholder": "​",
            "style": "IPY_MODEL_2041d3fa96b94fa9a833638b7269086a",
            "value": "100%"
          }
        },
        "690a67d3d0b44174b40bae7606f0c528": {
          "model_module": "@jupyter-widgets/controls",
          "model_name": "FloatProgressModel",
          "model_module_version": "1.5.0",
          "state": {
            "_dom_classes": [],
            "_model_module": "@jupyter-widgets/controls",
            "_model_module_version": "1.5.0",
            "_model_name": "FloatProgressModel",
            "_view_count": null,
            "_view_module": "@jupyter-widgets/controls",
            "_view_module_version": "1.5.0",
            "_view_name": "ProgressView",
            "bar_style": "success",
            "description": "",
            "description_tooltip": null,
            "layout": "IPY_MODEL_427d7d8d7b9543b88878880c97e8e126",
            "max": 1353,
            "min": 0,
            "orientation": "horizontal",
            "style": "IPY_MODEL_bca060e4862f4927aa0a5f09c757cb7c",
            "value": 1353
          }
        },
        "0d30faa8339b426c91ad017acbc5992d": {
          "model_module": "@jupyter-widgets/controls",
          "model_name": "HTMLModel",
          "model_module_version": "1.5.0",
          "state": {
            "_dom_classes": [],
            "_model_module": "@jupyter-widgets/controls",
            "_model_module_version": "1.5.0",
            "_model_name": "HTMLModel",
            "_view_count": null,
            "_view_module": "@jupyter-widgets/controls",
            "_view_module_version": "1.5.0",
            "_view_name": "HTMLView",
            "description": "",
            "description_tooltip": null,
            "layout": "IPY_MODEL_a3f3ed53a6aa4fe59458cf65c59478a4",
            "placeholder": "​",
            "style": "IPY_MODEL_f917defcecdb48ed9c6d3d689c8355cc",
            "value": " 1353/1353 [00:58&lt;00:00, 22.89it/s]"
          }
        },
        "fe713f5df8174ad5a805cb47a458eae8": {
          "model_module": "@jupyter-widgets/base",
          "model_name": "LayoutModel",
          "model_module_version": "1.2.0",
          "state": {
            "_model_module": "@jupyter-widgets/base",
            "_model_module_version": "1.2.0",
            "_model_name": "LayoutModel",
            "_view_count": null,
            "_view_module": "@jupyter-widgets/base",
            "_view_module_version": "1.2.0",
            "_view_name": "LayoutView",
            "align_content": null,
            "align_items": null,
            "align_self": null,
            "border": null,
            "bottom": null,
            "display": null,
            "flex": null,
            "flex_flow": null,
            "grid_area": null,
            "grid_auto_columns": null,
            "grid_auto_flow": null,
            "grid_auto_rows": null,
            "grid_column": null,
            "grid_gap": null,
            "grid_row": null,
            "grid_template_areas": null,
            "grid_template_columns": null,
            "grid_template_rows": null,
            "height": null,
            "justify_content": null,
            "justify_items": null,
            "left": null,
            "margin": null,
            "max_height": null,
            "max_width": null,
            "min_height": null,
            "min_width": null,
            "object_fit": null,
            "object_position": null,
            "order": null,
            "overflow": null,
            "overflow_x": null,
            "overflow_y": null,
            "padding": null,
            "right": null,
            "top": null,
            "visibility": null,
            "width": null
          }
        },
        "b81688217ce446e8aefd3e7438bd0594": {
          "model_module": "@jupyter-widgets/base",
          "model_name": "LayoutModel",
          "model_module_version": "1.2.0",
          "state": {
            "_model_module": "@jupyter-widgets/base",
            "_model_module_version": "1.2.0",
            "_model_name": "LayoutModel",
            "_view_count": null,
            "_view_module": "@jupyter-widgets/base",
            "_view_module_version": "1.2.0",
            "_view_name": "LayoutView",
            "align_content": null,
            "align_items": null,
            "align_self": null,
            "border": null,
            "bottom": null,
            "display": null,
            "flex": null,
            "flex_flow": null,
            "grid_area": null,
            "grid_auto_columns": null,
            "grid_auto_flow": null,
            "grid_auto_rows": null,
            "grid_column": null,
            "grid_gap": null,
            "grid_row": null,
            "grid_template_areas": null,
            "grid_template_columns": null,
            "grid_template_rows": null,
            "height": null,
            "justify_content": null,
            "justify_items": null,
            "left": null,
            "margin": null,
            "max_height": null,
            "max_width": null,
            "min_height": null,
            "min_width": null,
            "object_fit": null,
            "object_position": null,
            "order": null,
            "overflow": null,
            "overflow_x": null,
            "overflow_y": null,
            "padding": null,
            "right": null,
            "top": null,
            "visibility": null,
            "width": null
          }
        },
        "2041d3fa96b94fa9a833638b7269086a": {
          "model_module": "@jupyter-widgets/controls",
          "model_name": "DescriptionStyleModel",
          "model_module_version": "1.5.0",
          "state": {
            "_model_module": "@jupyter-widgets/controls",
            "_model_module_version": "1.5.0",
            "_model_name": "DescriptionStyleModel",
            "_view_count": null,
            "_view_module": "@jupyter-widgets/base",
            "_view_module_version": "1.2.0",
            "_view_name": "StyleView",
            "description_width": ""
          }
        },
        "427d7d8d7b9543b88878880c97e8e126": {
          "model_module": "@jupyter-widgets/base",
          "model_name": "LayoutModel",
          "model_module_version": "1.2.0",
          "state": {
            "_model_module": "@jupyter-widgets/base",
            "_model_module_version": "1.2.0",
            "_model_name": "LayoutModel",
            "_view_count": null,
            "_view_module": "@jupyter-widgets/base",
            "_view_module_version": "1.2.0",
            "_view_name": "LayoutView",
            "align_content": null,
            "align_items": null,
            "align_self": null,
            "border": null,
            "bottom": null,
            "display": null,
            "flex": null,
            "flex_flow": null,
            "grid_area": null,
            "grid_auto_columns": null,
            "grid_auto_flow": null,
            "grid_auto_rows": null,
            "grid_column": null,
            "grid_gap": null,
            "grid_row": null,
            "grid_template_areas": null,
            "grid_template_columns": null,
            "grid_template_rows": null,
            "height": null,
            "justify_content": null,
            "justify_items": null,
            "left": null,
            "margin": null,
            "max_height": null,
            "max_width": null,
            "min_height": null,
            "min_width": null,
            "object_fit": null,
            "object_position": null,
            "order": null,
            "overflow": null,
            "overflow_x": null,
            "overflow_y": null,
            "padding": null,
            "right": null,
            "top": null,
            "visibility": null,
            "width": null
          }
        },
        "bca060e4862f4927aa0a5f09c757cb7c": {
          "model_module": "@jupyter-widgets/controls",
          "model_name": "ProgressStyleModel",
          "model_module_version": "1.5.0",
          "state": {
            "_model_module": "@jupyter-widgets/controls",
            "_model_module_version": "1.5.0",
            "_model_name": "ProgressStyleModel",
            "_view_count": null,
            "_view_module": "@jupyter-widgets/base",
            "_view_module_version": "1.2.0",
            "_view_name": "StyleView",
            "bar_color": null,
            "description_width": ""
          }
        },
        "a3f3ed53a6aa4fe59458cf65c59478a4": {
          "model_module": "@jupyter-widgets/base",
          "model_name": "LayoutModel",
          "model_module_version": "1.2.0",
          "state": {
            "_model_module": "@jupyter-widgets/base",
            "_model_module_version": "1.2.0",
            "_model_name": "LayoutModel",
            "_view_count": null,
            "_view_module": "@jupyter-widgets/base",
            "_view_module_version": "1.2.0",
            "_view_name": "LayoutView",
            "align_content": null,
            "align_items": null,
            "align_self": null,
            "border": null,
            "bottom": null,
            "display": null,
            "flex": null,
            "flex_flow": null,
            "grid_area": null,
            "grid_auto_columns": null,
            "grid_auto_flow": null,
            "grid_auto_rows": null,
            "grid_column": null,
            "grid_gap": null,
            "grid_row": null,
            "grid_template_areas": null,
            "grid_template_columns": null,
            "grid_template_rows": null,
            "height": null,
            "justify_content": null,
            "justify_items": null,
            "left": null,
            "margin": null,
            "max_height": null,
            "max_width": null,
            "min_height": null,
            "min_width": null,
            "object_fit": null,
            "object_position": null,
            "order": null,
            "overflow": null,
            "overflow_x": null,
            "overflow_y": null,
            "padding": null,
            "right": null,
            "top": null,
            "visibility": null,
            "width": null
          }
        },
        "f917defcecdb48ed9c6d3d689c8355cc": {
          "model_module": "@jupyter-widgets/controls",
          "model_name": "DescriptionStyleModel",
          "model_module_version": "1.5.0",
          "state": {
            "_model_module": "@jupyter-widgets/controls",
            "_model_module_version": "1.5.0",
            "_model_name": "DescriptionStyleModel",
            "_view_count": null,
            "_view_module": "@jupyter-widgets/base",
            "_view_module_version": "1.2.0",
            "_view_name": "StyleView",
            "description_width": ""
          }
        },
        "253ba2c5378643768244e5e06523f066": {
          "model_module": "@jupyter-widgets/controls",
          "model_name": "HBoxModel",
          "model_module_version": "1.5.0",
          "state": {
            "_dom_classes": [],
            "_model_module": "@jupyter-widgets/controls",
            "_model_module_version": "1.5.0",
            "_model_name": "HBoxModel",
            "_view_count": null,
            "_view_module": "@jupyter-widgets/controls",
            "_view_module_version": "1.5.0",
            "_view_name": "HBoxView",
            "box_style": "",
            "children": [
              "IPY_MODEL_3b491c1125b74737a5c4336e08022126",
              "IPY_MODEL_dbed8f86730d4fe9835994d5347f8dec",
              "IPY_MODEL_aa2c3656ae804ff3a4dbbdb06cdacb74"
            ],
            "layout": "IPY_MODEL_9b59e9140cf547c38915e9774d803a49"
          }
        },
        "3b491c1125b74737a5c4336e08022126": {
          "model_module": "@jupyter-widgets/controls",
          "model_name": "HTMLModel",
          "model_module_version": "1.5.0",
          "state": {
            "_dom_classes": [],
            "_model_module": "@jupyter-widgets/controls",
            "_model_module_version": "1.5.0",
            "_model_name": "HTMLModel",
            "_view_count": null,
            "_view_module": "@jupyter-widgets/controls",
            "_view_module_version": "1.5.0",
            "_view_name": "HTMLView",
            "description": "",
            "description_tooltip": null,
            "layout": "IPY_MODEL_c88c4569620a4de6b7b81a308b16a0d7",
            "placeholder": "​",
            "style": "IPY_MODEL_dcd45f72c5ce4a5ea88102d2b73993bc",
            "value": "100%"
          }
        },
        "dbed8f86730d4fe9835994d5347f8dec": {
          "model_module": "@jupyter-widgets/controls",
          "model_name": "FloatProgressModel",
          "model_module_version": "1.5.0",
          "state": {
            "_dom_classes": [],
            "_model_module": "@jupyter-widgets/controls",
            "_model_module_version": "1.5.0",
            "_model_name": "FloatProgressModel",
            "_view_count": null,
            "_view_module": "@jupyter-widgets/controls",
            "_view_module_version": "1.5.0",
            "_view_name": "ProgressView",
            "bar_style": "success",
            "description": "",
            "description_tooltip": null,
            "layout": "IPY_MODEL_80fd1c27ffe3455d832c70143f3b928b",
            "max": 10570,
            "min": 0,
            "orientation": "horizontal",
            "style": "IPY_MODEL_23c184185b1f43c19266e70c70d85623",
            "value": 10570
          }
        },
        "aa2c3656ae804ff3a4dbbdb06cdacb74": {
          "model_module": "@jupyter-widgets/controls",
          "model_name": "HTMLModel",
          "model_module_version": "1.5.0",
          "state": {
            "_dom_classes": [],
            "_model_module": "@jupyter-widgets/controls",
            "_model_module_version": "1.5.0",
            "_model_name": "HTMLModel",
            "_view_count": null,
            "_view_module": "@jupyter-widgets/controls",
            "_view_module_version": "1.5.0",
            "_view_name": "HTMLView",
            "description": "",
            "description_tooltip": null,
            "layout": "IPY_MODEL_b8bc76c15e3b4a14866f577e89b1a024",
            "placeholder": "​",
            "style": "IPY_MODEL_5d6d71360b9a4a85a90cac01b0c82e27",
            "value": " 10570/10570 [00:21&lt;00:00, 491.74it/s]"
          }
        },
        "9b59e9140cf547c38915e9774d803a49": {
          "model_module": "@jupyter-widgets/base",
          "model_name": "LayoutModel",
          "model_module_version": "1.2.0",
          "state": {
            "_model_module": "@jupyter-widgets/base",
            "_model_module_version": "1.2.0",
            "_model_name": "LayoutModel",
            "_view_count": null,
            "_view_module": "@jupyter-widgets/base",
            "_view_module_version": "1.2.0",
            "_view_name": "LayoutView",
            "align_content": null,
            "align_items": null,
            "align_self": null,
            "border": null,
            "bottom": null,
            "display": null,
            "flex": null,
            "flex_flow": null,
            "grid_area": null,
            "grid_auto_columns": null,
            "grid_auto_flow": null,
            "grid_auto_rows": null,
            "grid_column": null,
            "grid_gap": null,
            "grid_row": null,
            "grid_template_areas": null,
            "grid_template_columns": null,
            "grid_template_rows": null,
            "height": null,
            "justify_content": null,
            "justify_items": null,
            "left": null,
            "margin": null,
            "max_height": null,
            "max_width": null,
            "min_height": null,
            "min_width": null,
            "object_fit": null,
            "object_position": null,
            "order": null,
            "overflow": null,
            "overflow_x": null,
            "overflow_y": null,
            "padding": null,
            "right": null,
            "top": null,
            "visibility": null,
            "width": null
          }
        },
        "c88c4569620a4de6b7b81a308b16a0d7": {
          "model_module": "@jupyter-widgets/base",
          "model_name": "LayoutModel",
          "model_module_version": "1.2.0",
          "state": {
            "_model_module": "@jupyter-widgets/base",
            "_model_module_version": "1.2.0",
            "_model_name": "LayoutModel",
            "_view_count": null,
            "_view_module": "@jupyter-widgets/base",
            "_view_module_version": "1.2.0",
            "_view_name": "LayoutView",
            "align_content": null,
            "align_items": null,
            "align_self": null,
            "border": null,
            "bottom": null,
            "display": null,
            "flex": null,
            "flex_flow": null,
            "grid_area": null,
            "grid_auto_columns": null,
            "grid_auto_flow": null,
            "grid_auto_rows": null,
            "grid_column": null,
            "grid_gap": null,
            "grid_row": null,
            "grid_template_areas": null,
            "grid_template_columns": null,
            "grid_template_rows": null,
            "height": null,
            "justify_content": null,
            "justify_items": null,
            "left": null,
            "margin": null,
            "max_height": null,
            "max_width": null,
            "min_height": null,
            "min_width": null,
            "object_fit": null,
            "object_position": null,
            "order": null,
            "overflow": null,
            "overflow_x": null,
            "overflow_y": null,
            "padding": null,
            "right": null,
            "top": null,
            "visibility": null,
            "width": null
          }
        },
        "dcd45f72c5ce4a5ea88102d2b73993bc": {
          "model_module": "@jupyter-widgets/controls",
          "model_name": "DescriptionStyleModel",
          "model_module_version": "1.5.0",
          "state": {
            "_model_module": "@jupyter-widgets/controls",
            "_model_module_version": "1.5.0",
            "_model_name": "DescriptionStyleModel",
            "_view_count": null,
            "_view_module": "@jupyter-widgets/base",
            "_view_module_version": "1.2.0",
            "_view_name": "StyleView",
            "description_width": ""
          }
        },
        "80fd1c27ffe3455d832c70143f3b928b": {
          "model_module": "@jupyter-widgets/base",
          "model_name": "LayoutModel",
          "model_module_version": "1.2.0",
          "state": {
            "_model_module": "@jupyter-widgets/base",
            "_model_module_version": "1.2.0",
            "_model_name": "LayoutModel",
            "_view_count": null,
            "_view_module": "@jupyter-widgets/base",
            "_view_module_version": "1.2.0",
            "_view_name": "LayoutView",
            "align_content": null,
            "align_items": null,
            "align_self": null,
            "border": null,
            "bottom": null,
            "display": null,
            "flex": null,
            "flex_flow": null,
            "grid_area": null,
            "grid_auto_columns": null,
            "grid_auto_flow": null,
            "grid_auto_rows": null,
            "grid_column": null,
            "grid_gap": null,
            "grid_row": null,
            "grid_template_areas": null,
            "grid_template_columns": null,
            "grid_template_rows": null,
            "height": null,
            "justify_content": null,
            "justify_items": null,
            "left": null,
            "margin": null,
            "max_height": null,
            "max_width": null,
            "min_height": null,
            "min_width": null,
            "object_fit": null,
            "object_position": null,
            "order": null,
            "overflow": null,
            "overflow_x": null,
            "overflow_y": null,
            "padding": null,
            "right": null,
            "top": null,
            "visibility": null,
            "width": null
          }
        },
        "23c184185b1f43c19266e70c70d85623": {
          "model_module": "@jupyter-widgets/controls",
          "model_name": "ProgressStyleModel",
          "model_module_version": "1.5.0",
          "state": {
            "_model_module": "@jupyter-widgets/controls",
            "_model_module_version": "1.5.0",
            "_model_name": "ProgressStyleModel",
            "_view_count": null,
            "_view_module": "@jupyter-widgets/base",
            "_view_module_version": "1.2.0",
            "_view_name": "StyleView",
            "bar_color": null,
            "description_width": ""
          }
        },
        "b8bc76c15e3b4a14866f577e89b1a024": {
          "model_module": "@jupyter-widgets/base",
          "model_name": "LayoutModel",
          "model_module_version": "1.2.0",
          "state": {
            "_model_module": "@jupyter-widgets/base",
            "_model_module_version": "1.2.0",
            "_model_name": "LayoutModel",
            "_view_count": null,
            "_view_module": "@jupyter-widgets/base",
            "_view_module_version": "1.2.0",
            "_view_name": "LayoutView",
            "align_content": null,
            "align_items": null,
            "align_self": null,
            "border": null,
            "bottom": null,
            "display": null,
            "flex": null,
            "flex_flow": null,
            "grid_area": null,
            "grid_auto_columns": null,
            "grid_auto_flow": null,
            "grid_auto_rows": null,
            "grid_column": null,
            "grid_gap": null,
            "grid_row": null,
            "grid_template_areas": null,
            "grid_template_columns": null,
            "grid_template_rows": null,
            "height": null,
            "justify_content": null,
            "justify_items": null,
            "left": null,
            "margin": null,
            "max_height": null,
            "max_width": null,
            "min_height": null,
            "min_width": null,
            "object_fit": null,
            "object_position": null,
            "order": null,
            "overflow": null,
            "overflow_x": null,
            "overflow_y": null,
            "padding": null,
            "right": null,
            "top": null,
            "visibility": null,
            "width": null
          }
        },
        "5d6d71360b9a4a85a90cac01b0c82e27": {
          "model_module": "@jupyter-widgets/controls",
          "model_name": "DescriptionStyleModel",
          "model_module_version": "1.5.0",
          "state": {
            "_model_module": "@jupyter-widgets/controls",
            "_model_module_version": "1.5.0",
            "_model_name": "DescriptionStyleModel",
            "_view_count": null,
            "_view_module": "@jupyter-widgets/base",
            "_view_module_version": "1.2.0",
            "_view_name": "StyleView",
            "description_width": ""
          }
        },
        "ac9bf500279e4a24b62204e40d03163a": {
          "model_module": "@jupyter-widgets/controls",
          "model_name": "HBoxModel",
          "model_module_version": "1.5.0",
          "state": {
            "_dom_classes": [],
            "_model_module": "@jupyter-widgets/controls",
            "_model_module_version": "1.5.0",
            "_model_name": "HBoxModel",
            "_view_count": null,
            "_view_module": "@jupyter-widgets/controls",
            "_view_module_version": "1.5.0",
            "_view_name": "HBoxView",
            "box_style": "",
            "children": [
              "IPY_MODEL_518455cfa7184c5eaffafd3ee27934c1",
              "IPY_MODEL_9eca75305bff412a80380a461ce40cf7",
              "IPY_MODEL_c0866ab0a8e047098b664652f301e204"
            ],
            "layout": "IPY_MODEL_753c056e161d47628f4b252df5a5a53a"
          }
        },
        "518455cfa7184c5eaffafd3ee27934c1": {
          "model_module": "@jupyter-widgets/controls",
          "model_name": "HTMLModel",
          "model_module_version": "1.5.0",
          "state": {
            "_dom_classes": [],
            "_model_module": "@jupyter-widgets/controls",
            "_model_module_version": "1.5.0",
            "_model_name": "HTMLModel",
            "_view_count": null,
            "_view_module": "@jupyter-widgets/controls",
            "_view_module_version": "1.5.0",
            "_view_name": "HTMLView",
            "description": "",
            "description_tooltip": null,
            "layout": "IPY_MODEL_9be66f4b3803436f95914ed997c4aded",
            "placeholder": "​",
            "style": "IPY_MODEL_02460e1789da4530b53d331c3dbfb87d",
            "value": "100%"
          }
        },
        "9eca75305bff412a80380a461ce40cf7": {
          "model_module": "@jupyter-widgets/controls",
          "model_name": "FloatProgressModel",
          "model_module_version": "1.5.0",
          "state": {
            "_dom_classes": [],
            "_model_module": "@jupyter-widgets/controls",
            "_model_module_version": "1.5.0",
            "_model_name": "FloatProgressModel",
            "_view_count": null,
            "_view_module": "@jupyter-widgets/controls",
            "_view_module_version": "1.5.0",
            "_view_name": "ProgressView",
            "bar_style": "success",
            "description": "",
            "description_tooltip": null,
            "layout": "IPY_MODEL_adfae231ddfd4247b4a42afcc3493806",
            "max": 1353,
            "min": 0,
            "orientation": "horizontal",
            "style": "IPY_MODEL_57b848e31b0b4fad81501db8aca45b6c",
            "value": 1353
          }
        },
        "c0866ab0a8e047098b664652f301e204": {
          "model_module": "@jupyter-widgets/controls",
          "model_name": "HTMLModel",
          "model_module_version": "1.5.0",
          "state": {
            "_dom_classes": [],
            "_model_module": "@jupyter-widgets/controls",
            "_model_module_version": "1.5.0",
            "_model_name": "HTMLModel",
            "_view_count": null,
            "_view_module": "@jupyter-widgets/controls",
            "_view_module_version": "1.5.0",
            "_view_name": "HTMLView",
            "description": "",
            "description_tooltip": null,
            "layout": "IPY_MODEL_2684fb00204e4002a386c54ba447cf85",
            "placeholder": "​",
            "style": "IPY_MODEL_02503b1c4cad467ab45b4ea5e35c2e7f",
            "value": " 1353/1353 [00:58&lt;00:00, 23.06it/s]"
          }
        },
        "753c056e161d47628f4b252df5a5a53a": {
          "model_module": "@jupyter-widgets/base",
          "model_name": "LayoutModel",
          "model_module_version": "1.2.0",
          "state": {
            "_model_module": "@jupyter-widgets/base",
            "_model_module_version": "1.2.0",
            "_model_name": "LayoutModel",
            "_view_count": null,
            "_view_module": "@jupyter-widgets/base",
            "_view_module_version": "1.2.0",
            "_view_name": "LayoutView",
            "align_content": null,
            "align_items": null,
            "align_self": null,
            "border": null,
            "bottom": null,
            "display": null,
            "flex": null,
            "flex_flow": null,
            "grid_area": null,
            "grid_auto_columns": null,
            "grid_auto_flow": null,
            "grid_auto_rows": null,
            "grid_column": null,
            "grid_gap": null,
            "grid_row": null,
            "grid_template_areas": null,
            "grid_template_columns": null,
            "grid_template_rows": null,
            "height": null,
            "justify_content": null,
            "justify_items": null,
            "left": null,
            "margin": null,
            "max_height": null,
            "max_width": null,
            "min_height": null,
            "min_width": null,
            "object_fit": null,
            "object_position": null,
            "order": null,
            "overflow": null,
            "overflow_x": null,
            "overflow_y": null,
            "padding": null,
            "right": null,
            "top": null,
            "visibility": null,
            "width": null
          }
        },
        "9be66f4b3803436f95914ed997c4aded": {
          "model_module": "@jupyter-widgets/base",
          "model_name": "LayoutModel",
          "model_module_version": "1.2.0",
          "state": {
            "_model_module": "@jupyter-widgets/base",
            "_model_module_version": "1.2.0",
            "_model_name": "LayoutModel",
            "_view_count": null,
            "_view_module": "@jupyter-widgets/base",
            "_view_module_version": "1.2.0",
            "_view_name": "LayoutView",
            "align_content": null,
            "align_items": null,
            "align_self": null,
            "border": null,
            "bottom": null,
            "display": null,
            "flex": null,
            "flex_flow": null,
            "grid_area": null,
            "grid_auto_columns": null,
            "grid_auto_flow": null,
            "grid_auto_rows": null,
            "grid_column": null,
            "grid_gap": null,
            "grid_row": null,
            "grid_template_areas": null,
            "grid_template_columns": null,
            "grid_template_rows": null,
            "height": null,
            "justify_content": null,
            "justify_items": null,
            "left": null,
            "margin": null,
            "max_height": null,
            "max_width": null,
            "min_height": null,
            "min_width": null,
            "object_fit": null,
            "object_position": null,
            "order": null,
            "overflow": null,
            "overflow_x": null,
            "overflow_y": null,
            "padding": null,
            "right": null,
            "top": null,
            "visibility": null,
            "width": null
          }
        },
        "02460e1789da4530b53d331c3dbfb87d": {
          "model_module": "@jupyter-widgets/controls",
          "model_name": "DescriptionStyleModel",
          "model_module_version": "1.5.0",
          "state": {
            "_model_module": "@jupyter-widgets/controls",
            "_model_module_version": "1.5.0",
            "_model_name": "DescriptionStyleModel",
            "_view_count": null,
            "_view_module": "@jupyter-widgets/base",
            "_view_module_version": "1.2.0",
            "_view_name": "StyleView",
            "description_width": ""
          }
        },
        "adfae231ddfd4247b4a42afcc3493806": {
          "model_module": "@jupyter-widgets/base",
          "model_name": "LayoutModel",
          "model_module_version": "1.2.0",
          "state": {
            "_model_module": "@jupyter-widgets/base",
            "_model_module_version": "1.2.0",
            "_model_name": "LayoutModel",
            "_view_count": null,
            "_view_module": "@jupyter-widgets/base",
            "_view_module_version": "1.2.0",
            "_view_name": "LayoutView",
            "align_content": null,
            "align_items": null,
            "align_self": null,
            "border": null,
            "bottom": null,
            "display": null,
            "flex": null,
            "flex_flow": null,
            "grid_area": null,
            "grid_auto_columns": null,
            "grid_auto_flow": null,
            "grid_auto_rows": null,
            "grid_column": null,
            "grid_gap": null,
            "grid_row": null,
            "grid_template_areas": null,
            "grid_template_columns": null,
            "grid_template_rows": null,
            "height": null,
            "justify_content": null,
            "justify_items": null,
            "left": null,
            "margin": null,
            "max_height": null,
            "max_width": null,
            "min_height": null,
            "min_width": null,
            "object_fit": null,
            "object_position": null,
            "order": null,
            "overflow": null,
            "overflow_x": null,
            "overflow_y": null,
            "padding": null,
            "right": null,
            "top": null,
            "visibility": null,
            "width": null
          }
        },
        "57b848e31b0b4fad81501db8aca45b6c": {
          "model_module": "@jupyter-widgets/controls",
          "model_name": "ProgressStyleModel",
          "model_module_version": "1.5.0",
          "state": {
            "_model_module": "@jupyter-widgets/controls",
            "_model_module_version": "1.5.0",
            "_model_name": "ProgressStyleModel",
            "_view_count": null,
            "_view_module": "@jupyter-widgets/base",
            "_view_module_version": "1.2.0",
            "_view_name": "StyleView",
            "bar_color": null,
            "description_width": ""
          }
        },
        "2684fb00204e4002a386c54ba447cf85": {
          "model_module": "@jupyter-widgets/base",
          "model_name": "LayoutModel",
          "model_module_version": "1.2.0",
          "state": {
            "_model_module": "@jupyter-widgets/base",
            "_model_module_version": "1.2.0",
            "_model_name": "LayoutModel",
            "_view_count": null,
            "_view_module": "@jupyter-widgets/base",
            "_view_module_version": "1.2.0",
            "_view_name": "LayoutView",
            "align_content": null,
            "align_items": null,
            "align_self": null,
            "border": null,
            "bottom": null,
            "display": null,
            "flex": null,
            "flex_flow": null,
            "grid_area": null,
            "grid_auto_columns": null,
            "grid_auto_flow": null,
            "grid_auto_rows": null,
            "grid_column": null,
            "grid_gap": null,
            "grid_row": null,
            "grid_template_areas": null,
            "grid_template_columns": null,
            "grid_template_rows": null,
            "height": null,
            "justify_content": null,
            "justify_items": null,
            "left": null,
            "margin": null,
            "max_height": null,
            "max_width": null,
            "min_height": null,
            "min_width": null,
            "object_fit": null,
            "object_position": null,
            "order": null,
            "overflow": null,
            "overflow_x": null,
            "overflow_y": null,
            "padding": null,
            "right": null,
            "top": null,
            "visibility": null,
            "width": null
          }
        },
        "02503b1c4cad467ab45b4ea5e35c2e7f": {
          "model_module": "@jupyter-widgets/controls",
          "model_name": "DescriptionStyleModel",
          "model_module_version": "1.5.0",
          "state": {
            "_model_module": "@jupyter-widgets/controls",
            "_model_module_version": "1.5.0",
            "_model_name": "DescriptionStyleModel",
            "_view_count": null,
            "_view_module": "@jupyter-widgets/base",
            "_view_module_version": "1.2.0",
            "_view_name": "StyleView",
            "description_width": ""
          }
        },
        "f87450e87fe14977bef4b845b3945d17": {
          "model_module": "@jupyter-widgets/controls",
          "model_name": "HBoxModel",
          "model_module_version": "1.5.0",
          "state": {
            "_dom_classes": [],
            "_model_module": "@jupyter-widgets/controls",
            "_model_module_version": "1.5.0",
            "_model_name": "HBoxModel",
            "_view_count": null,
            "_view_module": "@jupyter-widgets/controls",
            "_view_module_version": "1.5.0",
            "_view_name": "HBoxView",
            "box_style": "",
            "children": [
              "IPY_MODEL_dfe4d9fd67a34866b017d46fb7afb07d",
              "IPY_MODEL_bc3b738c132e4651b2a62e6f5f5f8f47",
              "IPY_MODEL_f1d708f47c49429ca0e80439f61113ec"
            ],
            "layout": "IPY_MODEL_5e3f8ef29495482c921997197c50de50"
          }
        },
        "dfe4d9fd67a34866b017d46fb7afb07d": {
          "model_module": "@jupyter-widgets/controls",
          "model_name": "HTMLModel",
          "model_module_version": "1.5.0",
          "state": {
            "_dom_classes": [],
            "_model_module": "@jupyter-widgets/controls",
            "_model_module_version": "1.5.0",
            "_model_name": "HTMLModel",
            "_view_count": null,
            "_view_module": "@jupyter-widgets/controls",
            "_view_module_version": "1.5.0",
            "_view_name": "HTMLView",
            "description": "",
            "description_tooltip": null,
            "layout": "IPY_MODEL_b7f6b1e0966f4da4b48ee8a6ed52bdec",
            "placeholder": "​",
            "style": "IPY_MODEL_3e972c70b6b542d6b5d1e319eab86d58",
            "value": "100%"
          }
        },
        "bc3b738c132e4651b2a62e6f5f5f8f47": {
          "model_module": "@jupyter-widgets/controls",
          "model_name": "FloatProgressModel",
          "model_module_version": "1.5.0",
          "state": {
            "_dom_classes": [],
            "_model_module": "@jupyter-widgets/controls",
            "_model_module_version": "1.5.0",
            "_model_name": "FloatProgressModel",
            "_view_count": null,
            "_view_module": "@jupyter-widgets/controls",
            "_view_module_version": "1.5.0",
            "_view_name": "ProgressView",
            "bar_style": "success",
            "description": "",
            "description_tooltip": null,
            "layout": "IPY_MODEL_b7e9c647cb334b39b1eb299588bb770b",
            "max": 10570,
            "min": 0,
            "orientation": "horizontal",
            "style": "IPY_MODEL_d6527448c5134b4a9fa0827ac797481c",
            "value": 10570
          }
        },
        "f1d708f47c49429ca0e80439f61113ec": {
          "model_module": "@jupyter-widgets/controls",
          "model_name": "HTMLModel",
          "model_module_version": "1.5.0",
          "state": {
            "_dom_classes": [],
            "_model_module": "@jupyter-widgets/controls",
            "_model_module_version": "1.5.0",
            "_model_name": "HTMLModel",
            "_view_count": null,
            "_view_module": "@jupyter-widgets/controls",
            "_view_module_version": "1.5.0",
            "_view_name": "HTMLView",
            "description": "",
            "description_tooltip": null,
            "layout": "IPY_MODEL_119528bf1dbb44a19da015376c353dc4",
            "placeholder": "​",
            "style": "IPY_MODEL_3627116e56ab4dc5afdf86dae8726e1a",
            "value": " 10570/10570 [00:20&lt;00:00, 561.87it/s]"
          }
        },
        "5e3f8ef29495482c921997197c50de50": {
          "model_module": "@jupyter-widgets/base",
          "model_name": "LayoutModel",
          "model_module_version": "1.2.0",
          "state": {
            "_model_module": "@jupyter-widgets/base",
            "_model_module_version": "1.2.0",
            "_model_name": "LayoutModel",
            "_view_count": null,
            "_view_module": "@jupyter-widgets/base",
            "_view_module_version": "1.2.0",
            "_view_name": "LayoutView",
            "align_content": null,
            "align_items": null,
            "align_self": null,
            "border": null,
            "bottom": null,
            "display": null,
            "flex": null,
            "flex_flow": null,
            "grid_area": null,
            "grid_auto_columns": null,
            "grid_auto_flow": null,
            "grid_auto_rows": null,
            "grid_column": null,
            "grid_gap": null,
            "grid_row": null,
            "grid_template_areas": null,
            "grid_template_columns": null,
            "grid_template_rows": null,
            "height": null,
            "justify_content": null,
            "justify_items": null,
            "left": null,
            "margin": null,
            "max_height": null,
            "max_width": null,
            "min_height": null,
            "min_width": null,
            "object_fit": null,
            "object_position": null,
            "order": null,
            "overflow": null,
            "overflow_x": null,
            "overflow_y": null,
            "padding": null,
            "right": null,
            "top": null,
            "visibility": null,
            "width": null
          }
        },
        "b7f6b1e0966f4da4b48ee8a6ed52bdec": {
          "model_module": "@jupyter-widgets/base",
          "model_name": "LayoutModel",
          "model_module_version": "1.2.0",
          "state": {
            "_model_module": "@jupyter-widgets/base",
            "_model_module_version": "1.2.0",
            "_model_name": "LayoutModel",
            "_view_count": null,
            "_view_module": "@jupyter-widgets/base",
            "_view_module_version": "1.2.0",
            "_view_name": "LayoutView",
            "align_content": null,
            "align_items": null,
            "align_self": null,
            "border": null,
            "bottom": null,
            "display": null,
            "flex": null,
            "flex_flow": null,
            "grid_area": null,
            "grid_auto_columns": null,
            "grid_auto_flow": null,
            "grid_auto_rows": null,
            "grid_column": null,
            "grid_gap": null,
            "grid_row": null,
            "grid_template_areas": null,
            "grid_template_columns": null,
            "grid_template_rows": null,
            "height": null,
            "justify_content": null,
            "justify_items": null,
            "left": null,
            "margin": null,
            "max_height": null,
            "max_width": null,
            "min_height": null,
            "min_width": null,
            "object_fit": null,
            "object_position": null,
            "order": null,
            "overflow": null,
            "overflow_x": null,
            "overflow_y": null,
            "padding": null,
            "right": null,
            "top": null,
            "visibility": null,
            "width": null
          }
        },
        "3e972c70b6b542d6b5d1e319eab86d58": {
          "model_module": "@jupyter-widgets/controls",
          "model_name": "DescriptionStyleModel",
          "model_module_version": "1.5.0",
          "state": {
            "_model_module": "@jupyter-widgets/controls",
            "_model_module_version": "1.5.0",
            "_model_name": "DescriptionStyleModel",
            "_view_count": null,
            "_view_module": "@jupyter-widgets/base",
            "_view_module_version": "1.2.0",
            "_view_name": "StyleView",
            "description_width": ""
          }
        },
        "b7e9c647cb334b39b1eb299588bb770b": {
          "model_module": "@jupyter-widgets/base",
          "model_name": "LayoutModel",
          "model_module_version": "1.2.0",
          "state": {
            "_model_module": "@jupyter-widgets/base",
            "_model_module_version": "1.2.0",
            "_model_name": "LayoutModel",
            "_view_count": null,
            "_view_module": "@jupyter-widgets/base",
            "_view_module_version": "1.2.0",
            "_view_name": "LayoutView",
            "align_content": null,
            "align_items": null,
            "align_self": null,
            "border": null,
            "bottom": null,
            "display": null,
            "flex": null,
            "flex_flow": null,
            "grid_area": null,
            "grid_auto_columns": null,
            "grid_auto_flow": null,
            "grid_auto_rows": null,
            "grid_column": null,
            "grid_gap": null,
            "grid_row": null,
            "grid_template_areas": null,
            "grid_template_columns": null,
            "grid_template_rows": null,
            "height": null,
            "justify_content": null,
            "justify_items": null,
            "left": null,
            "margin": null,
            "max_height": null,
            "max_width": null,
            "min_height": null,
            "min_width": null,
            "object_fit": null,
            "object_position": null,
            "order": null,
            "overflow": null,
            "overflow_x": null,
            "overflow_y": null,
            "padding": null,
            "right": null,
            "top": null,
            "visibility": null,
            "width": null
          }
        },
        "d6527448c5134b4a9fa0827ac797481c": {
          "model_module": "@jupyter-widgets/controls",
          "model_name": "ProgressStyleModel",
          "model_module_version": "1.5.0",
          "state": {
            "_model_module": "@jupyter-widgets/controls",
            "_model_module_version": "1.5.0",
            "_model_name": "ProgressStyleModel",
            "_view_count": null,
            "_view_module": "@jupyter-widgets/base",
            "_view_module_version": "1.2.0",
            "_view_name": "StyleView",
            "bar_color": null,
            "description_width": ""
          }
        },
        "119528bf1dbb44a19da015376c353dc4": {
          "model_module": "@jupyter-widgets/base",
          "model_name": "LayoutModel",
          "model_module_version": "1.2.0",
          "state": {
            "_model_module": "@jupyter-widgets/base",
            "_model_module_version": "1.2.0",
            "_model_name": "LayoutModel",
            "_view_count": null,
            "_view_module": "@jupyter-widgets/base",
            "_view_module_version": "1.2.0",
            "_view_name": "LayoutView",
            "align_content": null,
            "align_items": null,
            "align_self": null,
            "border": null,
            "bottom": null,
            "display": null,
            "flex": null,
            "flex_flow": null,
            "grid_area": null,
            "grid_auto_columns": null,
            "grid_auto_flow": null,
            "grid_auto_rows": null,
            "grid_column": null,
            "grid_gap": null,
            "grid_row": null,
            "grid_template_areas": null,
            "grid_template_columns": null,
            "grid_template_rows": null,
            "height": null,
            "justify_content": null,
            "justify_items": null,
            "left": null,
            "margin": null,
            "max_height": null,
            "max_width": null,
            "min_height": null,
            "min_width": null,
            "object_fit": null,
            "object_position": null,
            "order": null,
            "overflow": null,
            "overflow_x": null,
            "overflow_y": null,
            "padding": null,
            "right": null,
            "top": null,
            "visibility": null,
            "width": null
          }
        },
        "3627116e56ab4dc5afdf86dae8726e1a": {
          "model_module": "@jupyter-widgets/controls",
          "model_name": "DescriptionStyleModel",
          "model_module_version": "1.5.0",
          "state": {
            "_model_module": "@jupyter-widgets/controls",
            "_model_module_version": "1.5.0",
            "_model_name": "DescriptionStyleModel",
            "_view_count": null,
            "_view_module": "@jupyter-widgets/base",
            "_view_module_version": "1.2.0",
            "_view_name": "StyleView",
            "description_width": ""
          }
        }
      }
    }
  },
  "cells": [
    {
      "cell_type": "markdown",
      "source": [
        "# Q&A with BERT-Finetuned"
      ],
      "metadata": {
        "id": "fhZy9p42zjDd"
      }
    },
    {
      "cell_type": "markdown",
      "source": [
        "Мы проведем дообучение BERT-модели на датасете [SQuAD1.0](https://rajpurkar.github.io/SQuAD-explorer/), состоящем из вопросов, заданных краудворкерами по набору статей Википедии.\n",
        "\n",
        "Модели, основанные только на энкодере, такие как BERT, как правило, отлично справляются с извлечением ответов на фактоидные вопросы типа \"Кто изобрел архитектуру трансформера?\", но плохо справляются с открытыми вопросами типа \"Почему небо голубое?\". В таких сложных случаях для синтеза информации обычно используются модели энкодеров-декодеров, такие как T5 и BART"
      ],
      "metadata": {
        "id": "TPKWDGUVz0B5"
      }
    },
    {
      "cell_type": "markdown",
      "source": [
        "## Установка библиотек"
      ],
      "metadata": {
        "id": "sB2EejiG09Dd"
      }
    },
    {
      "cell_type": "code",
      "source": [
        "!pip install --upgrade datasets fsspec"
      ],
      "metadata": {
        "colab": {
          "base_uri": "https://localhost:8080/",
          "height": 1000
        },
        "id": "8ryOeBTk36Qz",
        "outputId": "8ca3dbaa-49b8-4c02-92b2-745f9eccac96"
      },
      "execution_count": null,
      "outputs": [
        {
          "output_type": "stream",
          "name": "stdout",
          "text": [
            "Requirement already satisfied: datasets in /usr/local/lib/python3.11/dist-packages (2.14.4)\n",
            "Collecting datasets\n",
            "  Downloading datasets-3.6.0-py3-none-any.whl.metadata (19 kB)\n",
            "Requirement already satisfied: fsspec in /usr/local/lib/python3.11/dist-packages (2025.3.2)\n",
            "Collecting fsspec\n",
            "  Downloading fsspec-2025.5.1-py3-none-any.whl.metadata (11 kB)\n",
            "Requirement already satisfied: filelock in /usr/local/lib/python3.11/dist-packages (from datasets) (3.18.0)\n",
            "Requirement already satisfied: numpy>=1.17 in /usr/local/lib/python3.11/dist-packages (from datasets) (2.0.2)\n",
            "Requirement already satisfied: pyarrow>=15.0.0 in /usr/local/lib/python3.11/dist-packages (from datasets) (18.1.0)\n",
            "Requirement already satisfied: dill<0.3.9,>=0.3.0 in /usr/local/lib/python3.11/dist-packages (from datasets) (0.3.7)\n",
            "Requirement already satisfied: pandas in /usr/local/lib/python3.11/dist-packages (from datasets) (2.2.2)\n",
            "Requirement already satisfied: requests>=2.32.2 in /usr/local/lib/python3.11/dist-packages (from datasets) (2.32.3)\n",
            "Requirement already satisfied: tqdm>=4.66.3 in /usr/local/lib/python3.11/dist-packages (from datasets) (4.67.1)\n",
            "Requirement already satisfied: xxhash in /usr/local/lib/python3.11/dist-packages (from datasets) (3.5.0)\n",
            "Requirement already satisfied: multiprocess<0.70.17 in /usr/local/lib/python3.11/dist-packages (from datasets) (0.70.15)\n",
            "  Downloading fsspec-2025.3.0-py3-none-any.whl.metadata (11 kB)\n",
            "Requirement already satisfied: huggingface-hub>=0.24.0 in /usr/local/lib/python3.11/dist-packages (from datasets) (0.32.4)\n",
            "Requirement already satisfied: packaging in /usr/local/lib/python3.11/dist-packages (from datasets) (24.2)\n",
            "Requirement already satisfied: pyyaml>=5.1 in /usr/local/lib/python3.11/dist-packages (from datasets) (6.0.2)\n",
            "Requirement already satisfied: aiohttp!=4.0.0a0,!=4.0.0a1 in /usr/local/lib/python3.11/dist-packages (from fsspec[http]<=2025.3.0,>=2023.1.0->datasets) (3.11.15)\n",
            "Requirement already satisfied: typing-extensions>=3.7.4.3 in /usr/local/lib/python3.11/dist-packages (from huggingface-hub>=0.24.0->datasets) (4.14.0)\n",
            "Requirement already satisfied: hf-xet<2.0.0,>=1.1.2 in /usr/local/lib/python3.11/dist-packages (from huggingface-hub>=0.24.0->datasets) (1.1.2)\n",
            "Requirement already satisfied: charset-normalizer<4,>=2 in /usr/local/lib/python3.11/dist-packages (from requests>=2.32.2->datasets) (3.4.2)\n",
            "Requirement already satisfied: idna<4,>=2.5 in /usr/local/lib/python3.11/dist-packages (from requests>=2.32.2->datasets) (3.10)\n",
            "Requirement already satisfied: urllib3<3,>=1.21.1 in /usr/local/lib/python3.11/dist-packages (from requests>=2.32.2->datasets) (2.4.0)\n",
            "Requirement already satisfied: certifi>=2017.4.17 in /usr/local/lib/python3.11/dist-packages (from requests>=2.32.2->datasets) (2025.4.26)\n",
            "Requirement already satisfied: python-dateutil>=2.8.2 in /usr/local/lib/python3.11/dist-packages (from pandas->datasets) (2.9.0.post0)\n",
            "Requirement already satisfied: pytz>=2020.1 in /usr/local/lib/python3.11/dist-packages (from pandas->datasets) (2025.2)\n",
            "Requirement already satisfied: tzdata>=2022.7 in /usr/local/lib/python3.11/dist-packages (from pandas->datasets) (2025.2)\n",
            "Requirement already satisfied: aiohappyeyeballs>=2.3.0 in /usr/local/lib/python3.11/dist-packages (from aiohttp!=4.0.0a0,!=4.0.0a1->fsspec[http]<=2025.3.0,>=2023.1.0->datasets) (2.6.1)\n",
            "Requirement already satisfied: aiosignal>=1.1.2 in /usr/local/lib/python3.11/dist-packages (from aiohttp!=4.0.0a0,!=4.0.0a1->fsspec[http]<=2025.3.0,>=2023.1.0->datasets) (1.3.2)\n",
            "Requirement already satisfied: attrs>=17.3.0 in /usr/local/lib/python3.11/dist-packages (from aiohttp!=4.0.0a0,!=4.0.0a1->fsspec[http]<=2025.3.0,>=2023.1.0->datasets) (25.3.0)\n",
            "Requirement already satisfied: frozenlist>=1.1.1 in /usr/local/lib/python3.11/dist-packages (from aiohttp!=4.0.0a0,!=4.0.0a1->fsspec[http]<=2025.3.0,>=2023.1.0->datasets) (1.6.0)\n",
            "Requirement already satisfied: multidict<7.0,>=4.5 in /usr/local/lib/python3.11/dist-packages (from aiohttp!=4.0.0a0,!=4.0.0a1->fsspec[http]<=2025.3.0,>=2023.1.0->datasets) (6.4.4)\n",
            "Requirement already satisfied: propcache>=0.2.0 in /usr/local/lib/python3.11/dist-packages (from aiohttp!=4.0.0a0,!=4.0.0a1->fsspec[http]<=2025.3.0,>=2023.1.0->datasets) (0.3.1)\n",
            "Requirement already satisfied: yarl<2.0,>=1.17.0 in /usr/local/lib/python3.11/dist-packages (from aiohttp!=4.0.0a0,!=4.0.0a1->fsspec[http]<=2025.3.0,>=2023.1.0->datasets) (1.20.0)\n",
            "Requirement already satisfied: six>=1.5 in /usr/local/lib/python3.11/dist-packages (from python-dateutil>=2.8.2->pandas->datasets) (1.17.0)\n",
            "Downloading datasets-3.6.0-py3-none-any.whl (491 kB)\n",
            "\u001b[2K   \u001b[90m━━━━━━━━━━━━━━━━━━━━━━━━━━━━━━━━━━━━━━━━\u001b[0m \u001b[32m491.5/491.5 kB\u001b[0m \u001b[31m20.0 MB/s\u001b[0m eta \u001b[36m0:00:00\u001b[0m\n",
            "\u001b[?25hDownloading fsspec-2025.3.0-py3-none-any.whl (193 kB)\n",
            "\u001b[2K   \u001b[90m━━━━━━━━━━━━━━━━━━━━━━━━━━━━━━━━━━━━━━━━\u001b[0m \u001b[32m193.6/193.6 kB\u001b[0m \u001b[31m17.4 MB/s\u001b[0m eta \u001b[36m0:00:00\u001b[0m\n",
            "\u001b[?25hInstalling collected packages: fsspec, datasets\n",
            "  Attempting uninstall: fsspec\n",
            "    Found existing installation: fsspec 2025.3.2\n",
            "    Uninstalling fsspec-2025.3.2:\n",
            "      Successfully uninstalled fsspec-2025.3.2\n",
            "  Attempting uninstall: datasets\n",
            "    Found existing installation: datasets 2.14.4\n",
            "    Uninstalling datasets-2.14.4:\n",
            "      Successfully uninstalled datasets-2.14.4\n",
            "\u001b[31mERROR: pip's dependency resolver does not currently take into account all the packages that are installed. This behaviour is the source of the following dependency conflicts.\n",
            "gcsfs 2025.3.2 requires fsspec==2025.3.2, but you have fsspec 2025.3.0 which is incompatible.\u001b[0m\u001b[31m\n",
            "\u001b[0mSuccessfully installed datasets-3.6.0 fsspec-2025.3.0\n"
          ]
        },
        {
          "output_type": "display_data",
          "data": {
            "application/vnd.colab-display-data+json": {
              "pip_warning": {
                "packages": [
                  "datasets"
                ]
              },
              "id": "1d23d8ef19b14b8ab2dec71847c00513"
            }
          },
          "metadata": {}
        }
      ]
    },
    {
      "cell_type": "code",
      "source": [
        "!pip install datasets evaluate transformers[sentencepiece]\n",
        "!pip install accelerate\n",
        "# To run the training on TPU, you will need to uncomment the following line:\n",
        "# !pip install cloud-tpu-client==0.10 torch==1.9.0 https://storage.googleapis.com/tpu-pytorch/wheels/torch_xla-1.9-cp37-cp37m-linux_x86_64.whl\n",
        "!apt install git-lfs"
      ],
      "metadata": {
        "colab": {
          "base_uri": "https://localhost:8080/"
        },
        "id": "026T71Vf07U2",
        "outputId": "0504a6c5-e752-46fe-915d-3d9b02acfbb4"
      },
      "execution_count": null,
      "outputs": [
        {
          "output_type": "stream",
          "name": "stdout",
          "text": [
            "Requirement already satisfied: datasets in /usr/local/lib/python3.11/dist-packages (3.6.0)\n",
            "Requirement already satisfied: evaluate in /usr/local/lib/python3.11/dist-packages (0.4.3)\n",
            "Requirement already satisfied: transformers[sentencepiece] in /usr/local/lib/python3.11/dist-packages (4.52.4)\n",
            "Requirement already satisfied: filelock in /usr/local/lib/python3.11/dist-packages (from datasets) (3.18.0)\n",
            "Requirement already satisfied: numpy>=1.17 in /usr/local/lib/python3.11/dist-packages (from datasets) (2.0.2)\n",
            "Requirement already satisfied: pyarrow>=15.0.0 in /usr/local/lib/python3.11/dist-packages (from datasets) (18.1.0)\n",
            "Requirement already satisfied: dill<0.3.9,>=0.3.0 in /usr/local/lib/python3.11/dist-packages (from datasets) (0.3.7)\n",
            "Requirement already satisfied: pandas in /usr/local/lib/python3.11/dist-packages (from datasets) (2.2.2)\n",
            "Requirement already satisfied: requests>=2.32.2 in /usr/local/lib/python3.11/dist-packages (from datasets) (2.32.3)\n",
            "Requirement already satisfied: tqdm>=4.66.3 in /usr/local/lib/python3.11/dist-packages (from datasets) (4.67.1)\n",
            "Requirement already satisfied: xxhash in /usr/local/lib/python3.11/dist-packages (from datasets) (3.5.0)\n",
            "Requirement already satisfied: multiprocess<0.70.17 in /usr/local/lib/python3.11/dist-packages (from datasets) (0.70.15)\n",
            "Requirement already satisfied: fsspec<=2025.3.0,>=2023.1.0 in /usr/local/lib/python3.11/dist-packages (from fsspec[http]<=2025.3.0,>=2023.1.0->datasets) (2025.3.0)\n",
            "Requirement already satisfied: huggingface-hub>=0.24.0 in /usr/local/lib/python3.11/dist-packages (from datasets) (0.32.4)\n",
            "Requirement already satisfied: packaging in /usr/local/lib/python3.11/dist-packages (from datasets) (24.2)\n",
            "Requirement already satisfied: pyyaml>=5.1 in /usr/local/lib/python3.11/dist-packages (from datasets) (6.0.2)\n",
            "Requirement already satisfied: regex!=2019.12.17 in /usr/local/lib/python3.11/dist-packages (from transformers[sentencepiece]) (2024.11.6)\n",
            "Requirement already satisfied: tokenizers<0.22,>=0.21 in /usr/local/lib/python3.11/dist-packages (from transformers[sentencepiece]) (0.21.1)\n",
            "Requirement already satisfied: safetensors>=0.4.3 in /usr/local/lib/python3.11/dist-packages (from transformers[sentencepiece]) (0.5.3)\n",
            "Requirement already satisfied: sentencepiece!=0.1.92,>=0.1.91 in /usr/local/lib/python3.11/dist-packages (from transformers[sentencepiece]) (0.2.0)\n",
            "Requirement already satisfied: protobuf in /usr/local/lib/python3.11/dist-packages (from transformers[sentencepiece]) (5.29.5)\n",
            "Requirement already satisfied: aiohttp!=4.0.0a0,!=4.0.0a1 in /usr/local/lib/python3.11/dist-packages (from fsspec[http]<=2025.3.0,>=2023.1.0->datasets) (3.11.15)\n",
            "Requirement already satisfied: typing-extensions>=3.7.4.3 in /usr/local/lib/python3.11/dist-packages (from huggingface-hub>=0.24.0->datasets) (4.14.0)\n",
            "Requirement already satisfied: hf-xet<2.0.0,>=1.1.2 in /usr/local/lib/python3.11/dist-packages (from huggingface-hub>=0.24.0->datasets) (1.1.2)\n",
            "Requirement already satisfied: charset-normalizer<4,>=2 in /usr/local/lib/python3.11/dist-packages (from requests>=2.32.2->datasets) (3.4.2)\n",
            "Requirement already satisfied: idna<4,>=2.5 in /usr/local/lib/python3.11/dist-packages (from requests>=2.32.2->datasets) (3.10)\n",
            "Requirement already satisfied: urllib3<3,>=1.21.1 in /usr/local/lib/python3.11/dist-packages (from requests>=2.32.2->datasets) (2.4.0)\n",
            "Requirement already satisfied: certifi>=2017.4.17 in /usr/local/lib/python3.11/dist-packages (from requests>=2.32.2->datasets) (2025.4.26)\n",
            "Requirement already satisfied: python-dateutil>=2.8.2 in /usr/local/lib/python3.11/dist-packages (from pandas->datasets) (2.9.0.post0)\n",
            "Requirement already satisfied: pytz>=2020.1 in /usr/local/lib/python3.11/dist-packages (from pandas->datasets) (2025.2)\n",
            "Requirement already satisfied: tzdata>=2022.7 in /usr/local/lib/python3.11/dist-packages (from pandas->datasets) (2025.2)\n",
            "Requirement already satisfied: aiohappyeyeballs>=2.3.0 in /usr/local/lib/python3.11/dist-packages (from aiohttp!=4.0.0a0,!=4.0.0a1->fsspec[http]<=2025.3.0,>=2023.1.0->datasets) (2.6.1)\n",
            "Requirement already satisfied: aiosignal>=1.1.2 in /usr/local/lib/python3.11/dist-packages (from aiohttp!=4.0.0a0,!=4.0.0a1->fsspec[http]<=2025.3.0,>=2023.1.0->datasets) (1.3.2)\n",
            "Requirement already satisfied: attrs>=17.3.0 in /usr/local/lib/python3.11/dist-packages (from aiohttp!=4.0.0a0,!=4.0.0a1->fsspec[http]<=2025.3.0,>=2023.1.0->datasets) (25.3.0)\n",
            "Requirement already satisfied: frozenlist>=1.1.1 in /usr/local/lib/python3.11/dist-packages (from aiohttp!=4.0.0a0,!=4.0.0a1->fsspec[http]<=2025.3.0,>=2023.1.0->datasets) (1.6.0)\n",
            "Requirement already satisfied: multidict<7.0,>=4.5 in /usr/local/lib/python3.11/dist-packages (from aiohttp!=4.0.0a0,!=4.0.0a1->fsspec[http]<=2025.3.0,>=2023.1.0->datasets) (6.4.4)\n",
            "Requirement already satisfied: propcache>=0.2.0 in /usr/local/lib/python3.11/dist-packages (from aiohttp!=4.0.0a0,!=4.0.0a1->fsspec[http]<=2025.3.0,>=2023.1.0->datasets) (0.3.1)\n",
            "Requirement already satisfied: yarl<2.0,>=1.17.0 in /usr/local/lib/python3.11/dist-packages (from aiohttp!=4.0.0a0,!=4.0.0a1->fsspec[http]<=2025.3.0,>=2023.1.0->datasets) (1.20.0)\n",
            "Requirement already satisfied: six>=1.5 in /usr/local/lib/python3.11/dist-packages (from python-dateutil>=2.8.2->pandas->datasets) (1.17.0)\n",
            "Requirement already satisfied: accelerate in /usr/local/lib/python3.11/dist-packages (1.7.0)\n",
            "Requirement already satisfied: numpy<3.0.0,>=1.17 in /usr/local/lib/python3.11/dist-packages (from accelerate) (2.0.2)\n",
            "Requirement already satisfied: packaging>=20.0 in /usr/local/lib/python3.11/dist-packages (from accelerate) (24.2)\n",
            "Requirement already satisfied: psutil in /usr/local/lib/python3.11/dist-packages (from accelerate) (5.9.5)\n",
            "Requirement already satisfied: pyyaml in /usr/local/lib/python3.11/dist-packages (from accelerate) (6.0.2)\n",
            "Requirement already satisfied: torch>=2.0.0 in /usr/local/lib/python3.11/dist-packages (from accelerate) (2.6.0+cu124)\n",
            "Requirement already satisfied: huggingface-hub>=0.21.0 in /usr/local/lib/python3.11/dist-packages (from accelerate) (0.32.4)\n",
            "Requirement already satisfied: safetensors>=0.4.3 in /usr/local/lib/python3.11/dist-packages (from accelerate) (0.5.3)\n",
            "Requirement already satisfied: filelock in /usr/local/lib/python3.11/dist-packages (from huggingface-hub>=0.21.0->accelerate) (3.18.0)\n",
            "Requirement already satisfied: fsspec>=2023.5.0 in /usr/local/lib/python3.11/dist-packages (from huggingface-hub>=0.21.0->accelerate) (2025.3.0)\n",
            "Requirement already satisfied: requests in /usr/local/lib/python3.11/dist-packages (from huggingface-hub>=0.21.0->accelerate) (2.32.3)\n",
            "Requirement already satisfied: tqdm>=4.42.1 in /usr/local/lib/python3.11/dist-packages (from huggingface-hub>=0.21.0->accelerate) (4.67.1)\n",
            "Requirement already satisfied: typing-extensions>=3.7.4.3 in /usr/local/lib/python3.11/dist-packages (from huggingface-hub>=0.21.0->accelerate) (4.14.0)\n",
            "Requirement already satisfied: hf-xet<2.0.0,>=1.1.2 in /usr/local/lib/python3.11/dist-packages (from huggingface-hub>=0.21.0->accelerate) (1.1.2)\n",
            "Requirement already satisfied: networkx in /usr/local/lib/python3.11/dist-packages (from torch>=2.0.0->accelerate) (3.5)\n",
            "Requirement already satisfied: jinja2 in /usr/local/lib/python3.11/dist-packages (from torch>=2.0.0->accelerate) (3.1.6)\n",
            "Requirement already satisfied: nvidia-cuda-nvrtc-cu12==12.4.127 in /usr/local/lib/python3.11/dist-packages (from torch>=2.0.0->accelerate) (12.4.127)\n",
            "Requirement already satisfied: nvidia-cuda-runtime-cu12==12.4.127 in /usr/local/lib/python3.11/dist-packages (from torch>=2.0.0->accelerate) (12.4.127)\n",
            "Requirement already satisfied: nvidia-cuda-cupti-cu12==12.4.127 in /usr/local/lib/python3.11/dist-packages (from torch>=2.0.0->accelerate) (12.4.127)\n",
            "Requirement already satisfied: nvidia-cudnn-cu12==9.1.0.70 in /usr/local/lib/python3.11/dist-packages (from torch>=2.0.0->accelerate) (9.1.0.70)\n",
            "Requirement already satisfied: nvidia-cublas-cu12==12.4.5.8 in /usr/local/lib/python3.11/dist-packages (from torch>=2.0.0->accelerate) (12.4.5.8)\n",
            "Requirement already satisfied: nvidia-cufft-cu12==11.2.1.3 in /usr/local/lib/python3.11/dist-packages (from torch>=2.0.0->accelerate) (11.2.1.3)\n",
            "Requirement already satisfied: nvidia-curand-cu12==10.3.5.147 in /usr/local/lib/python3.11/dist-packages (from torch>=2.0.0->accelerate) (10.3.5.147)\n",
            "Requirement already satisfied: nvidia-cusolver-cu12==11.6.1.9 in /usr/local/lib/python3.11/dist-packages (from torch>=2.0.0->accelerate) (11.6.1.9)\n",
            "Requirement already satisfied: nvidia-cusparse-cu12==12.3.1.170 in /usr/local/lib/python3.11/dist-packages (from torch>=2.0.0->accelerate) (12.3.1.170)\n",
            "Requirement already satisfied: nvidia-cusparselt-cu12==0.6.2 in /usr/local/lib/python3.11/dist-packages (from torch>=2.0.0->accelerate) (0.6.2)\n",
            "Requirement already satisfied: nvidia-nccl-cu12==2.21.5 in /usr/local/lib/python3.11/dist-packages (from torch>=2.0.0->accelerate) (2.21.5)\n",
            "Requirement already satisfied: nvidia-nvtx-cu12==12.4.127 in /usr/local/lib/python3.11/dist-packages (from torch>=2.0.0->accelerate) (12.4.127)\n",
            "Requirement already satisfied: nvidia-nvjitlink-cu12==12.4.127 in /usr/local/lib/python3.11/dist-packages (from torch>=2.0.0->accelerate) (12.4.127)\n",
            "Requirement already satisfied: triton==3.2.0 in /usr/local/lib/python3.11/dist-packages (from torch>=2.0.0->accelerate) (3.2.0)\n",
            "Requirement already satisfied: sympy==1.13.1 in /usr/local/lib/python3.11/dist-packages (from torch>=2.0.0->accelerate) (1.13.1)\n",
            "Requirement already satisfied: mpmath<1.4,>=1.1.0 in /usr/local/lib/python3.11/dist-packages (from sympy==1.13.1->torch>=2.0.0->accelerate) (1.3.0)\n",
            "Requirement already satisfied: MarkupSafe>=2.0 in /usr/local/lib/python3.11/dist-packages (from jinja2->torch>=2.0.0->accelerate) (3.0.2)\n",
            "Requirement already satisfied: charset-normalizer<4,>=2 in /usr/local/lib/python3.11/dist-packages (from requests->huggingface-hub>=0.21.0->accelerate) (3.4.2)\n",
            "Requirement already satisfied: idna<4,>=2.5 in /usr/local/lib/python3.11/dist-packages (from requests->huggingface-hub>=0.21.0->accelerate) (3.10)\n",
            "Requirement already satisfied: urllib3<3,>=1.21.1 in /usr/local/lib/python3.11/dist-packages (from requests->huggingface-hub>=0.21.0->accelerate) (2.4.0)\n",
            "Requirement already satisfied: certifi>=2017.4.17 in /usr/local/lib/python3.11/dist-packages (from requests->huggingface-hub>=0.21.0->accelerate) (2025.4.26)\n",
            "Reading package lists... Done\n",
            "Building dependency tree... Done\n",
            "Reading state information... Done\n",
            "git-lfs is already the newest version (3.0.2-1ubuntu0.3).\n",
            "0 upgraded, 0 newly installed, 0 to remove and 35 not upgraded.\n"
          ]
        }
      ]
    },
    {
      "cell_type": "code",
      "source": [
        "!git config --global user.email \"nesterenkoms2001@gmail.com\"\n",
        "!git config --global user.name \"MaksimNS01\""
      ],
      "metadata": {
        "id": "OdMIx85_SEU2"
      },
      "execution_count": null,
      "outputs": []
    },
    {
      "cell_type": "markdown",
      "source": [
        "## Импорт библиотек и модулей"
      ],
      "metadata": {
        "id": "tSkh5DBP0cNN"
      }
    },
    {
      "cell_type": "code",
      "source": [
        "from datasets import load_dataset\n",
        "from huggingface_hub import notebook_login\n",
        "from transformers import AutoTokenizer\n",
        "import torch\n",
        "from transformers import AutoModelForQuestionAnswering\n",
        "import collections\n",
        "import tensorflow as tf\n",
        "from transformers import TFAutoModelForQuestionAnswering\n",
        "import numpy as np\n",
        "import evaluate\n",
        "from tqdm.auto import tqdm\n",
        "from transformers import TrainingArguments\n",
        "from transformers import Trainer\n",
        "from accelerate import Accelerator\n",
        "from torch.utils.data import DataLoader\n",
        "from transformers import default_data_collator\n",
        "from torch.optim import AdamW\n",
        "from transformers import get_scheduler\n",
        "from huggingface_hub import Repository, get_full_repo_name\n",
        "from transformers import pipeline"
      ],
      "metadata": {
        "id": "JLr29Sga0geh"
      },
      "execution_count": null,
      "outputs": []
    },
    {
      "cell_type": "markdown",
      "source": [
        "## Авторизация в HuggingFace"
      ],
      "metadata": {
        "id": "BNH6cga_6IrI"
      }
    },
    {
      "cell_type": "code",
      "source": [
        "notebook_login()"
      ],
      "metadata": {
        "colab": {
          "base_uri": "https://localhost:8080/",
          "height": 17,
          "referenced_widgets": [
            "61e6e45d6e2f46f29f6de48b3579877f",
            "280c13b519de4ac2988524142a9161f2",
            "62c0f3b92d854f1f881bc2d7eecfa6c7",
            "217be34f27034f1d814726c29558c10e",
            "273ed610712949a2a55e8dc7cd58eb22",
            "430b2b595e434b11a539166694de4d16",
            "d7b8211ab5354670934d9a5f13919dec",
            "564b19fbc43244e2a5cf0c089ff57073",
            "08aa312c7b4449e4aadc3ca40f57beb4",
            "66491c8b18d745bcad2681d27faa6536",
            "be22bb25ce924130b2ce2954e528d07e",
            "69fdc0a711b34ca4a97784aab71a48d9",
            "cdb9fa7880e5481ea5d1b80f0d123f15",
            "8b86e2d29caf475099825f8acdb9e51a",
            "73f83cca7f784bb283e40b00c6ec698e",
            "d2c8eb77c89f4ca79f6fd25e6a2023da",
            "ba32a950ff3c49909706f777a9ff08d7",
            "3ae015725a224b6bb1f9e69f2970fc17",
            "3796d8e6fcce43999d966eb0e6aeb326",
            "20dae179fec3449b9c0a2000e3610d1c"
          ]
        },
        "id": "wIjrXrFj1GoX",
        "outputId": "12bcaa10-e051-4ccd-bb08-ed0e2e1068e9"
      },
      "execution_count": null,
      "outputs": [
        {
          "output_type": "display_data",
          "data": {
            "text/plain": [
              "VBox(children=(HTML(value='<center> <img\\nsrc=https://huggingface.co/front/assets/huggingface_logo-noborder.sv…"
            ],
            "application/vnd.jupyter.widget-view+json": {
              "version_major": 2,
              "version_minor": 0,
              "model_id": "61e6e45d6e2f46f29f6de48b3579877f"
            }
          },
          "metadata": {}
        }
      ]
    },
    {
      "cell_type": "markdown",
      "source": [
        "## Загрузка и анализ датасета SQuAD"
      ],
      "metadata": {
        "id": "WP959Dx20MFe"
      }
    },
    {
      "cell_type": "code",
      "source": [
        "raw_datasets = load_dataset(\"squad\")"
      ],
      "metadata": {
        "colab": {
          "base_uri": "https://localhost:8080/",
          "height": 281,
          "referenced_widgets": [
            "364c008123e94520ae86327b45012df9",
            "97bdce6f50a3424a85dde5b811238a95",
            "e4b3f42a0b71490bb725c1423423a11a",
            "9f4b4a6db2fc4dbd905af6edc2697e3e",
            "a2b847bf345f462a9f84a9a46f41b4ec",
            "b8760aa8382d49198d02edb3ac4da6a0",
            "ba7a675f3a1a461d97e4595c59577d6b",
            "2b832d50f77d44388141024509e88a85",
            "a5c74b26c7b14a8b96a35f3e26839adb",
            "a303f24b0e9047839d51669a58d845e5",
            "7e8d42e7404e4a928b68575423142302",
            "393291be860341c7af1c47f4dab6a216",
            "4444099d2c824dc0972ca7d3d227f4aa",
            "236e48c671ea44cc8b92109464ccbff0",
            "a2d4f5a077e3446f971c49763030a899",
            "4848fc36af86477f93c90758e66fab62",
            "0857ed038da442ebbb4113e6f2413317",
            "954c6563ef7b44fbbef67aa097be241b",
            "894394df32524ed983450a4b2d55b186",
            "f054e46b310d49a6bf57a0252b3fce08",
            "c9986502e5304c12b0fe262ef3f6cefe",
            "c517adde392141319d703302b90c4d14",
            "23bf838797b04f72a765c9218a4af0d6",
            "13cb99ae3d224a5d85684bebfa4af4f2",
            "26f272838bad4123af2f4ec0e4481714",
            "b96fe879aad24db88e0ef7977d7a2755",
            "083c9c0eab0f4c81b7218744e9c794c6",
            "d54f5eedeafb4b86ae551aeccfa59bed",
            "a84ae8412cb5491183b68a083e8e8443",
            "7be2d7323dd943d6a915690f4ea253bf",
            "cbeea76c675d4e4dafbc95d608b4d117",
            "d4bd4d40f64e48d8816da35e38143b99",
            "848ddb97c4454e09976717775a0a0283",
            "e50b5e36aa34431dba7eb8918fde08d6",
            "a5b7fa86814f4c33a153449d0ffb597f",
            "bd1cc105e76b4cae9c0011af2cb6e72e",
            "28643dabfeea4de180d15506df515214",
            "89585de4359d4a3ea5d65741429e5352",
            "4138f835b4f7462585c595437807940a",
            "8eb675dd8b584e6ea7c9abe945a52862",
            "fb1223cc38cf40f2b210be22b53cb2fd",
            "a5bb308a13934631800379545a746b82",
            "7839b56f40f549b7a753876e79221258",
            "0ec236e631e644c99296a02da44503b9",
            "0e2a4ab1459942b3a4b7109d7713411b",
            "25ba491ad7c34cfa92da97d77065d3eb",
            "a4e8bc42e62647feaa4406d5d3473a5e",
            "edaedd97163a499287079d050243119e",
            "738ac5a2c05840b79a5899eeea90b9df",
            "5c5deb895948489bb51bb7351cf02f6b",
            "39a91f84f5764265be7d32a0b0870319",
            "995463a7933c4d4cbda563e8d44007aa",
            "9473e159c9e84440aa3286332b1195e1",
            "f0ec9f287d2a42e2ab608a0c53d37065",
            "d939a870af4d482bb72eb37504805e58"
          ]
        },
        "id": "v5A--zL50FuN",
        "outputId": "ddecc171-e5b0-4d6a-f0d5-19f16a0113c1"
      },
      "execution_count": null,
      "outputs": [
        {
          "output_type": "stream",
          "name": "stderr",
          "text": [
            "/usr/local/lib/python3.11/dist-packages/huggingface_hub/utils/_auth.py:94: UserWarning: \n",
            "The secret `HF_TOKEN` does not exist in your Colab secrets.\n",
            "To authenticate with the Hugging Face Hub, create a token in your settings tab (https://huggingface.co/settings/tokens), set it as secret in your Google Colab and restart your session.\n",
            "You will be able to reuse this secret in all of your notebooks.\n",
            "Please note that authentication is recommended but still optional to access public models or datasets.\n",
            "  warnings.warn(\n"
          ]
        },
        {
          "output_type": "display_data",
          "data": {
            "text/plain": [
              "README.md:   0%|          | 0.00/7.62k [00:00<?, ?B/s]"
            ],
            "application/vnd.jupyter.widget-view+json": {
              "version_major": 2,
              "version_minor": 0,
              "model_id": "364c008123e94520ae86327b45012df9"
            }
          },
          "metadata": {}
        },
        {
          "output_type": "display_data",
          "data": {
            "text/plain": [
              "train-00000-of-00001.parquet:   0%|          | 0.00/14.5M [00:00<?, ?B/s]"
            ],
            "application/vnd.jupyter.widget-view+json": {
              "version_major": 2,
              "version_minor": 0,
              "model_id": "393291be860341c7af1c47f4dab6a216"
            }
          },
          "metadata": {}
        },
        {
          "output_type": "display_data",
          "data": {
            "text/plain": [
              "validation-00000-of-00001.parquet:   0%|          | 0.00/1.82M [00:00<?, ?B/s]"
            ],
            "application/vnd.jupyter.widget-view+json": {
              "version_major": 2,
              "version_minor": 0,
              "model_id": "23bf838797b04f72a765c9218a4af0d6"
            }
          },
          "metadata": {}
        },
        {
          "output_type": "display_data",
          "data": {
            "text/plain": [
              "Generating train split:   0%|          | 0/87599 [00:00<?, ? examples/s]"
            ],
            "application/vnd.jupyter.widget-view+json": {
              "version_major": 2,
              "version_minor": 0,
              "model_id": "e50b5e36aa34431dba7eb8918fde08d6"
            }
          },
          "metadata": {}
        },
        {
          "output_type": "display_data",
          "data": {
            "text/plain": [
              "Generating validation split:   0%|          | 0/10570 [00:00<?, ? examples/s]"
            ],
            "application/vnd.jupyter.widget-view+json": {
              "version_major": 2,
              "version_minor": 0,
              "model_id": "0e2a4ab1459942b3a4b7109d7713411b"
            }
          },
          "metadata": {}
        }
      ]
    },
    {
      "cell_type": "code",
      "execution_count": null,
      "metadata": {
        "colab": {
          "base_uri": "https://localhost:8080/"
        },
        "id": "QdnTJbHwyNVb",
        "outputId": "c7983c93-c8fc-416b-e080-5d8d5c5f3047"
      },
      "outputs": [
        {
          "output_type": "execute_result",
          "data": {
            "text/plain": [
              "DatasetDict({\n",
              "    train: Dataset({\n",
              "        features: ['id', 'title', 'context', 'question', 'answers'],\n",
              "        num_rows: 87599\n",
              "    })\n",
              "    validation: Dataset({\n",
              "        features: ['id', 'title', 'context', 'question', 'answers'],\n",
              "        num_rows: 10570\n",
              "    })\n",
              "})"
            ]
          },
          "metadata": {},
          "execution_count": 8
        }
      ],
      "source": [
        "raw_datasets"
      ]
    },
    {
      "cell_type": "markdown",
      "source": [
        "Похоже, у нас есть все необходимое в полях context, question и answers, так что давайте выведем их для первого элемента нашего обучающего набора:"
      ],
      "metadata": {
        "id": "iLWEh6s30ny5"
      }
    },
    {
      "cell_type": "code",
      "source": [
        "print(\"Context: \", raw_datasets[\"train\"][0][\"context\"])\n",
        "print(\"Question: \", raw_datasets[\"train\"][0][\"question\"])\n",
        "print(\"Answer: \", raw_datasets[\"train\"][0][\"answers\"])"
      ],
      "metadata": {
        "colab": {
          "base_uri": "https://localhost:8080/"
        },
        "id": "AAJMHmdF0oMF",
        "outputId": "77768fa1-7a42-42a0-9d9f-d1eb903fa65f"
      },
      "execution_count": null,
      "outputs": [
        {
          "output_type": "stream",
          "name": "stdout",
          "text": [
            "Context:  Architecturally, the school has a Catholic character. Atop the Main Building's gold dome is a golden statue of the Virgin Mary. Immediately in front of the Main Building and facing it, is a copper statue of Christ with arms upraised with the legend \"Venite Ad Me Omnes\". Next to the Main Building is the Basilica of the Sacred Heart. Immediately behind the basilica is the Grotto, a Marian place of prayer and reflection. It is a replica of the grotto at Lourdes, France where the Virgin Mary reputedly appeared to Saint Bernadette Soubirous in 1858. At the end of the main drive (and in a direct line that connects through 3 statues and the Gold Dome), is a simple, modern stone statue of Mary.\n",
            "Question:  To whom did the Virgin Mary allegedly appear in 1858 in Lourdes France?\n",
            "Answer:  {'text': ['Saint Bernadette Soubirous'], 'answer_start': [515]}\n"
          ]
        }
      ]
    },
    {
      "cell_type": "markdown",
      "source": [
        "Поля context и question очень просты в использовании. С полем answers немного сложнее, поскольку оно представляет собой словарь с двумя полями, которые оба являются списками. Именно такой формат будет ожидать метрика squad при оценке. Поле text довольно очевидно, а поле answer_start содержит индекс начального символа каждого ответа в контексте.\n",
        "\n",
        "Во время обучения существует только один возможный ответ. Мы можем перепроверить это с помощью метода Dataset.filter():"
      ],
      "metadata": {
        "id": "7UCwId3F1Xhd"
      }
    },
    {
      "cell_type": "code",
      "source": [
        "raw_datasets[\"train\"].filter(lambda x: len(x[\"answers\"][\"text\"]) != 1)"
      ],
      "metadata": {
        "colab": {
          "base_uri": "https://localhost:8080/",
          "height": 118,
          "referenced_widgets": [
            "2b0bddd29e8e416497985246370c7a10",
            "a24d6e4d380b4dbfaa827459d916015f",
            "8846068dae6040569effa8103646a1d4",
            "6e11f28107454079b0490f8b23c3cd4d",
            "32062fc2719449049a2cab60d236cf71",
            "71bbd9cf8bf842e3a27e3d9af5395e4d",
            "d880485934d8493cba8e27053123bc51",
            "1ce78fdc573b4d46ac892eebcaeb12cd",
            "314f1deced0b406881ad8593a712099c",
            "364307650d4c42ff9732aa92f27f84df",
            "50728e503b5749108ab034333e9351f2"
          ]
        },
        "id": "Sx2wDj6w1fWS",
        "outputId": "74e46d46-9bdc-44a1-bb6b-be96e12aa27c"
      },
      "execution_count": null,
      "outputs": [
        {
          "output_type": "display_data",
          "data": {
            "text/plain": [
              "Filter:   0%|          | 0/87599 [00:00<?, ? examples/s]"
            ],
            "application/vnd.jupyter.widget-view+json": {
              "version_major": 2,
              "version_minor": 0,
              "model_id": "2b0bddd29e8e416497985246370c7a10"
            }
          },
          "metadata": {}
        },
        {
          "output_type": "execute_result",
          "data": {
            "text/plain": [
              "Dataset({\n",
              "    features: ['id', 'title', 'context', 'question', 'answers'],\n",
              "    num_rows: 0\n",
              "})"
            ]
          },
          "metadata": {},
          "execution_count": 10
        }
      ]
    },
    {
      "cell_type": "markdown",
      "source": [
        "Для оценки, однако, существует несколько возможных ответов для каждого примера, которые могут быть одинаковыми или разными:"
      ],
      "metadata": {
        "id": "UrYWhIvK1ht5"
      }
    },
    {
      "cell_type": "code",
      "source": [
        "print(raw_datasets[\"validation\"][0][\"answers\"])\n",
        "print(raw_datasets[\"validation\"][2][\"answers\"])"
      ],
      "metadata": {
        "colab": {
          "base_uri": "https://localhost:8080/"
        },
        "id": "_t7TMGpB1jNW",
        "outputId": "e56ba097-0430-4b75-d4e0-5b541e4c8c7d"
      },
      "execution_count": null,
      "outputs": [
        {
          "output_type": "stream",
          "name": "stdout",
          "text": [
            "{'text': ['Denver Broncos', 'Denver Broncos', 'Denver Broncos'], 'answer_start': [177, 177, 177]}\n",
            "{'text': ['Santa Clara, California', \"Levi's Stadium\", \"Levi's Stadium in the San Francisco Bay Area at Santa Clara, California.\"], 'answer_start': [403, 355, 355]}\n"
          ]
        }
      ]
    },
    {
      "cell_type": "markdown",
      "source": [
        " Суть в том, что некоторые вопросы имеют несколько возможных ответов, и этот сценарий будет сравнивать спрогнозированный ответ со всеми допустимыми ответами и выбирать лучший результат. Если мы посмотрим, например, на выборку с индексом 2:"
      ],
      "metadata": {
        "id": "gLW1OnQN1obV"
      }
    },
    {
      "cell_type": "code",
      "source": [
        "print(raw_datasets[\"validation\"][2][\"context\"])\n",
        "print(raw_datasets[\"validation\"][2][\"question\"])"
      ],
      "metadata": {
        "colab": {
          "base_uri": "https://localhost:8080/"
        },
        "id": "DLuSmciw1ptp",
        "outputId": "056758e8-3fa0-47cb-924f-4cefa7134b43"
      },
      "execution_count": null,
      "outputs": [
        {
          "output_type": "stream",
          "name": "stdout",
          "text": [
            "Super Bowl 50 was an American football game to determine the champion of the National Football League (NFL) for the 2015 season. The American Football Conference (AFC) champion Denver Broncos defeated the National Football Conference (NFC) champion Carolina Panthers 24–10 to earn their third Super Bowl title. The game was played on February 7, 2016, at Levi's Stadium in the San Francisco Bay Area at Santa Clara, California. As this was the 50th Super Bowl, the league emphasized the \"golden anniversary\" with various gold-themed initiatives, as well as temporarily suspending the tradition of naming each Super Bowl game with Roman numerals (under which the game would have been known as \"Super Bowl L\"), so that the logo could prominently feature the Arabic numerals 50.\n",
            "Where did Super Bowl 50 take place?\n"
          ]
        }
      ]
    },
    {
      "cell_type": "markdown",
      "source": [
        "Ответ действительно может быть одним из трех возможных вариантов, которые мы видели ранее."
      ],
      "metadata": {
        "id": "boQ_BjUD1tAl"
      }
    },
    {
      "cell_type": "markdown",
      "source": [
        "## Подготовка обучающих данных"
      ],
      "metadata": {
        "id": "nDSS98zb1u5y"
      }
    },
    {
      "cell_type": "markdown",
      "source": [
        "Сначала нам нужно преобразовать текст во входных данных в идентификаторы, которые модель сможет понять, используя токенизатор:"
      ],
      "metadata": {
        "id": "iu_NZliy12gx"
      }
    },
    {
      "cell_type": "code",
      "source": [
        "model_checkpoint = \"bert-base-cased\"\n",
        "tokenizer = AutoTokenizer.from_pretrained(model_checkpoint)"
      ],
      "metadata": {
        "colab": {
          "base_uri": "https://localhost:8080/",
          "height": 145,
          "referenced_widgets": [
            "32e44556d8e24381825e26f692408319",
            "38ea77b5f4024a0cb86c92d046a834e0",
            "cb6a10a7b20b4d10adfbce7880e775d0",
            "4d397c929a934faface9f613273bcef4",
            "04c5e70ff5204649b62f6d0ffaaef47c",
            "47fbccef92c5488caa269e02f3c2dfcc",
            "8bbce5dcf79d41d4a07d1335be4c24fe",
            "6a4a20abb21249c188bcfc8c3dc2b1e2",
            "ea0b61fb5047459697eb1f99699611b3",
            "17078896683e410c886e67cd9583bd23",
            "2f3aa4c9bd30467f9c6913f88ca618d6",
            "4324d4ffa4a64d698dcbce6e73980f5d",
            "de8176d6a0d74964aa1dc3b9788b7f35",
            "8d34828dd0d045489e802550c17cd698",
            "bdddc14180024a60bc54d62c79e40dc7",
            "31bda492a26b422c949043ecc3fce308",
            "f78d3c3c478d4e1f80298385d167e9ba",
            "260f767b83bc4e25a64694b87c98425e",
            "3c0c2a19bfa4485488dd6193ea9c97a9",
            "636f1f78e6a64ee194b9db5094936ba2",
            "ebb8aa692ffd469aaa37ae0cbe8eb3b9",
            "4ef8221c1a9f4545bc2f26acb01e6e53",
            "efb48f13975c4a0f8464486469e5f09c",
            "02ee392ad17b411d93bea9f7bcac7793",
            "bbb7ece7b5c74100a3603116b4ce6785",
            "d73639a69a3f41d3956fdec59f4face8",
            "cd29d8a94e59419aba79952a57cb800d",
            "571f8ea9235244d8891ce1e0a59c1682",
            "22971c5ecbf94f079994276a974c5c4f",
            "23dd600122c4454aa62b3c73eb9a6f30",
            "ecc3624d7c6e41e0a35c861b34e11c5b",
            "f927e8bd8abb432cbecddd5d662060a4",
            "f0b52b7a5cc94d2690c2e58021c14b30",
            "b4141e6e7d4d424fae08d3f14e231913",
            "8397ec099a714709a997f5bf37a523e2",
            "66495bf81a3c4b5683add05354ba2ccb",
            "160389b42c264a3db30118ee95506839",
            "bb2207ed22294a3a987728f94a578963",
            "9d7cc8ca0bbf414abf8d41bf088a937c",
            "f7edb520f05e49428db70a029e8f1771",
            "3663263020b047a2b59d2e129c2eb82b",
            "437540b1f693489ba2ef338104c9506b",
            "a7d1bd21ebee49cf93df426789975bbb",
            "4eed7349865b4be08f0e97f9e1129c99"
          ]
        },
        "id": "K59bKvyV1t3Z",
        "outputId": "41b2572c-bc20-4a0a-f849-c154c5552234"
      },
      "execution_count": null,
      "outputs": [
        {
          "output_type": "display_data",
          "data": {
            "text/plain": [
              "tokenizer_config.json:   0%|          | 0.00/49.0 [00:00<?, ?B/s]"
            ],
            "application/vnd.jupyter.widget-view+json": {
              "version_major": 2,
              "version_minor": 0,
              "model_id": "32e44556d8e24381825e26f692408319"
            }
          },
          "metadata": {}
        },
        {
          "output_type": "display_data",
          "data": {
            "text/plain": [
              "config.json:   0%|          | 0.00/570 [00:00<?, ?B/s]"
            ],
            "application/vnd.jupyter.widget-view+json": {
              "version_major": 2,
              "version_minor": 0,
              "model_id": "4324d4ffa4a64d698dcbce6e73980f5d"
            }
          },
          "metadata": {}
        },
        {
          "output_type": "display_data",
          "data": {
            "text/plain": [
              "vocab.txt:   0%|          | 0.00/213k [00:00<?, ?B/s]"
            ],
            "application/vnd.jupyter.widget-view+json": {
              "version_major": 2,
              "version_minor": 0,
              "model_id": "efb48f13975c4a0f8464486469e5f09c"
            }
          },
          "metadata": {}
        },
        {
          "output_type": "display_data",
          "data": {
            "text/plain": [
              "tokenizer.json:   0%|          | 0.00/436k [00:00<?, ?B/s]"
            ],
            "application/vnd.jupyter.widget-view+json": {
              "version_major": 2,
              "version_minor": 0,
              "model_id": "b4141e6e7d4d424fae08d3f14e231913"
            }
          },
          "metadata": {}
        }
      ]
    },
    {
      "cell_type": "markdown",
      "source": [
        "Чтобы проверить, что используемый объект tokenizer действительно поддерживается используется его атрибут is_fast:"
      ],
      "metadata": {
        "id": "xNjkfEaD1_gV"
      }
    },
    {
      "cell_type": "code",
      "source": [
        "tokenizer.is_fast"
      ],
      "metadata": {
        "colab": {
          "base_uri": "https://localhost:8080/"
        },
        "id": "XzaasCOL1_Ep",
        "outputId": "cdb45c2b-27c7-4ae1-f616-24ee3e5e0987"
      },
      "execution_count": null,
      "outputs": [
        {
          "output_type": "execute_result",
          "data": {
            "text/plain": [
              "True"
            ]
          },
          "metadata": {},
          "execution_count": 14
        }
      ]
    },
    {
      "cell_type": "markdown",
      "source": [
        "Мы можем передать нашему токенизатору вопрос и контекст вместе, и он правильно вставит специальные токены, чтобы сформировать предложение, подобное этому:"
      ],
      "metadata": {
        "id": "cD6dT6SK2G8a"
      }
    },
    {
      "cell_type": "code",
      "source": [
        "context = raw_datasets[\"train\"][0][\"context\"]\n",
        "question = raw_datasets[\"train\"][0][\"question\"]\n",
        "\n",
        "inputs = tokenizer(question, context)\n",
        "tokenizer.decode(inputs[\"input_ids\"])"
      ],
      "metadata": {
        "colab": {
          "base_uri": "https://localhost:8080/",
          "height": 105
        },
        "id": "ORw-ragU2GZ1",
        "outputId": "d7e28693-3a35-45c9-e13c-9a1c33ab7d8f"
      },
      "execution_count": null,
      "outputs": [
        {
          "output_type": "execute_result",
          "data": {
            "text/plain": [
              "'[CLS] To whom did the Virgin Mary allegedly appear in 1858 in Lourdes France? [SEP] Architecturally, the school has a Catholic character. Atop the Main Building \\' s gold dome is a golden statue of the Virgin Mary. Immediately in front of the Main Building and facing it, is a copper statue of Christ with arms upraised with the legend \" Venite Ad Me Omnes \". Next to the Main Building is the Basilica of the Sacred Heart. Immediately behind the basilica is the Grotto, a Marian place of prayer and reflection. It is a replica of the grotto at Lourdes, France where the Virgin Mary reputedly appeared to Saint Bernadette Soubirous in 1858. At the end of the main drive ( and in a direct line that connects through 3 statues and the Gold Dome ), is a simple, modern stone statue of Mary. [SEP]'"
            ],
            "application/vnd.google.colaboratory.intrinsic+json": {
              "type": "string"
            }
          },
          "metadata": {},
          "execution_count": 15
        }
      ]
    },
    {
      "cell_type": "markdown",
      "source": [
        "В качестве меток будут использоваться индексы токенов, начинающих и заканчивающих ответ, а задача модели - предсказать один начальный и конечный логит для каждого токена на входе, при этом теоретические метки будут выглядеть следующим образом:"
      ],
      "metadata": {
        "id": "UctXF-E12MB5"
      }
    },
    {
      "cell_type": "markdown",
      "source": [
        "![image.png](data:image/png;base64,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)"
      ],
      "metadata": {
        "id": "NhMdouui2R59"
      }
    },
    {
      "cell_type": "markdown",
      "source": [
        "В данном случае контекст не слишком длинный, но некоторые примеры в датасете имеют очень длинные контексты, которые превысят установленную нами максимальную длину (которая в данном случае равна 384).\n",
        "\n",
        "Чтобы увидеть, как это работает на текущем примере, мы можем ограничить длину до 100 и использовать скользящее окно из 50 токенов. Используем:\n",
        "* max_length (возьмем 100)\n",
        "* truncation=\"only_second\" для усечения контекста (который находится во второй позиции), когда вопрос с его контекстом слишком длинный\n",
        "* stride для задания количества перекрывающихся токенов между двумя последовательными фрагментами (возьмем 50)\n",
        "* return_overflowing_tokens=True, чтобы сообщить токенизатору, что нам нужны переполненные токены (overflowing tokens)"
      ],
      "metadata": {
        "id": "Hauze8Ae2aNF"
      }
    },
    {
      "cell_type": "code",
      "source": [
        "inputs = tokenizer(\n",
        "    question,\n",
        "    context,\n",
        "    max_length=100,\n",
        "    truncation=\"only_second\",\n",
        "    stride=50,\n",
        "    return_overflowing_tokens=True,\n",
        ")\n",
        "\n",
        "for ids in inputs[\"input_ids\"]:\n",
        "    print(tokenizer.decode(ids))"
      ],
      "metadata": {
        "colab": {
          "base_uri": "https://localhost:8080/"
        },
        "id": "6PDOPD762May",
        "outputId": "56177e26-df22-4490-8964-9f497521f492"
      },
      "execution_count": null,
      "outputs": [
        {
          "output_type": "stream",
          "name": "stdout",
          "text": [
            "[CLS] To whom did the Virgin Mary allegedly appear in 1858 in Lourdes France? [SEP] Architecturally, the school has a Catholic character. Atop the Main Building ' s gold dome is a golden statue of the Virgin Mary. Immediately in front of the Main Building and facing it, is a copper statue of Christ with arms upraised with the legend \" Venite Ad Me Omnes \". Next to the Main Building is the Basilica of the Sacred Heart. Immediately behind the basi [SEP]\n",
            "[CLS] To whom did the Virgin Mary allegedly appear in 1858 in Lourdes France? [SEP] the Main Building and facing it, is a copper statue of Christ with arms upraised with the legend \" Venite Ad Me Omnes \". Next to the Main Building is the Basilica of the Sacred Heart. Immediately behind the basilica is the Grotto, a Marian place of prayer and reflection. It is a replica of the grotto at Lourdes, France where the Virgin [SEP]\n",
            "[CLS] To whom did the Virgin Mary allegedly appear in 1858 in Lourdes France? [SEP] Next to the Main Building is the Basilica of the Sacred Heart. Immediately behind the basilica is the Grotto, a Marian place of prayer and reflection. It is a replica of the grotto at Lourdes, France where the Virgin Mary reputedly appeared to Saint Bernadette Soubirous in 1858. At the end of the main drive ( and in a direct line that connects through 3 [SEP]\n",
            "[CLS] To whom did the Virgin Mary allegedly appear in 1858 in Lourdes France? [SEP]. It is a replica of the grotto at Lourdes, France where the Virgin Mary reputedly appeared to Saint Bernadette Soubirous in 1858. At the end of the main drive ( and in a direct line that connects through 3 statues and the Gold Dome ), is a simple, modern stone statue of Mary. [SEP]\n"
          ]
        }
      ]
    },
    {
      "cell_type": "markdown",
      "source": [
        "Как мы можем видеть, наш пример был разбит на четыре входа, каждый из которых содержит вопрос и часть контекста. Ответ на вопрос (\"Bernadette Soubirous\") появляется только в третьем и последнем входе, поэтому, работая с длинными контекстами таким образом, мы создадим несколько обучающих примеров, в которых ответ не будет включен в контекст. Для этих примеров метками будут start_position = end_position = 0 (таким образом мы предсказываем токен [CLS]). Мы также зададим эти метки в неудачном случае, когда ответ был усечен, так что у нас есть только его начало (или конец). Для примеров, где ответ полностью находится в контексте, метками будут индекс токена, с которого начинается ответ, и индекс токена, на котором ответ заканчивается.\n",
        "\n",
        "Датасет предоставляет нам начальный символ ответа в контексте, а прибавив к нему длину ответа, мы можем найти конечный символ в контексте. Чтобы сопоставить их с индексами токенов, нам нужно использовать сопоставление смещений6. Мы можем настроить наш токенизатор на их возврат, передав return_offsets_mapping=True:"
      ],
      "metadata": {
        "id": "7aB1yEMp2qut"
      }
    },
    {
      "cell_type": "code",
      "source": [
        "inputs = tokenizer(\n",
        "    question,\n",
        "    context,\n",
        "    max_length=100,\n",
        "    truncation=\"only_second\",\n",
        "    stride=50,\n",
        "    return_overflowing_tokens=True,\n",
        "    return_offsets_mapping=True,\n",
        ")\n",
        "inputs.keys()"
      ],
      "metadata": {
        "colab": {
          "base_uri": "https://localhost:8080/"
        },
        "id": "F4trBIN623uK",
        "outputId": "9b61724b-bd3b-45c5-c25e-935ad8c7abbe"
      },
      "execution_count": null,
      "outputs": [
        {
          "output_type": "execute_result",
          "data": {
            "text/plain": [
              "dict_keys(['input_ids', 'token_type_ids', 'attention_mask', 'offset_mapping', 'overflow_to_sample_mapping'])"
            ]
          },
          "metadata": {},
          "execution_count": 17
        }
      ]
    },
    {
      "cell_type": "markdown",
      "source": [
        "Как мы видим, нам возвращаются обычные идентификаторы входа, идентификаторы типов токенов и маска внимания, а также необходимое нам сопоставление смещений и дополнительный ключ overflow_to_sample_mapping. Соответствующее значение мы будем использовать при токенизации нескольких текстов одновременно (что мы и должны делать, чтобы извлечь выгоду из того, что наш токенизатор основан на Rust). Поскольку один образец может давать несколько признаков, он сопоставляет каждый признак с примером, из которого он произошел. Поскольку здесь мы токенизировали только один пример, мы получим список 0:"
      ],
      "metadata": {
        "id": "0itGTQOk26gZ"
      }
    },
    {
      "cell_type": "code",
      "source": [
        "inputs[\"overflow_to_sample_mapping\"]"
      ],
      "metadata": {
        "colab": {
          "base_uri": "https://localhost:8080/"
        },
        "id": "BfcL1pl12--R",
        "outputId": "1a930945-080e-432a-8a19-6eae8f1356a3"
      },
      "execution_count": null,
      "outputs": [
        {
          "output_type": "execute_result",
          "data": {
            "text/plain": [
              "[0, 0, 0, 0]"
            ]
          },
          "metadata": {},
          "execution_count": 18
        }
      ]
    },
    {
      "cell_type": "markdown",
      "source": [
        "Но если мы проведем токенизацию большего количества примеров, он станет эффективнее:"
      ],
      "metadata": {
        "id": "rPjVf94O3Ats"
      }
    },
    {
      "cell_type": "code",
      "source": [
        "inputs = tokenizer(\n",
        "    raw_datasets[\"train\"][2:6][\"question\"],\n",
        "    raw_datasets[\"train\"][2:6][\"context\"],\n",
        "    max_length=100,\n",
        "    truncation=\"only_second\",\n",
        "    stride=50,\n",
        "    return_overflowing_tokens=True,\n",
        "    return_offsets_mapping=True,\n",
        ")\n",
        "\n",
        "print(f\"The 4 examples gave {len(inputs['input_ids'])} features.\")\n",
        "print(f\"Here is where each comes from: {inputs['overflow_to_sample_mapping']}.\")"
      ],
      "metadata": {
        "colab": {
          "base_uri": "https://localhost:8080/"
        },
        "id": "PqEN52yA26Jd",
        "outputId": "5ef6c321-9e18-4ae7-af05-7ed3c69b42bd"
      },
      "execution_count": null,
      "outputs": [
        {
          "output_type": "stream",
          "name": "stdout",
          "text": [
            "The 4 examples gave 19 features.\n",
            "Here is where each comes from: [0, 0, 0, 0, 1, 1, 1, 1, 2, 2, 2, 2, 3, 3, 3, 3, 3, 3, 3].\n"
          ]
        }
      ]
    },
    {
      "cell_type": "markdown",
      "source": [
        "Как мы видим, первые три примера (с индексами 2, 3 и 4 в обучающем наборе) дали по четыре признака, а последний пример (с индексом 5 в обучающем наборе) - 7 признаков."
      ],
      "metadata": {
        "id": "YPQBZABU3GzN"
      }
    },
    {
      "cell_type": "markdown",
      "source": [
        "Эта информация будет полезна для сопоставления каждого полученного признака с соответствующей меткой. Этими метками являются:\n",
        "\n",
        "* (0, 0), если ответ не находится в соответствующей области контекста\n",
        "* (start_position, end_position), если ответ находится в соответствующей области контекста, причем start_position - это индекс токена (во входных идентификаторах) в начале ответа, а end_position - индекс токена (во входных идентификаторах) в конце ответа"
      ],
      "metadata": {
        "id": "_QWslWhH3JDu"
      }
    },
    {
      "cell_type": "markdown",
      "source": [
        "Чтобы определить, какой из этих случаев имеет место, и, если нужно, позиции токенов, мы сначала находим индексы, с которых начинается и заканчивается контекст во входных идентификаторах. Для этого мы могли бы использовать идентификаторы типов токенов, но поскольку они не обязательно существуют для всех моделей (например, DistilBERT их не требует), вместо этого мы воспользуемся методом sequence_ids() из BatchEncoding, который возвращает наш токенизатор."
      ],
      "metadata": {
        "id": "TUWMzcwN3NRK"
      }
    },
    {
      "cell_type": "markdown",
      "source": [
        "Получив индексы токенов, мы смотрим на соответствующие смещения, которые представляют собой кортежи из двух целых чисел, обозначающих промежуток символов внутри исходного контекста. Таким образом, мы можем определить, начинается ли фрагмент контекста в этом признаке после ответа или заканчивается до начала ответа (в этом случае метка будет (0, 0)). Если это не так, мы зацикливаемся, чтобы найти первый и последний токен ответа:"
      ],
      "metadata": {
        "id": "dqGY9NlK3Q8t"
      }
    },
    {
      "cell_type": "code",
      "source": [
        "answers = raw_datasets[\"train\"][2:6][\"answers\"]\n",
        "start_positions = []\n",
        "end_positions = []\n",
        "\n",
        "for i, offset in enumerate(inputs[\"offset_mapping\"]):\n",
        "    sample_idx = inputs[\"overflow_to_sample_mapping\"][i]\n",
        "    answer = answers[sample_idx]\n",
        "    start_char = answer[\"answer_start\"][0]\n",
        "    end_char = answer[\"answer_start\"][0] + len(answer[\"text\"][0])\n",
        "    sequence_ids = inputs.sequence_ids(i)\n",
        "\n",
        "    # Найдём начало и конец контекста\n",
        "    idx = 0\n",
        "    while sequence_ids[idx] != 1:\n",
        "        idx += 1\n",
        "    context_start = idx\n",
        "    while sequence_ids[idx] == 1:\n",
        "        idx += 1\n",
        "    context_end = idx - 1\n",
        "\n",
        "    # Если ответ не полностью находится внутри контекста, меткой будет (0, 0)\n",
        "    if offset[context_start][0] > start_char or offset[context_end][1] < end_char:\n",
        "        start_positions.append(0)\n",
        "        end_positions.append(0)\n",
        "    else:\n",
        "        # В противном случае это начальная и конечная позиции токенов\n",
        "        idx = context_start\n",
        "        while idx <= context_end and offset[idx][0] <= start_char:\n",
        "            idx += 1\n",
        "        start_positions.append(idx - 1)\n",
        "\n",
        "        idx = context_end\n",
        "        while idx >= context_start and offset[idx][1] >= end_char:\n",
        "            idx -= 1\n",
        "        end_positions.append(idx + 1)\n",
        "\n",
        "start_positions, end_positions"
      ],
      "metadata": {
        "colab": {
          "base_uri": "https://localhost:8080/"
        },
        "id": "GHBSBIVU3UYl",
        "outputId": "318e8097-86e0-461a-8ef7-7601a20ec551"
      },
      "execution_count": null,
      "outputs": [
        {
          "output_type": "execute_result",
          "data": {
            "text/plain": [
              "([83, 51, 19, 0, 0, 64, 27, 0, 34, 0, 0, 0, 67, 34, 0, 0, 0, 0, 0],\n",
              " [85, 53, 21, 0, 0, 70, 33, 0, 40, 0, 0, 0, 68, 35, 0, 0, 0, 0, 0])"
            ]
          },
          "metadata": {},
          "execution_count": 20
        }
      ]
    },
    {
      "cell_type": "markdown",
      "source": [
        "Давайте посмотрим на несколько результатов, чтобы убедиться в правильности нашего подхода. Для первого признака мы находим (83, 85) в качестве меток, поэтому давайте сравним теоретический ответ с декодированным диапазоном лексем с 83 по 85 (включительно):"
      ],
      "metadata": {
        "id": "KtGR5aD13kEV"
      }
    },
    {
      "cell_type": "code",
      "source": [
        "idx = 0\n",
        "sample_idx = inputs[\"overflow_to_sample_mapping\"][idx]\n",
        "answer = answers[sample_idx][\"text\"][0]\n",
        "\n",
        "start = start_positions[idx]\n",
        "end = end_positions[idx]\n",
        "labeled_answer = tokenizer.decode(inputs[\"input_ids\"][idx][start : end + 1])\n",
        "\n",
        "print(f\"Theoretical answer: {answer}, labels give: {labeled_answer}\")"
      ],
      "metadata": {
        "colab": {
          "base_uri": "https://localhost:8080/"
        },
        "id": "Lr_qajx23kap",
        "outputId": "f642a354-3095-483f-e372-a6a9f4a7b980"
      },
      "execution_count": null,
      "outputs": [
        {
          "output_type": "stream",
          "name": "stdout",
          "text": [
            "Theoretical answer: the Main Building, labels give: the Main Building\n"
          ]
        }
      ]
    },
    {
      "cell_type": "markdown",
      "source": [
        "Итак, это совпадение! Теперь проверим индекс 4, где мы установили метки на (0, 0), что означает, что ответ не находится в фрагменте контекста этого признака:"
      ],
      "metadata": {
        "id": "ki-BUB9e3n-6"
      }
    },
    {
      "cell_type": "code",
      "source": [
        "idx = 4\n",
        "sample_idx = inputs[\"overflow_to_sample_mapping\"][idx]\n",
        "answer = answers[sample_idx][\"text\"][0]\n",
        "\n",
        "decoded_example = tokenizer.decode(inputs[\"input_ids\"][idx])\n",
        "print(f\"Theoretical answer: {answer}, decoded example: {decoded_example}\")"
      ],
      "metadata": {
        "colab": {
          "base_uri": "https://localhost:8080/"
        },
        "id": "m0qNuLw_3oMg",
        "outputId": "3ab473f8-d148-4fd7-b9e0-6adfd13a3029"
      },
      "execution_count": null,
      "outputs": [
        {
          "output_type": "stream",
          "name": "stdout",
          "text": [
            "Theoretical answer: a Marian place of prayer and reflection, decoded example: [CLS] What is the Grotto at Notre Dame? [SEP] Architecturally, the school has a Catholic character. Atop the Main Building ' s gold dome is a golden statue of the Virgin Mary. Immediately in front of the Main Building and facing it, is a copper statue of Christ with arms upraised with the legend \" Venite Ad Me Omnes \". Next to the Main Building is the Basilica of the Sacred Heart. Immediately behind the basilica is the Grot [SEP]\n"
          ]
        }
      ]
    },
    {
      "cell_type": "markdown",
      "source": [
        "Нет ответа в контексте."
      ],
      "metadata": {
        "id": "FLivZQYS3qjG"
      }
    },
    {
      "cell_type": "markdown",
      "source": [
        "Теперь, когда мы шаг за шагом разобрались с предварительной обработкой обучающих данных, мы можем сгруппировать их в функцию, которую будем применять ко всему датасету. Мы дополним каждый признак до максимальной длины, которую мы задали, поскольку большинство контекстов будут длинными (и соответствующие образцы будут разбиты на несколько признаков), поэтому применение динамического дополнения здесь не имеет реальной пользы:"
      ],
      "metadata": {
        "id": "4dNk5KGa3s0J"
      }
    },
    {
      "cell_type": "code",
      "source": [
        "max_length = 384\n",
        "stride = 128\n",
        "\n",
        "\n",
        "def preprocess_training_examples(examples):\n",
        "    questions = [q.strip() for q in examples[\"question\"]]\n",
        "    inputs = tokenizer(\n",
        "        questions,\n",
        "        examples[\"context\"],\n",
        "        max_length=max_length,\n",
        "        truncation=\"only_second\",\n",
        "        stride=stride,\n",
        "        return_overflowing_tokens=True,\n",
        "        return_offsets_mapping=True,\n",
        "        padding=\"max_length\",\n",
        "    )\n",
        "\n",
        "    offset_mapping = inputs.pop(\"offset_mapping\")\n",
        "    sample_map = inputs.pop(\"overflow_to_sample_mapping\")\n",
        "    answers = examples[\"answers\"]\n",
        "    start_positions = []\n",
        "    end_positions = []\n",
        "\n",
        "    for i, offset in enumerate(offset_mapping):\n",
        "        sample_idx = sample_map[i]\n",
        "        answer = answers[sample_idx]\n",
        "        start_char = answer[\"answer_start\"][0]\n",
        "        end_char = answer[\"answer_start\"][0] + len(answer[\"text\"][0])\n",
        "        sequence_ids = inputs.sequence_ids(i)\n",
        "\n",
        "        # Найдём начало и конец контекста\n",
        "        idx = 0\n",
        "        while sequence_ids[idx] != 1:\n",
        "            idx += 1\n",
        "        context_start = idx\n",
        "        while sequence_ids[idx] == 1:\n",
        "            idx += 1\n",
        "        context_end = idx - 1\n",
        "\n",
        "        # Если ответ не полностью находится внутри контекста, меткой будет (0, 0)\n",
        "        if offset[context_start][0] > start_char or offset[context_end][1] < end_char:\n",
        "            start_positions.append(0)\n",
        "            end_positions.append(0)\n",
        "        else:\n",
        "            # В противном случае это начальная и конечная позиции токенов\n",
        "            idx = context_start\n",
        "            while idx <= context_end and offset[idx][0] <= start_char:\n",
        "                idx += 1\n",
        "            start_positions.append(idx - 1)\n",
        "\n",
        "            idx = context_end\n",
        "            while idx >= context_start and offset[idx][1] >= end_char:\n",
        "                idx -= 1\n",
        "            end_positions.append(idx + 1)\n",
        "\n",
        "    inputs[\"start_positions\"] = start_positions\n",
        "    inputs[\"end_positions\"] = end_positions\n",
        "    return inputs"
      ],
      "metadata": {
        "id": "P36Vdot83zTt"
      },
      "execution_count": null,
      "outputs": []
    },
    {
      "cell_type": "markdown",
      "source": [
        "Обратите внимание, что мы определили две константы для определения максимальной длины и длины скользящего окна, а также добавили немного очистки перед токенизацией: некоторые вопросы в датасете SQuAD имеют лишние пробелы в начале и конце, которые ничего не добавляют, поэтому мы удалили эти лишние пробелы."
      ],
      "metadata": {
        "id": "APkw0apl37Xi"
      }
    },
    {
      "cell_type": "markdown",
      "source": [
        "Чтобы применить эту функцию ко всему обучающему набору, мы используем метод Dataset.map() с флагом batched=True. Это необходимо, так как мы изменяем длину датасета (поскольку один пример может давать несколько обучающих признаков):"
      ],
      "metadata": {
        "id": "EP8O0_Ne4BNr"
      }
    },
    {
      "cell_type": "code",
      "source": [
        "train_dataset = raw_datasets[\"train\"].map(\n",
        "    preprocess_training_examples,\n",
        "    batched=True,\n",
        "    remove_columns=raw_datasets[\"train\"].column_names,\n",
        ")\n",
        "len(raw_datasets[\"train\"]), len(train_dataset)"
      ],
      "metadata": {
        "colab": {
          "base_uri": "https://localhost:8080/",
          "height": 66,
          "referenced_widgets": [
            "73d9be79d559406895c3f9ec6c02028b",
            "a60e666197674cb49433262933559ffa",
            "f28a7bdb9aa94e88b56c8ab24b2532c3",
            "086b27c87c854a23aa610bc6138d6619",
            "37f6789db92f4d4ab5fbe0c8c8863765",
            "c6d0296805bc4940b2bc62b3ce371953",
            "8cfe56b80d0840a5a9e430b2202e46bc",
            "8e685567bb9a4a558158121dc46278fa",
            "e566a5aa133047a1940b7fe87663688e",
            "ada3bb6a75b14f6db851e5d760115cfe",
            "d8b0820a16444c01ba59b02bf317a786"
          ]
        },
        "id": "NH90GmV14Bz-",
        "outputId": "b4f9ed59-7925-4521-af3a-89502ccfa4da"
      },
      "execution_count": null,
      "outputs": [
        {
          "output_type": "display_data",
          "data": {
            "text/plain": [
              "Map:   0%|          | 0/87599 [00:00<?, ? examples/s]"
            ],
            "application/vnd.jupyter.widget-view+json": {
              "version_major": 2,
              "version_minor": 0,
              "model_id": "73d9be79d559406895c3f9ec6c02028b"
            }
          },
          "metadata": {}
        },
        {
          "output_type": "execute_result",
          "data": {
            "text/plain": [
              "(87599, 88729)"
            ]
          },
          "metadata": {},
          "execution_count": 24
        }
      ]
    },
    {
      "cell_type": "markdown",
      "source": [
        "Как мы видим, предварительная обработка добавила около 1 000 признаков. Теперь наш обучающий набор готов к использованию. Перейдем к предварительной обработке валидационного набора."
      ],
      "metadata": {
        "id": "l9hjEAeR4NUZ"
      }
    },
    {
      "cell_type": "markdown",
      "source": [
        "## Подготовка валидационных данных"
      ],
      "metadata": {
        "id": "Si21dj_U4MeJ"
      }
    },
    {
      "cell_type": "markdown",
      "source": [
        "Предварительная обработка валидационных данных будет немного проще, поскольку нам не нужно генерировать метки. Настоящей радостью будет интерпретация прогнозов модели в диапазонах исходного контекста. Для этого нам нужно хранить как сопоставления смещений, так и способ сопоставления каждого созданного признака с оригинальным примером, из которого он взят. Поскольку в исходном датасете есть столбец ID, мы будем использовать этот ID."
      ],
      "metadata": {
        "id": "Tgt5tHXT4UAt"
      }
    },
    {
      "cell_type": "markdown",
      "source": [
        "Нужно очистить сопоставления смещений. Они будут содержать смещения для вопроса и контекста, но на этапе постобработки у нас не будет возможности узнать, какая часть входных идентификаторов соответствует контексту, а какая - вопросу (метод sequence_ids(), который мы использовали, доступен только для выхода токенизатора). Поэтому мы установим смещения, соответствующие вопросу, в None:"
      ],
      "metadata": {
        "id": "T3NBhOeV4bOm"
      }
    },
    {
      "cell_type": "code",
      "source": [
        "def preprocess_validation_examples(examples):\n",
        "    questions = [q.strip() for q in examples[\"question\"]]\n",
        "    inputs = tokenizer(\n",
        "        questions,\n",
        "        examples[\"context\"],\n",
        "        max_length=max_length,\n",
        "        truncation=\"only_second\",\n",
        "        stride=stride,\n",
        "        return_overflowing_tokens=True,\n",
        "        return_offsets_mapping=True,\n",
        "        padding=\"max_length\",\n",
        "    )\n",
        "\n",
        "    sample_map = inputs.pop(\"overflow_to_sample_mapping\")\n",
        "    example_ids = []\n",
        "\n",
        "    for i in range(len(inputs[\"input_ids\"])):\n",
        "        sample_idx = sample_map[i]\n",
        "        example_ids.append(examples[\"id\"][sample_idx])\n",
        "\n",
        "        sequence_ids = inputs.sequence_ids(i)\n",
        "        offset = inputs[\"offset_mapping\"][i]\n",
        "        inputs[\"offset_mapping\"][i] = [\n",
        "            o if sequence_ids[k] == 1 else None for k, o in enumerate(offset)\n",
        "        ]\n",
        "\n",
        "    inputs[\"example_id\"] = example_ids\n",
        "    return inputs"
      ],
      "metadata": {
        "id": "2QK64rl94ioi"
      },
      "execution_count": null,
      "outputs": []
    },
    {
      "cell_type": "code",
      "source": [
        "validation_dataset = raw_datasets[\"validation\"].map(\n",
        "    preprocess_validation_examples,\n",
        "    batched=True,\n",
        "    remove_columns=raw_datasets[\"validation\"].column_names,\n",
        ")\n",
        "len(raw_datasets[\"validation\"]), len(validation_dataset)"
      ],
      "metadata": {
        "colab": {
          "base_uri": "https://localhost:8080/",
          "height": 66,
          "referenced_widgets": [
            "0ce3a236016043ef8bc838fbc65d778f",
            "d85257a17de747f09329c11353e306f2",
            "8676020d903145449e7dbebc52210e4d",
            "6f262b85a2114f25b7d3f94fa5b2ef03",
            "10787632cc6e40d48bb6b72b2ff38055",
            "80141695e5214131baffd0902819b1ef",
            "c9dc951d567a4bf1bde5a9a0537259aa",
            "7931111ba51e4e6393dfd78399ab48a2",
            "86020ce9634540b4b3593a191179814e",
            "0449a49cfbc74871b4e4409a6698a46f",
            "24fc1b08298746c2b72cc4ac259e4037"
          ]
        },
        "id": "LQS5bQ9-4ley",
        "outputId": "eed700f0-0cfd-448a-8632-1a31a3018223"
      },
      "execution_count": null,
      "outputs": [
        {
          "output_type": "display_data",
          "data": {
            "text/plain": [
              "Map:   0%|          | 0/10570 [00:00<?, ? examples/s]"
            ],
            "application/vnd.jupyter.widget-view+json": {
              "version_major": 2,
              "version_minor": 0,
              "model_id": "0ce3a236016043ef8bc838fbc65d778f"
            }
          },
          "metadata": {}
        },
        {
          "output_type": "execute_result",
          "data": {
            "text/plain": [
              "(10570, 10822)"
            ]
          },
          "metadata": {},
          "execution_count": 26
        }
      ]
    },
    {
      "cell_type": "markdown",
      "source": [
        "В данном случае мы добавили всего пару сотен примеров, поэтому контексты в валидационном датасете немного короче.\n",
        "\n",
        "Теперь, когда мы предварительно обработали все данные, можно приступать к обучению."
      ],
      "metadata": {
        "id": "IaGoFTvT4p3-"
      }
    },
    {
      "cell_type": "markdown",
      "source": [
        "## Fine-Tuning модели"
      ],
      "metadata": {
        "id": "j07nDkmK4sm6"
      }
    },
    {
      "cell_type": "markdown",
      "source": [
        "### Постобработка"
      ],
      "metadata": {
        "id": "JSe8RxYW5Rfe"
      }
    },
    {
      "cell_type": "markdown",
      "source": [
        "Модель выведет логиты для начальной и конечной позиций ответа во входных идентификаторах.\n",
        "\n",
        "Чтобы ускорить процесс, мы также не будем оценивать все возможные пары (start_token, end_token), а только те, которые соответствуют наибольшим n_best логитам (при n_best=20). Так как мы пропустим softmax, эти оценки будут оценками логитов, и будут получены путем взятия суммы начального и конечного логитов (вместо произведения, по правилу \\(\\log(ab) = \\log(a) + \\log(b)\\)).\n",
        "\n",
        "Чтобы продемонстрировать все это, нам понадобятся некоторые прогнозы. Поскольку мы еще не обучили нашу модель, мы будем использовать модель по умолчанию для конвейера QA, чтобы сгенерировать несколько прогнозов на небольшой части набора для валидации. Мы можем использовать ту же функцию обработки, что и раньше; поскольку она опирается на глобальную константу tokenizer, нам просто нужно изменить этот объект на токенизатор модели, которую мы хотим временно использовать:"
      ],
      "metadata": {
        "id": "k4G-XhEj5i2W"
      }
    },
    {
      "cell_type": "code",
      "source": [
        "small_eval_set = raw_datasets[\"validation\"].select(range(100))\n",
        "trained_checkpoint = \"distilbert-base-cased-distilled-squad\"\n",
        "\n",
        "tokenizer = AutoTokenizer.from_pretrained(trained_checkpoint)\n",
        "eval_set = small_eval_set.map(\n",
        "    preprocess_validation_examples,\n",
        "    batched=True,\n",
        "    remove_columns=raw_datasets[\"validation\"].column_names,\n",
        ")"
      ],
      "metadata": {
        "colab": {
          "base_uri": "https://localhost:8080/",
          "height": 177,
          "referenced_widgets": [
            "34c54cea2b2a4c7ba016482c61684348",
            "7caf313dc08f4655853170781374b012",
            "24832f099de94c48a63f6b257a23c79b",
            "160363712404455392abd1917ee98a71",
            "ad030c127e304a4b90652ff1b2c97788",
            "1da4182dd06f4d2181965ab44c3bcf41",
            "cf9bdaa4622a40baaf7ac3dac3676cf5",
            "fee9f0d27782469080f20d53d3c898f5",
            "f9416d414e0644fcb9ee537b5d4ccfab",
            "ed347ae70c3f4aa39d9f1fb8a033c74b",
            "2d8434066d784ec2ad412d1510f0a6ab",
            "0ce63add4a2a416a8b31f8d18cc61fab",
            "ca87f4d8d8984e7ba46e34d6bdbaed6d",
            "696865f5f31d49e6a0e354611e54d7b6",
            "322775942f084d44b53484ff8f2b87c6",
            "ec528acbc62440fab591a2d4ef5c3d08",
            "eaddcce93aa849bba0f655b30357d379",
            "c1f4375e4c0842189955daf96dfef893",
            "5cbc6e47c50342689c6e0f305a68893b",
            "299e329fae6c43d1a5c121518a3cd299",
            "ece7a67fee214f6d966ea0739ea0608a",
            "becf30d1cefa4dd894f92d3cdaf5f694",
            "83bb08e1ab9f4bec85eb0b72887a835e",
            "281f714bf0e74a55a6435a284417a499",
            "1f18cd19a9a14ee8901467fad0b9eac2",
            "f82b764c82f241809a6e9c25fd12d548",
            "00c68d65b7b34720a87a72016029e4c0",
            "5f1e2022308448809422f9268ba02cd7",
            "b07ed45e78184aa19148f88897b8b2ec",
            "27c92e82453a4dcabb8cff101e112674",
            "ac1d755255794e63809a956a1d728f22",
            "01c8a5c3a3984b769404e19216f745f2",
            "db9405ce896c4a5e8d7448c552e2eefc",
            "3000d5d01c0d436788948f76d0e02e80",
            "cb1c99d844224042b11856c62beaa71a",
            "69dc59a6963044c1b7ee21cb9cb91545",
            "ac7197ae93fd4512895b6f6fe5c51e2c",
            "0b5dd47ddd574dbea6f8814ecd8657a8",
            "533a788cf5ff4feb880c595c8a16f0f8",
            "eac8d1d2f946450182844b5a68eb184b",
            "59f31707ba4249ef9f9e94f4ca3e3a85",
            "d2ef4f59e6bb4d2f8a94bf8cfc463282",
            "d8f3e4a42da645fd960df8f27cf7e9f1",
            "cc5f3a70c2624df081dffabd35425dc3",
            "39256d4427e94024a4673c222b4c0b14",
            "ce5d3ed822604f049f8591c16e837d5f",
            "71a2c6e52aea4c36883900f174c495b9",
            "a8ee7554892a4ceebaba0d80f60f1bdc",
            "0cf88ffc4e2144a08c564ec32a258e93",
            "a72a1fab1cd643ba8a066463994bce25",
            "d602c4bed2a848b7a51d297cd9749327",
            "f7619c8c02c449039bf31a1886a56037",
            "545ff08ec59448e2988e6e6fd1591a52",
            "ddb26b65041e4326b667bde0215b650c",
            "cad79574c99d4633aca566ca4f542375"
          ]
        },
        "id": "Pi2OnlNK5vw2",
        "outputId": "31f4de2f-3791-4ecd-bbd4-615798866b65"
      },
      "execution_count": null,
      "outputs": [
        {
          "output_type": "display_data",
          "data": {
            "text/plain": [
              "tokenizer_config.json:   0%|          | 0.00/49.0 [00:00<?, ?B/s]"
            ],
            "application/vnd.jupyter.widget-view+json": {
              "version_major": 2,
              "version_minor": 0,
              "model_id": "34c54cea2b2a4c7ba016482c61684348"
            }
          },
          "metadata": {}
        },
        {
          "output_type": "display_data",
          "data": {
            "text/plain": [
              "config.json:   0%|          | 0.00/473 [00:00<?, ?B/s]"
            ],
            "application/vnd.jupyter.widget-view+json": {
              "version_major": 2,
              "version_minor": 0,
              "model_id": "0ce63add4a2a416a8b31f8d18cc61fab"
            }
          },
          "metadata": {}
        },
        {
          "output_type": "display_data",
          "data": {
            "text/plain": [
              "vocab.txt:   0%|          | 0.00/213k [00:00<?, ?B/s]"
            ],
            "application/vnd.jupyter.widget-view+json": {
              "version_major": 2,
              "version_minor": 0,
              "model_id": "83bb08e1ab9f4bec85eb0b72887a835e"
            }
          },
          "metadata": {}
        },
        {
          "output_type": "display_data",
          "data": {
            "text/plain": [
              "tokenizer.json:   0%|          | 0.00/436k [00:00<?, ?B/s]"
            ],
            "application/vnd.jupyter.widget-view+json": {
              "version_major": 2,
              "version_minor": 0,
              "model_id": "3000d5d01c0d436788948f76d0e02e80"
            }
          },
          "metadata": {}
        },
        {
          "output_type": "display_data",
          "data": {
            "text/plain": [
              "Map:   0%|          | 0/100 [00:00<?, ? examples/s]"
            ],
            "application/vnd.jupyter.widget-view+json": {
              "version_major": 2,
              "version_minor": 0,
              "model_id": "39256d4427e94024a4673c222b4c0b14"
            }
          },
          "metadata": {}
        }
      ]
    },
    {
      "cell_type": "markdown",
      "source": [
        "Теперь, когда препроцессинг завершен, мы меняем токенизатор обратно на тот, который был выбран изначально:"
      ],
      "metadata": {
        "id": "QJQW04Sw5wyB"
      }
    },
    {
      "cell_type": "code",
      "source": [
        "tokenizer = AutoTokenizer.from_pretrained(model_checkpoint)"
      ],
      "metadata": {
        "id": "2h_P5XHF5yLB"
      },
      "execution_count": null,
      "outputs": []
    },
    {
      "cell_type": "markdown",
      "source": [
        "Затем мы удаляем из нашего eval_set столбцы, которые не ожидает модель, создаем батч со всей этой небольшой валидацией и пропускаем его через модель."
      ],
      "metadata": {
        "id": "DM9yEn945zmO"
      }
    },
    {
      "cell_type": "code",
      "source": [
        "eval_set_for_model = eval_set.remove_columns([\"example_id\", \"offset_mapping\"])\n",
        "eval_set_for_model.set_format(\"torch\")\n",
        "\n",
        "device = torch.device(\"cuda\") if torch.cuda.is_available() else torch.device(\"cpu\")\n",
        "batch = {k: eval_set_for_model[k].to(device) for k in eval_set_for_model.column_names}\n",
        "trained_model = AutoModelForQuestionAnswering.from_pretrained(trained_checkpoint).to(\n",
        "    device\n",
        ")\n",
        "\n",
        "with torch.no_grad():\n",
        "    outputs = trained_model(**batch)"
      ],
      "metadata": {
        "colab": {
          "base_uri": "https://localhost:8080/",
          "height": 49,
          "referenced_widgets": [
            "45da9f3cf9834a889a1154a6a798c6eb",
            "dc2605d635a44a9a8c97699158c99d04",
            "4886a459465742b98f44a79972e80079",
            "e474f890300f47308981d901d6eccbb8",
            "f740aec191594a4aa063c9dd4255dd11",
            "177c2836638d4dd68f9eb7f44503a24f",
            "4a71a68fa0f74cb2b8e1c995e51d4e75",
            "768e2e4d94614cd6a14906d2d6c14645",
            "66d0752fb09042018c0f13dafb05b822",
            "1e52170ef5914ed4a2d4b5b7ddfb5e1e",
            "c092fa0526574f918ad1c57256cedd98"
          ]
        },
        "id": "McEzhHkG53Cz",
        "outputId": "9056fd20-5132-4e95-95d3-d732f88f7716"
      },
      "execution_count": null,
      "outputs": [
        {
          "output_type": "display_data",
          "data": {
            "text/plain": [
              "model.safetensors:   0%|          | 0.00/261M [00:00<?, ?B/s]"
            ],
            "application/vnd.jupyter.widget-view+json": {
              "version_major": 2,
              "version_minor": 0,
              "model_id": "45da9f3cf9834a889a1154a6a798c6eb"
            }
          },
          "metadata": {}
        }
      ]
    },
    {
      "cell_type": "markdown",
      "source": [
        "Поскольку Trainer будет возвращать нам прогнозы в виде массивов NumPy, мы берем начальный и конечный логиты и конвертируем их в этот формат:"
      ],
      "metadata": {
        "id": "0nybj5dx6Am6"
      }
    },
    {
      "cell_type": "code",
      "source": [
        "start_logits = outputs.start_logits.cpu().numpy()\n",
        "end_logits = outputs.end_logits.cpu().numpy()"
      ],
      "metadata": {
        "id": "q3i3zidA6BFl"
      },
      "execution_count": null,
      "outputs": []
    },
    {
      "cell_type": "markdown",
      "source": [
        "Теперь нам нужно найти спрогнозированный ответ для каждого примера в small_eval_set. Один пример может быть разбит на несколько признаков в eval_set, поэтому первым шагом будет сопоставление каждого примера в small_eval_set с соответствующими признаками в eval_set:"
      ],
      "metadata": {
        "id": "zOrGf_HC6Qjt"
      }
    },
    {
      "cell_type": "code",
      "source": [
        "example_to_features = collections.defaultdict(list)\n",
        "for idx, feature in enumerate(eval_set):\n",
        "    example_to_features[feature[\"example_id\"]].append(idx)"
      ],
      "metadata": {
        "id": "mPY_asgN6SdR"
      },
      "execution_count": null,
      "outputs": []
    },
    {
      "cell_type": "markdown",
      "source": [
        "Имея это на руках, мы можем приступить к работе, итерируясь по всем примерам и, для каждого примера, по всем ассоциированным с ним признакам. Как мы уже говорили, мы рассмотрим оценки логитов для n_best начальных логитов и конечных логитов, исключая позиции, которые дают:\n",
        "\n",
        "Ответ, который не вписывается в контекст\n",
        "Ответ с отрицательной длиной\n",
        "Слишком длинный ответ (мы ограничиваем возможности по max_answer_length=30).\n",
        "После того как мы получили все возможные ответы для одного примера, мы просто выбираем тот, который имеет лучшую оценку логита:"
      ],
      "metadata": {
        "id": "FCmkNCP37lI-"
      }
    },
    {
      "cell_type": "code",
      "source": [
        "n_best = 20\n",
        "max_answer_length = 30\n",
        "predicted_answers = []\n",
        "\n",
        "for example in small_eval_set:\n",
        "    example_id = example[\"id\"]\n",
        "    context = example[\"context\"]\n",
        "    answers = []\n",
        "\n",
        "    for feature_index in example_to_features[example_id]:\n",
        "        start_logit = start_logits[feature_index]\n",
        "        end_logit = end_logits[feature_index]\n",
        "        offsets = eval_set[\"offset_mapping\"][feature_index]\n",
        "\n",
        "        start_indexes = np.argsort(start_logit)[-1 : -n_best - 1 : -1].tolist()\n",
        "        end_indexes = np.argsort(end_logit)[-1 : -n_best - 1 : -1].tolist()\n",
        "        for start_index in start_indexes:\n",
        "            for end_index in end_indexes:\n",
        "                # Пропускаем ответы, которые не полностью соответствуют контексту\n",
        "                if offsets[start_index] is None or offsets[end_index] is None:\n",
        "                    continue\n",
        "                # Пропускайте ответы, длина которых либо < 0, либо > max_answer_length.\n",
        "                if (\n",
        "                    end_index < start_index\n",
        "                    or end_index - start_index + 1 > max_answer_length\n",
        "                ):\n",
        "                    continue\n",
        "\n",
        "                answers.append(\n",
        "                    {\n",
        "                        \"text\": context[offsets[start_index][0] : offsets[end_index][1]],\n",
        "                        \"logit_score\": start_logit[start_index] + end_logit[end_index],\n",
        "                    }\n",
        "                )\n",
        "\n",
        "    best_answer = max(answers, key=lambda x: x[\"logit_score\"])\n",
        "    predicted_answers.append({\"id\": example_id, \"prediction_text\": best_answer[\"text\"]})"
      ],
      "metadata": {
        "id": "Y4hhUWkl7l-i"
      },
      "execution_count": null,
      "outputs": []
    },
    {
      "cell_type": "markdown",
      "source": [
        "Окончательный формат спрогнозированных ответов - это тот, который ожидает метрика, которую мы будем использовать. Как обычно, мы можем загрузить ее с помощью библиотеки Evaluate:"
      ],
      "metadata": {
        "id": "hKk_RN9m77Ru"
      }
    },
    {
      "cell_type": "code",
      "source": [
        "metric = evaluate.load(\"squad\")"
      ],
      "metadata": {
        "colab": {
          "base_uri": "https://localhost:8080/",
          "height": 81,
          "referenced_widgets": [
            "e09c8145661e449b9c468136574abfdd",
            "9aef172c4ba947ffb56d8d873ceff289",
            "a50112619f4d42c695d60db32ac120a2",
            "0d35309f2f4f431caea9e539a37f1322",
            "26160fb882034839ae7d7252c2f86bd5",
            "474c254b21ed4d4e84a2852259d10534",
            "8046734eac77489f83aaa2d57d9bae86",
            "24c08a1125b94c8bac6903a21173c81d",
            "54a858ed0f474c1bafba87767bef7b5e",
            "49dc5583db2043d1a4305d0ce900c5f7",
            "46bc34e647fd4e969f9321e2fc549e56",
            "ef4bd2128e884c4eb36b0c78ba7d2d5f",
            "d5e04ccd730548288da467420cff25d2",
            "0a3c94546e1b459c81bed4e2d59c3618",
            "98eeb738d5414237a1025fcd281ab96d",
            "1ac4717018c0476ca70f08f7a0283a69",
            "189eeb21d3264b2a948baddc24dfc7a0",
            "bcd8a48185a643cda674dc17eceec3bf",
            "d20dcc9055b142a789f8c1ba7dbb2508",
            "2093a101665244c49bec635036d00f8d",
            "22b7e2f39f9f4245ba8464f83c01ca7f",
            "84a61d5bd6d54aa48675ab442e9ddfa5"
          ]
        },
        "id": "6Xe2MS2b71r2",
        "outputId": "f3ce0e37-53fa-4ac8-81c1-73decadd254f"
      },
      "execution_count": null,
      "outputs": [
        {
          "output_type": "display_data",
          "data": {
            "text/plain": [
              "Downloading builder script:   0%|          | 0.00/4.53k [00:00<?, ?B/s]"
            ],
            "application/vnd.jupyter.widget-view+json": {
              "version_major": 2,
              "version_minor": 0,
              "model_id": "e09c8145661e449b9c468136574abfdd"
            }
          },
          "metadata": {}
        },
        {
          "output_type": "display_data",
          "data": {
            "text/plain": [
              "Downloading extra modules:   0%|          | 0.00/3.32k [00:00<?, ?B/s]"
            ],
            "application/vnd.jupyter.widget-view+json": {
              "version_major": 2,
              "version_minor": 0,
              "model_id": "ef4bd2128e884c4eb36b0c78ba7d2d5f"
            }
          },
          "metadata": {}
        }
      ]
    },
    {
      "cell_type": "markdown",
      "source": [
        "Эта метрика ожидает прогнозируемые ответы в формате, который мы видели выше (список словарей с одним ключом для идентификатора примера и одним ключом для прогнозируемого текста), и теоретические ответы в формате ниже (список словарей с одним ключом для идентификатора примера и одним ключом для возможных ответов):"
      ],
      "metadata": {
        "id": "8t2cgtu07-r-"
      }
    },
    {
      "cell_type": "code",
      "source": [
        "theoretical_answers = [\n",
        "    {\"id\": ex[\"id\"], \"answers\": ex[\"answers\"]} for ex in small_eval_set\n",
        "]"
      ],
      "metadata": {
        "id": "AZMSmRme7--q"
      },
      "execution_count": null,
      "outputs": []
    },
    {
      "cell_type": "markdown",
      "source": [
        "Теперь мы можем убедиться, что получаем разумные результаты, посмотрев на первый элемент обоих списков:"
      ],
      "metadata": {
        "id": "uTGubktr8BdU"
      }
    },
    {
      "cell_type": "code",
      "source": [
        "print(predicted_answers[0])\n",
        "print(theoretical_answers[0])"
      ],
      "metadata": {
        "colab": {
          "base_uri": "https://localhost:8080/"
        },
        "id": "yTmxZv8d8CR2",
        "outputId": "0cdc0c79-e46a-4f71-c486-7eb7563d999e"
      },
      "execution_count": null,
      "outputs": [
        {
          "output_type": "stream",
          "name": "stdout",
          "text": [
            "{'id': '56be4db0acb8001400a502ec', 'prediction_text': 'Denver Broncos'}\n",
            "{'id': '56be4db0acb8001400a502ec', 'answers': {'text': ['Denver Broncos', 'Denver Broncos', 'Denver Broncos'], 'answer_start': [177, 177, 177]}}\n"
          ]
        }
      ]
    },
    {
      "cell_type": "markdown",
      "source": [
        "Не так уж плохо! Теперь давайте посмотрим на оценку, которую дает нам метрика:"
      ],
      "metadata": {
        "id": "ML8hs8tW8Dw2"
      }
    },
    {
      "cell_type": "code",
      "source": [
        "metric.compute(predictions=predicted_answers, references=theoretical_answers)"
      ],
      "metadata": {
        "colab": {
          "base_uri": "https://localhost:8080/"
        },
        "id": "u8YxIbNS8EL2",
        "outputId": "a646bb55-fa9b-41ac-bf39-038715d3552f"
      },
      "execution_count": null,
      "outputs": [
        {
          "output_type": "execute_result",
          "data": {
            "text/plain": [
              "{'exact_match': 83.0, 'f1': 88.25000000000004}"
            ]
          },
          "metadata": {},
          "execution_count": 36
        }
      ]
    },
    {
      "cell_type": "markdown",
      "source": [
        "Теперь давайте поместим все, что мы только что сделали, в функцию compute_metrics(), которую мы будем использовать в Trainer. Обычно функция compute_metrics() получает только кортеж eval_preds с логитами и метками. Здесь нам понадобится немного больше, так как мы должны искать в датасете признаков смещения и в датасете примеров исходные контексты, поэтому мы не сможем использовать эту функцию для получения обычных результатов оценки во время обучения. Мы будем использовать ее только в конце обучения для проверки результатов.\n",
        "\n",
        "Функция compute_metrics() группирует те же шаги, что и до этого, только добавляется небольшая проверка на случай, если мы не найдем ни одного правильного ответа (в этом случае мы прогнозируем пустую строку)."
      ],
      "metadata": {
        "id": "ig2aYgac8Rna"
      }
    },
    {
      "cell_type": "code",
      "source": [
        "def compute_metrics(start_logits, end_logits, features, examples):\n",
        "    example_to_features = collections.defaultdict(list)\n",
        "    for idx, feature in enumerate(features):\n",
        "        example_to_features[feature[\"example_id\"]].append(idx)\n",
        "\n",
        "    predicted_answers = []\n",
        "    for example in tqdm(examples):\n",
        "        example_id = example[\"id\"]\n",
        "        context = example[\"context\"]\n",
        "        answers = []\n",
        "\n",
        "        # Итерируемся по всем признакам, ассоциированным с этим примером\n",
        "        for feature_index in example_to_features[example_id]:\n",
        "            start_logit = start_logits[feature_index]\n",
        "            end_logit = end_logits[feature_index]\n",
        "            offsets = features[feature_index][\"offset_mapping\"]\n",
        "\n",
        "            start_indexes = np.argsort(start_logit)[-1 : -n_best - 1 : -1].tolist()\n",
        "            end_indexes = np.argsort(end_logit)[-1 : -n_best - 1 : -1].tolist()\n",
        "            for start_index in start_indexes:\n",
        "                for end_index in end_indexes:\n",
        "                    # Пропускаем ответы, которые не полностью соответствуют контексту\n",
        "                    if offsets[start_index] is None or offsets[end_index] is None:\n",
        "                        continue\n",
        "                    # Пропускайте ответы, длина которых либо < 0, либо > max_answer_length\n",
        "                    if (\n",
        "                        end_index < start_index\n",
        "                        or end_index - start_index + 1 > max_answer_length\n",
        "                    ):\n",
        "                        continue\n",
        "\n",
        "                    answer = {\n",
        "                        \"text\": context[offsets[start_index][0] : offsets[end_index][1]],\n",
        "                        \"logit_score\": start_logit[start_index] + end_logit[end_index],\n",
        "                    }\n",
        "                    answers.append(answer)\n",
        "\n",
        "        # Выбираем ответ с лучшей оценкой\n",
        "        if len(answers) > 0:\n",
        "            best_answer = max(answers, key=lambda x: x[\"logit_score\"])\n",
        "            predicted_answers.append(\n",
        "                {\"id\": example_id, \"prediction_text\": best_answer[\"text\"]}\n",
        "            )\n",
        "        else:\n",
        "            predicted_answers.append({\"id\": example_id, \"prediction_text\": \"\"})\n",
        "\n",
        "    theoretical_answers = [{\"id\": ex[\"id\"], \"answers\": ex[\"answers\"]} for ex in examples]\n",
        "    return metric.compute(predictions=predicted_answers, references=theoretical_answers)"
      ],
      "metadata": {
        "id": "Mp9IeV9p8W62"
      },
      "execution_count": null,
      "outputs": []
    },
    {
      "cell_type": "code",
      "source": [
        "compute_metrics(start_logits, end_logits, eval_set, small_eval_set)"
      ],
      "metadata": {
        "colab": {
          "base_uri": "https://localhost:8080/",
          "height": 66,
          "referenced_widgets": [
            "6b8550b5f544419daf757e1f9c583779",
            "6029f0dd531c42089037953aaafae5f8",
            "b636facb733f43bba693b9bf87668ee0",
            "1da6091ee33b443f91f6b86be4eb49df",
            "0d4b4d6ca0ce430988cf469f8ded2fa0",
            "6197631de5a0434b936abd1517800c30",
            "96a60d1934684b39b18ea38e52e193b1",
            "411dcb503dc34c948363c62da2712093",
            "dbeee9adebd04165a935702443c6ea30",
            "d442fad025d54b37939db0bf4480b0a1",
            "e73f14e5804f494ca8f2c1244d83793f"
          ]
        },
        "id": "LoryEYYO8eTy",
        "outputId": "926b2d66-6073-4f27-d18c-a522363da6d4"
      },
      "execution_count": null,
      "outputs": [
        {
          "output_type": "display_data",
          "data": {
            "text/plain": [
              "  0%|          | 0/100 [00:00<?, ?it/s]"
            ],
            "application/vnd.jupyter.widget-view+json": {
              "version_major": 2,
              "version_minor": 0,
              "model_id": "6b8550b5f544419daf757e1f9c583779"
            }
          },
          "metadata": {}
        },
        {
          "output_type": "execute_result",
          "data": {
            "text/plain": [
              "{'exact_match': 83.0, 'f1': 88.25000000000004}"
            ]
          },
          "metadata": {},
          "execution_count": 38
        }
      ]
    },
    {
      "cell_type": "markdown",
      "source": [
        "Выглядит отлично! Теперь давайте используем это для дообучения нашей модели."
      ],
      "metadata": {
        "id": "WXalrjNm8gZN"
      }
    },
    {
      "cell_type": "markdown",
      "source": [
        "### Дообучение модели"
      ],
      "metadata": {
        "id": "i7A557My8hNW"
      }
    },
    {
      "cell_type": "markdown",
      "source": [
        "Теперь мы готовы к обучению нашей модели. Давайте сначала создадим ее, используя класс AutoModelForQuestionAnswering, как и раньше:"
      ],
      "metadata": {
        "id": "npFiBjJ58l66"
      }
    },
    {
      "cell_type": "code",
      "source": [
        "model = AutoModelForQuestionAnswering.from_pretrained(model_checkpoint)"
      ],
      "metadata": {
        "colab": {
          "base_uri": "https://localhost:8080/",
          "height": 84,
          "referenced_widgets": [
            "112799ccb80f460eaf9036e652ccbfad",
            "c899854522c34d4ba83ad26134949497",
            "fddf5f0e93904778b9d0bb1a2199966b",
            "b56fccce42ff402ca3d2ad9e973cb9e2",
            "946d972b7f7947ac845becfaa921f37a",
            "3fec93f9b57a43dab22292aa1aeba019",
            "870171e282ab40368d35e1ee4b0311bf",
            "edadded1621b41dd947bcf9add3c55af",
            "c91efa918e0f47c0b2b339a83feada53",
            "83d659c551db4dbaa3a37634aa6e21f2",
            "7a71af0bd58540c190a6f024ec3a01cb"
          ]
        },
        "id": "jD9z88Eb8kNO",
        "outputId": "c706c0de-2971-4b18-a8cb-737a2398496e"
      },
      "execution_count": null,
      "outputs": [
        {
          "output_type": "display_data",
          "data": {
            "text/plain": [
              "model.safetensors:   0%|          | 0.00/436M [00:00<?, ?B/s]"
            ],
            "application/vnd.jupyter.widget-view+json": {
              "version_major": 2,
              "version_minor": 0,
              "model_id": "112799ccb80f460eaf9036e652ccbfad"
            }
          },
          "metadata": {}
        },
        {
          "output_type": "stream",
          "name": "stderr",
          "text": [
            "Some weights of BertForQuestionAnswering were not initialized from the model checkpoint at bert-base-cased and are newly initialized: ['qa_outputs.bias', 'qa_outputs.weight']\n",
            "You should probably TRAIN this model on a down-stream task to be able to use it for predictions and inference.\n"
          ]
        }
      ]
    },
    {
      "cell_type": "markdown",
      "source": [
        "Как обычно, мы получаем предупреждение о том, что некоторые веса не используются (веса головы предварительного обучения), а другие инициализируются случайным образом (веса головы ответов на вопросы). Вы уже должны были привыкнуть к этому, но это означает, что модель еще не готова к использованию и нуждается в дообучении - хорошо, что мы сейчас этим займемся!"
      ],
      "metadata": {
        "id": "SnGY-c2J8tJG"
      }
    },
    {
      "cell_type": "markdown",
      "source": [
        "Можем определить наши TrainingArguments. Как мы уже говорили, когда определяли нашу функцию для вычисления метрики, мы не сможем сделать обычный цикл оценки из-за сигнатуры функции compute_metrics(). Мы могли бы написать собственный подкласс Trainer для этого, но это слишком длинно для данного раздела. Вместо этого мы будем оценивать модель только в конце обучения, а как проводить регулярную оценку, покажем ниже в разделе \"Пользовательский цикл обучения\"."
      ],
      "metadata": {
        "id": "jjLz31tI8yfK"
      }
    },
    {
      "cell_type": "code",
      "source": [
        "args = TrainingArguments(\n",
        "    \"bert-finetuned-squad\",\n",
        "    # evaluation_strategy=\"no\",\n",
        "    save_strategy=\"epoch\",\n",
        "    learning_rate=2e-5,\n",
        "    num_train_epochs=3,\n",
        "    weight_decay=0.01,\n",
        "    fp16=True,\n",
        "    push_to_hub=True,\n",
        ")"
      ],
      "metadata": {
        "id": "w5qbAL-r8tfC"
      },
      "execution_count": null,
      "outputs": []
    },
    {
      "cell_type": "markdown",
      "source": [
        "Наконец, мы просто передаем все в класс Trainer и запускаем обучение:"
      ],
      "metadata": {
        "id": "vguKWDBp9s6B"
      }
    },
    {
      "cell_type": "code",
      "source": [
        "trainer = Trainer(\n",
        "    model=model,\n",
        "    args=args,\n",
        "    train_dataset=train_dataset,\n",
        "    eval_dataset=validation_dataset,\n",
        "    tokenizer=tokenizer,\n",
        ")\n",
        "trainer.train()"
      ],
      "metadata": {
        "colab": {
          "base_uri": "https://localhost:8080/",
          "height": 1000
        },
        "id": "J9BTxtwB9uKy",
        "outputId": "fc8baf2a-26c4-42b0-a076-80a10b9578fb"
      },
      "execution_count": null,
      "outputs": [
        {
          "output_type": "stream",
          "name": "stderr",
          "text": [
            "<ipython-input-41-705e4356bf8d>:1: FutureWarning: `tokenizer` is deprecated and will be removed in version 5.0.0 for `Trainer.__init__`. Use `processing_class` instead.\n",
            "  trainer = Trainer(\n",
            "\u001b[34m\u001b[1mwandb\u001b[0m: \u001b[33mWARNING\u001b[0m The `run_name` is currently set to the same value as `TrainingArguments.output_dir`. If this was not intended, please specify a different run name by setting the `TrainingArguments.run_name` parameter.\n"
          ]
        },
        {
          "output_type": "display_data",
          "data": {
            "text/plain": [
              "<IPython.core.display.Javascript object>"
            ],
            "application/javascript": [
              "\n",
              "        window._wandbApiKey = new Promise((resolve, reject) => {\n",
              "            function loadScript(url) {\n",
              "            return new Promise(function(resolve, reject) {\n",
              "                let newScript = document.createElement(\"script\");\n",
              "                newScript.onerror = reject;\n",
              "                newScript.onload = resolve;\n",
              "                document.body.appendChild(newScript);\n",
              "                newScript.src = url;\n",
              "            });\n",
              "            }\n",
              "            loadScript(\"https://cdn.jsdelivr.net/npm/postmate/build/postmate.min.js\").then(() => {\n",
              "            const iframe = document.createElement('iframe')\n",
              "            iframe.style.cssText = \"width:0;height:0;border:none\"\n",
              "            document.body.appendChild(iframe)\n",
              "            const handshake = new Postmate({\n",
              "                container: iframe,\n",
              "                url: 'https://wandb.ai/authorize'\n",
              "            });\n",
              "            const timeout = setTimeout(() => reject(\"Couldn't auto authenticate\"), 5000)\n",
              "            handshake.then(function(child) {\n",
              "                child.on('authorize', data => {\n",
              "                    clearTimeout(timeout)\n",
              "                    resolve(data)\n",
              "                });\n",
              "            });\n",
              "            })\n",
              "        });\n",
              "    "
            ]
          },
          "metadata": {}
        },
        {
          "output_type": "stream",
          "name": "stderr",
          "text": [
            "\u001b[34m\u001b[1mwandb\u001b[0m: Logging into wandb.ai. (Learn how to deploy a W&B server locally: https://wandb.me/wandb-server)\n",
            "\u001b[34m\u001b[1mwandb\u001b[0m: You can find your API key in your browser here: https://wandb.ai/authorize?ref=models\n",
            "wandb: Paste an API key from your profile and hit enter:"
          ]
        },
        {
          "name": "stdout",
          "output_type": "stream",
          "text": [
            " ··········\n"
          ]
        },
        {
          "output_type": "stream",
          "name": "stderr",
          "text": [
            "\u001b[34m\u001b[1mwandb\u001b[0m: \u001b[33mWARNING\u001b[0m If you're specifying your api key in code, ensure this code is not shared publicly.\n",
            "\u001b[34m\u001b[1mwandb\u001b[0m: \u001b[33mWARNING\u001b[0m Consider setting the WANDB_API_KEY environment variable, or running `wandb login` from the command line.\n",
            "\u001b[34m\u001b[1mwandb\u001b[0m: No netrc file found, creating one.\n",
            "\u001b[34m\u001b[1mwandb\u001b[0m: Appending key for api.wandb.ai to your netrc file: /root/.netrc\n",
            "\u001b[34m\u001b[1mwandb\u001b[0m: Currently logged in as: \u001b[33mnesterenkoms2001\u001b[0m (\u001b[33mnesterenkoms2001-digitaltech\u001b[0m) to \u001b[32mhttps://api.wandb.ai\u001b[0m. Use \u001b[1m`wandb login --relogin`\u001b[0m to force relogin\n"
          ]
        },
        {
          "output_type": "display_data",
          "data": {
            "text/plain": [
              "<IPython.core.display.HTML object>"
            ],
            "text/html": [
              "Tracking run with wandb version 0.19.11"
            ]
          },
          "metadata": {}
        },
        {
          "output_type": "display_data",
          "data": {
            "text/plain": [
              "<IPython.core.display.HTML object>"
            ],
            "text/html": [
              "Run data is saved locally in <code>/content/wandb/run-20250607_101634-m9ieodr5</code>"
            ]
          },
          "metadata": {}
        },
        {
          "output_type": "display_data",
          "data": {
            "text/plain": [
              "<IPython.core.display.HTML object>"
            ],
            "text/html": [
              "Syncing run <strong><a href='https://wandb.ai/nesterenkoms2001-digitaltech/huggingface/runs/m9ieodr5' target=\"_blank\">bert-finetuned-squad</a></strong> to <a href='https://wandb.ai/nesterenkoms2001-digitaltech/huggingface' target=\"_blank\">Weights & Biases</a> (<a href='https://wandb.me/developer-guide' target=\"_blank\">docs</a>)<br>"
            ]
          },
          "metadata": {}
        },
        {
          "output_type": "display_data",
          "data": {
            "text/plain": [
              "<IPython.core.display.HTML object>"
            ],
            "text/html": [
              " View project at <a href='https://wandb.ai/nesterenkoms2001-digitaltech/huggingface' target=\"_blank\">https://wandb.ai/nesterenkoms2001-digitaltech/huggingface</a>"
            ]
          },
          "metadata": {}
        },
        {
          "output_type": "display_data",
          "data": {
            "text/plain": [
              "<IPython.core.display.HTML object>"
            ],
            "text/html": [
              " View run at <a href='https://wandb.ai/nesterenkoms2001-digitaltech/huggingface/runs/m9ieodr5' target=\"_blank\">https://wandb.ai/nesterenkoms2001-digitaltech/huggingface/runs/m9ieodr5</a>"
            ]
          },
          "metadata": {}
        },
        {
          "output_type": "display_data",
          "data": {
            "text/plain": [
              "<IPython.core.display.HTML object>"
            ],
            "text/html": [
              "\n",
              "    <div>\n",
              "      \n",
              "      <progress value='33276' max='33276' style='width:300px; height:20px; vertical-align: middle;'></progress>\n",
              "      [33276/33276 1:43:35, Epoch 3/3]\n",
              "    </div>\n",
              "    <table border=\"1\" class=\"dataframe\">\n",
              "  <thead>\n",
              " <tr style=\"text-align: left;\">\n",
              "      <th>Step</th>\n",
              "      <th>Training Loss</th>\n",
              "    </tr>\n",
              "  </thead>\n",
              "  <tbody>\n",
              "    <tr>\n",
              "      <td>500</td>\n",
              "      <td>2.584100</td>\n",
              "    </tr>\n",
              "    <tr>\n",
              "      <td>1000</td>\n",
              "      <td>1.633800</td>\n",
              "    </tr>\n",
              "    <tr>\n",
              "      <td>1500</td>\n",
              "      <td>1.468400</td>\n",
              "    </tr>\n",
              "    <tr>\n",
              "      <td>2000</td>\n",
              "      <td>1.371500</td>\n",
              "    </tr>\n",
              "    <tr>\n",
              "      <td>2500</td>\n",
              "      <td>1.341300</td>\n",
              "    </tr>\n",
              "    <tr>\n",
              "      <td>3000</td>\n",
              "      <td>1.310500</td>\n",
              "    </tr>\n",
              "    <tr>\n",
              "      <td>3500</td>\n",
              "      <td>1.246000</td>\n",
              "    </tr>\n",
              "    <tr>\n",
              "      <td>4000</td>\n",
              "      <td>1.204500</td>\n",
              "    </tr>\n",
              "    <tr>\n",
              "      <td>4500</td>\n",
              "      <td>1.142600</td>\n",
              "    </tr>\n",
              "    <tr>\n",
              "      <td>5000</td>\n",
              "      <td>1.171800</td>\n",
              "    </tr>\n",
              "    <tr>\n",
              "      <td>5500</td>\n",
              "      <td>1.131100</td>\n",
              "    </tr>\n",
              "    <tr>\n",
              "      <td>6000</td>\n",
              "      <td>1.133200</td>\n",
              "    </tr>\n",
              "    <tr>\n",
              "      <td>6500</td>\n",
              "      <td>1.127800</td>\n",
              "    </tr>\n",
              "    <tr>\n",
              "      <td>7000</td>\n",
              "      <td>1.072100</td>\n",
              "    </tr>\n",
              "    <tr>\n",
              "      <td>7500</td>\n",
              "      <td>1.105100</td>\n",
              "    </tr>\n",
              "    <tr>\n",
              "      <td>8000</td>\n",
              "      <td>1.103300</td>\n",
              "    </tr>\n",
              "    <tr>\n",
              "      <td>8500</td>\n",
              "      <td>1.049000</td>\n",
              "    </tr>\n",
              "    <tr>\n",
              "      <td>9000</td>\n",
              "      <td>1.088600</td>\n",
              "    </tr>\n",
              "    <tr>\n",
              "      <td>9500</td>\n",
              "      <td>1.039000</td>\n",
              "    </tr>\n",
              "    <tr>\n",
              "      <td>10000</td>\n",
              "      <td>1.054100</td>\n",
              "    </tr>\n",
              "    <tr>\n",
              "      <td>10500</td>\n",
              "      <td>1.042000</td>\n",
              "    </tr>\n",
              "    <tr>\n",
              "      <td>11000</td>\n",
              "      <td>1.025500</td>\n",
              "    </tr>\n",
              "    <tr>\n",
              "      <td>11500</td>\n",
              "      <td>0.808100</td>\n",
              "    </tr>\n",
              "    <tr>\n",
              "      <td>12000</td>\n",
              "      <td>0.716200</td>\n",
              "    </tr>\n",
              "    <tr>\n",
              "      <td>12500</td>\n",
              "      <td>0.779200</td>\n",
              "    </tr>\n",
              "    <tr>\n",
              "      <td>13000</td>\n",
              "      <td>0.732800</td>\n",
              "    </tr>\n",
              "    <tr>\n",
              "      <td>13500</td>\n",
              "      <td>0.784200</td>\n",
              "    </tr>\n",
              "    <tr>\n",
              "      <td>14000</td>\n",
              "      <td>0.780300</td>\n",
              "    </tr>\n",
              "    <tr>\n",
              "      <td>14500</td>\n",
              "      <td>0.752400</td>\n",
              "    </tr>\n",
              "    <tr>\n",
              "      <td>15000</td>\n",
              "      <td>0.740300</td>\n",
              "    </tr>\n",
              "    <tr>\n",
              "      <td>15500</td>\n",
              "      <td>0.741300</td>\n",
              "    </tr>\n",
              "    <tr>\n",
              "      <td>16000</td>\n",
              "      <td>0.774200</td>\n",
              "    </tr>\n",
              "    <tr>\n",
              "      <td>16500</td>\n",
              "      <td>0.740100</td>\n",
              "    </tr>\n",
              "    <tr>\n",
              "      <td>17000</td>\n",
              "      <td>0.757800</td>\n",
              "    </tr>\n",
              "    <tr>\n",
              "      <td>17500</td>\n",
              "      <td>0.740200</td>\n",
              "    </tr>\n",
              "    <tr>\n",
              "      <td>18000</td>\n",
              "      <td>0.726900</td>\n",
              "    </tr>\n",
              "    <tr>\n",
              "      <td>18500</td>\n",
              "      <td>0.735300</td>\n",
              "    </tr>\n",
              "    <tr>\n",
              "      <td>19000</td>\n",
              "      <td>0.700800</td>\n",
              "    </tr>\n",
              "    <tr>\n",
              "      <td>19500</td>\n",
              "      <td>0.726600</td>\n",
              "    </tr>\n",
              "    <tr>\n",
              "      <td>20000</td>\n",
              "      <td>0.770800</td>\n",
              "    </tr>\n",
              "    <tr>\n",
              "      <td>20500</td>\n",
              "      <td>0.770700</td>\n",
              "    </tr>\n",
              "    <tr>\n",
              "      <td>21000</td>\n",
              "      <td>0.724500</td>\n",
              "    </tr>\n",
              "    <tr>\n",
              "      <td>21500</td>\n",
              "      <td>0.739100</td>\n",
              "    </tr>\n",
              "    <tr>\n",
              "      <td>22000</td>\n",
              "      <td>0.685000</td>\n",
              "    </tr>\n",
              "    <tr>\n",
              "      <td>22500</td>\n",
              "      <td>0.578800</td>\n",
              "    </tr>\n",
              "    <tr>\n",
              "      <td>23000</td>\n",
              "      <td>0.519000</td>\n",
              "    </tr>\n",
              "    <tr>\n",
              "      <td>23500</td>\n",
              "      <td>0.542800</td>\n",
              "    </tr>\n",
              "    <tr>\n",
              "      <td>24000</td>\n",
              "      <td>0.503200</td>\n",
              "    </tr>\n",
              "    <tr>\n",
              "      <td>24500</td>\n",
              "      <td>0.479800</td>\n",
              "    </tr>\n",
              "    <tr>\n",
              "      <td>25000</td>\n",
              "      <td>0.512500</td>\n",
              "    </tr>\n",
              "    <tr>\n",
              "      <td>25500</td>\n",
              "      <td>0.517000</td>\n",
              "    </tr>\n",
              "    <tr>\n",
              "      <td>26000</td>\n",
              "      <td>0.494700</td>\n",
              "    </tr>\n",
              "    <tr>\n",
              "      <td>26500</td>\n",
              "      <td>0.514200</td>\n",
              "    </tr>\n",
              "    <tr>\n",
              "      <td>27000</td>\n",
              "      <td>0.500900</td>\n",
              "    </tr>\n",
              "    <tr>\n",
              "      <td>27500</td>\n",
              "      <td>0.515800</td>\n",
              "    </tr>\n",
              "    <tr>\n",
              "      <td>28000</td>\n",
              "      <td>0.489900</td>\n",
              "    </tr>\n",
              "    <tr>\n",
              "      <td>28500</td>\n",
              "      <td>0.488500</td>\n",
              "    </tr>\n",
              "    <tr>\n",
              "      <td>29000</td>\n",
              "      <td>0.500300</td>\n",
              "    </tr>\n",
              "    <tr>\n",
              "      <td>29500</td>\n",
              "      <td>0.509900</td>\n",
              "    </tr>\n",
              "    <tr>\n",
              "      <td>30000</td>\n",
              "      <td>0.509400</td>\n",
              "    </tr>\n",
              "    <tr>\n",
              "      <td>30500</td>\n",
              "      <td>0.519100</td>\n",
              "    </tr>\n",
              "    <tr>\n",
              "      <td>31000</td>\n",
              "      <td>0.474000</td>\n",
              "    </tr>\n",
              "    <tr>\n",
              "      <td>31500</td>\n",
              "      <td>0.506200</td>\n",
              "    </tr>\n",
              "    <tr>\n",
              "      <td>32000</td>\n",
              "      <td>0.488800</td>\n",
              "    </tr>\n",
              "    <tr>\n",
              "      <td>32500</td>\n",
              "      <td>0.503900</td>\n",
              "    </tr>\n",
              "    <tr>\n",
              "      <td>33000</td>\n",
              "      <td>0.475300</td>\n",
              "    </tr>\n",
              "  </tbody>\n",
              "</table><p>"
            ]
          },
          "metadata": {}
        },
        {
          "output_type": "execute_result",
          "data": {
            "text/plain": [
              "TrainOutput(global_step=33276, training_loss=0.8307261640656695, metrics={'train_runtime': 6233.5755, 'train_samples_per_second': 42.702, 'train_steps_per_second': 5.338, 'total_flos': 5.216534983896422e+16, 'train_loss': 0.8307261640656695, 'epoch': 3.0})"
            ]
          },
          "metadata": {},
          "execution_count": 41
        }
      ]
    },
    {
      "cell_type": "markdown",
      "source": [
        "Когда обучение завершено, мы можем наконец оценить нашу модель (и помолиться, что не потратили все это время вычислений впустую). Метод predict() функции Trainer вернет кортеж, где первыми элементами будут предсказания модели (здесь пара с начальным и конечным логитами). Мы отправляем его в нашу функцию compute_metrics():"
      ],
      "metadata": {
        "id": "5u_2AwYJ-Lcr"
      }
    },
    {
      "cell_type": "code",
      "source": [
        "predictions, _, _ = trainer.predict(validation_dataset)\n",
        "start_logits, end_logits = predictions\n",
        "compute_metrics(start_logits, end_logits, validation_dataset, raw_datasets[\"validation\"])"
      ],
      "metadata": {
        "colab": {
          "base_uri": "https://localhost:8080/",
          "height": 66,
          "referenced_widgets": [
            "2e5a3a0dd29d41b9b46bc83dae4db4ac",
            "3e1628b032c94c30a8ec84d2dce5f4e4",
            "bca69918e178435286a2315cc8e1dc31",
            "2f198189d7744efdbd0a8188fe4d4a37",
            "91217122e2734523a4eb32483545a446",
            "67254f6db58d48f383685335f5c6267e",
            "5abad0dd84894429ad150ace975da1e0",
            "370a19aafed64f7490ef9a3a3b0b51b1",
            "6756d57fdebb4496843f50e3fa694c02",
            "baf20a0b36ae4a1a90ce465b04bc0ffe",
            "358b8d4f250d475e93c2792fd4d60b86"
          ]
        },
        "id": "6T3O4wSM-NI-",
        "outputId": "c227ed4f-4250-430c-86f0-e9d5db6c74c0"
      },
      "execution_count": null,
      "outputs": [
        {
          "output_type": "display_data",
          "data": {
            "text/plain": [
              "<IPython.core.display.HTML object>"
            ],
            "text/html": []
          },
          "metadata": {}
        },
        {
          "output_type": "display_data",
          "data": {
            "text/plain": [
              "  0%|          | 0/10570 [00:00<?, ?it/s]"
            ],
            "application/vnd.jupyter.widget-view+json": {
              "version_major": 2,
              "version_minor": 0,
              "model_id": "2e5a3a0dd29d41b9b46bc83dae4db4ac"
            }
          },
          "metadata": {}
        },
        {
          "output_type": "execute_result",
          "data": {
            "text/plain": [
              "{'exact_match': 81.41911069063387, 'f1': 88.78188409803708}"
            ]
          },
          "metadata": {},
          "execution_count": 42
        }
      ]
    },
    {
      "cell_type": "markdown",
      "source": [
        "Отлично! Для сравнения, базовые показатели, указанные в статье BERT для этой модели, составляют 80,8 и 88,5, так что мы как раз там, где должны быть."
      ],
      "metadata": {
        "id": "K2OgZAT1-S-7"
      }
    },
    {
      "cell_type": "markdown",
      "source": [
        "Наконец, мы используем метод push_to_hub(), чтобы убедиться, что мы загрузили последнюю версию модели:"
      ],
      "metadata": {
        "id": "8siqvk_C-UG6"
      }
    },
    {
      "cell_type": "code",
      "source": [
        "trainer.push_to_hub(commit_message=\"Training complete\")"
      ],
      "metadata": {
        "colab": {
          "base_uri": "https://localhost:8080/",
          "height": 104
        },
        "id": "SnpHxlgK-TjZ",
        "outputId": "7d16d1bb-0463-412e-e8f0-ef0a868191b1"
      },
      "execution_count": null,
      "outputs": [
        {
          "output_type": "stream",
          "name": "stderr",
          "text": [
            "No files have been modified since last commit. Skipping to prevent empty commit.\n",
            "WARNING:huggingface_hub.hf_api:No files have been modified since last commit. Skipping to prevent empty commit.\n"
          ]
        },
        {
          "output_type": "execute_result",
          "data": {
            "text/plain": [
              "CommitInfo(commit_url='https://huggingface.co/Maksim01gh/bert-finetuned-squad/commit/0fc95b475b1a0cea2a66b443a39814a6d2805e57', commit_message='Training complete', commit_description='', oid='0fc95b475b1a0cea2a66b443a39814a6d2805e57', pr_url=None, repo_url=RepoUrl('https://huggingface.co/Maksim01gh/bert-finetuned-squad', endpoint='https://huggingface.co', repo_type='model', repo_id='Maksim01gh/bert-finetuned-squad'), pr_revision=None, pr_num=None)"
            ],
            "application/vnd.google.colaboratory.intrinsic+json": {
              "type": "string"
            }
          },
          "metadata": {},
          "execution_count": 43
        }
      ]
    },
    {
      "cell_type": "markdown",
      "source": [
        "Это возвращает URL только что выполненного коммита."
      ],
      "metadata": {
        "id": "Ovigua_w-XxS"
      }
    },
    {
      "cell_type": "markdown",
      "source": [
        "Trainer также создает черновик карточки модели со всеми результатами оценки и загружает ее."
      ],
      "metadata": {
        "id": "_k7OvJlU-Ze8"
      }
    },
    {
      "cell_type": "markdown",
      "source": [
        "### Цикл обучения"
      ],
      "metadata": {
        "id": "Zuf6ROL6-cCV"
      }
    },
    {
      "cell_type": "markdown",
      "source": [
        "Сначала нам нужно создать DataLoaderы из наших датасетов. Мы установим формат этих датасетов в \"torch\" и удалим столбцы в наборе валидации, которые не используются моделью. Затем мы можем использовать default_data_collator, предоставляемый Transformers, в качестве collate_fn и перемешаем обучающий набор, но не набор для валидации:"
      ],
      "metadata": {
        "id": "flg_2BPo-kpZ"
      }
    },
    {
      "cell_type": "code",
      "source": [
        "train_dataset.set_format(\"torch\")\n",
        "validation_set = validation_dataset.remove_columns([\"example_id\", \"offset_mapping\"])\n",
        "validation_set.set_format(\"torch\")\n",
        "\n",
        "train_dataloader = DataLoader(\n",
        "    train_dataset,\n",
        "    shuffle=True,\n",
        "    collate_fn=default_data_collator,\n",
        "    batch_size=8,\n",
        ")\n",
        "eval_dataloader = DataLoader(\n",
        "    validation_set, collate_fn=default_data_collator, batch_size=8\n",
        ")"
      ],
      "metadata": {
        "id": "rRdVPiuY-lLV"
      },
      "execution_count": null,
      "outputs": []
    },
    {
      "cell_type": "markdown",
      "source": [
        "Затем мы реинстанцируем нашу модель, чтобы убедиться, что мы не продолжаем дообучение, а снова начинаем с предварительно обученной модели BERT:"
      ],
      "metadata": {
        "id": "6wBMiHfK-oQ2"
      }
    },
    {
      "cell_type": "code",
      "source": [
        "model = AutoModelForQuestionAnswering.from_pretrained(model_checkpoint)"
      ],
      "metadata": {
        "colab": {
          "base_uri": "https://localhost:8080/"
        },
        "id": "GGU5Uptd-ovx",
        "outputId": "5aaaaf56-0083-4159-df39-90bc91c19c0c"
      },
      "execution_count": null,
      "outputs": [
        {
          "output_type": "stream",
          "name": "stderr",
          "text": [
            "Some weights of BertForQuestionAnswering were not initialized from the model checkpoint at bert-base-cased and are newly initialized: ['qa_outputs.bias', 'qa_outputs.weight']\n",
            "You should probably TRAIN this model on a down-stream task to be able to use it for predictions and inference.\n"
          ]
        }
      ]
    },
    {
      "cell_type": "markdown",
      "source": [
        "Тогда нам понадобится оптимизатор. Как обычно, мы используем классический AdamW, который похож на Adam, но с исправлением в способе применения затухания веса:"
      ],
      "metadata": {
        "id": "wcK6m_sA-q6p"
      }
    },
    {
      "cell_type": "code",
      "source": [
        "optimizer = AdamW(model.parameters(), lr=2e-5)"
      ],
      "metadata": {
        "id": "V4rzbotQ-rVC"
      },
      "execution_count": null,
      "outputs": []
    },
    {
      "cell_type": "code",
      "source": [
        "# accelerator = Accelerator(fp16=True)\n",
        "accelerator = Accelerator(mixed_precision=\"fp16\")\n",
        "model, optimizer, train_dataloader, eval_dataloader = accelerator.prepare(\n",
        "    model, optimizer, train_dataloader, eval_dataloader\n",
        ")"
      ],
      "metadata": {
        "id": "kusRHiDD--Fz"
      },
      "execution_count": null,
      "outputs": []
    },
    {
      "cell_type": "markdown",
      "source": [
        "Мы можем использовать длину train_dataloader для вычисления количества шагов обучения только после того, как она пройдет через метод accelerator.prepare(). Мы используем тот же линейный график, что и в предыдущих разделах:"
      ],
      "metadata": {
        "id": "FOeWxKKGBGRm"
      }
    },
    {
      "cell_type": "code",
      "source": [
        "num_train_epochs = 2\n",
        "num_update_steps_per_epoch = len(train_dataloader)\n",
        "num_training_steps = num_train_epochs * num_update_steps_per_epoch\n",
        "\n",
        "lr_scheduler = get_scheduler(\n",
        "    \"linear\",\n",
        "    optimizer=optimizer,\n",
        "    num_warmup_steps=0,\n",
        "    num_training_steps=num_training_steps,\n",
        ")"
      ],
      "metadata": {
        "id": "gxSXgJfWBHln"
      },
      "execution_count": null,
      "outputs": []
    },
    {
      "cell_type": "markdown",
      "source": [
        "Чтобы отправить нашу модель на Hub, нам нужно создать объект Repository в рабочей папке. Сначала войдите в Hub Hugging Face, если вы еще не вошли в него. Мы определим имя розитория по идентификатору модели, который мы хотим присвоить нашей модели (не стесняйтесь заменить repo_name на свое усмотрение; оно просто должно содержать ваше имя пользователя, что и делает функция get_full_repo_name()):"
      ],
      "metadata": {
        "id": "ryPiO5HTBKQw"
      }
    },
    {
      "cell_type": "code",
      "source": [
        "model_name = \"bert-finetuned-squad-accelerate\"\n",
        "repo_name = get_full_repo_name(model_name)\n",
        "repo_name"
      ],
      "metadata": {
        "id": "u8xqp8G_BKuN",
        "colab": {
          "base_uri": "https://localhost:8080/",
          "height": 35
        },
        "outputId": "b796cbde-9fa2-46e0-efa1-821315b88762"
      },
      "execution_count": null,
      "outputs": [
        {
          "output_type": "execute_result",
          "data": {
            "text/plain": [
              "'Maksim01gh/bert-finetuned-squad-accelerate'"
            ],
            "application/vnd.google.colaboratory.intrinsic+json": {
              "type": "string"
            }
          },
          "metadata": {},
          "execution_count": 71
        }
      ]
    },
    {
      "cell_type": "markdown",
      "source": [
        "Код ниже вызовет ошибку \"Repo not found\". В сообществе HuggingFace найдено следующее решение проблемы:\n",
        "* Перейдите к последней строке ошибки и найдите, какой репозиторий не найден.\n",
        "* Перейдите на страницу [Hugging Face - The AI community building the future](https://huggingface.co/new), чтобы создать репозиторий, который отсутствует.\n",
        "* Запустить код снова"
      ],
      "metadata": {
        "id": "Pnvb-XDYgtKi"
      }
    },
    {
      "cell_type": "code",
      "source": [
        "output_dir = \"bert-finetuned-squad-accelerate\"\n",
        "repo = Repository(output_dir, clone_from=repo_name)"
      ],
      "metadata": {
        "id": "7TNAMDtWJd5M",
        "colab": {
          "base_uri": "https://localhost:8080/"
        },
        "outputId": "df5a7e33-0026-45db-e3de-76079f83811c"
      },
      "execution_count": null,
      "outputs": [
        {
          "output_type": "stream",
          "name": "stderr",
          "text": [
            "/usr/local/lib/python3.11/dist-packages/huggingface_hub/utils/_deprecation.py:131: FutureWarning: 'Repository' (from 'huggingface_hub.repository') is deprecated and will be removed from version '1.0'. Please prefer the http-based alternatives instead. Given its large adoption in legacy code, the complete removal is only planned on next major release.\n",
            "For more details, please read https://huggingface.co/docs/huggingface_hub/concepts/git_vs_http.\n",
            "  warnings.warn(warning_message, FutureWarning)\n",
            "Cloning https://huggingface.co/Maksim01gh/bert-finetuned-squad-accelerate into local empty directory.\n",
            "WARNING:huggingface_hub.repository:Cloning https://huggingface.co/Maksim01gh/bert-finetuned-squad-accelerate into local empty directory.\n"
          ]
        }
      ]
    },
    {
      "cell_type": "markdown",
      "source": [
        "# Цикл обучения"
      ],
      "metadata": {
        "id": "VJUnE0EXBO9h"
      }
    },
    {
      "cell_type": "markdown",
      "source": [
        "Теперь мы готовы написать полный цикл обучения. После определения прогресс-бара, чтобы следить за ходом обучения, цикл состоит из трех частей:\n",
        "\n",
        "Собственно обучение, которое представляет собой классическую итерацию по train_dataloader, прямой проход по модели, затем обратный проход и шаг оптимизатора.\n",
        "Оценка, в которой мы собираем все значения для start_logits и end_logits перед преобразованием их в массивы NumPy. После завершения цикла оценки мы объединяем все результаты. Обратите внимание, что нам нужно произвести усечение, потому что Accelerator может добавить несколько примеров в конце, чтобы убедиться, что у нас одинаковое количество примеров в каждом процессе.\n",
        "Сохранение и загрузка, где мы сначала сохраняем модель и токенизатор, а затем вызываем repo.push_to_hub(). Как и раньше, мы используем аргумент blocking=False, чтобы указать библиотеке 🤗 Hub на асинхронный процесс push. Таким образом, обучение продолжается нормально, а эта (длинная) инструкция выполняется в фоновом режиме.\n",
        "Вот полный код цикла обучения:"
      ],
      "metadata": {
        "id": "cw3gqk3OBTtq"
      }
    },
    {
      "cell_type": "code",
      "source": [
        "progress_bar = tqdm(range(num_training_steps))\n",
        "\n",
        "for epoch in range(num_train_epochs):\n",
        "    # Обучение\n",
        "    model.train()\n",
        "    for step, batch in enumerate(train_dataloader):\n",
        "        outputs = model(**batch)\n",
        "        loss = outputs.loss\n",
        "        accelerator.backward(loss)\n",
        "\n",
        "        optimizer.step()\n",
        "        lr_scheduler.step()\n",
        "        optimizer.zero_grad()\n",
        "        progress_bar.update(1)\n",
        "\n",
        "    # Оценка\n",
        "    model.eval()\n",
        "    start_logits = []\n",
        "    end_logits = []\n",
        "    accelerator.print(\"Evaluation!\")\n",
        "    for batch in tqdm(eval_dataloader):\n",
        "        with torch.no_grad():\n",
        "            outputs = model(**batch)\n",
        "\n",
        "        start_logits.append(accelerator.gather(outputs.start_logits).cpu().numpy())\n",
        "        end_logits.append(accelerator.gather(outputs.end_logits).cpu().numpy())\n",
        "\n",
        "    start_logits = np.concatenate(start_logits)\n",
        "    end_logits = np.concatenate(end_logits)\n",
        "    start_logits = start_logits[: len(validation_dataset)]\n",
        "    end_logits = end_logits[: len(validation_dataset)]\n",
        "\n",
        "    metrics = compute_metrics(\n",
        "        start_logits, end_logits, validation_dataset, raw_datasets[\"validation\"]\n",
        "    )\n",
        "    print(f\"epoch {epoch}:\", metrics)\n",
        "\n",
        "    # Сохранение и загрузка\n",
        "    accelerator.wait_for_everyone()\n",
        "    unwrapped_model = accelerator.unwrap_model(model)\n",
        "    unwrapped_model.save_pretrained(output_dir, save_function=accelerator.save)\n",
        "    if accelerator.is_main_process:\n",
        "        tokenizer.save_pretrained(output_dir)\n",
        "        repo.push_to_hub(\n",
        "            commit_message=f\"Training in progress epoch {epoch}\", blocking=False\n",
        "        )"
      ],
      "metadata": {
        "id": "OUyVebKuBSCh",
        "colab": {
          "base_uri": "https://localhost:8080/",
          "height": 246,
          "referenced_widgets": [
            "527e3105164b4c00aba73979a006f8dd",
            "192e566a57c54087902e3ec1671f4af2",
            "ddfbd11704e64b0a8ee895acf83c1336",
            "5cb9a7cc7a16455ebbf63c2498be14b4",
            "c404354c21fe425283ac8c0e92fd6164",
            "9c55158d22ba4813b0bef7e34340d1b2",
            "ff3a8b111b424917810ea1a5e4148bbf",
            "d3b7bb76fd8e4a3c89b2563cd4cc2254",
            "7ced6e6fa59b49dcb66949a84c837929",
            "dca839413a964415a2a357358a19ab1e",
            "72eb5867c1ef4642828b7f662db0714b",
            "cfcf4a6f97474ffe84ef4a7b64481fe2",
            "c40c25d3a38b47d9a141bf3b7f5df7eb",
            "690a67d3d0b44174b40bae7606f0c528",
            "0d30faa8339b426c91ad017acbc5992d",
            "fe713f5df8174ad5a805cb47a458eae8",
            "b81688217ce446e8aefd3e7438bd0594",
            "2041d3fa96b94fa9a833638b7269086a",
            "427d7d8d7b9543b88878880c97e8e126",
            "bca060e4862f4927aa0a5f09c757cb7c",
            "a3f3ed53a6aa4fe59458cf65c59478a4",
            "f917defcecdb48ed9c6d3d689c8355cc",
            "253ba2c5378643768244e5e06523f066",
            "3b491c1125b74737a5c4336e08022126",
            "dbed8f86730d4fe9835994d5347f8dec",
            "aa2c3656ae804ff3a4dbbdb06cdacb74",
            "9b59e9140cf547c38915e9774d803a49",
            "c88c4569620a4de6b7b81a308b16a0d7",
            "dcd45f72c5ce4a5ea88102d2b73993bc",
            "80fd1c27ffe3455d832c70143f3b928b",
            "23c184185b1f43c19266e70c70d85623",
            "b8bc76c15e3b4a14866f577e89b1a024",
            "5d6d71360b9a4a85a90cac01b0c82e27",
            "ac9bf500279e4a24b62204e40d03163a",
            "518455cfa7184c5eaffafd3ee27934c1",
            "9eca75305bff412a80380a461ce40cf7",
            "c0866ab0a8e047098b664652f301e204",
            "753c056e161d47628f4b252df5a5a53a",
            "9be66f4b3803436f95914ed997c4aded",
            "02460e1789da4530b53d331c3dbfb87d",
            "adfae231ddfd4247b4a42afcc3493806",
            "57b848e31b0b4fad81501db8aca45b6c",
            "2684fb00204e4002a386c54ba447cf85",
            "02503b1c4cad467ab45b4ea5e35c2e7f",
            "f87450e87fe14977bef4b845b3945d17",
            "dfe4d9fd67a34866b017d46fb7afb07d",
            "bc3b738c132e4651b2a62e6f5f5f8f47",
            "f1d708f47c49429ca0e80439f61113ec",
            "5e3f8ef29495482c921997197c50de50",
            "b7f6b1e0966f4da4b48ee8a6ed52bdec",
            "3e972c70b6b542d6b5d1e319eab86d58",
            "b7e9c647cb334b39b1eb299588bb770b",
            "d6527448c5134b4a9fa0827ac797481c",
            "119528bf1dbb44a19da015376c353dc4",
            "3627116e56ab4dc5afdf86dae8726e1a"
          ]
        },
        "outputId": "0927503c-33e2-4de2-b550-65de3e31468b"
      },
      "execution_count": null,
      "outputs": [
        {
          "output_type": "display_data",
          "data": {
            "text/plain": [
              "  0%|          | 0/22184 [00:00<?, ?it/s]"
            ],
            "application/vnd.jupyter.widget-view+json": {
              "version_major": 2,
              "version_minor": 0,
              "model_id": "527e3105164b4c00aba73979a006f8dd"
            }
          },
          "metadata": {}
        },
        {
          "output_type": "stream",
          "name": "stdout",
          "text": [
            "Evaluation!\n"
          ]
        },
        {
          "output_type": "display_data",
          "data": {
            "text/plain": [
              "  0%|          | 0/1353 [00:00<?, ?it/s]"
            ],
            "application/vnd.jupyter.widget-view+json": {
              "version_major": 2,
              "version_minor": 0,
              "model_id": "cfcf4a6f97474ffe84ef4a7b64481fe2"
            }
          },
          "metadata": {}
        },
        {
          "output_type": "display_data",
          "data": {
            "text/plain": [
              "  0%|          | 0/10570 [00:00<?, ?it/s]"
            ],
            "application/vnd.jupyter.widget-view+json": {
              "version_major": 2,
              "version_minor": 0,
              "model_id": "253ba2c5378643768244e5e06523f066"
            }
          },
          "metadata": {}
        },
        {
          "output_type": "stream",
          "name": "stdout",
          "text": [
            "epoch 0: {'exact_match': 80.99337748344371, 'f1': 88.49970619576237}\n",
            "Evaluation!\n"
          ]
        },
        {
          "output_type": "display_data",
          "data": {
            "text/plain": [
              "  0%|          | 0/1353 [00:00<?, ?it/s]"
            ],
            "application/vnd.jupyter.widget-view+json": {
              "version_major": 2,
              "version_minor": 0,
              "model_id": "ac9bf500279e4a24b62204e40d03163a"
            }
          },
          "metadata": {}
        },
        {
          "output_type": "display_data",
          "data": {
            "text/plain": [
              "  0%|          | 0/10570 [00:00<?, ?it/s]"
            ],
            "application/vnd.jupyter.widget-view+json": {
              "version_major": 2,
              "version_minor": 0,
              "model_id": "f87450e87fe14977bef4b845b3945d17"
            }
          },
          "metadata": {}
        },
        {
          "output_type": "stream",
          "name": "stdout",
          "text": [
            "epoch 1: {'exact_match': 80.89877010406812, 'f1': 88.52852171283072}\n"
          ]
        }
      ]
    },
    {
      "cell_type": "markdown",
      "source": [
        "# Использование дообученной модели"
      ],
      "metadata": {
        "id": "KfmOh-JwBYf9"
      }
    },
    {
      "cell_type": "markdown",
      "source": [
        "Чтобы использовать ее локально в pipeline, нужно просто указать идентификатор модели:"
      ],
      "metadata": {
        "id": "s3U0asSnBb9V"
      }
    },
    {
      "cell_type": "code",
      "source": [
        "model_checkpoint = \"huggingface-course/bert-finetuned-squad\"\n",
        "question_answerer = pipeline(\"question-answering\", model=model_checkpoint)\n",
        "\n",
        "context = \"\"\"\n",
        "Transformers is backed by the three most popular deep learning libraries — Jax, PyTorch and TensorFlow — with a seamless integration\n",
        "between them. It's straightforward to train your models with one before loading them for inference with the other.\n",
        "\"\"\""
      ],
      "metadata": {
        "colab": {
          "base_uri": "https://localhost:8080/"
        },
        "id": "tZt5-NCvhlpZ",
        "outputId": "18d63014-7f4e-4fa5-fa3c-aea239b3b99b"
      },
      "execution_count": null,
      "outputs": [
        {
          "output_type": "stream",
          "name": "stderr",
          "text": [
            "Device set to use cuda:0\n"
          ]
        }
      ]
    },
    {
      "cell_type": "code",
      "source": [
        "# Список вопросов\n",
        "questions = [\n",
        "    \"Which deep learning libraries back Transformers?\",\n",
        "    \"How many popular deep learning libraries support Transformers?\",\n",
        "    \"Can you switch between libraries after training a model?\",\n",
        "    \"Name a library that integrates with Transformers other than PyTorch.\",\n",
        "    \"What is the main advantage of Transformers' library integration?\"\n",
        "]\n",
        "\n",
        "# Запуск модели для каждого вопроса\n",
        "for question in questions:\n",
        "    result = question_answerer(question=question, context=context)\n",
        "    print(f\"Вопрос: {question}\")\n",
        "    print(f\"Ответ: {result['answer']} (score: {result['score']:.4f})\\n\")"
      ],
      "metadata": {
        "colab": {
          "base_uri": "https://localhost:8080/"
        },
        "id": "6XqwUr_Qhmwc",
        "outputId": "147f4278-b678-4c88-944a-18e93d2ff6e7"
      },
      "execution_count": null,
      "outputs": [
        {
          "output_type": "stream",
          "name": "stdout",
          "text": [
            "Вопрос: Which deep learning libraries back Transformers?\n",
            "Ответ: Jax, PyTorch and TensorFlow (score: 0.9982)\n",
            "\n",
            "Вопрос: How many popular deep learning libraries support Transformers?\n",
            "Ответ: three (score: 0.9982)\n",
            "\n",
            "Вопрос: Can you switch between libraries after training a model?\n",
            "Ответ: It's straightforward (score: 0.2549)\n",
            "\n",
            "Вопрос: Name a library that integrates with Transformers other than PyTorch.\n",
            "Ответ: TensorFlow (score: 0.9776)\n",
            "\n",
            "Вопрос: What is the main advantage of Transformers' library integration?\n",
            "Ответ: It's straightforward to train your models with one (score: 0.0449)\n",
            "\n"
          ]
        }
      ]
    },
    {
      "cell_type": "markdown",
      "source": [
        "Отлично! Наша модель работает так же хорошо, как и модель по умолчанию для этого конвейера!"
      ],
      "metadata": {
        "id": "0gbv8vsnBh4l"
      }
    }
  ]
}